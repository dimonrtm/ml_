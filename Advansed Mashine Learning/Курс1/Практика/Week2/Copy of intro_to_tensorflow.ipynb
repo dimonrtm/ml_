{
 "cells": [
  {
   "cell_type": "markdown",
   "metadata": {
    "colab_type": "text",
    "id": "xgb9MQzbQgRx",
    "slideshow": {
     "slide_type": "slide"
    }
   },
   "source": [
    "# Intro to TensorFlow\n",
    "\n",
    "This notebook covers the basics of TF and shows you an animation with gradient descent trajectory.\n",
    "<img src=\"https://github.com/hse-aml/intro-to-dl/blob/master/week2/v2/images/gradient_descent.png?raw=1\" style=\"width:50%\">"
   ]
  },
  {
   "cell_type": "code",
   "execution_count": 1,
   "metadata": {
    "colab": {
     "base_uri": "https://localhost:8080/",
     "height": 164
    },
    "colab_type": "code",
    "executionInfo": {
     "elapsed": 31540,
     "status": "ok",
     "timestamp": 1539179820576,
     "user": {
      "displayName": "Дмитрий Попов",
      "photoUrl": "",
      "userId": "01473516121989294075"
     },
     "user_tz": -360
    },
    "id": "D9su2CyFQw3F",
    "outputId": "a7909241-1ffa-4454-d60b-072c84d6c5b5"
   },
   "outputs": [
    {
     "name": "stdout",
     "output_type": "stream",
     "text": [
      "\n",
      "Redirecting output to ‘wget-log.2’.\n",
      "**************************************************\n",
      "inception_v3_weights_tf_dim_ordering_tf_kernels_notop.h5\n",
      "**************************************************\n",
      "cifar-10-batches-py.tar.gz\n",
      "**************************************************\n",
      "mnist.npz\n"
     ]
    }
   ],
   "source": [
    "! shred -u setup_google_colab.py\n",
    "! wget https://raw.githubusercontent.com/hse-aml/intro-to-dl/master/setup_google_colab.py -O setup_google_colab.py\n",
    "import setup_google_colab\n",
    "# please, uncomment the week you're working on\n",
    "# setup_google_colab.setup_week1()\n",
    "setup_google_colab.setup_week2()\n",
    "# setup_google_colab.setup_week3()\n",
    "# setup_google_colab.setup_week4()\n",
    "# setup_google_colab.setup_week5()\n",
    "# setup_google_colab.setup_week6()\n",
    "\n",
    "# If you're using the old version of the course (check a path of notebook on Coursera, you'll see v1 or v2),\n",
    "# use setup_week2_old()."
   ]
  },
  {
   "cell_type": "markdown",
   "metadata": {
    "colab_type": "text",
    "id": "DK_9tZrCQgSR"
   },
   "source": [
    "# TensorBoard"
   ]
  },
  {
   "cell_type": "markdown",
   "metadata": {
    "colab_type": "text",
    "id": "_KwFmOUDQgSh"
   },
   "source": [
    "**Plase note that if you are running on the Coursera platform, you won't be able to access the tensorboard instance due to the network setup there.**\n",
    "\n",
    "Run `tensorboard --logdir=./tensorboard_logs --port=7007` in bash.\n",
    "\n",
    "If you run the notebook locally, you should be able to access TensorBoard on http://127.0.0.1:7007/"
   ]
  },
  {
   "cell_type": "code",
   "execution_count": 2,
   "metadata": {
    "colab": {
     "base_uri": "https://localhost:8080/",
     "height": 54
    },
    "colab_type": "code",
    "executionInfo": {
     "elapsed": 12123,
     "status": "ok",
     "timestamp": 1539179919452,
     "user": {
      "displayName": "Дмитрий Попов",
      "photoUrl": "",
      "userId": "01473516121989294075"
     },
     "user_tz": -360
    },
    "id": "884m9p1_QgS2",
    "outputId": "8c24ddaa-a1f7-4e89-ca4c-aa16635ce98b"
   },
   "outputs": [
    {
     "name": "stderr",
     "output_type": "stream",
     "text": [
      "Using TensorFlow backend.\n"
     ]
    },
    {
     "name": "stdout",
     "output_type": "stream",
     "text": [
      "We're using TF 1.11.0\n"
     ]
    }
   ],
   "source": [
    "import tensorflow as tf\n",
    "import sys\n",
    "sys.path.append(\"../..\")\n",
    "from keras_utils import reset_tf_session\n",
    "s = reset_tf_session()\n",
    "print(\"We're using TF\", tf.__version__)"
   ]
  },
  {
   "cell_type": "markdown",
   "metadata": {
    "colab_type": "text",
    "id": "in21WQbpQgTc"
   },
   "source": [
    "# Warming up\n",
    "For starters, let's implement a python function that computes the sum of squares of numbers from 0 to N-1."
   ]
  },
  {
   "cell_type": "code",
   "execution_count": 0,
   "metadata": {
    "colab": {},
    "colab_type": "code",
    "collapsed": true,
    "id": "va_04uj7QgTm"
   },
   "outputs": [],
   "source": [
    "import numpy as np\n",
    "\n",
    "def sum_python(N):\n",
    "    return np.sum(np.arange(N)**2)"
   ]
  },
  {
   "cell_type": "code",
   "execution_count": 4,
   "metadata": {
    "colab": {
     "base_uri": "https://localhost:8080/",
     "height": 72
    },
    "colab_type": "code",
    "executionInfo": {
     "elapsed": 767,
     "status": "ok",
     "timestamp": 1539176399160,
     "user": {
      "displayName": "Дмитрий Попов",
      "photoUrl": "",
      "userId": "01473516121989294075"
     },
     "user_tz": -360
    },
    "id": "KYS7FnZRQgUG",
    "outputId": "9773d103-245a-4521-ed57-80445dd6f511"
   },
   "outputs": [
    {
     "name": "stdout",
     "output_type": "stream",
     "text": [
      "CPU times: user 0 ns, sys: 3.11 ms, total: 3.11 ms\n",
      "Wall time: 6.21 ms\n"
     ]
    },
    {
     "data": {
      "text/plain": [
       "333328333350000"
      ]
     },
     "execution_count": 4,
     "metadata": {
      "tags": []
     },
     "output_type": "execute_result"
    }
   ],
   "source": [
    "%%time\n",
    "sum_python(10**5)"
   ]
  },
  {
   "cell_type": "markdown",
   "metadata": {
    "colab_type": "text",
    "id": "EN9K2ZLSQgUi"
   },
   "source": [
    "# Tensoflow teaser\n",
    "\n",
    "Doing the very same thing"
   ]
  },
  {
   "cell_type": "code",
   "execution_count": 0,
   "metadata": {
    "colab": {},
    "colab_type": "code",
    "collapsed": true,
    "id": "P72d6WUdQgUs"
   },
   "outputs": [],
   "source": [
    "# An integer parameter\n",
    "N = tf.placeholder('int64', name=\"input_to_your_function\")\n",
    "\n",
    "# A recipe on how to produce the same result\n",
    "result = tf.reduce_sum(tf.range(N)**2)"
   ]
  },
  {
   "cell_type": "code",
   "execution_count": 6,
   "metadata": {
    "colab": {
     "base_uri": "https://localhost:8080/",
     "height": 35
    },
    "colab_type": "code",
    "executionInfo": {
     "elapsed": 18603,
     "status": "ok",
     "timestamp": 1539176517826,
     "user": {
      "displayName": "Дмитрий Попов",
      "photoUrl": "",
      "userId": "01473516121989294075"
     },
     "user_tz": -360
    },
    "id": "ToNP0cLXQgVH",
    "outputId": "d89256ef-54c6-4eac-91b7-e0492d46518d"
   },
   "outputs": [
    {
     "data": {
      "text/plain": [
       "<tf.Tensor 'Sum:0' shape=() dtype=int64>"
      ]
     },
     "execution_count": 6,
     "metadata": {
      "tags": []
     },
     "output_type": "execute_result"
    }
   ],
   "source": [
    "# just a graph definition\n",
    "result"
   ]
  },
  {
   "cell_type": "code",
   "execution_count": 7,
   "metadata": {
    "colab": {
     "base_uri": "https://localhost:8080/",
     "height": 72
    },
    "colab_type": "code",
    "executionInfo": {
     "elapsed": 742,
     "status": "ok",
     "timestamp": 1539176524614,
     "user": {
      "displayName": "Дмитрий Попов",
      "photoUrl": "",
      "userId": "01473516121989294075"
     },
     "user_tz": -360
    },
    "id": "yH_XoOArQgVv",
    "outputId": "a87525e3-ea01-4bee-8a8b-55d9b12f910b"
   },
   "outputs": [
    {
     "name": "stdout",
     "output_type": "stream",
     "text": [
      "CPU times: user 7.12 ms, sys: 3.48 ms, total: 10.6 ms\n",
      "Wall time: 13.2 ms\n"
     ]
    },
    {
     "data": {
      "text/plain": [
       "333328333350000"
      ]
     },
     "execution_count": 7,
     "metadata": {
      "tags": []
     },
     "output_type": "execute_result"
    }
   ],
   "source": [
    "%%time\n",
    "# actually executing\n",
    "result.eval({N: 10**5})"
   ]
  },
  {
   "cell_type": "code",
   "execution_count": 0,
   "metadata": {
    "colab": {},
    "colab_type": "code",
    "collapsed": true,
    "id": "mC7P4XU6QgXD"
   },
   "outputs": [],
   "source": [
    "# logger for tensorboard\n",
    "writer = tf.summary.FileWriter(\"tensorboard_logs\", graph=s.graph)"
   ]
  },
  {
   "cell_type": "markdown",
   "metadata": {
    "colab_type": "text",
    "id": "GBXhY6lAQgXg"
   },
   "source": [
    "# How does it work?\n",
    "1. Define placeholders where you'll send inputs\n",
    "2. Make a symbolic graph: a recipe for mathematical transformation of those placeholders\n",
    "3. Compute outputs of your graph with particular values for each placeholder\n",
    "  * `output.eval({placeholder: value})`\n",
    "  * `s.run(output, {placeholder: value})`\n",
    "\n",
    "So far there are two main entities: \"placeholder\" and \"transformation\" (operation output)\n",
    "* Both can be numbers, vectors, matrices, tensors, etc.\n",
    "* Both can be int32/64, floats, booleans (uint8) of various size.\n",
    "\n",
    "* You can define new transformations as an arbitrary operation on placeholders and other transformations\n",
    " * `tf.reduce_sum(tf.arange(N)**2)` are 3 sequential transformations of placeholder `N`\n",
    " * There's a tensorflow symbolic version for every numpy function\n",
    "   * `a+b, a/b, a**b, ...` behave just like in numpy\n",
    "   * `np.mean` -> `tf.reduce_mean`\n",
    "   * `np.arange` -> `tf.range`\n",
    "   * `np.cumsum` -> `tf.cumsum`\n",
    "   * If you can't find the operation you need, see the [docs](https://www.tensorflow.org/versions/r1.3/api_docs/python).\n",
    "   \n",
    "`tf.contrib` has many high-level features, may be worth a look."
   ]
  },
  {
   "cell_type": "code",
   "execution_count": 0,
   "metadata": {
    "colab": {},
    "colab_type": "code",
    "collapsed": true,
    "id": "XyVzU5M4QgXu"
   },
   "outputs": [],
   "source": [
    "with tf.name_scope(\"Placeholders_examples\"):\n",
    "    # Default placeholder that can be arbitrary float32\n",
    "    # scalar, vertor, matrix, etc.\n",
    "    arbitrary_input = tf.placeholder('float32')\n",
    "\n",
    "    # Input vector of arbitrary length\n",
    "    input_vector = tf.placeholder('float32', shape=(None,))\n",
    "\n",
    "    # Input vector that _must_ have 10 elements and integer type\n",
    "    fixed_vector = tf.placeholder('int32', shape=(10,))\n",
    "\n",
    "    # Matrix of arbitrary n_rows and 15 columns\n",
    "    # (e.g. a minibatch of your data table)\n",
    "    input_matrix = tf.placeholder('float32', shape=(None, 15))\n",
    "    \n",
    "    # You can generally use None whenever you don't need a specific shape\n",
    "    input1 = tf.placeholder('float64', shape=(None, 100, None))\n",
    "    input2 = tf.placeholder('int32', shape=(None, None, 3, 224, 224))\n",
    "\n",
    "    # elementwise multiplication\n",
    "    double_the_vector = input_vector*2\n",
    "\n",
    "    # elementwise cosine\n",
    "    elementwise_cosine = tf.cos(input_vector)\n",
    "\n",
    "    # difference between squared vector and vector itself plus one\n",
    "    vector_squares = input_vector**2 - input_vector + 1"
   ]
  },
  {
   "cell_type": "code",
   "execution_count": 0,
   "metadata": {
    "colab": {},
    "colab_type": "code",
    "collapsed": true,
    "id": "2tDSh9yGQgYP"
   },
   "outputs": [],
   "source": [
    "my_vector =  tf.placeholder('float32', shape=(None,), name=\"VECTOR_1\")\n",
    "my_vector2 = tf.placeholder('float32', shape=(None,))\n",
    "my_transformation = my_vector * my_vector2 / (tf.sin(my_vector) + 1)"
   ]
  },
  {
   "cell_type": "code",
   "execution_count": 11,
   "metadata": {
    "colab": {
     "base_uri": "https://localhost:8080/",
     "height": 35
    },
    "colab_type": "code",
    "executionInfo": {
     "elapsed": 8552,
     "status": "ok",
     "timestamp": 1539176868568,
     "user": {
      "displayName": "Дмитрий Попов",
      "photoUrl": "",
      "userId": "01473516121989294075"
     },
     "user_tz": -360
    },
    "id": "59No7-9kQgYn",
    "outputId": "68c7d8b9-c5e0-4c34-ed95-4801a4812f27"
   },
   "outputs": [
    {
     "name": "stdout",
     "output_type": "stream",
     "text": [
      "Tensor(\"truediv:0\", shape=(?,), dtype=float32)\n"
     ]
    }
   ],
   "source": [
    "print(my_transformation)"
   ]
  },
  {
   "cell_type": "code",
   "execution_count": 12,
   "metadata": {
    "colab": {
     "base_uri": "https://localhost:8080/",
     "height": 72
    },
    "colab_type": "code",
    "executionInfo": {
     "elapsed": 726,
     "status": "ok",
     "timestamp": 1539176893397,
     "user": {
      "displayName": "Дмитрий Попов",
      "photoUrl": "",
      "userId": "01473516121989294075"
     },
     "user_tz": -360
    },
    "id": "Lbv2InUhQgY8",
    "outputId": "a91f96f1-4965-4e7f-a0bd-99368152c655"
   },
   "outputs": [
    {
     "name": "stdout",
     "output_type": "stream",
     "text": [
      "[0. 1. 2. 3. 4.]\n"
     ]
    },
    {
     "data": {
      "text/plain": [
       "array([0.       , 1.6291324, 2.0950115, 2.6289961, 0.       ],\n",
       "      dtype=float32)"
      ]
     },
     "execution_count": 12,
     "metadata": {
      "tags": []
     },
     "output_type": "execute_result"
    }
   ],
   "source": [
    "dummy = np.arange(5).astype('float32')\n",
    "print(dummy)\n",
    "my_transformation.eval({my_vector: dummy, my_vector2: dummy[::-1]})"
   ]
  },
  {
   "cell_type": "code",
   "execution_count": 0,
   "metadata": {
    "colab": {},
    "colab_type": "code",
    "collapsed": true,
    "id": "6zBophxGQgZb"
   },
   "outputs": [],
   "source": [
    "writer.add_graph(my_transformation.graph)\n",
    "writer.flush()"
   ]
  },
  {
   "cell_type": "markdown",
   "metadata": {
    "colab_type": "text",
    "id": "cMmFrUUxQgZ0"
   },
   "source": [
    "TensorBoard allows writing scalars, images, audio, histogram. You can read more on tensorboard usage [here](https://www.tensorflow.org/get_started/graph_viz)."
   ]
  },
  {
   "cell_type": "markdown",
   "metadata": {
    "colab_type": "text",
    "id": "4VBfKNouQgZ7"
   },
   "source": [
    "# Summary\n",
    "* Tensorflow is based on computation graphs\n",
    "* A graph consists of placeholders and transformations"
   ]
  },
  {
   "cell_type": "markdown",
   "metadata": {
    "colab_type": "text",
    "id": "kksMhlzoQgaF"
   },
   "source": [
    "# Loss function: Mean Squared Error\n",
    "\n",
    "Loss function must be a part of the graph as well, so that we can do backpropagation."
   ]
  },
  {
   "cell_type": "code",
   "execution_count": 0,
   "metadata": {
    "colab": {},
    "colab_type": "code",
    "collapsed": true,
    "id": "VDLdKr8ZQgaQ"
   },
   "outputs": [],
   "source": [
    "with tf.name_scope(\"MSE\"):\n",
    "    y_true = tf.placeholder(\"float32\", shape=(None,), name=\"y_true\")\n",
    "    y_predicted = tf.placeholder(\"float32\", shape=(None,), name=\"y_predicted\")\n",
    "    # Implement MSE(y_true, y_predicted), use tf.reduce_mean(...)\n",
    "    mse = tf.reduce_mean((y_true-y_predicted)**2)\n",
    "\n",
    "def compute_mse(vector1, vector2):\n",
    "    return mse.eval({y_true: vector1, y_predicted: vector2})"
   ]
  },
  {
   "cell_type": "code",
   "execution_count": 0,
   "metadata": {
    "colab": {},
    "colab_type": "code",
    "collapsed": true,
    "id": "f9ocyLWFQgah"
   },
   "outputs": [],
   "source": [
    "writer.add_graph(mse.graph)\n",
    "writer.flush()"
   ]
  },
  {
   "cell_type": "code",
   "execution_count": 0,
   "metadata": {
    "colab": {},
    "colab_type": "code",
    "collapsed": true,
    "id": "24GGox9FQgbJ"
   },
   "outputs": [],
   "source": [
    "# Rigorous local testing of MSE implementation\n",
    "import sklearn.metrics\n",
    "for n in [1, 5, 10, 10**3]:\n",
    "    elems = [np.arange(n), np.arange(n, 0, -1), np.zeros(n),\n",
    "             np.ones(n), np.random.random(n), np.random.randint(100, size=n)]\n",
    "    for el in elems:\n",
    "        for el_2 in elems:\n",
    "            true_mse = np.array(sklearn.metrics.mean_squared_error(el, el_2))\n",
    "            my_mse = compute_mse(el, el_2)\n",
    "            if not np.allclose(true_mse, my_mse):\n",
    "                print('mse(%s,%s)' % (el, el_2))\n",
    "                print(\"should be: %f, but your function returned %f\" % (true_mse, my_mse))\n",
    "                raise ValueError('Wrong result')"
   ]
  },
  {
   "cell_type": "markdown",
   "metadata": {
    "colab_type": "text",
    "id": "IoHEthzXQgbq"
   },
   "source": [
    "# Variables\n",
    "\n",
    "Placeholder and transformation values are not stored in the graph once the execution is finished. This isn't too comfortable if you want your model to have parameters (e.g. network weights) that are always present, but can change their value over time.\n",
    "\n",
    "Tensorflow solves this with `tf.Variable` objects.\n",
    "* You can assign variable a value at any time in your graph\n",
    "* Unlike placeholders, there's no need to explicitly pass values to variables when `s.run(...)`-ing\n",
    "* You can use variables the same way you use transformations \n",
    " "
   ]
  },
  {
   "cell_type": "code",
   "execution_count": 0,
   "metadata": {
    "colab": {},
    "colab_type": "code",
    "collapsed": true,
    "id": "4OOGHFb4Qgbx"
   },
   "outputs": [],
   "source": [
    "# Creating a shared variable\n",
    "shared_vector_1 = tf.Variable(initial_value=np.ones(5),\n",
    "                              name=\"example_variable\")"
   ]
  },
  {
   "cell_type": "code",
   "execution_count": 26,
   "metadata": {
    "colab": {
     "base_uri": "https://localhost:8080/",
     "height": 35
    },
    "colab_type": "code",
    "executionInfo": {
     "elapsed": 477,
     "status": "ok",
     "timestamp": 1539177696658,
     "user": {
      "displayName": "Дмитрий Попов",
      "photoUrl": "",
      "userId": "01473516121989294075"
     },
     "user_tz": -360
    },
    "id": "_5qAsPHXQgcL",
    "outputId": "0ea416d8-e6eb-408c-8238-caa5c1f1554d"
   },
   "outputs": [
    {
     "name": "stdout",
     "output_type": "stream",
     "text": [
      "Initial value [1. 1. 1. 1. 1.]\n"
     ]
    }
   ],
   "source": [
    "# Initialize variable(s) with initial values\n",
    "s.run(tf.global_variables_initializer())\n",
    "\n",
    "# Evaluating the shared variable\n",
    "print(\"Initial value\", s.run(shared_vector_1))"
   ]
  },
  {
   "cell_type": "code",
   "execution_count": 27,
   "metadata": {
    "colab": {
     "base_uri": "https://localhost:8080/",
     "height": 35
    },
    "colab_type": "code",
    "executionInfo": {
     "elapsed": 737,
     "status": "ok",
     "timestamp": 1539177710467,
     "user": {
      "displayName": "Дмитрий Попов",
      "photoUrl": "",
      "userId": "01473516121989294075"
     },
     "user_tz": -360
    },
    "id": "mq6TucJ6Qgcq",
    "outputId": "21dc8752-a1f0-4c61-ac78-c9f4f37be7be"
   },
   "outputs": [
    {
     "name": "stdout",
     "output_type": "stream",
     "text": [
      "New value [0. 1. 2. 3. 4.]\n"
     ]
    }
   ],
   "source": [
    "# Setting a new value\n",
    "s.run(shared_vector_1.assign(np.arange(5)))\n",
    "\n",
    "# Getting that new value\n",
    "print(\"New value\", s.run(shared_vector_1))"
   ]
  },
  {
   "cell_type": "markdown",
   "metadata": {
    "colab_type": "text",
    "id": "i32uk9pCQgdU"
   },
   "source": [
    "# tf.gradients - why graphs matter\n",
    "* Tensorflow can compute derivatives and gradients automatically using the computation graph\n",
    "* True to its name it can manage matrix derivatives\n",
    "* Gradients are computed as a product of elementary derivatives via the chain rule:\n",
    "\n",
    "$$ {\\partial f(g(x)) \\over \\partial x} = {\\partial f(g(x)) \\over \\partial g(x)}\\cdot {\\partial g(x) \\over \\partial x} $$\n",
    "\n",
    "It can get you the derivative of any graph as long as it knows how to differentiate elementary operations"
   ]
  },
  {
   "cell_type": "code",
   "execution_count": 0,
   "metadata": {
    "colab": {},
    "colab_type": "code",
    "collapsed": true,
    "id": "jnMKCmZ2Qgdb"
   },
   "outputs": [],
   "source": [
    "my_scalar = tf.placeholder('float32')\n",
    "\n",
    "scalar_squared = my_scalar**2\n",
    "\n",
    "# A derivative of scalar_squared by my_scalar\n",
    "derivative = tf.gradients(scalar_squared, [my_scalar, ])"
   ]
  },
  {
   "cell_type": "code",
   "execution_count": 29,
   "metadata": {
    "colab": {
     "base_uri": "https://localhost:8080/",
     "height": 35
    },
    "colab_type": "code",
    "executionInfo": {
     "elapsed": 715,
     "status": "ok",
     "timestamp": 1539177793013,
     "user": {
      "displayName": "Дмитрий Попов",
      "photoUrl": "",
      "userId": "01473516121989294075"
     },
     "user_tz": -360
    },
    "id": "e9QtLgBOQgdy",
    "outputId": "5fce078b-e65e-493d-8289-a79f9bd90280"
   },
   "outputs": [
    {
     "data": {
      "text/plain": [
       "[<tf.Tensor 'gradients/pow_1_grad/Reshape:0' shape=<unknown> dtype=float32>]"
      ]
     },
     "execution_count": 29,
     "metadata": {
      "tags": []
     },
     "output_type": "execute_result"
    }
   ],
   "source": [
    "derivative"
   ]
  },
  {
   "cell_type": "code",
   "execution_count": 30,
   "metadata": {
    "colab": {
     "base_uri": "https://localhost:8080/",
     "height": 265
    },
    "colab_type": "code",
    "executionInfo": {
     "elapsed": 1136,
     "status": "ok",
     "timestamp": 1539177843256,
     "user": {
      "displayName": "Дмитрий Попов",
      "photoUrl": "",
      "userId": "01473516121989294075"
     },
     "user_tz": -360
    },
    "id": "QVCdO4FBQgeC",
    "outputId": "dbb619c0-13fd-4943-c698-0ab852fc5bd0"
   },
   "outputs": [
    {
     "data": {
      "image/png": "[encoded data removed]",
      "text/plain": [
       "<matplotlib.figure.Figure at 0x7fb2b561cb38>"
      ]
     },
     "metadata": {
      "tags": []
     },
     "output_type": "display_data"
    }
   ],
   "source": [
    "import matplotlib.pyplot as plt\n",
    "%matplotlib inline\n",
    "\n",
    "x = np.linspace(-3, 3)\n",
    "x_squared, x_squared_der = s.run([scalar_squared, derivative[0]],\n",
    "                                 {my_scalar:x})\n",
    "\n",
    "plt.plot(x, x_squared,label=\"$x^2$\")\n",
    "plt.plot(x, x_squared_der, label=r\"$\\frac{dx^2}{dx}$\")\n",
    "plt.legend();"
   ]
  },
  {
   "cell_type": "markdown",
   "metadata": {
    "colab_type": "text",
    "id": "psVHEtD7QgeY"
   },
   "source": [
    "# Why that rocks"
   ]
  },
  {
   "cell_type": "code",
   "execution_count": 0,
   "metadata": {
    "colab": {},
    "colab_type": "code",
    "collapsed": true,
    "id": "DTfDfmWAQgeu"
   },
   "outputs": [],
   "source": [
    "my_vector = tf.placeholder('float32', [None])\n",
    "# Compute the gradient of the next weird function over my_scalar and my_vector\n",
    "# Warning! Trying to understand the meaning of that function may result in permanent brain damage\n",
    "weird_psychotic_function = tf.reduce_mean(\n",
    "    (my_vector+my_scalar)**(1+tf.nn.moments(my_vector,[0])[1]) + \n",
    "    1./ tf.atan(my_scalar))/(my_scalar**2 + 1) + 0.01*tf.sin(\n",
    "    2*my_scalar**1.5)*(tf.reduce_sum(my_vector)* my_scalar**2\n",
    "                      )*tf.exp((my_scalar-4)**2)/(\n",
    "    1+tf.exp((my_scalar-4)**2))*(1.-(tf.exp(-(my_scalar-4)**2)\n",
    "                                    )/(1+tf.exp(-(my_scalar-4)**2)))**2\n",
    "\n",
    "der_by_scalar = tf.gradients(weird_psychotic_function, my_scalar)\n",
    "der_by_vector = tf.gradients(weird_psychotic_function, my_vector)"
   ]
  },
  {
   "cell_type": "code",
   "execution_count": 32,
   "metadata": {
    "colab": {
     "base_uri": "https://localhost:8080/",
     "height": 265
    },
    "colab_type": "code",
    "executionInfo": {
     "elapsed": 1401,
     "status": "ok",
     "timestamp": 1539178055590,
     "user": {
      "displayName": "Дмитрий Попов",
      "photoUrl": "",
      "userId": "01473516121989294075"
     },
     "user_tz": -360
    },
    "id": "xxdo5dJpQgfD",
    "outputId": "268ca62e-2526-4ffb-ef69-afcfa1ab2d50"
   },
   "outputs": [
    {
     "data": {
      "image/png": "[encoded data removed]",
      "text/plain": [
       "<matplotlib.figure.Figure at 0x7fb2b55fc438>"
      ]
     },
     "metadata": {
      "tags": []
     },
     "output_type": "display_data"
    }
   ],
   "source": [
    "# Plotting the derivative\n",
    "scalar_space = np.linspace(1, 7, 100)\n",
    "\n",
    "y = [s.run(weird_psychotic_function, {my_scalar:x, my_vector:[1, 2, 3]})\n",
    "     for x in scalar_space]\n",
    "\n",
    "plt.plot(scalar_space, y, label='function')\n",
    "\n",
    "y_der_by_scalar = [s.run(der_by_scalar,\n",
    "                         {my_scalar:x, my_vector:[1, 2, 3]})\n",
    "                   for x in scalar_space]\n",
    "\n",
    "plt.plot(scalar_space, y_der_by_scalar, label='derivative')\n",
    "plt.grid()\n",
    "plt.legend();"
   ]
  },
  {
   "cell_type": "markdown",
   "metadata": {
    "colab_type": "text",
    "id": "FzAyhoGMQgfi"
   },
   "source": [
    "# Almost done - optimizers\n",
    "\n",
    "While you can perform gradient descent by hand with automatic gradients from above, tensorflow also has some optimization methods implemented for you. Recall momentum & rmsprop?"
   ]
  },
  {
   "cell_type": "code",
   "execution_count": 0,
   "metadata": {
    "colab": {},
    "colab_type": "code",
    "collapsed": true,
    "id": "ufDl2nI0Qgfs"
   },
   "outputs": [],
   "source": [
    "y_guess = tf.Variable(np.zeros(2, dtype='float32'))\n",
    "y_true = tf.range(1, 3, dtype='float32')\n",
    "\n",
    "loss = tf.reduce_mean((y_guess - y_true + 0.5*tf.random_normal([2]))**2) \n",
    "\n",
    "step = tf.train.MomentumOptimizer(0.03, 0.5).minimize(loss, var_list=y_guess)"
   ]
  },
  {
   "cell_type": "markdown",
   "metadata": {
    "colab_type": "text",
    "id": "VT9FJ5c3Qgf3"
   },
   "source": [
    "Let's draw a trajectory of a gradient descent in 2D"
   ]
  },
  {
   "cell_type": "code",
   "execution_count": 34,
   "metadata": {
    "colab": {
     "base_uri": "https://localhost:8080/",
     "height": 269
    },
    "colab_type": "code",
    "executionInfo": {
     "elapsed": 1704,
     "status": "ok",
     "timestamp": 1539178316699,
     "user": {
      "displayName": "Дмитрий Попов",
      "photoUrl": "",
      "userId": "01473516121989294075"
     },
     "user_tz": -360
    },
    "id": "J2RjPZxBQgf-",
    "outputId": "367894fd-d988-48ba-b878-85da092c2cbf"
   },
   "outputs": [
    {
     "data": {
      "image/png": "[encoded data removed]",
      "text/plain": [
       "<matplotlib.figure.Figure at 0x7fb2b2054438>"
      ]
     },
     "metadata": {
      "tags": []
     },
     "output_type": "display_data"
    }
   ],
   "source": [
    "from matplotlib import animation, rc\n",
    "import matplotlib_utils\n",
    "from IPython.display import HTML, display_html\n",
    "\n",
    "# nice figure settings\n",
    "fig, ax = plt.subplots()\n",
    "y_true_value = s.run(y_true)\n",
    "level_x = np.arange(0, 2, 0.02)\n",
    "level_y = np.arange(0, 3, 0.02)\n",
    "X, Y = np.meshgrid(level_x, level_y)\n",
    "Z = (X - y_true_value[0])**2 + (Y - y_true_value[1])**2\n",
    "ax.set_xlim(-0.02, 2)\n",
    "ax.set_ylim(-0.02, 3)\n",
    "s.run(tf.global_variables_initializer())\n",
    "ax.scatter(*s.run(y_true), c='red')\n",
    "contour = ax.contour(X, Y, Z, 10)\n",
    "ax.clabel(contour, inline=1, fontsize=10)\n",
    "line, = ax.plot([], [], lw=2)\n",
    "\n",
    "# start animation with empty trajectory\n",
    "def init():\n",
    "    line.set_data([], [])\n",
    "    return (line,)\n",
    "\n",
    "trajectory = [s.run(y_guess)]\n",
    "\n",
    "# one animation step (make one GD step)\n",
    "def animate(i):\n",
    "    s.run(step)\n",
    "    trajectory.append(s.run(y_guess))\n",
    "    line.set_data(*zip(*trajectory))\n",
    "    return (line,)\n",
    "\n",
    "anim = animation.FuncAnimation(fig, animate, init_func=init,\n",
    "                               frames=100, interval=20, blit=True)"
   ]
  },
  {
   "cell_type": "code",
   "execution_count": 36,
   "metadata": {
    "colab": {
     "base_uri": "https://localhost:8080/",
     "height": 309
    },
    "colab_type": "code",
    "executionInfo": {
     "elapsed": 119,
     "status": "ok",
     "timestamp": 1539178378007,
     "user": {
      "displayName": "Дмитрий Попов",
      "photoUrl": "",
      "userId": "01473516121989294075"
     },
     "user_tz": -360
    },
    "id": "4wYogiPVQggQ",
    "outputId": "64ec9aba-1af1-432d-d75a-7819d8d2d815"
   },
   "outputs": [
    {
     "data": {
      "text/html": [
       "<img src=\"data:image/jpeg;base64,/9j/4AAQSkZJRgABAQEASABIAAD/2wBDAAIBAQEBAQIBAQECAgICAgQDAgICAgUEBAMEBgUGBgYFBgYGBwkIBgcJBwYGCAsICQoKCgoKBggLDAsKDAkKCgr/2wBDAQICAgICAgUDAwUKBwYHCgoKCgoKCgoKCgoKCgoKCgoKCgoKCgoKCgoKCgoKCgoKCgoKCgoKCgoKCgoKCgoKCgr/wAARCAEgAbADASIAAhEBAxEB/8QAHwAAAQUBAQEBAQEAAAAAAAAAAAECAwQFBgcICQoL/8QAtRAAAgEDAwIEAwUFBAQAAAF9AQIDAAQRBRIhMUEGE1FhByJxFDKBkaEII0KxwRVS0fAkM2JyggkKFhcYGRolJicoKSo0NTY3ODk6Q0RFRkdISUpTVFVWV1hZWmNkZWZnaGlqc3R1dnd4eXqDhIWGh4iJipKTlJWWl5iZmqKjpKWmp6ipqrKztLW2t7i5usLDxMXGx8jJytLT1NXW19jZ2uHi4%2BTl5ufo6erx8vP09fb3%2BPn6/8QAHwEAAwEBAQEBAQEBAQAAAAAAAAECAwQFBgcICQoL/8QAtREAAgECBAQDBAcFBAQAAQJ3AAECAxEEBSExBhJBUQdhcRMiMoEIFEKRobHBCSMzUvAVYnLRChYkNOEl8RcYGRomJygpKjU2Nzg5OkNERUZHSElKU1RVVldYWVpjZGVmZ2hpanN0dXZ3eHl6goOEhYaHiImKkpOUlZaXmJmaoqOkpaanqKmqsrO0tba3uLm6wsPExcbHyMnK0tPU1dbX2Nna4uPk5ebn6Onq8vP09fb3%2BPn6/9oADAMBAAIRAxEAPwD9/KKKKACiiigAooooAKKKKACiiigAooooAKKKKACiiigAooooAKKKKACiiigAooooAKKKKACiiigAooooAKKKKACiiigAooooAKKKKACiiigAooooAKKKKACiiigAooooAKKKKACiiigAooooAKKKKACiiigAornLb4wfCS8%2BIk/wgs/ij4cl8W20Hn3PhePW7dtRii2q29rYP5qrtdGyVxhlPcU/Q/ix8LPE3jXU/ht4b%2BJXh/UPEeioH1nQLHWYJb2wU4wZoFcyRA7l5YD7w9aAOgooooAKKKKACiiigAooooAKKKKACiiigAooooAKKKKACiiigAooooAKKKKACiiigAooooAKKKKACiiigAooooAKKKKACiiigAooooAKKKKACiiigAooooAKKKKACiiigAooooAKKKKAPlvx7dXd3%2B2N4I1jR/hX43s7bwr4z1KXxBpo8CyNopjn0a8iXxJBfWltm5vJHuLeyMLTylY5pi1ujRGdM39nnwR46svjj4P8LX3w81/T7/wV4m%2BIl/4r1%2B%2B0OeCyu7bVNXkntBDdugiuzciW3uSkTuY/sxWURuqqfraigCrrWpHSNMk1EQ%2BZ5e35N2M5YDr%2BNY154/8Askoi/sndmJHz5%2BPvIGx933xV/wAZ/wDItXP/AAD/ANDWuN1j/j7T/r1g/wDRSVvShGS1JbaN7/hZP/UF/wDJn/7Gmy/E6OCMyy6QFVRkk3PT/wAdrkZrySG9SB4cRuMCTP8AF6YqheRS27zRtJCzTPhN7EyFWPAHPQHt6CrdOmugJs7OT4uF3CWOgiTClnDXJUgAjIAKdee9WoficlxCs8WjZV1BU/aOx/4DXEx2F1PdtduDA4UbWGGDNggn6EbfyFXbaBbWBbdCSFGMnvQqUeqBs6OL4j629x9om8NRR2Zd40Y3mXdl2nPC8DDDrVj/AIWT/wBQX/yZ/wDsawZv%2BQLb/wDX1N/6DFVWmqUBXZ1H/Cyf%2BoL/AOTP/wBjR/wsn/qC/wDkz/8AY1y9Kqs5wqkn2FP2VPsF2dP/AMLJ/wCoL/5M/wD2NSp4/wB9lJef2T/q5UTb5/XcGOfu/wCz%2BtcsLZxzIyp/vGrEQRdKmwd6faIt3Y52yYx7df0qHCl0Q7s3P%2BFk/wDUF/8AJn/7GlHxHJ6aIT9Lj/7Gua85F/1cCj3PNIbmcjHmED0HFP2cX0/ELnUD4gTkZ/sEge9zj/2Wl/4WCR9/S0H/AG9f4LXKEk9ST9aSj2KDmOui8ei4cxxaaCwRm/13ZVLH%2BH0FQH4iyBwRp6svddxBP4//AFqwtH/4%2B3/69Z//AEU9VaFRhcOZnUf8LJ/6gv8A5M//AGNH/Cyf%2BoL/AOTP/wBjXL0VXsqfYV2dR/wsn/qC/wDkz/8AY1LY%2BP8A7bew2f8AZO3zZVTd5%2BcZOM/drkqtaH/yGrP/AK%2Bo/wD0IUnShbYLs3v%2BFk/9QX/yZ/8AsaP%2BFk/9QX/yZ/8Asa5ein7Kn2C7Oo/4WT/1Bf8AyZ/%2Bxo/4WT/1Bf8AyZ/%2Bxrl6KPZU%2BwXZ08fxEf8A5a2Kn6Ej/GrFx48FtO9tJpqh43KuDOeoOD/DXIVa1z/kNXn/AF9Sf%2BhGp9jC4%2BZnQP8AEXYcf2Qrf7tz/wDY0xviNJINsWkqrHoWmyPywK5ilRyhyAD9RT9lGwrs6hPiNuHzaP7f8fH/ANjSn4iMBn%2Bxfw%2B0/wD2NcusgAwV75HNOWRd27PJx%2BFS6aT2Hc6m4%2BIIgjiYaUGMkZZl%2B0fdO5hj7vtn8ai/4WT/ANQX/wAmf/sa5%2B9V0t7UNjBgJUjuPMf%2BoNQrDI670Qke1NU6drsLs6b/AIWT/wBQX/yZ/wDsaP8AhZP/AFBf/Jn/AOxrlyCOCKKr2VPsK7Oo/wCFk/8AUF/8mf8A7Gq9p8SNbDM%2Bo%2BGYhC0jiGeK84OMHaQVznDDnpXP1am/5Atv/wBfU3/oMVJ0oaBdm8fiTgZ/sb/yZ/8Asaq23xaDWJvrzQ1iUE8i6JGM8fwVzl3btdQNCs7xkj7yY/rVa6t5UtY7d4GkVCDm3O0gjG04J9fr2pOlBdB3Z2kPxPiuEEsGlK6nut1n/wBlp3/Cyf8AqC/%2BTP8A9jXn8l1NGhmurgrLHIF2o2OgDOxA68A%2B3NXrO7upJzDdRopMQcKucrnsfehQpvoGp6D4d8W/29etZ/2f5W2Ivu83dnBAx0HrWzXG/Dz/AJDUv/Xq3/oS12VY1YqM7Ia1QUUUVmMKKKKACiiigAooooAKKKKAMvxn/wAi1c/8A/8AQ1rg7zV7O/1VrW0Lv5NtCskgQ7QwjUFc%2Bua7zxn/AMi1c/8AAP8A0Na43VwBdpgY/wBFg/8ARSV00diWZ97afbIhEZmTDA7kAzx6Z6U%2BKFIlCrk4/iY5P5mn0VtZXJCjr0op%2BM4eNeR1FDdgLMij%2BxoFdsYupf1WP/Cq7IANpA%2B7kEetTSkLpkTBchriTk/7qcfrVYuxJwcZ7ZqEpMegA4IJGcHoac1xKw2hto9FGKZRVtJ7iDr1q1D/AMgW4/6%2Bof8A0GWqtWof%2BQLcf9fUP/oMtDAq0UU%2BC2ubp/LtoHkb%2B6ikn9KYDKK0V8M6ig338kFqp73EwB/IZNH2Hw7bf8fOsyzEdVtoMfq1TzLoOxBo/wDx9v8A9es//op6q1s6bd6BHcstppErkW8p3z3HUCNiRhR3HH41X/4SHy/%2BPXRrGP0Pkbj%2BbE0ru%2BwGcAScAVKljey/6uzlb/djJq4fFWu4xHeCMekcSr/IVE/iDXJPvatcf8BlI/lT94NBq6JrL/d0m5P/AGwb/CrWj6HrMWrWs0ulzqq3KFmaIgABhzVJtV1N/v6jOfrM3%2BNWNFvbx9ZtFe7lINzGCDIefmFJ81g0GHQNcHXSLn/vyaY2j6un39LuR9YG/wAKjF/fDpey/wDfw09dX1ZPuancD6Tt/jT98NCN7W6j/wBZbSL/ALyEVHV1PEmvR/d1ac/7z5/nUn/CVaw3E8sUw9JbdD/Sj3g0M6rWuf8AIavP%2BvqT/wBCNT/27bS8XegWT%2BpjQof0NWNVm8Nyarcpd2d1E4uHDSQyhgx3HnBH6Uru%2BwGNRWj/AGVo1x/x5a%2Bik9Euoin6jIps3hrWI082K2E6f37dw4/TmnzRCzKFFK6PGxSRCpHUEYIpKoRa1D/j0sf%2BvU/%2BjZKqglTkHB9qtah/x6WP/Xqf/RslVaS2AkFw5GJQHH%2B0KMW8n3WKH0PIqOilyrpoO494ZEG4jI/vDkVPN/yBbf8A6%2Bpv/QYqrpI8ZyjkfSrUhEmlwvM%2B1TcShQq9DtTJ/HI/Kk3JbhoU6KfJC8Y3cFT0YdKZVJp7CI57S3uFdXjGZF2swHOPrSW1oltubezu5%2Bd3PJ9OlS0UWVwN74dnOtSnH/Lq3/oS12Vcb8PP%2BQ1L/wBerf8AoS12Vctb4y47BRRRWQwooooAKKKKACiiigDxj9oD4v8Axy%2BFfxN8KweG28IXGg%2BIPE2jaLY%2BG5bO6n1vWHuLorqNxDIsscVrHZWe68OYp/MS3lDGH5ScbRf2lviHJ%2B1/4i%2BDvjbxVovh/wAOWPiu30fwvZXnw41VpdeEmhWl%2BSmtfalsUm8%2Ba5VYPKLslowALEsOs8YfsvS%2BJvju37QWkfHvxroOrHQoNIjsdNttGntYLRJWmdIvtunTyw%2Bc7KZikimTyYc/6qPbPrH7MmneJPiVp3j/AMVfF7xpqllpms22sW3hO9vbRtMGpQWv2eO6AFsJ0wP3vkJMtv52ZPK3EkgHd%2BLoZrjw9cQ28TO7bNqIuSfnXsK5TVdH1eS5Vo9KuWAtoRkQMeREoI6etdT4z/5Fq5/4B/6GtcbrH/H2n/XrB/6KSuijexLD%2Bw9a/wCgPdf%2BA7f4U2TSdThx5%2BnzxhjgGSIqCfxFQxxtIcDgDkk9qdJKAvlQ8L3Pc1q3K9kIsSaDrCnCaVdNxyRbt/hSf2LrgG0aTdY9Ps7f4VUop2dhGnLo%2BrnSIIhpVzuFzKSvkNkArHg9PY/lVb%2Bw9a/6A91/4Dt/hRN/yBbf/r6m/wDQYqq0K4Fr%2Bw9a/wCgPdf%2BA7f4Uf2HrX/QHuv/AAHb/CqtXNP0Wa8iN5PKtvbKfmnl6fQD%2BI/ShtrcBv8AYetf9Ae6/wDAdv8ACtLTfC%2BqXGlTJcwtbq08b5eMliFDg4Uc5%2BYVWOsWWmDytBtcP3u5wC5/3R0X%2BdQmee50m5muJmdzdQ5Z2yT8stS%2BdrsPQv8A9mwafxa%2BGr28kH/LS5gZU/BQOfxNRzz%2BMJk8mLT7mCPtFbWrIP0FY9FPl7hcttouuOxZtJuyT1Jgb/Ck/sPWv%2BgPdf8AgO3%2BFVaKrURp6Vo%2Brx3LNJpVyoNtMMtAw5MTADp61W/sPWv%2BgPdf%2BA7f4UaP/wAfb/8AXrP/AOinqrS1uBa/sPWv%2BgPdf%2BA7f4Uf2HrX/QHuv/Adv8Kq0U9QLX9h61/0B7r/AMB2/wAKs6Po%2Brxavayy6Vcqq3KFmaBgANw5PFZlWtD/AOQ1Z/8AX1H/AOhCk72YB/Yetf8AQHuv/Adv8KP7D1r/AKA91/4Dt/hVWinqBa/sPWv%2BgPdf%2BA7f4Uf2HrX/AEB7r/wHb/CqtFGoFr%2Bw9a/6A91/4Dt/hVnWNH1eXV7qWLSrlla5cqywMQRuPPSsyrWuf8hq8/6%2BpP8A0I0tbgH9h61/0B7r/wAB2/wp8OleIbd/Mt9NvUb%2B8kLg/oKpUU9QNtLnxQ6iLUdDlu0Ha4s2JH0YDNL/AGBbah/q9Mv7GQ/wvbtJH%2BeMisOip5X00Hc2NZ8OazbxWsK2MkvlwFWaFCwz5jnsPQiqP9h61/0B7r/wHb/Cp21K%2B02CxksrloybU7gDw372TqOhp4n0bWfluo1srg/8tox%2B6Y%2B6/wAP1FJOSQaFX%2Bw9a/6A91/4Dt/hR/Yetf8AQHuv/Adv8KbqGmXmmSiO7iwGGUdTlXHqD3qvVq7EWv7D1r/oD3X/AIDt/hVmXR9XOkQRDSrncLmUlfIbIBWPB6ex/KsyrU3/ACBbf/r6m/8AQYqTuA6PSNdiOU0m69x9nbB/SibRtREZmbTLiLby2%2BFgPzIqnR06UnF3uh3LKaPq8qCSPSrllIyGWBiD%2BlL/AGHrX/QHuv8AwHb/AAqIMs42SEBv4W9fY1GysjFWGCOopptuzA6PwJp2oWeryS3dhNEptiA0kRUZ3LxyK6yuN%2BHn/Ial/wCvVv8A0Ja7Kuat8ZS2CiiishhRRRQAUUUUAFFFFABRRRQBl%2BM/%2BRauf%2BAf%2BhrXHaqrPexoo5NrBj/v0ldj4z/5Fq5/4B/6Gtcjqn7uUSd2tYFX/v0ma6KTtEl7lWV1UeTGeB1PqajoordKyJCiiimBam/5Atv/ANfU3/oMVVatTf8AIFt/%2Bvqb/wBBiqTRbKCVpNRv1zbWq7nX%2B%2B38Kfiam9lcB9lp9rY2y6trKkq3NvbA4MvufRf51W1HU7vU5RJcuAqjEcajCoPQDtTdQv7jUrpru5b5m6AdFHYD2qGhLqxhVqH/AJAtx/19Q/8AoMtVatQ/8gW4/wCvqH/0GWmxFWiiimAUUUUAWtH/AOPt/wDr1n/9FPVWrWj/APH2/wD16z/%2BinqrS6gFFFFMAq1of/Ias/8Ar6j/APQhVWrWh/8AIas/%2BvqP/wBCFJ7MCrRRRTAKKKKACrWuf8hq8/6%2BpP8A0I1Vq1rn/IavP%2BvqT/0I0uoFWiiimAUUUUAWtQ/49LH/AK9T/wCjZKq1a1D/AI9LH/r1P/o2SqtJbAXdO1hraI2N7F59ox%2BaFjyvup7Gk1TShZql5Zzeday/6qXHIP8Adb0IqnV3RtRitXazvgWtLj5Zk/u%2BjD3FJq2qGUqtTf8AIFt/%2Bvqb/wBBipmp2EmmXr2cjBtp%2BVx0ZTyCPwp83/IFt/8Ar6m/9Bip3vYRVooopgFSj/SE2n76j5T6j0qKlVijBlPIPFKSuBu/Dz/kNS/9erf%2BhLXZVx3gBlfXZmVcA2zcf8CWuxrlq/GWtgooorIYUUUUAFFFFABRRRQBz2u/Fz4UeF/G2mfDTxN8TvD2neI9aTfo/h%2B/1qCG9v1ywzDA7iSUfK3Kg/dPoaWX4sfCyD4hx/CKb4leH08WTWn2qLww2swDUXgwT5ott/mlMKx3bcfKeeK8F/aS1fw/4k/aP0r4Yar8LfE%2BnaJaXnh/xJ4q8Z6H8MdX1J9eutPv2u9L0yK7srOWNEguIVnnkkf5EkWJF/fyvFz954S8bah%2B0TeeG7T4c%2BI/t%2Bq/tAaX42sfE8nh26Sxj0OPw3a20kr3bRiKKX9zPYfZmYT5kB8vy2L0AfU3jP8A5Fq5/wCAf%2BhrXFX0zzPHv/hhRfyUD%2Bldv4uMK%2BHrg3EbMnyblR9pPzr3IP8AKuNkk0sMPPs7hm2jlLlVGMehQ1vS6fMllOirXnaL/wBA%2B6/8DF/%2BN0edov8A0D7r/wADF/8AjddF/Ikq0Va87Rf%2Bgfdf%2BBi//G6PO0X/AKB91/4GL/8AG6L%2BQBN/yBbf/r6m/wDQYqsam32PRLLT04MoNxL75OF/QUssukf2RATY3O37TLgfalyDtjzzs%2BlTa7JpRWykks7hg1jHsK3KjAGRg/Icn3/SovqhmNRVrztF/wCgfdf%2BBi//ABujztF/6B91/wCBi/8Axurv5CKtWof%2BQLcf9fUP/oMtHnaL/wBA%2B6/8DF/%2BN1Zil0j%2ByJyLG52/aYsj7UuSdsmOdn1pNgZlFWvO0X/oH3X/AIGL/wDG6PO0X/oH3X/gYv8A8bp38gKtFWvO0X/oH3X/AIGL/wDG6PO0X/oH3X/gYv8A8bov5AGj/wDH2/8A16z/APop68E/bJ/bMt/2WbXTdH03wLPrGt65a3M2nNczi2sIkgTdI0sx5ZgvIiQFm6DBZc/QmlS6QblvLsbkH7NNy10p48ps/wAHpXjP7Y37LHgf9rD4dReF9Zv9dtJ9Jee90mGx1WGOKe78l0iE2%2B3f5AW/hwcM3PNduWywax0Prabp9f0289/I5sYsS8NL2D9/ofmt8af%2BCiv7W/xU1qZm%2BKd54dsRMJLXT/CbvYIi7cAiVcTurD5sO5GWyABgDG0v9rXxot9b3fiDx98ULkvEseqz2vxPnimul2rvUM0DqiFtxC7WKggFmxuPov7LP/BOnWP2gvidrWheMpJ/DGi%2BC7xdL8Um31CK6uLrUY8rLHbHZtjU43FmDhdwxvyQv2P%2B0P8AsKL8ToPBfw1%2BEHi%2BXwL4B0u3uLfxfpej3HlTapERF5Y2xxrHK52SBmmyAX3bWJIP6Pis04fy%2BtDCxhFaXbSSUVa61Sbbelld6tNtdPjqGBzfF05V3J%2BSb1bvbq0kl19HZH5k/FzxV8N9c8dr4w%2BFaeI47e4RHu7HxLd%2BfNHIqqGH2lJN8ysQSSVjK5wOgNb%2BifHX4nfCay0nxf8ACX4t2/h%2B8guY54NH8P6tqbtDtyR50VwXt2QEAFCWzkfKVJr62%2BNf/BFjwtNp9nL%2Bzn8SNQt7pZCNQg8bXiTRyIRw0b2tshQj%2B6VbOeq45%2BNv2m/gH8e/gX4ig8OfGTRbmC4htVh03VInWWC%2BgjXZGiTlSGCKqqFOHRAqkBVVR34bNMpzGioUZc9k/clbmaXlLR/i7GLy7HUMR%2B%2Bfs1J/Hrypvzjqtfkt3oj2/wDZz/b%2B/bQ179oA6Z4S1N/H1z4olWKLw3rMa28Ee3a7PAEcLa7Y0kG7cUwS7qxAx9F%2BJf28/wBrPwr4/vvhlf8A7GVrPrGmaMNV1CGy8YJKltZnP715Fi2KPlPBOa8o/wCCbf7JX7T2s/A3SPHNp8ULXwDYzz3dxod0/h2z1TWpYpSitm5kBaKBtjFUDZOSSMFcfYv7P37M%2Bj/BzxJrPxI8Z/EHxD408Xa/BHb6jruqXEcKi3jOUhihRCsajqeTk9MdK%2BKxeZ5LiIKv9Xgny25Fz35r21aVOKSSd/d5r7n12KyfMMqzGrgo4hzUJte0XLytWveK56u7elqklbZs%2BdvA/wDwWb8DanoVzrXj34Fa3YrbttzoWq298M8AM6yeQ0SljgHDDsCTxX0b%2BzL%2B0HP%2B0h4KvPG5%2BF%2BueF7e31N7S1h12MI90qojGVBx8uW255GVIBJBxreLf2Zf2WfHerJrvi/4AaDf3qPv%2B1T2Nv5jn/bYQ5cezZFd2JdEAwNPuv8AwMX/AON15GOxWUVaVsLh5Qk925XS8kut%2B7LwtHMKc/39VSS7Rtf1f%2BRVq1rn/IavP%2BvqT/0I0edov/QPuv8AwMX/AON1Z1iXSBq90JbG5LfaX3FbpQCdx7bDivHvqd5mUVa87Rf%2Bgfdf%2BBi//G6PO0X/AKB91/4GL/8AG6d/ICrRVrztF/6B91/4GL/8bo87Rf8AoH3X/gYv/wAbov5AGof8elj/ANep/wDRslVa076XSBbWe%2BxuSDbHaBdKMDzX6/Jzzmq3naL/ANA%2B6/8AAxf/AI3ST0Aq0Va87Rf%2Bgfdf%2BBi//G6PO0X/AKB91/4GL/8AG6d/ICxqB%2B26DaX7cvC7W7n1A%2BZf0JFV5v8AkC2//X1N/wCgxVfEmlr4ZLGyuPLe%2BGFNyuchOudnTnpj8ahll0j%2ByICbG52/aZcD7UuQdseedn0qE/zGZlFWvO0X/oH3X/gYv/xujztF/wCgfdf%2BBi//ABurv5CKtFWvO0X/AKB91/4GL/8AG6PO0X/oH3X/AIGL/wDG6L%2BQGp8PP%2BQ1L/16t/6EtdlXJ%2BBJNPbV5BaWsyN9mOTJOGGNy9gorrK5a3xlrYKKKKyGFFFFABRRRQAUUUUAFFFFAGX4z/5Fq5/4B/6GtcdqkCQtFs/54R7vqUVv612PjP8A5Fq5/wCAf%2BhrXI6iwN2sLHAa1gwfQ%2BUmK3p6RuS9yjRSspVirDBHWkrpJCiiigC1N/yBbf8A6%2Bpv/QYqs/8AIU8OqiKPN09iSB1aJjnP4H9DVab/AJAtv/19Tf8AoMVM03UJtMu1u4QDjhkbo6nqD7VLTa0GQUVf1bTYUjGqaYS1pKePWJv7jf09aoU000IKtQ/8gW4/6%2Bof/QZaq1ah/wCQLcf9fUP/AKDLQwKtFFFMAooooAtaP/x9v/16z/8Aop6q1a0f/j7f/r1n/wDRT1VpdQPmK08T6j%2Bz7/wUL1rQ9Q8FXV1p3xlgsG0SbSJ4n8ieygKXE08O4Mq/OWaTHIBI3EMF%2Bna%2BcPizq2meOv2/vhhoXwx1CGXXPCul6pd%2BMbu2mEiW2myIsS20oXPztKeFJBTerYORj6Pr1cytKFCbVpOCv8m4p26Xil67nDgtJVYp3Sk7fOzf4t%2BmwVBf%2BDvCPjwQ%2BGfHHhbTdZ02e6i8/T9WsY7iCTDD70cgKn8RU9WtD/5DVn/19R/%2BhCvL5pR1TsztaTVmZulaTpehabBo2iabb2dnaxCO2tLSFY44kHAVVUAKB6AYqxRRTbbd2NJJBRRRSAKta5/yGrz/AK%2BpP/QjVWrWuf8AIavP%2BvqT/wBCNLqBVooopgFFFFAFrUP%2BPSx/69T/AOjZKq1a1D/j0sf%2BvU/%2BjZKq0lsAUqqzsERSSTgADqaStWzhXQLddWvFH2l1/wBDgYfd/wCmjD%2BVDdgGa%2BVs47fREYE2yEzEHrI3JH4cCq83/IFt/wDr6m/9Biqs7vI5kkYlmOWJPJNWZv8AkC2//X1N/wCgxUrWSGVaKKKoQUUU%2BGPzHweFHLH0FJtJXA2/h5/yGpf%2BvVv/AEJa7KuO%2BH7B9dmYLgG2bAH%2B8tdjXLV%2BMtbBRRRWQwooooAKKKKACiiigAoryzx38WPir4X/AGrPAfwqtNJ0D/hDvFOj6o9zeStO%2BpNe20ayAIAViiiVWXJPmNIZCMRCPMnJaL%2B0t8Q5P2v/ABF8HfG3irRfD/hyx8V2%2Bj%2BF7K8%2BHGqtLrwk0K0vyU1r7Utik3nzXKrB5RdktGABYlgAe2eM/wDkWrn/AIB/6GtcbrH/AB9p/wBesH/opK7TxdDNceHriG3iZ3bZtRFyT869hXKaro%2BryXKtHpVywFtCMiBjyIlBHT1rootJEso/8fK4/wCWgH/fQ/xqLp1q0NE1sHI0i6/8B2/wqRtH1WVC0ulXKMByxgYA/XjitLqPoLco0VYi0nVJ18yDTbh1z95IWI/MCnf2HrX/AEB7r/wHb/Cr5o9xBN/yBbf/AK%2Bpv/QYqq1py6Pq50iCIaVc7hcykr5DZAKx4PT2P5VW/sPWv%2BgPdf8AgO3%2BFJNdwE03VLjTJS0YDxuMSwuMq49CKtTaRbalGbzw%2BxbAzJZsf3ifT%2B8P1qt/Yetf9Ae6/wDAdv8ACnRaRr8Mglh0u8RlOVZYGBH6Una90xlQgqSrAgg8g1Zh/wCQLcf9fUP/AKDLWmI73UgI9e8O3ZfGBdwWxD/8CGMN/Oi58K6jbaRMLRHnV543UCJlfAVwcqef4h60udbMLGFRVr%2Bw9a/6A91/4Dt/hR/Yetf9Ae6/8B2/wq7ruIq0Va/sPWv%2BgPdf%2BA7f4Uf2HrX/AEB7r/wHb/Ci67gZPiXxFd%2BEPCGu%2BLdP0sX0%2Bl%2BH9Qu4LIzeX9oeO1lcR7sHbuKgZwcZzivmX4ceGP2lf24vBWn/ABL%2BJvxfPgfwPrMPm2PhTwI5S8uodxX/AEm8cblzg5RAVKnkKa9y/aa%2BI/hP4J/BbX/EfxKu59Pt9Q0m70zT0%2BzM0t5eT20qRQRIBl3YnoOgBJIAJGd%2Bxh8O/H/gv9ljwP4X8YeDtQ07UrPQo1urK4tWWSEksQGGPlbBGQeQeDzXq4ao8Jl8sRGK5nJKMmk9FFt8t7q6druza8jgrRVfFqk2%2BVRbaTtrdWvbXa%2Bl1c0fg1%2Bzz8G/2f8ASH0f4TeA7PShMoF3doDJc3WOhlmcl35JIBOBk4ArtKtf2HrX/QHuv/Adv8KP7D1r/oD3X/gO3%2BFebUrTrTc6krt9W7s7YU4U4qMFZLoirVrQ/wDkNWf/AF9R/wDoQo/sPWv%2BgPdf%2BA7f4VZ0fR9Xi1e1ll0q5VVuULM0DAAbhyeKzbVnqUZlFWv7D1r/AKA91/4Dt/hR/Yetf9Ae6/8AAdv8Kd13Aq0Va/sPWv8AoD3X/gO3%2BFH9h61/0B7r/wAB2/wouu4FWrWuf8hq8/6%2BpP8A0I0f2HrX/QHuv/Adv8Ks6xo%2Bry6vdSxaVcsrXLlWWBiCNx56Urq%2B4GZRVr%2Bw9a/6A91/4Dt/hR/Yetf9Ae6/8B2/wp3XcCrRVr%2Bw9a/6A91/4Dt/hQNC1skAaRdc%2BsDf4UXXcA1D/j0sf%2BvU/wDo2SoLe2uLuYW9rC0jt0VRk1vSeFpltLWTU0nHlQFWgtoTI5O92xkcDhh1qC4bXEhaz0jw/c2kLcMUgYu/%2B82P0FQproOxEsWn%2BHv3lyUub0fdhBzHEfVj/Efas66uri9na5upS8jnLMxqb%2Bw9a/6A91/4Dt/hR/Yetf8AQHuv/Adv8Kpcq1uBVq1N/wAgW3/6%2Bpv/AEGKj%2Bw9a/6A91/4Dt/hVmXR9XOkQRDSrncLmUlfIbIBWPB6ex/KhtdxGZRVr%2Bw9a/6A91/4Dt/hTTpOprKsMthMjP8AdDxEZ%2BmetPmiuoWIERpGCIMk0%2BRlRfJjOR/E3qatPo%2BsIpih0i6wfvN9nbn9Kj/sPWv%2BgPdf%2BA7f4VKak7sexqfDz/kNS/8AXq3/AKEtdlXJ%2BBNO1Cz1eSW7sJolNsQGkiKjO5eORXWVz1tZlLYKKKKyGFFFFABRRRQAUUUUAeY/FH9my7%2BJvxe8N/GKD4%2BeNfD114Vhnj0vStDg0drM%2BeoWdn%2B16fPKxdFVT%2B8AAXKhTkldY/Zk07xJ8StO8f8Air4veNNUstM1m21i28J3t7aNpg1KC1%2Bzx3QAthOmB%2B98hJlt/OzJ5W4kn02igDL8Z/8AItXP/AP/AENa43WP%2BPtP%2BvWD/wBFJXZeM/8AkWrn/gH/AKGtcDf63Zz6r9hlV4JVghVUnXbvAjUbl9Qe1dNFpIljqKKK3JJFmBXZMNw7HuKGgON8R3r7dRUdKrMh3KxB9RU8tthlmb/kC2//AF9Tf%2BgxVVq5IVfS4ZJ2OGuJAAo6ELHz%2BOR%2BVVzbswzEwceg6/lSUrbhYjooIIOCMUVYgq5ayyQ6RPLDIyMLqHDKcEfLLVOrUP8AyBbj/r6h/wDQZaTAkl8QXt1bNb38cVxlcLLLH86e4Yc/nVfTokmvEjdcjk7fXAJxUNKrMrBlYgjoQaLJLQLmhIttJc2zahGiFomeUY2g/e2g7foPfmkOmQPMEkBi8xwkQQ7gSR97Jx8vIrB8X/EHQPhx4Zv/AB1428QQWGl6dbtLf3t4cokfGc8Ekk4AAySSAOSK8Y8GfFn4w/tiyXs%2BieEbrwl8M5oZIrDX76RodU1lZEaNnggxiKHa2UdjwwVsPyi9FDB1qsHUvaC3b29F3fktfRamNXEQpyUN5PZL832Xm/xLkng2z/aI/bB0zxAPEthqHhn4UaM92%2BmRRzMZNYvbbzLeYuYxDIqQFJF2uzIxUkASCvaas%2BFtP0Dw/aNo/hrSks4GtZd8UaAKNsDAAY69ByeeBUdm9mk4a%2Bhd48HKxtg/nSr4h1nGKXuxSSX3tv1bbf3dh0aXs7t7yd3%2Bn3LQiorRx4Uk6PfxH3CMP6UNY%2BHW5j12Veej2hP8jXPzeRtYzqtaH/yGrP8A6%2Bo//QhU/wDZWjN9zxLF/wACtnH9KsaTpOnx6rbSR6/buVuEIQIwLHcOOlJyVmFjGorR/sfTB18SW/4Rv/hR/Zehr9/xKn/AbVzT5kFjOorR%2Bx%2BGo/v6zPJ/1ztcfzNG7wpHyIr%2BU%2BjMij9M0c3kFjOq1rn/ACGrz/r6k/8AQjU/9q6LF/x7eHEJ9Z7hm/QYFWNW8RX9rqtzDZxW8O24cb47ddxwx5JOeaV5X2Az7XRtVvf%2BPXT5XB/iCHH59Ks/8I6bfnVdUtrbHVPM3uP%2BArmqt1q%2BqXuRdahM4P8AC0hx%2BXSq9O0mGhped4asf9VbT3rj%2BKVvLT8hyfzqO48RalLGbe3ZLaI/8srZdg/HHJqjRRyrqFy1qHNrY5/59T/6NkqrVrUP%2BPSx/wCvU/8Ao2SqtNbCCilCsRkKfrTvLxkscgelDaQWGValBOjW4AyftU3A/wB2KqzLtOM596tOzR6TDJG5XdPIpGeOFTn6nP6Ck29LDIBEkfM5weyDr/8AWpJJmcbQAqjoopnXrRQo63YXCiikZlUFmIAHUmqEb/w8/wCQ1L/16t/6EtdlXF/DeWKfVpJYZFdWtG2spyD8y12lclb4y1sFFFFZDCiiigAooooAKKKKACisu%2B8b%2BC9L8V2HgPU/F%2Bl2%2BuarbzXGl6NPqEaXd5FDt86SKEtvkVN6bmUELuXOMiqcvxY%2BFkHxDj%2BEU3xK8Pp4smtPtUXhhtZgGovBgnzRbb/NKYVju24%2BU88UAXPGf/ItXP8AwD/0Na4fxJYWeoSrBeW6yL9lgxnqP3SdD2ruPGf/ACLVz/wD/wBDWuN1j/j7T/r1g/8ARSV00VeJL3MMWus6VzYzfa4R/wAsZmw4Hs3f8ams9dsbqT7O7NBN3hnG1vw9fwq5UN5YWeoR%2BVeWyyL23DkfQ9q1s1sImorN/srU7DnSNSLIOlvdfMv0DdRSjXpLT5dZ02W39ZVG%2BP8AMdKOa24WNub/AJAtv/19Tf8AoMVVQSDkHFSx3tne6HbtaXUcgFzKTscHHyx1FTWqESC4YjEqhx/tdfzoxbv0ZkPuMio6KXKumg7khtpDymHH%2ByanjVl0W4DAg/aoev8Auy1UBI5Bq3C7HSpp2O5luIlUtzwVkJ/kKT5kGhUoqTzYm%2B/APqpxXlX7TP7S2m/BGxsfCXg3Q5fEXj3xI5g8KeFLc5ed%2BQZpSCPLgTksxxnaQCMMy70KNbE1VTpxu3/TbfRLdt6JGdWpTo03Ob0X9fN9kcL%2B06j/ALQ37Q3g/wDZEtnL6FZxjxT8QVXkS2kMgW2tG7YklwWXrjaw6V9FIiRoI40CqowqqMAD0ryz9l/9nXW/hPb6v8Qvid4uXX/H/jCWK48U6tnESFARHawKQNsMYJUdM46ABVX1g2s/ZM/Q5rpx1ej7lClK8YK1%2B8nrKWvd6LyS7mGFp1PeqzVpSe3ZLZfdq/Nsm0f/AI%2B3/wCvWf8A9FPVWrelI8d05kQr/o045H/TJqqVwpps6gooopgFWtD/AOQ1Z/8AX1H/AOhCqtWtD/5DVn/19R/%2BhCk9mBVooopgFFFFABVrXP8AkNXn/X1J/wChGqoBPQVc1iOSXWLt40LA3MhBA4I3GpbSYFOipPs0o5YBf95gKPJjH37hfwyaOaI7MjoqT/RVP8bfpR56r/q4FHueaOZ9EFibUCPsljz/AMup/wDRslV0AYFcc9jVjUAPs9pJjl7csx9T5jj%2BQFVlZlOVODQruIdR6HABJxjOc9xSGQAHaOp5BphJPJNFHIuoXFZixzVmb/kC2/8A19Tf%2BgxVVpdR1jS7DR4I7q%2BjVxcyny92WwVjxwOaHZWEJSMyqpZmAAHJJ6Vn/wBqarfcaVpZRT/y2uztH/fI5NC6AboiTWr6S5OciMfLGP8AgI6/jRzX2HYWXX4pJDb6Tbtdyjg%2BXwi/VulNGj3eosJddut65yLWEkRj692rQihigjEUESoo6KowBTqOW%2B4XNz4bxRw6vJFDGFVbRgqqMAfMtdpXG/Dz/kNS/wDXq3/oS12Vc1b4ylsFFFFZDCiiigAooooAKKKKAPnL4/ax4U8K/tv/AAu8aL8L/FN1d2elarba94j0H4a6rqEccEsIWzhlvLS0kTaJWnIQv%2B78xmIUPk8leeEvG2oftE3nhu0%2BHPiP7fqv7QGl%2BNrHxPJ4duksY9Dj8N2ttJK920Yiil/cz2H2ZmE%2BZAfL8ti9fXVFAGb4uMK%2BHrg3EbMnyblR9pPzr3IP8q8o8SD4i6F4gl1CxFvrmnSRxvHp7uttcQoY1KosmCr4HGWAJxXqvjP/AJFq5/4B/wChrXG6x/x9p/16wf8AopK6KSvElnNad8Wfh/PdLpuu6dqOjXh/5dtVnWLP%2B65j2sPTnmukS50KRBJHZXLKwyrLeqQR/wB%2B6z9R0vTdXtjZarp8NzC3WKeIOp/A1zj/AAtt9Lcz%2BB/Ed/ork58mKTzbcn1MT5H5EVraS8xaHaedov8A0D7r/wADF/8AjdHm6Ieun3X/AIGL/wDG64r%2B1/in4f41bw5Z61Av/Lxpk3lSgepjfgn2U1NZfFnwbNOLLVbqfSbk9bfVrdoGH4t8v60Xj1A6m98P%2BEJ7CK9Gj3EUrTyKJYLwI/AQ8kJg9fT19eM2Wy1a1k3aZqBliHSK9wzY/wB9QP5Vqpc2154ftri0uElja5mKvG4YH5YuhFQUKK3C5XXXra1AGp%2BFb8Y6yW14jqffHl5FaMdzocsayLp93hgCM3ag/wDouq1FNRa6hck/tHRPtv2P%2BybziPdv%2B2Jj/wBF1Pb6x4ck0%2B4t0tLsbblN2ZuMqJAfm8vHHp/ga4T4o/F74efA/S5fGvxY8baZo%2Bn7dsT3MxEspHJWOMAtK3%2BygJ9q4Ky%2BI/xi%2BP8A4PmvPgfo03hzw5qQG7xLrdlOs%2B5lYrJDaTIhY5ZiCNyMFPzAkA7wwlepD2jVoXtzPRff1fkrsxnXpQlyXvLst/8AgfOx0P7RP7W3wr%2BBtjH4f0vTrvxH401VNnhvwfpN4Jrq9lbIQsqRkxxZBJdscK23JGKzv2Wf2ebzwHc3/wAbfjxO2t/E3xQobWNQiuFEOmQdUsLUFW2RoMAkH5iOpAFWvhD8APA/wds0nH2jV9afT3huPE2tv5uo6hmZpPnkPzffdmC9gyjnaMeoQeYtugmOWCDcfU45roniqVKi6GHvr8UnvLyS%2BzHra939rZIyjQqVKiq1um0ei833fS%2By6b3LvnaL/wBA%2B6/8DF/%2BN0CbRRyLC6/8DF/%2BN1ijxRowO2W5aJvSWJl/pU8es6TL/q9TgPt5ozXBeL6nXqbmmT6VJcMgs7riCVsNdqRxGx6bOvHB7Govt%2Bmd7O6P1u0P/tOodElilunMcit/os/3Wz/yyeq9Lki2F2Xvt2kHrps5%2Btyn/wAbpDeaLj/kEzf%2BBS//ABuqVFHs4hdls3ek9tLk/G5H/wATU2mTWE2p28UNnJG7ToEkEwO07hg4281nVa0P/kNWf/X1H/6EKHCNguwF1pY/5hr/APgQP/iacLvSB10qX/wJH/xFU6KfJELsvfbdF/6BM3/gSv8A8bo%2B36T2064H0uU/%2BN1RopeziF2Xvt%2Bmf8%2Bl2PpeL/8AG6l1aXSYtTuYWsrn5J3XCXaheGPQbDge1ZlT%2BILm2h1q8M1wif6VJ95wP4jRyxTC7H%2Bdov8A0D7r/wADF/8AjdHnaL/0D7r/AMDF/wDjdZUuvaND9/U4f%2BAyA/yqL/hJ9Lf/AI9vOnPpDAx/pReK6hqbXnaL/wBA%2B6/8DF/%2BN0edov8A0D7r/wADF/8AjdYn9s6hN/x6eHrk/wDXZlj/AJ0b/FE/3YbS3B672Z2H5cUXXS4HSX0ukC2s99jckG2O0C6UYHmv1%2BTnnNVJbvQIV3zWlwi%2BrXqAf%2Bi6zrzRdWltrQ6h4kmdWtyVSCJY9g8xxjIyTzk596hj8NaOj%2BZLbGZ%2B7zuXJ/PikuZr/ghoWpfFXg5H8qG3u537Jb3Icn8o8VFNqtxeIRpPhueAn7st9eKR/wB8qgP61YihhgTZDEqL6KuBTqfK%2BrC6KdvpUtwSdd1K5kU/8srKQQge2SrE1qW%2Bk%2BEtO0yG4tdDlVmnkG/7Spc4VOrFMkc9Pr61Xqhrmua7pqWaDTIDYvqIhWRpv3kryeWGKgdAgwTnqM46UnGKdwuzZ87Rf%2Bgfdf8AgYv/AMbqlqHifwdpsUc1xBdsspYJ5E/mZ2/ePyRHAHcngVxviKTWJjqkUeoytMbsWv2QufLaGVVEeB/Cc7huHU5/A0u1uH14av4c0txFbIpubPy/JBdkaOWNQwC5/dwt6fKeRmi4WO9hvNAuIUuILO5dHUMjreKQwIyCP3dc/rfj%2Bxt9Sl0Dwz4E1jU72LAkb7SsVvGSARulaPHQg8Zqx4W0%2B50vQbewu0CvGpzGGzsBYkLnvgED8K0Kqza3A2/hZNNLIranYCG%2BNmTcCK58yMHcvC5QH0rta434ef8AIal/69W/9CWuyrmqq0ylsFFFFZDCiiigAooooAKKKKACiiigDL8Z/wDItXP/AAD/ANDWvCPG9v8AtMeF/E9zq/hfUPD/AIq0qZY5YdGvoTYXVvGY1KxRzLuR8Djc4BNe7%2BM/%2BRauf%2BAf%2BhrXFajc21zd/wCjXCSbIIUfY4O1hEmQcdCPSuikrxJZ5VD%2B1B4b0KZbH4u%2BDNe8G3BYL52q2Jls3b0S4h3Iw9ztrvvDnizwv4vsRqfhTxHY6lbn/ltY3SSqPqVJwavTQw3ETQXESyI6kOjrkMPQg9a4LxF%2BzF8GtevjrNj4XOiaj1TUvDly9jMh9f3RCk%2B5Brb3kLQ7%2Bob2wsNSgNrqNlFcRN1jmjDKfwNebf8ACsv2gPB3zeAPjmmrwJ/q9O8aaaJifrcw7ZD%2BRrsvAOoeP7zQpJfiboem6dqEVwy40y9aaGWMKpEgLKpXJLDac425zzw076NCG3vwd8GrYxaloSXmj3MlxKGn0m8eHICxkfLkr3Pas6%2B034h%2BE7OXUofiJp9xZ28ZeQ6/bCNY0HJLSoRxjuRXkXxw/byaTXLL4V/sp6XH401221J01i6gtzJp1oXEarGbgMBJIdrHy49xbbgEEEVzOofs5%2BMviP8AEqz0f9rf4kS%2BO7k2cF%2BPCNrrY0jSbYySuqxx26LuvHTynYszocAAhs12xwEKWuKl7NbpWvJp9o9PWXL3s0crxTnpQjz9L3tFfPr/ANu3%2BR0V3/wUW8MTa/c%2BCfhx8NdW%2BIes2vyyL4CR7y2Ddi0xQIqf7SlxWPN8R/2z/jHeGy8SeLPD/wAE9KlOPIGnSanq5U9QZJFWBOP4lwwPOK9w8DeK/hJ4P0o%2BF/CPh6Dw9o1lbSzWXk6eltaTxRuscjwhPvYdkGcAsXXGcius0jWNC8WaSupaTdRXlpMWUMFyCQSCpBHBBBBBGQRWn1zDUdMNSV/5p%2B%2B/u0gvukL6vXqfxqj9I%2B6vv1k/vR438IP2P/2fPD/iWP4h614lvPiL4pUAp4h8X6wNRmhIOf3SH5IsHphdy9jXvcP/ACBbj/r6h/8AQZa5jUvhj8P9WJa88JWW49Xhi8pj%2BKYNRR/CPTLbS5ptC8V6/poS4iCw2uqsY%2BVk5Kvuz0/U%2BtceIxOKxMlKrLmfrt5JaJLySRvSo0aMbU1b%2BuvV/Ns6IgHqKK5b/hFPiRZHOm/E3zlH3YtQ0qNvzZSDQJfjNZ/6y08PXyj/AJ5yTQufzBFY83ka2OoKqwwwBHoahk0vTJuZdOgb3aIH%2Blc7/wAJf8RLY/6f8K5GUdXs9Wikz%2BBwaP8AhZ0sHGofDvxJEe7JpwkUfijGjmi9wszorDwn4eurllm0tMC3lYbWK8iNiOh9QKrf8Izpi/6lp4/9y4b/ABrO034z%2BCbO4Z9UOo2YNvKv%2BkaTOMExsB0U9yKih%2BMfwznOF8WwKfSRHT/0JRU/u79A1Nb/AIR5R9zWdQX6XOf5igaJdL9zX7z/AIEyn%2BlVIviV8PpvueNNMH%2B/eIv8zU8fjfwZL/qvF2lt/u38Z/8AZqdof1/w4akn9kamPu%2BIp/xjU/0qfSdH1uTVbaOLxRKjNcIFcW6Eqdw5qFfFPhh/ueI7A/S8T/GrmieJPDo1m0c69ZAC5jJJuk4%2BYe9DUbBqUv7K1fv4jl/78JR/Y%2Bon73iG4/BFH9KefEfh4ddesh9bpP8AGmN4r8LJy/iXTx9bxP8AGnaP9MNQ/sKdvv69ff8AAZAP6Uf8I7Ef9Zqt%2B/8AvXRqKTx34Ii/1vjHSl%2BuoR//ABVVpvih8PIOX8Zaef8AcuQ38s0rQ/r/AIcNS9/wi%2BkNzNFLJ/vzsf61b1Lwv4fstVube30qIIlw6orDdgBiB1rnH%2BM3w0Rti%2BKEc%2BkVvK5/8dU1Pq3xi8L3uq3M%2BlabrF4r3Dsn2fR5skFiR95RS/d36BqbkVhYwf6iyiT/AHYwKlrlv%2BFkanc8ab8M/EEh7G4tkhH/AI81H/CTfE%2B64tPhpDbg9HvNZjP/AI6gJ/Wq5o9AszqaK5byfjLe8SXvh%2BxU94oppnH/AH0QKP8AhCfG97xrPxTvSp6pp9jFb4%2Bhwxo5n2Cx2eoEC0sST/y6n/0bJWDqnjfwfouRqniexhZeqNcru/75BzVG8%2BDfhSW3tH1y/wBW1Uvblj/aWqyuB%2B8ccAEDHHSrul%2BBfBmi4bTPC9jCw6SLbKW/76Iz%2BtJc1g0Mo/Fzw7d8eHNK1XVz0B0/TnK/iz7Rj3o/t/4qatxpPgiz05T92bVr/eSP9yIZH511QAAwBRTs%2BrAzPDVj4qtI5pPFOu295JIwMcdtaeUkI5yAcktnjr6Vb8QaFc6tZaZdw6xLai1urniKJGLFkiGQXBCkDIzj%2BI1R8TePfA/gyLzvF3jDTNMXGR9vvo4ifoGIz%2BFcjd/tZ/C6/sI9N8BWOv8Aiy6iuZd8XhvQ5plGVjAzIwWPHB53cUm4qyYancpoWl%2BfDeXFmk9xAuI7mdA0g/4EenU9PU1brzE%2BNf2m/F/y%2BFfhHpHhuBvu3nirV/Ocr6%2BRbAlT7M1J/wAKM%2BI3iz5/in8ftbuYm%2B9p3huJNMgx3RmTdI6/Vgad%2ByA67xr8V/hr8OYTL438b6bppC5ENxdL5rD/AGYxl2/AGuQ/4aD8S%2BMP3XwY%2BDWua2jfc1bVk/s2xI/vK8w3yAegXNdD4K%2BAvwf%2BH0wvPC/gGwiug277fcRme4z3Pmyln/WuvotJhoX/AIKv4mkihfxlBZRaobA/bY9OkdoFfevCFwGI6dRXoNcb8PP%2BQ1L/ANerf%2BhLXZVzVvjKWwUUUVkMKKKKACiiigAooooA%2Be9E/aj%2BKl/8btPt7qx8Pf8ACDaz8VdS8BWFnHYTjVILmz0y7umv5LgzmJ43nsZ4RAIFIWSOTzThkqT9m79pb4h/Ej4xa/4D%2BKfirRdLlg8QeJrTw/4T/wCFcarp1zc2enavLZw3UeqXN01rf5t1hlkS3iBX7Sp%2BRRhuln/Y98Gn4qn4p6d8Q/FNkY/Ec3iLT9At5rJtPsNZmszZT38SyWrSeZJbvOhR5GiBuZZFjWRg40/D/wCzXpWk/FyH4ua58UvF/iGTTZdSk8OaLr19by2eivfOGuDAyQJcOMAxos80qxRsUjCLgAA7bxdDNceHriG3iZ3bZtRFyT869hXzx8SP2Fvhz4n8Y3fxB8Hp4s8H%2BItQEc19rng7WLi1kuJiiljIh3RPls5ynPINfQvjP/kWrn/gH/oa18rfFH9p79pH4UePdRt/GP7EviTXfCkDoul%2BI/AGsW2p3M9uEXY0lgxjlRtuCQpYc4GcVvTty6kvcsf8Kq/b9%2BG3Pg74l6D4%2Bsk6WXjLw/JYXYQfwrcWmVdv9p0%2BvrQ37TPxc8DLt%2BO/7HfjzQ0T/W6p4ctl1uyRR1dnt8Oi/VMjvVDwZ/wUj/Y78WaqPDWsfFiPwlrIwJtF8dWE2jXETH%2BFvtSohPb5WNepeJfiv8PPCvw6vvixqniyybw/p9m91PqdtcLLEY1H8DKSHJOAAOSSAOTW8ITnJRg7t9NyZSUU3LZHAP8At8/sip4XvvFL/GvTI00%2BIvPYXCyQ3pI42JbSqsrvnjAU%2B/HNcdp/wz/aJ/btK%2BIvihp%2Bv%2BAvhVOobTfCNlui1PxBCeRLeSKMwwsOkS9QfZZDR%2BB37PNh%2B1XrF3%2B1f%2B1J4MS9OvKV8FeEdSG630nSiMRSOnR55F%2Bcsc4yCMEgJ2kn7B3wh0SRrj4R%2BK/GfgGUtuI8JeK7iKJm94ZjJGR/s7QK9adSOVvkpWlVW8ukX2gtVdbOb635V9o4IwljlzVNKfSPWXnLyfSP/gXY9D8P/st%2BDfAWl6Yvwv8AD9/4Y/s9JLeG20eFfLEfyNlo5UdSzHO6TG98cscVJ4o%2BD3jrxNqCx3OrzDTmmglkj/sYi5jkiXgxzKQFBb5iChIJbBAOB5/J8JP21/BWlwzeCP2pNF8TWy3Eog03xx4RVCuFjzuubN1d85HVeMe9V/8Ahbf7aXg/9340/ZY0fxFGn%2Btv/BfjGNePVYLtEdvpuzXkSnOcnKd229Xq/wBTvjGMUlHRI3Lv4NfFO2h0bUtY8JSzQ%2BHXsoUsNJDSSXUUcwmklUOqAZkjtm8sknETckkV3Pw28HeMLDSLvUtb8P3lvcarqc181o0BJt1fARDgY3BVXOP4ia8r/wCG5fBGhcfFL4P/ABI8Hhf9Zc614Nnktx64ltvNDD3/AEre8Kftn/sp%2BMyq6H8e/DSuxwsV/qC2bk%2Bm2fY2fbFJWT3Gb3jHx18VPB/iO4sR%2Bzl4o1bSotnkaroxhmabKAt%2B5LK64Yleeu3Pes9v2pvh9oumTW3jrwz4u8Mu08bY17wndxAAK4OSiMB94d67XR9f0LxFai%2B8P61aX0B6TWdysqn8VJFasP8AyBbj/r6h/wDQZabUu4aHn%2BiftI/AXxBtGm/FrQgW%2B6lzfrAx/CTaa7DRdR0/xIgk8O30N%2BpGQ1lKJR/47ms/WvAPgXxJn/hIvBek3%2B77323Topc/99Ka5bVf2WP2edYYvdfCfSoye9nG1vj6eUVxT9/yDQ9J/sPWv%2BgPdf8AgO3%2BFH9h61/0B7r/AMB2/wAK8p/4ZQ%2BGVn/yLWseKNGx93%2By/FN2m36bnagfs7a5Zc6J%2B0X8QIT2F5q0V0o/7%2BRZP4mlefYND1/StH1eO5ZpNKuVBtphloGHJiYAdPWqc3hvUrgYn0Cdx/t2rH%2BYrzTTfhF8f7e5ZNG/aqvUAt5Ti%2B8JWVxkCNiRn5TyMjr3qv8A8IV%2B1JZf8e3xw8P3uOn2zwn5ef8Av3LSvK%2BwaHpE3w%2BtrjmfwRG/%2B/pgP81qCT4UaFL/AK34bWjfXR1/%2BJrz77B%2B2BbcQ%2BIvh5c%2B9xpt6h/8dko839saP71l8NJR/s3GoIf1Q0X8vwA7xvg54afr8M7X8NJA/wDZak0z4K%2BEG1O3F18NbbyzOnmb9OwNu4Zzx0xXn/8Aav7Xcf3/AAf4Ck/656vdj%2BcdWNJ1/wDa6TVbYwfDzwQ7i4TYDrtwATuGM/uqTtbb8AOyHwX8Ljp8NLf8dM/%2BtT1%2BD3hpOnwztPx0hT/Na4L%2B3f2tm6eAPBK/72uXB/8AaVH9pftfSfc8LfD%2BL/rpql438o6enb8APQo/hbo0P%2Bq%2BHNqv%2B7pCj/2WrMPgRLf/AI9/Boj/ANzTsfyWvNN37Y8n/LP4Zw/V9Qk/otH9k/td3XFx4y8B2ue9rpF3Jj/vuSi77fgB6qnh/Vol2x6JcqPRbZh/SrWsaPq8ur3UsWlXLK1y5VlgYgjceeleQf8ACAftO3nNz%2B0JpNn6iz8Gxyf%2BjJasar8GfjZc6rcx%2BIP2p9ZnIuHDtYeH7K13HcckbVOKLyvsGh6d/Yetf9Ae6/8AAdv8KP7D1r/oEXX/AIDt/hXlP/DNs12d2tfH34i3WfvIniIQIfwijX%2BdZ9/%2Bzl%2Bzfbabc61401W4v7Wybbe3mt%2BLrho4W4GJCZlVeo4b1FO8%2BwaHpeu%2BL/Cfhfd/wkvifTtO2/e%2B3XscOPrvIrkdW/an/Z70eTyrj4q6ZO5OAmns90SfYQq2fwp3hj9n39nSKwg1Tw38MfDd3bTxrJbXRtI7pJEIyGV33ZBHIINdhpPhvw7oCeXoWg2VkuMbbS1SMf8AjoFP3w0OOn/aU0vXba1XwL8I/H/iERwFPO0zwlMIsmR2Hzy7ABhhzUX/AAmn7T%2BufL4a/ZbubKNvuXXiDXI4sfWKJXb9RXpuof8AHpY/9ep/9GyVz3iXx/4D8Fxmbxj420jSUAyW1PUooAB9XYVKUrbhocn/AMIF%2B2X4i%2BXVPFvhzw4h6f2L4envZAPc3BVc/hij/hlXxPrnz/EL4s%2BPdZ3f622guzY2z/WOBF/9CrG8Qft3fsleHrn7C/xr0zULgnEcGhRy6gzn0X7Mjg1nH9sq/wDEP7r4W/svfE3Xy3%2Bpu7jQF060k/7bXTr/AOg0vd73%2B8NTv/DX7KPwk8JSi40n4NWrzA5%2B0X1k91Ln13zbyD75rvl0DUbfQ7azttFmQR3EuIo7YgKu2PHAHA4P5V4F/wAJp%2B3r4z/5F/4K%2BBfBcZ6v4p8Sy6lKB6hLNFXPsWx71PN%2Bz3%2B054v0qGX4p/tm6paWktxIG0zwP4ettM8o4jztuX82U5yBzjGPendrZAey60y%2BG9Pk1fxEwsLSIZlur0%2BVGg92bAFeTeI/24P2adD1M%2BH9G%2BIQ8S6qciLSvCFlLqk0p9B9mVlB%2BrCuOH7Of7DGg3usav4%2B8QR%2BNNY8MwefrsninxRNrF5aLnH7y2Dt8zHgL5W5iQACSBXr3wc1H4T6n4Zkb4R%2BH7TSrK2untrnToNEOnSW0qcGOW3aNHibBBAZQcMD0NO832DQ4j/hc37WXxA/d/B79jTWtPt5OE1j4i3q6asfubWMSTMPypD%2Bzf8Ath/Ef5/jB%2B0be6HaSf63RfhroX2Pb/u3k4eb9BXpXjn4l/Dr4YaX/bnxJ8faL4fsucXet6pFaxnHXDSsoNeLar/wU0/ZqvNQl0L4NweK/ifqkTbXsPh14VudQCntmYqkAHv5mAOTSatuwPpT4HeAX%2BHGlWvhSFtVmtrDTzDFd6xO808vzA5eV%2BXbrya9ArzP9nfxTq/jbQrLxXr3grUPDl5faYZZ9E1VkNxZsXX5JPLZl3d%2BCetemVz1fjKWwUUUVmMKKKKACiiigAooooAKKKKAMvxn/wAi1c/8A/8AQ1rwi0/a8/ZZ8W/EzUfhL4f/AGh/Btx4p0WdLDU/Df8AwkNut/b3MaKrxmBnEhIYEcAjIIzXu/jP/kWrn/gH/oa189ftC/sP/sf/ALSF20vxx/Zs8G%2BI7qa0h36lf6FD9sGYkzi5RRMv4OK6KV%2BXQlnY%2BM/h74B%2BI%2BlnQ/iF4I0jXrI5zZ6zpsV1Ec/7MisP0r4p%2BIn7Cf7NHxa/a6PwM%2BCvgV/CGkaJobX3xK1HwtfSQq0s2PsdokTFoI5Rjzd3lfdJx93FQ/tJfsI/Cr9jP4e/8Jl%2Byx%2B0p8bPh3qlzeR2PhLwP4Y8fTX%2BnalfyHEcP2PUVuAy9yQeADjJIU7Pw1/Z0/4Kp/s9DUvGPwd%2BJfwZ8aS%2BK7tNV8T6X450zULS9N40aiWOO/tJJEk2sGC5iVBk4Vck17OE/wBkoSxcl72sYevWX/bqej/mattpwYj/AGiqsOtt5enRf9vP8E%2B56en7Mv7a/wAN0C/Bv9uufWLOAYt9G%2BJfhG2v9wHQNeW5hm/Q/hTh8W/%2BCkfw9%2BTx1%2Byf4K8dRL/rL34feNzYsF9Rb6igLH/ZEn0Jrlh%2B3R%2B3J8MuP2hf%2BCV/jSa1i4fVvhN4s0/xIs3qy2paCdR/skE/WrGmf8FnP2FLO9i0T4veKvFfwx1WVto0v4meAtS0mRT3DSPCYQR/10ryrx72/rzO7U6mT/gpD4M8MaXDbfG/9nH4veAhFcSmfUNZ8CzXNgMrHnbcWZmD4xzwDyOOa6LwL/wUA/Yq%2BI7LF4X/AGmfCPmucJbalqq2MzH0Edz5bk%2B2M11Xw1/aw/Ze%2BNmjWkfwf/aL8D%2BJ5JLmUrBoXiq0upRlY8ApHIWU%2BxANXPHfwM%2BCnxRVl%2BJXwh8MeIN4%2BZta0G3uj%2BciE01zdGGh0Gka3o3iCxTU9B1e1vrZ/uXFncLKjfRlJBrL8V/Cr4YeOww8b/DjQdY3DDf2ppENxn/v4prx3V/%2BCX37E17fNrHh74Ry%2BGr9vu33hLX77TXT6LBMqfmpqt/wwX4z8M/vfhV%2B3Z8ZtHZf9Vb6x4gg1m2j9AI7uEnHtup%2B91QaHUax%2BwN%2ByRq90dQi%2BDlpptz/AAXGh31zYMh9vs8iD9MUyP8AYksNL0uafwL%2B0r8WtBEdxEI7S28ZtcWwysnWK4STOMeo6mua/wCFN/8ABSHwn%2B88Nftn%2BD/FQH3IPF/w0S1/BnsZ1z9QoqxF4x/4KmeFdKmbWfgt8HPFkIuIi3/CO%2BK7/TpGO2TAxdwuozz/ABHtUtR7Bqa3/Chv2stF48L/ALbV1PEv3LfxB4FsbrPsZIzG/wCPNH9lf8FCtF%2BSy8XfCbXUH8Wo6XqFnI34xO6j8qwf%2BGr/ANsHQPm8d/8ABODxMkY%2B9L4Z8daXqmfcLuib8wKP%2BHiGn6YceM/2OfjzogX/AFk9x8OXuIV/7aW0sgxR7vd/iGpvf8LF/bs0TjVP2bPB2tkdTovjprbd9PtEH86P%2BGi/2ltN58SfsNeIYwOraT4t068/IB1P6CsI/wDBU79jSw%2BTxd4z8Q%2BHpP4o9e8CatBt%2BrfZio/E1r6L/wAFK/2D9ex9h/ah8LR56fbbprb/ANHKuKLr%2BYPkXtM/bK1vTblv7c/Y7%2BMcTfZ5QfsXhaG7UZjYZzFOTgZz06VX/wCG5vANtxrfwd%2BKWmev2/4fXa4%2Bu0NXWeFP2yv2RNZuSdL/AGpPh3OWtpgFTxpY7smJgBjzc1s6b8avg3rOP7I%2BLXhm6z0%2Bza9bvn/vlzTV77gedf8ADwH9myD/AJCuq%2BJLH1%2B1%2BCtSGPygNH/DxH9jtf8AXfF1of8Ar48O6jHj/vq3FewWWvaHqQB07WbS4z08i5V8/kat07S7hoeLx/8ABQ79jKX7vx204f71ldL/ADiq7pH/AAUH/Yzh1W1nl%2BPmkKiXCMzGGfgBgSf9XXrElvbzf62BG/3lBqXRdJ0p9atN2mW5/wBKj6wr/eHtSfNZhoeNN/wUE/Y3UZPx50n8IJz/AO06hf8A4KIfsZIcf8LzsWPpHp9238oTXsS6Xpifd06AfSFf8KlSKOIYjjVR6KMU/fDQ8W/4eH/shPxbfFG5uD2Ft4W1OTP/AHzbGj/hvz9n6f8A5BEfi3UD2Fn4H1Fs/wDfUIr2skKNzEADqTWffeLvCmlgnU/E%2BnW4HXz72NMfmaPe7hoYPwi%2BMuhfGXTLvVtA8MeItNis51iYeIdDlsWlJXO6NZAC69sjvXLfta3Ueh%2BIJ/F2l%2BKrmK/0aaO%2BvLOHX5YJIbFLk75Le1UeVcySE%2BWRLxtPykHAPU6l8fvgRouf7Y%2BNfhG0x1%2B0%2BJLWPH/fUgrlfiP%2B1p%2BwTc%2BJDqvi39of4V3txYXsklhNP4l0%2B5lt2LZ3R4dmQ8A5GOgpP1A4/wCLM8X/AAtLXLrTdRiXxbLfaSfA85lHmyQyRvBJHATy0Qk3vKoyqkhnxgGsHRNHjj1bRr7wT4ZuFtfDsGmy%2BOLG105ywntryVH8yNV3TTbJZJeAzssKnn5c9PqH/BTT/gn34cKQH9o3w8xjBWJNNtp7nAPZRBE36VW/4egfsualx4Hg8deJyfuroHw51WTd9N8CZqXy33Hqeo/APT7%2Bx8I30k2nXFnZXXiC%2BuNHtbq2eGSK0eYmMGNwGjH3iFIBCkcCq/xc%2BD3jr4maza3OgftAeJfCWnxW3l3Gn%2BHobdWnfcT5nmyRsynBAwOOM15t/wAN%2B69rH7vwV%2Bwp8dtQc/6uS/8ABkWnQt/wK5nU/wDjtJ/w0r%2B3Xr/HhL/gnXNaRP8Acu/E/wATtOttvuYoVlf8OKq8bWFqdLefsI/DzUba0Pj/AOLnxO8WJJblnh1/x3cmP/WOMBIPLCjjOBjkmr/hr9h39knwpIJtM%2BAugTuDnfqtub5ifUm5Lkn3rk72/wD%2BCrHie3tDF4f%2BBvhS3e3IT7Xe6rqdyi%2BY/OI1ijznPciq/wDwzv8At8%2BKDv8AGX7f9tpET/62x8H/AA0s48D0We5klcfXANJKPYD3nw/4S8KeErb7H4V8MafpkOMeVp9lHCv5IAKu/abb7T9j%2B0J52zf5W8btucZx1xnvXzz/AMO7dI8Q/N8Vv2sPjV4rV/8AX2V548e0tH/7Y2iRAD8T9a7n4FfsZ/s2fs2a7d%2BKvg58Nk0vVb%2B0NtfapPqd1d3FxEWVyrSXErkgsin8KpX7AWv2j9B%2BJms%2BE1l%2BF3i/UrPU4I5PsOkaXeW1q%2BoXLFBGXnnVgI4hvkaNQDIBgnHB8i%2BKOr%2BGda0TwJ%2B1tf8AjnwTMl14Gk%2Bx2nxA0hytxqFs0FyhtYhKI7a6ZpJYyVLupCbBJsrvf27/ABTpHhD4CzarP8NLTxbqrajCmgaJdzSRCS4AaWWTfERIixWsdzM5TnZE%2BQRmuS%2BLPjrx34cvfDvhv4C3OkeEdJtvhxe%2BM4YE0W3kXVZLV7GNrOXzEyka2833o2WQFh82BgzLcEchrXws%2BIfxW8N6d8PdP8H6to3iV9T1vUF1e70%2Bb7FFaX1u1/BK92qeW0gv47BXiyJP3UjbcKM%2B9/BXw940Pjfxj8SfF/gyfw5/wkM9gsGjXF9BcPut7fy3uC0Dsg3lgoGc7YVJCklR8ffET4s/HHxl8C9U%2BLXg3xh4lvNW8a6t4j0PVfBL38s0UAj0u51SytbeHpbubezeEPGFeX7YpYsdmPon9jHV/AD%2BOviH4X%2BA2v2F/wDDfT5tLm8OppNz5tpYXk8Msl7aRYJCYPkStHxtedgQDkURtcbPVfiL8DPg18XtS0rV/ir8LtB8ST6IZTpLa5pcV0LUy7N5RZAVBPlpzj%2BEVuwweHPB%2Bh%2BXbw2WlabZRE7UVIIIEHXphVA/AV5j%2B1D8Cv2gPjfJomnfB39r/WvhZpdstwPEcXh/wzZXl3qofy/K8u5uQxtCm2XJRWLeYOm3nyyw/wCCOH7J3iC8i1j9ovxN8R/jLqETh47n4p/EG9v40b/Zt4migC%2BimMgelU730Qj7B%2BEGvaH4nkTxB4a1m01Gwu7Eva3tjcLNDMu5fmR0JVh7g13tebfADwD4I%2BFuk2nw%2B%2BG/hLTtC0PStNMGm6RpNokFvbRh1O1I0ACjJJ4HJJPevSa5q3xlLYKKKKyGFFFFABRRRQAUUUUAc/b/ABY%2BFl18Qp/hHa/Erw/J4rtrQXVz4Yj1mA6jFAQpErWwbzFTDqdxXHzDnkUaH8WPhZ4m8a6n8NvDfxK8P6h4j0VA%2Bs6BY6zBLe2CnGDNArmSIHcvLAfeHrXzBZ%2BHvGHh/wDaA0rQdR%2BG3ij7bon7Qes%2BMdW8SW/hW8ms5tEutBvbS3kjuo4mjnfdeWdmbdWMqCBnZBHEHqz%2Bzz4I8dWXxx8H%2BFr74ea/p9/4K8TfES/8V6/faHPBZXdtqmryT2ghu3QRXZuRLb3JSJ3Mf2YrKI3VVIB9ReM/%2BRauf%2BAf%2BhrXypafs0fA39lD48%2BLv2utR/aA8c6Zb%2BK7FjrXhzxT8Rbifw3FcztDO1zb2VwxSGfMZRPLICpI6KvIx9b6pp0OrWL6fcOypJjcUPPBB7/SvAdK/wCCbfwV1Lx7P8UPjX4l8Q/EbW2uXewfxdeJNa6fFn5IobVUESqoCjlSMjIC13YP6nq8RJpLoldv0u0l6v7mYV3XSSpRTb7uyX6v5fefJPxSj/aE/acttR/bL%2BH/AIckl8PaHcyWPg3TW1ddPv4tDQOdQ1WzaWJ41vZhH5MTPt8tXZwQ8UbHD8AeFtYt/wBgP4JeAPh3PbeGb3SNa1HxR4v8GXXxVn8P3uoWlrZX09zajUNKeeVHW5vLGeQbslV/egBmx%2Bm9v8NPDtpAlravPFFGgWOOMoqooGAAAuAAO1c78Sv2VPgL8ZtKi0L4vfDTRvFNlb3P2m3tfEWj217HDNt2iVFmiYK%2B0kbhggd61xmNhiqt0rRStFdkv16t9W2ycPQ9hCzd23dvu/60S6JI%2BANF/bH8cad4L0/40eEfirr2leBfDPibwx4fg8L%2BI1h1C61qK5RLnV7m%2BvblJLp5Le0kneJopI95sdzF1l%2BX2b9mP9o74o/G/wAU6f4I%2BPXg/wAMRW3jb4YWXjjQtI02wmMul2dxMENhfmeR0nmUSw4lRI1dlmHlgICfbPFv/BOz9lXxx4z1Dx34n8E3tzeapbSRX1o2t3IsJHewbTjcfYt/2ZbkWTvbC4EYlETsm7HFP/Z//Ya8D/AbUdQ8RXHxM8V%2BL9avtPs9MTXfFE1mbm3020Qrb2aC1t4YgilpHLbN7tIWcscGuRVY3N7HmXxT/wCCY/8AwT3%2BMOkpdePf2Ofh/cXM9zMJ76x8OQ2VzJ8sf3p7YRyHqercZrzj/hzv%2Bzx4W4%2BAfxt%2BNnwsRf8AVweBPizqCQr7eVdtcIR/skEV9Cfte/sA6L%2B1to/h/T4f2pPjN8Mbrw3c3U9nqXwm8bDSZbpp1hUrdKYZI7lF8lSqupALP68dd%2Bz/APs2XfwY%2BEOjfDLxf8a/Ffj/AFDSkmSfxd4rltzqGoB5pJFMxhiRCUV1jBCjKxgnnJoVSnfVBZnyb/wxT/wUI8EfL8If%2BCsPiGe1j5j0/wCIfw00rWfM9A1xH5Eo%2BoP4UeV/wW08EcR3f7OHj21i7yx61ol7N/3yZ4Qfy/GvuP8A4V5ov/P1df8Afa//ABNH/CvNF/5%2Brr/vtf8A4mn7Sn3YWZ8Of8Nd/wDBTPwj8vj/AP4JSPqkMf8ArdQ8D/GLS7rd7rb3KQyfhk1Yj/4Kq3vh3S5rX4n/APBOT9pnQCLiJp7y3%2BGi6nZx4WTrNZXEnr3UdDX23/wrzRf%2Bfq6/77X/AOJqRfAmkLavaC5udryK5O9c5UMB/D/tGh1I9wsfDS/8Fr/%2BCe2mEQ/EH4keJvB0%2BcNB4t%2BHGtWZU%2B7m0KD8Wr1/9nj9tT9lX9rGa/tf2c/jloXi2bS4Um1G30udjLbRuSEZ0ZQygkEDI7GvoFvh1obKVa4uSCMEF15/8dqhpfwQ%2BHmiX8%2Bq6LokNndXShbm5tbaGOSUAkgMyoCwBJ6%2BtNVo9/wCx5F%2B0V8Y7j4K/DW88RaDoDaz4gnhmj8N6EmQb66WF5drEfcjVI3kdzgBUPOSoPkvj34zeI9U%2BHvgLyvgR4M1/wAX%2BLPCN1r%2BrW2roYrG3gtLeKSdULRySEyNMqR7hgdWNfSvxu/Y%2B%2BBf7Q/g%2Bbwb8WPB1nrEJt547G41HT7e4lsJJYzGZoDLG3lyAHhh6CvOfEn/AATf0I%2BB/Dfg34YfGDU/C7eGNB1Dw9p91BpFtKE0a9jgSe3VAEVZgbaJ45zko27KsGIpOrG4JHz1a/F/9j/xIkXxC8X/ALEHw9m8APJNp9/4ku9GspruDUE0q4vpgtobMq8MQt5EaUzq29QVjYHdW38GP2fv2Nfjdrl/4W8dfsG%2BC/Cmqw6RZ6xY2UVpby/atNut4hnLQxxiN90bq0ZztI4ZhzXqms/8EsfBmri/8AD4nXFt8Obua/vIPCttpAF7b3l3os%2Bkyt9tMxVodl1PcCIwbhOyt5mxdh9C%2BCP7I2pfDzxZqnxC%2BJHxMi8R65f6Jp2jQT6VoP8AZlvbWNmJWRBE09wWdpZ5nZt4HzKoUBeZVSN9R2PHL3/glz%2BwFqBJn/Zk0Jc/88JriL/0CUVU/wCHUf7Ai/6j4CCD/r28UarF/wCgXQr2j9pz9iO3/aR0/SLLTP2n/ix8N30iaaT7R8NfEdvYPfeYFG24822lEirtyoG3BZuuePIG/wCCR/xMteNI/wCCr37SKDt9s13S7j%2BdiM03UpX2FZlb/h1X%2Bw%2Bn/Hr8MdZg/wCuXj7Wh/O8qxpP/BK39jKfVbaBvCHiYI9wisF%2BIesjgsP%2Bnqj/AIdV/tFwcWX/AAVx%2BN6jt59jo0v87SnW/wDwS/8A2rLSdLi3/wCCvXxfBjcMu7w7oh5Bz/z7UnUp22CzKv8Aw6y/Yzb/AFngzxI/s3xB1n/5Ko/4dU/sMP8A8fPwn1Sb/rt481pv/byp/wDh1v8AtSvxN/wV4%2BMJH%2BxoGiL/AO2tKP8AglN8f5%2BNQ/4K3fHVh3%2Bzw6PF/KzNP2lPsFmQD/glH/wT/wAgzfs9W85H/P14g1KX/wBDuTWhYf8ABMb9gjTiDb/sw%2BHGx089ZZf/AENzVcf8Eh/HN2f%2BJz/wVY/abkHf7F4q0y3/AJWBp3/DmTRZ/wDkKf8ABS39rm6z94f8LkWAH/vxZx0va0/5Qszo9N/YK/Yn0rH2X9lLwA2On2nwrazf%2BjEausb9mT9m3w3rFzH4d/Z78D2Cx3LhFsvCdnEFAY4A2xjFeYD/AIIgfs8Xv/I0/tQftG64D94at8bdRfd9dhWll/4II/8ABN7U5Wm8W%2BBvG2vszEsdb%2BKuuzZPuPtYB/HNP2sb7BZnrk998LPhvCftN54f0CMLzvkgtQB%2BO2uR8S/ts/saeDd3/CXfta/DPSyv3l1Dx3p8JH4NMDWFoP8AwQg/4JSeHHElj%2ByDoMzA5zqM895n6%2BfI%2Bfxru/Df/BLD/gnj4QKv4c/Y4%2BGtrIv3Z18C6a0n/fbQFv1p%2B2Qcp454p/4LB/8ABMnweWGq/tn%2BDJyvbSbyS/z9PsySZ/CsL/h89%2Bxfrfy/Cyy%2BJnjpj9xfCHwm1qfef9ky20YP54r7F8Lfs1/BnwOFXwV4E0zRwo%2BUaXpdvb4%2Bnlxit3/hXmi/8/V1/wB9r/8AE0e2Xf8AALHxJe/8FN/ir4strS3%2BFH/BLb9orUZFtyscvifwzZaDDJ%2B8cghru63Ac4yUHIPFQf8ADSP/AAVl8afuPB//AATY8JeEQ3%2BrvfHPxmtrgAdi0On28hH03k19zTeBNInjiie5uQIYyi4deRuLc/L6saj/AOFeaL/z9XX/AH2v/wATQqke4WPhz/hCP%2BC1Hjz9z4i%2BO3wA%2BH8LdJPCfhDVNauIx7m%2BmiRj/wABAr0v9mb4BftPfCvxJqPib9of9tvVfim17YiC202TwVp%2Bi2Vk4cN5scdqCxbAK/O7cH1r6Y/4V5ov/P1df99r/wDE0f8ACvNF/wCfq6/77X/4mmqlPuwszxj42/s%2BfCr9oXRLbQfip4fmv4LNpntBDqdzbeW0sTRPnyJE3go7Aq%2BVOelcN4u/ZF/Z38A/szaZoXxF1DVX8M/D3RtQEF1BqX9mvZ6YLaI3kBks/JZoJo4gZUdiH2jJxXsXxY/ZX1L4k/EHwN4y0L9oTxr4UsfCOqy3uq%2BH/D81qtr4lVlQLb3pkhdjEu1jiMqTvPPAx0/xK%2BAHw5%2BLvw71H4VfECzu73Q9Wgkg1C1jvngaWNwoZfMhKun3RyrAj1pOrTYWZ8Ax%2BK/i149/Zv8ADv7T3wz/AGbbXwf8VLLxvY%2BGPGUPhjwlbanrul6L9pW0lgtftoCrNHE9sZDJlEWKUEMqiuc8c/tA%2BM9al8Y%2BJvCXxT%2BIGj6r8GvhYddtNA1dobC4vtR029nfWE1Cy0/bZ3kkkCRx4jV4FW6ikiw7K9fYvwz/AOCXH7Ofwk0rxr4Y8C6r4m03RvHWp/2hrGn2Or%2BVL9pCRBJlvQpvPMRog6v5/wB5jkEcV0Oi/wDBOn9kbTPDWneFtX%2BFdv4ih0vWpdZtrrxlIdaujqUrK0l48995sjzMyIS5bgouMbVwvaRHY%2BKv2ONS0/w1%2B0X4N0HRtUtIPiXqfiDxrafG/Sop8XeoWNveXj6brF3FnJEha0aCUjDR3pVDhCq/Xn7R3wt8e/Gj4Q6n8Ofhp8ddc%2BG2r6g8Hk%2BL/Ddpbz3lnGkyPKsa3CPGDJGrx7sZXfuHIr2hPhn4cimkuI2nWSXHmupQF8cDJ284p/8AwrzRf%2Bfq6/77X/4mqVWCVhWZwn7Knw4v/hD4G0j4aap8S/EfjG40bR/s83ifxddxz6lqLBwfNuJI441Z%2BcZCjgDqeT6zWZo3hXT9Dumu7SaZmaMoRIwIxkHsB6Vp1hUkpSuhrYKKKKgYUUUUAFFFFABRRRQAUUUUAfOfwM/a2%2BJfjPxboGo/EWy0BfDHj3wh4h8SeFodI0%2BeO90u20y9tIlhupJJ3S6kmt72OXckcAjeJ0xIGVhxeg/twftH3a%2BBvCmtab4Ji1/4vaDoGs%2BCbiDR7s2uhRX0kj3Vvexm73Xz29uqFJI3thNIxBSIDJ9j%2BHn7HHgj4aeOYPGug%2BP/ABRNHp0OoWmgaJfSWUllo9hfXaXd7YwD7KJDDLNFBnzHkkRbeNI3jQFWwdE/4J6fCzQdFh0y0%2BJPjSS60ez0my8F6xPe2b3XhWz0yd5rO2sj9l2OimRkdrlLh5o8JK8gAAAO8/Zp%2BKfiP4ufDKXXfGdpYxa1pXibWtA1c6ZE8dtPcabqdzYtPEju7RpL9nEojZ3KCTYXYqWPf1zHwf8AhT4e%2BC3gO38A%2BG76%2BvIkvLy%2BvNQ1OVHub68u7qW7urmUoqJ5ktxPLIwRVQF8KqqAo6egAr570T9qP4qX/wAbtPt7qx8Pf8INrPxV1LwFYWcdhONUgubPTLu6a/kuDOYnjeexnhEAgUhZI5PNOGSvoSvJJ/2PfBp%2BKp%2BKenfEPxTZGPxHN4i0/QLeaybT7DWZrM2U9/Eslq0nmSW7zoUeRogbmWRY1kYOADzX9oX9qT9qr4L%2BJPFuh6LpXgjXru18D674g0fQtH0PULy50SC2uIotNmv3S4X7V9sDSkW8cUDh4pUjknWGSWvY/wBm74oXfxS8G6he6v8AEHTNf1LS9aksNT/s/wAEX/h2SwlEUUgt57DUJ5riKXZKkoLlQ8c0bKu0hm53w/8Aser4a1nxtq2l/tIfEWMeO9TvNQ1WOKXSYpILmbAheG6i09brFtGscUCSTOqxwojiRcg9j8G/grpXwdh166TxfrXiLV/FGtDVfEPiDxA1t9qvbhbaC0jytrDDBGqQW0EarHEgwm45dmZgDs6KKKAPAP2sP2l/i38Jtd8QWXwosPDrw%2BBfhfe%2BOfE0evWM80mp28MjiOwtminiFtJItvdZuHEyofK/dMC2Ifil%2B1D488HftP2nw/m8V6N4Z8CP4a8O36a3q/w31bU1vrvUNRv7aS2bULe6itdNwtvaKjXCsPMuxndwp7T49/sneBf2g9SOoeI/FfiHSBeeHbrw94it9BubeOPXdHuHR5rC686GQiNtrAPCYplEsoWRQ5pvxH/Zasvirc28Hi/41eOJdIMNnFrfhuK7sksNaS2umuYhOn2TdCdzbHNq0BljVEkLhVwAcd%2Bzr%2B1H8VPib8QvC1v44sfDy%2BHviR4Y17XvCMOlWE8V3pcGnX9nBHDdyyTyJdPNBfRylkjgETxOmJAysPoSvLfhL%2ByZ4D%2BD/j0eOtF8U%2BINQFjY6jY%2BGdI1W4t2tPD1pf3kd5d29oI4UkKSTQwf695mRYERCiAqfUqACvLvj58TPilovjvwX8HfgzdeH7LXfFralcPq3ibS5721tLSyt1dwIILi3eSR5ZrdAfNUKpkbDFQp9Rrh/jN8C9M%2BMUuiavD468QeFtb8O3U82j%2BIvDElst3As8DwTRYuoJ4njdH5DRkhkjdSrIpAB5X4y/aS%2BOfiv9j3wV%2B0z8FtS8JaLqvizw7pctr4X8SeGbrVBd6vqf2eK0s0mgv7XyYxcT7JJSkmI8yYAQgzfBv9pP4o%2BI/2jtb%2BE3xY8YeH9KhtfEl7pXh3R1%2BGer2kmtC3s45zJBq0121nLJgzSm3SNpBFEx6Kz132jfsv%2BAdB8JeAPAWnatq66N8NNWt73wtpxmh2Rx29hNZW9pIRFulhiSbepJ80yRRs0jYII37NelXnxh0/4teIPil4v1aLRdauNY8PeFtTv7eTTdKv57OWyknhIgFyf3FxcosUk7xJ9ofZGuE2gHpFFFFAFHxNN4jt/Dl/P4OsLO61ZLOU6ZbajdNBby3AU%2BWssiI7RoWwGZUYgZIUnivB9C/ak%2BLGpfsX%2BD/jFc6f4d/4TbxdrmlaFEY7GcaXb3d5qyaebkwmcytFGrNN5XnBn2bPMTduHvPiPS77W9Bu9I0zxJe6PcXMDRw6rp0cDT2rEYEkYuI5Yiw6gOjr6qa8g8I/sR6D4Y%2BCCfAS/wDjp471nSLO8tr3Q7vUv7JS70i8t72O%2Bt7mB7bT4lZ47mJXAlWRGyVdXQ7aAPKdf/bo/aJsrPx5o%2Bk6X4Mk1j4N%2BHde1vx3JNpF35GvRWNw32aCxQXYNi89vFI7SSvciGQqu2UZavr2xvINQsob%2B2YmOeJZIyRglWGR%2BhrwnWf%2BCeXwo1zQ5tHuviH4ySTWLLVbHxvqEV7ZifxdZ6jci4vLe/8A9F2KjtuVTbLbvFG7RxNGpxXvSqqKERQABgADgCgBaRiwUlFyccAnGaWmXEbzQPDHcPEzoQssYBZCR94bgRkdeQR7GgDyD9nv4u/Hv4o/CfxtqPivw54SXxr4e8Uazo%2Bmadp13cxaY81v/wAe8ctw6vKV3MqPOsSlgC6wrnyx5Fr37ZH7Tmi6t/wisep%2BFNQtbH4i3Ph/VPH/AIc%2BE%2Bt6xYyRQaK15MkOnWV%2B85khvFNrJKJnjDK6lUeORV9Z8Dfsfah4D8LeMvClj%2B1T8TLmPxtLqNxfXk39hw3NjeXkbJJd2sltpkRjlUsrpncivGvykZBf4Y/ZE1DwV8OtI%2BG3g79qL4jaTa%2BHyqaJcaXDoVsbS2EDQ/ZfIj0tbaWMgh8ywvIroGR1y2QD0v4e%2BJ9P8beAdD8ZaT4n07W7XVtItry21nSIilpfxyxK63EKl5CsThgygu5CsBubqdisL4YfDnwr8H/hvoHwo8DWclvo3hrR7bTNKhlmaR0t4IlijDO2S7bVGWPJOSeTW7QAV5ZoXxY%2BKs37YWufBHxFpOgQ%2BFofBFvrOgXFm08moSyG58mVrhmKxou7cqxIrECMOZD5nlx%2Bp15bqf7Mt/fftATftC2f7RHjmxvZtHXShoVrb6KdPjsxIZREPM055/8AWEvuMxbJxnbhaAPF5P26/ix4bs/Ht34z1bw5BrGna54g0zwR4KvPh1q%2Bmte/ZtfOlWN0dVnumt7%2BMpJazTpbRBgtwCNgAz7h%2Bzz8TfH/AIx1Xx18PfinNo11rvgPxXFpNxqmgadLZ2uoxTaZZahFMtvLPO8JC3nlMplky0JcEBwq4Hjb9h/wH8TtW1K8%2BJvxQ8b%2BILK4t9Uj0TSdS1W3MXh57%2BRZJZrOVLdbjzEZR5JnlmWBfljCqAo7j4OfBjSfg7Za00PivWPEGreJdbOreIvEOvtb/a9Quvs8FqjOttDDCgS3treJVjjRQsQJBYsxAOxooooA8s8d/Fj4q%2BF/2rPAfwqtNJ0D/hDvFOj6o9zeStO%2BpNe20ayAIAViiiVWXJPmNIZCMRCPMnO/HL4pftKeAvjNpvhb4e%2BJfBmp6bf6NqutXGgXPgu8a%2BtNNsbRQzm8TUgkkkl9PaRIn2ZcpLKRkwknp/ij%2BzZd/E34veG/jFB8fPGvh668Kwzx6XpWhwaO1mfPULOz/a9PnlYuiqp/eAALlQpyTuj4K%2BH5PiBqfxMvfEOsz6pqvg618OTyC7WHyreGW5lM8RhRGinka6O91YD9zDtVCpJAOH/Ys%2BPfi745eC5bv4keNtHu/EkGmabeapoFj8PNU8OT6T9qhZwHh1K5mkuInZJVjuECxv5EgUsVbb7TXn3wb/Z80/4R%2BIdY8a6j8S/FHjDxBrem6fpt5r3iua0a4FjYm4a2tlFpbwR7Ue7unLlDI7TsXdsKF9BoAK8//aP8YfEXwF4Cbxh4J8aeC/DOn6YZbrxP4l8b2Vxd2%2Bn2McEjbktoJoDM7SCNeZkCqWIEjYQ%2BgV55%2B0D%2BzzY/tBQeG4NQ%2BJniTw5/wjHiCPWbMaBHp8qXN1HG6wmeK/tLmOURM/moNo2SpHIPmjQqAeXeNP2o/wBpC48F%2BCl8IeBvD/hrxbqfwZvvHvizRfFtjc3K2c1rFYbtHQRTQtFI015IhuG3%2BULfmGQvhYfhN%2B2l8Rvih4z8K%2BNbbStCi%2BHvjXx/deEdI042E41a1mh0i4vvtstx55idGms54PIWBSFeOTzThkru/iT%2ByBpfxX0ywi8X/HDxy2qWuiajol34ispNMt7zUNKvxb/a7Gby7EQqkhtoWEkUcc0bLmOVMnMvhj9jf4ZeEPijZ/EXQ9d1yKw0zW5db0fwYJ7caRp%2Bqy6edPkvYlEInDtbPKnltMYQ08jiMO24AHrVFFFABRRRQAUUUUAFFFFABRRRQAUUUUAFFFFABRRRQAUUUUAFFFFABRRRQAUUUUAFFFFABRRRQAUUUUAFFFFABRRRQAUUUUAFFFFABRRRQAUUUUAFFFFABRRRQAUUUUAFFFFABRRRQAUUUUAFFFFABRRRQB//2Q%3D%3D\">"
      ]
     },
     "metadata": {
      "tags": []
     },
     "output_type": "display_data"
    }
   ],
   "source": [
    "try:\n",
    "    display_html(HTML(anim.to_html5_video()))\n",
    "except (RuntimeError, KeyError):\n",
    "    # In case the build-in renderers are unaviable, fall back to\n",
    "    # a custom one, that doesn't require external libraries\n",
    "    anim.save(None, writer=matplotlib_utils.SimpleMovieWriter(0.001))"
   ]
  }
 ],
 "metadata": {
  "accelerator": "GPU",
  "colab": {
   "collapsed_sections": [],
   "name": "Copy of intro_to_tensorflow.ipynb",
   "provenance": [
    {
     "file_id": "https://github.com/hse-aml/intro-to-dl/blob/master/week2/v2/intro_to_tensorflow.ipynb",
     "timestamp": 1539179693919
    }
   ],
   "version": "0.3.2"
  },
  "kernelspec": {
   "display_name": "Python 3",
   "language": "python",
   "name": "python3"
  },
  "language_info": {
   "codemirror_mode": {
    "name": "ipython",
    "version": 3
   },
   "file_extension": ".py",
   "mimetype": "text/x-python",
   "name": "python",
   "nbconvert_exporter": "python",
   "pygments_lexer": "ipython3",
   "version": "3.6.3"
  }
 },
 "nbformat": 4,
 "nbformat_minor": 1
}
