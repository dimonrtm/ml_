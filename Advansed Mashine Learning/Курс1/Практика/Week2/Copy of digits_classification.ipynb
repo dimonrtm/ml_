{
 "cells": [
  {
   "cell_type": "markdown",
   "metadata": {
    "colab_type": "text",
    "id": "48p-BIK9Wh4v",
    "slideshow": {
     "slide_type": "slide"
    }
   },
   "source": [
    "# MNIST digits classification with TensorFlow"
   ]
  },
  {
   "cell_type": "markdown",
   "metadata": {
    "colab_type": "text",
    "id": "6x7dwB1sWh5L"
   },
   "source": [
    "<img src=\"https://github.com/hse-aml/intro-to-dl/blob/master/week2/v2/images/mnist_sample.png?raw=1\" style=\"width:30%\">"
   ]
  },
  {
   "cell_type": "code",
   "execution_count": 1,
   "metadata": {
    "colab": {
     "base_uri": "https://localhost:8080/",
     "height": 348
    },
    "colab_type": "code",
    "executionInfo": {
     "elapsed": 56733,
     "status": "ok",
     "timestamp": 1539246375057,
     "user": {
      "displayName": "Дмитрий Попов",
      "photoUrl": "",
      "userId": "01473516121989294075"
     },
     "user_tz": -360
    },
    "id": "ImPj4qEBOnjU",
    "outputId": "5072bfdc-8149-4e95-91f7-235a96a72bd7"
   },
   "outputs": [
    {
     "name": "stdout",
     "output_type": "stream",
     "text": [
      "shred: setup_google_colab.py: failed to open for writing: No such file or directory\n",
      "--2018-10-11 14:39:04--  https://raw.githubusercontent.com/hse-aml/intro-to-dl/master/setup_google_colab.py\n",
      "Resolving raw.githubusercontent.com (raw.githubusercontent.com)... 151.101.0.133, 151.101.64.133, 151.101.128.133, ...\n",
      "Connecting to raw.githubusercontent.com (raw.githubusercontent.com)|151.101.0.133|:443... connected.\n",
      "HTTP request sent, awaiting response... 200 OK\n",
      "Length: 3595 (3.5K) [text/plain]\n",
      "Saving to: ‘setup_google_colab.py’\n",
      "\n",
      "setup_google_colab. 100%[===================>]   3.51K  --.-KB/s    in 0s      \n",
      "\n",
      "2018-10-11 14:39:09 (42.9 MB/s) - ‘setup_google_colab.py’ saved [3595/3595]\n",
      "\n",
      "**************************************************\n",
      "inception_v3_weights_tf_dim_ordering_tf_kernels_notop.h5\n",
      "**************************************************\n",
      "cifar-10-batches-py.tar.gz\n",
      "**************************************************\n",
      "mnist.npz\n"
     ]
    }
   ],
   "source": [
    "! shred -u setup_google_colab.py\n",
    "! wget https://raw.githubusercontent.com/hse-aml/intro-to-dl/master/setup_google_colab.py -O setup_google_colab.py\n",
    "import setup_google_colab\n",
    "# please, uncomment the week you're working on\n",
    "# setup_google_colab.setup_week1()\n",
    "setup_google_colab.setup_week2()\n",
    "# setup_google_colab.setup_week3()\n",
    "# setup_google_colab.setup_week4()\n",
    "# setup_google_colab.setup_week5()\n",
    "# setup_google_colab.setup_week6()\n",
    "\n",
    "# If you're using the old version of the course (check a path of notebook on Coursera, you'll see v1 or v2),\n",
    "# use setup_week2_old()."
   ]
  },
  {
   "cell_type": "code",
   "execution_count": 2,
   "metadata": {
    "colab": {
     "base_uri": "https://localhost:8080/",
     "height": 54
    },
    "colab_type": "code",
    "executionInfo": {
     "elapsed": 12480,
     "status": "ok",
     "timestamp": 1539246846070,
     "user": {
      "displayName": "Дмитрий Попов",
      "photoUrl": "",
      "userId": "01473516121989294075"
     },
     "user_tz": -360
    },
    "id": "QIxKyg5rWh5Z",
    "outputId": "a31542c9-7255-422a-8fee-1f3a2b589370"
   },
   "outputs": [
    {
     "name": "stdout",
     "output_type": "stream",
     "text": [
      "We're using TF 1.11.0\n"
     ]
    },
    {
     "name": "stderr",
     "output_type": "stream",
     "text": [
      "Using TensorFlow backend.\n"
     ]
    }
   ],
   "source": [
    "import numpy as np\n",
    "from sklearn.metrics import accuracy_score\n",
    "from matplotlib import pyplot as plt\n",
    "%matplotlib inline\n",
    "import tensorflow as tf\n",
    "print(\"We're using TF\", tf.__version__)\n",
    "\n",
    "import sys\n",
    "sys.path.append(\"../..\")\n",
    "import grading\n",
    "\n",
    "import matplotlib_utils\n",
    "from importlib import reload\n",
    "reload(matplotlib_utils)\n",
    "\n",
    "import grading_utils\n",
    "reload(grading_utils)\n",
    "\n",
    "import keras_utils\n",
    "from keras_utils import reset_tf_session"
   ]
  },
  {
   "cell_type": "markdown",
   "metadata": {
    "colab_type": "text",
    "id": "o-t-B2kVWh6R"
   },
   "source": [
    "# Fill in your Coursera token and email\n",
    "To successfully submit your answers to our grader, please fill in your Coursera submission token and email"
   ]
  },
  {
   "cell_type": "code",
   "execution_count": 0,
   "metadata": {
    "colab": {},
    "colab_type": "code",
    "collapsed": true,
    "id": "hWaIhX_kWh6e"
   },
   "outputs": [],
   "source": [
    "grader = grading.Grader(assignment_key=\"XtD7ho3TEeiHQBLWejjYAA\", \n",
    "                        all_parts=[\"9XaAS\", \"vmogZ\", \"RMv95\", \"i8bgs\", \"rE763\"])"
   ]
  },
  {
   "cell_type": "code",
   "execution_count": 0,
   "metadata": {
    "colab": {},
    "colab_type": "code",
    "collapsed": true,
    "id": "dZ5g-mdTWh7E"
   },
   "outputs": [],
   "source": [
    "# token expires every 30 min\n",
    "COURSERA_TOKEN = \"8N4sCyVJLNq5WhPA\"\n",
    "COURSERA_EMAIL = \"dimonrtm@gmail.com\""
   ]
  },
  {
   "cell_type": "markdown",
   "metadata": {
    "colab_type": "text",
    "id": "KaPNuZbvWh7i"
   },
   "source": [
    "# Look at the data\n",
    "\n",
    "In this task we have 50000 28x28 images of digits from 0 to 9.\n",
    "We will train a classifier on this data."
   ]
  },
  {
   "cell_type": "code",
   "execution_count": 4,
   "metadata": {
    "colab": {
     "base_uri": "https://localhost:8080/",
     "height": 54
    },
    "colab_type": "code",
    "executionInfo": {
     "elapsed": 11990,
     "status": "ok",
     "timestamp": 1539246876045,
     "user": {
      "displayName": "Дмитрий Попов",
      "photoUrl": "",
      "userId": "01473516121989294075"
     },
     "user_tz": -360
    },
    "id": "DXxtKWl4Wh7q",
    "outputId": "c1b1d252-31f3-442a-9a74-428d321e339f"
   },
   "outputs": [
    {
     "name": "stdout",
     "output_type": "stream",
     "text": [
      "Downloading data from https://s3.amazonaws.com/img-datasets/mnist.npz\n",
      "11354112/11490434 [============================>.] - ETA: 0s"
     ]
    }
   ],
   "source": [
    "import preprocessed_mnist\n",
    "X_train, y_train, X_val, y_val, X_test, y_test = preprocessed_mnist.load_dataset()"
   ]
  },
  {
   "cell_type": "code",
   "execution_count": 5,
   "metadata": {
    "colab": {
     "base_uri": "https://localhost:8080/",
     "height": 697
    },
    "colab_type": "code",
    "executionInfo": {
     "elapsed": 1704,
     "status": "ok",
     "timestamp": 1539247023151,
     "user": {
      "displayName": "Дмитрий Попов",
      "photoUrl": "",
      "userId": "01473516121989294075"
     },
     "user_tz": -360
    },
    "id": "0HUmeXb2Wh8I",
    "outputId": "d0000a6d-62a7-4fc9-dc11-1865c47c91bd"
   },
   "outputs": [
    {
     "name": "stdout",
     "output_type": "stream",
     "text": [
      "X_train [shape (50000, 28, 28)] sample patch:\n",
      " [[0.         0.29803922 0.96470588 0.98823529 0.43921569]\n",
      " [0.         0.33333333 0.98823529 0.90196078 0.09803922]\n",
      " [0.         0.33333333 0.98823529 0.8745098  0.        ]\n",
      " [0.         0.33333333 0.98823529 0.56862745 0.        ]\n",
      " [0.         0.3372549  0.99215686 0.88235294 0.        ]]\n",
      "A closeup of a sample patch:\n"
     ]
    },
    {
     "data": {
      "image/png": "[encoded data removed]",
      "text/plain": [
       "<matplotlib.figure.Figure at 0x7fdbe7ccea58>"
      ]
     },
     "metadata": {
      "tags": []
     },
     "output_type": "display_data"
    },
    {
     "name": "stdout",
     "output_type": "stream",
     "text": [
      "And the whole sample:\n"
     ]
    },
    {
     "data": {
      "image/png": "[encoded data removed]",
      "text/plain": [
       "<matplotlib.figure.Figure at 0x7fdb8e1c83c8>"
      ]
     },
     "metadata": {
      "tags": []
     },
     "output_type": "display_data"
    },
    {
     "name": "stdout",
     "output_type": "stream",
     "text": [
      "y_train [shape (50000,)] 10 samples:\n",
      " [5 0 4 1 9 2 1 3 1 4]\n"
     ]
    }
   ],
   "source": [
    "# X contains rgb values divided by 255\n",
    "print(\"X_train [shape %s] sample patch:\\n\" % (str(X_train.shape)), X_train[1, 15:20, 5:10])\n",
    "print(\"A closeup of a sample patch:\")\n",
    "plt.imshow(X_train[1, 15:20, 5:10], cmap=\"Greys\")\n",
    "plt.show()\n",
    "print(\"And the whole sample:\")\n",
    "plt.imshow(X_train[1], cmap=\"Greys\")\n",
    "plt.show()\n",
    "print(\"y_train [shape %s] 10 samples:\\n\" % (str(y_train.shape)), y_train[:10])"
   ]
  },
  {
   "cell_type": "markdown",
   "metadata": {
    "colab_type": "text",
    "id": "ZEav-iSlWh8j"
   },
   "source": [
    "# Linear model\n",
    "\n",
    "Your task is to train a linear classifier $\\vec{x} \\rightarrow y$ with SGD using TensorFlow.\n",
    "\n",
    "You will need to calculate a logit (a linear transformation) $z_k$ for each class: \n",
    "$$z_k = \\vec{x} \\cdot \\vec{w_k} + b_k \\quad k = 0..9$$\n",
    "\n",
    "And transform logits $z_k$ to valid probabilities $p_k$ with softmax: \n",
    "$$p_k = \\frac{e^{z_k}}{\\sum_{i=0}^{9}{e^{z_i}}} \\quad k = 0..9$$\n",
    "\n",
    "We will use a cross-entropy loss to train our multi-class classifier:\n",
    "$$\\text{cross-entropy}(y, p) = -\\sum_{k=0}^{9}{\\log(p_k)[y = k]}$$ \n",
    "\n",
    "where \n",
    "$$\n",
    "[x]=\\begin{cases}\n",
    "       1, \\quad \\text{if $x$ is true} \\\\\n",
    "       0, \\quad \\text{otherwise}\n",
    "    \\end{cases}\n",
    "$$\n",
    "\n",
    "Cross-entropy minimization pushes $p_k$ close to 1 when $y = k$, which is what we want.\n",
    "\n",
    "Here's the plan:\n",
    "* Flatten the images (28x28 -> 784) with `X_train.reshape((X_train.shape[0], -1))` to simplify our linear model implementation\n",
    "* Use a matrix placeholder for flattened `X_train`\n",
    "* Convert `y_train` to one-hot encoded vectors that are needed for cross-entropy\n",
    "* Use a shared variable `W` for all weights (a column $\\vec{w_k}$ per class) and `b` for all biases.\n",
    "* Aim for ~0.93 validation accuracy"
   ]
  },
  {
   "cell_type": "code",
   "execution_count": 6,
   "metadata": {
    "colab": {
     "base_uri": "https://localhost:8080/",
     "height": 54
    },
    "colab_type": "code",
    "executionInfo": {
     "elapsed": 3935,
     "status": "ok",
     "timestamp": 1539247091677,
     "user": {
      "displayName": "Дмитрий Попов",
      "photoUrl": "",
      "userId": "01473516121989294075"
     },
     "user_tz": -360
    },
    "id": "v-1RFhfEWh81",
    "outputId": "08eafae0-ade8-47ca-8a61-12b1996525fc"
   },
   "outputs": [
    {
     "name": "stdout",
     "output_type": "stream",
     "text": [
      "(50000, 784)\n",
      "(10000, 784)\n"
     ]
    }
   ],
   "source": [
    "X_train_flat = X_train.reshape((X_train.shape[0], -1))\n",
    "print(X_train_flat.shape)\n",
    "\n",
    "X_val_flat = X_val.reshape((X_val.shape[0], -1))\n",
    "print(X_val_flat.shape)"
   ]
  },
  {
   "cell_type": "code",
   "execution_count": 7,
   "metadata": {
    "colab": {
     "base_uri": "https://localhost:8080/",
     "height": 90
    },
    "colab_type": "code",
    "executionInfo": {
     "elapsed": 956,
     "status": "ok",
     "timestamp": 1539247110737,
     "user": {
      "displayName": "Дмитрий Попов",
      "photoUrl": "",
      "userId": "01473516121989294075"
     },
     "user_tz": -360
    },
    "id": "koYtY0QpWh9a",
    "outputId": "9d2bf22f-b327-4662-e109-1ce2024ad851"
   },
   "outputs": [
    {
     "name": "stdout",
     "output_type": "stream",
     "text": [
      "(50000, 10)\n",
      "[[0. 0. 0. 0. 0. 1. 0. 0. 0. 0.]\n",
      " [1. 0. 0. 0. 0. 0. 0. 0. 0. 0.]\n",
      " [0. 0. 0. 0. 1. 0. 0. 0. 0. 0.]] [5 0 4]\n"
     ]
    }
   ],
   "source": [
    "import keras\n",
    "\n",
    "y_train_oh = keras.utils.to_categorical(y_train, 10)\n",
    "y_val_oh = keras.utils.to_categorical(y_val, 10)\n",
    "\n",
    "print(y_train_oh.shape)\n",
    "print(y_train_oh[:3], y_train[:3])"
   ]
  },
  {
   "cell_type": "code",
   "execution_count": 0,
   "metadata": {
    "colab": {},
    "colab_type": "code",
    "collapsed": true,
    "id": "bzg9_sseWh92"
   },
   "outputs": [],
   "source": [
    "# run this again if you remake your graph\n",
    "s = reset_tf_session()"
   ]
  },
  {
   "cell_type": "code",
   "execution_count": 0,
   "metadata": {
    "colab": {},
    "colab_type": "code",
    "collapsed": true,
    "id": "ySV0wpW5Wh-c"
   },
   "outputs": [],
   "source": [
    "# Model parameters: W and b\n",
    "W =tf.get_variable(\"W\",(784,10))### YOUR CODE HERE ### tf.get_variable(...) with shape[0] = 784\n",
    "b =tf.get_variable(\"b\",(10,)) ### YOUR CODE HERE ### tf.get_variable(...)"
   ]
  },
  {
   "cell_type": "code",
   "execution_count": 0,
   "metadata": {
    "colab": {},
    "colab_type": "code",
    "collapsed": true,
    "id": "lyJbdHfaWh-2"
   },
   "outputs": [],
   "source": [
    "# Placeholders for the input data\n",
    "input_X =tf.placeholder(tf.float32,(None,784)) ### YOUR CODE HERE ### tf.placeholder(...) for flat X with shape[0] = None for any batch size\n",
    "input_y =tf.placeholder(tf.float32,(None,10)) ### YOUR CODE HERE ### tf.placeholder(...) for one-hot encoded true labels"
   ]
  },
  {
   "cell_type": "code",
   "execution_count": 0,
   "metadata": {
    "colab": {},
    "colab_type": "code",
    "collapsed": true,
    "id": "7DOyvoeOWh_K"
   },
   "outputs": [],
   "source": [
    "# Compute predictions\n",
    "logits =tf.add(tf.matmul(input_X,W),b) ### YOUR CODE HERE ### logits for input_X, resulting shape should be [input_X.shape[0], 10]\n",
    "probas =tf.nn.softmax(logits) ### YOUR CODE HERE ### apply tf.nn.softmax to logits\n",
    "classes =tf.argmax(probas,axis=1) ### YOUR CODE HERE ### apply tf.argmax to find a class index with highest probability\n",
    "\n",
    "# Loss should be a scalar number: average loss over all the objects with tf.reduce_mean().\n",
    "# Use tf.nn.softmax_cross_entropy_with_logits on top of one-hot encoded input_y and logits.\n",
    "# It is identical to calculating cross-entropy on top of probas, but is more numerically friendly (read the docs).\n",
    "loss =tf.reduce_mean(tf.nn.softmax_cross_entropy_with_logits(labels=input_y,logits=logits)) ### YOUR CODE HERE ### cross-entropy loss\n",
    "\n",
    "# Use a default tf.train.AdamOptimizer to get an SGD step\n",
    "optimizer=tf.train.AdamOptimizer()\n",
    "step =optimizer.minimize(loss) ### YOUR CODE HERE ### optimizer step that minimizes the loss"
   ]
  },
  {
   "cell_type": "code",
   "execution_count": 135,
   "metadata": {
    "colab": {
     "base_uri": "https://localhost:8080/",
     "height": 309
    },
    "colab_type": "code",
    "executionInfo": {
     "elapsed": 58,
     "status": "ok",
     "timestamp": 1539248425544,
     "user": {
      "displayName": "Дмитрий Попов",
      "photoUrl": "",
      "userId": "01473516121989294075"
     },
     "user_tz": -360
    },
    "id": "JHa3dh0lWh_p",
    "outputId": "a567e6c9-89ec-4c79-d69e-28accbbb322f",
    "scrolled": false
   },
   "outputs": [
    {
     "data": {
      "text/html": [
       "<img src=\"data:image/jpeg;base64,/9j/4AAQSkZJRgABAQEASABIAAD/2wBDAAIBAQEBAQIBAQECAgICAgQDAgICAgUEBAMEBgUGBgYFBgYGBwkIBgcJBwYGCAsICQoKCgoKBggLDAsKDAkKCgr/2wBDAQICAgICAgUDAwUKBwYHCgoKCgoKCgoKCgoKCgoKCgoKCgoKCgoKCgoKCgoKCgoKCgoKCgoKCgoKCgoKCgoKCgr/wAARCAEgA2ADASIAAhEBAxEB/8QAHwAAAQUBAQEBAQEAAAAAAAAAAAECAwQFBgcICQoL/8QAtRAAAgEDAwIEAwUFBAQAAAF9AQIDAAQRBRIhMUEGE1FhByJxFDKBkaEII0KxwRVS0fAkM2JyggkKFhcYGRolJicoKSo0NTY3ODk6Q0RFRkdISUpTVFVWV1hZWmNkZWZnaGlqc3R1dnd4eXqDhIWGh4iJipKTlJWWl5iZmqKjpKWmp6ipqrKztLW2t7i5usLDxMXGx8jJytLT1NXW19jZ2uHi4%2BTl5ufo6erx8vP09fb3%2BPn6/8QAHwEAAwEBAQEBAQEBAQAAAAAAAAECAwQFBgcICQoL/8QAtREAAgECBAQDBAcFBAQAAQJ3AAECAxEEBSExBhJBUQdhcRMiMoEIFEKRobHBCSMzUvAVYnLRChYkNOEl8RcYGRomJygpKjU2Nzg5OkNERUZHSElKU1RVVldYWVpjZGVmZ2hpanN0dXZ3eHl6goOEhYaHiImKkpOUlZaXmJmaoqOkpaanqKmqsrO0tba3uLm6wsPExcbHyMnK0tPU1dbX2Nna4uPk5ebn6Onq8vP09fb3%2BPn6/9oADAMBAAIRAxEAPwD9/KKKKACiiigAooooAKKKKACiiigAooooAKKKKACiiigAooooAKKKKACiiigAooooAKKKKACiiigAooooAKKKKACiiigAooooAKKKKACiiigAooooAKKKKACiiigAooooAKKKKACiiigAooooAKKKKACiiigAooooAKKKKACiiigAooooAKKKKACiiigAooooAKKKKACiiigAooooAKKKKACiiigAooooAKKKKACiiigAooooAKKKKACiiigAooooAKKKKACiiigAooooAKKKKACiiigAooooAKKKKACiiigAooooAKKKKACiiigAooooAKKKKACiiigAooooAKKKKACiiigAooooAKKKKACiiigDxPxd/wAFFP2PvAmoXmn%2BK/ipc2gs9UbTReHwpqj2l5eLfw6fJb2lwlsYb2SO7nigkW3eQxOxD7drY2j%2B2f8As6R%2BObL4c3XjHUbfVLy6sLNlu/Cmpw29le3sUctpY3dw9sIbG8lSWIraXDxzkzRjy8uoPiVz%2Bxn%2B1bH4C8N/s66Zqfw9HgXwn8W9N8V22tXOo3r6rqtnb%2BLrXWxbyQC1EVrLHAlxFvEswuJFiJ%2Bzqzbeh8cfsffGzXfGPi3wPoup%2BFv%2BEA8c/F7QfHuq61dalcrrOnvp8mlTyWEVqtu0Mwll0mLbcNcRmJLhh5TmNSwB6Fa/t1fsv3cGr3w8f30Nno2n3N7LqV54U1OC0vYLedLeZ7G4ktli1HbNJHHi1aYlpEAB3rns/hT8ZfAXxp0m91fwJc6njTdQNlqVnrfh690q8tJxGkuyW1voYZ48xyxupZAGVwQSDmvmbTf2IPj5a6t4mtbTwl8ONN8MazoOp22reBV8Za1feHfFN5cXcEsdw2mTwCPQGCJcEvZyTnzLkMRL5Q3egfs4/sm%2BOvDGmXP/AAu3xl4hhgsfFa6n4L8M6H8ZPEOpQaLbC3tla2mvpmtZtTheeGSUQXUbxRLKY1BQnIB0kX7eP7Kk0fiC6HxNlW18N6Jqur32oy%2BHdQS0urLTSRfzWVw1uItSFuRiQWjTFSQCMkZ5vx3/AMFL/wBmXwh4Vl8TaPd%2BJtceDxF4b0yXTdP8Dav9qeLW78WdnfwxNaB7m1crO0c8IeOZoTFEzyvGjeKaH/wSx%2BI%2BjfBrXPgl5eiXX9m/DfxR4c8C%2BK9W%2BK/ia/LzajZT2VtI%2Bkz5sdLUQzFZjALjJGY0j4A7z4//ALEPxs8d%2BOH%2BIfw%2B1Pwo9zp/hz4cxaTp2r6nc20dzfeG/FE2szxSyRW0phhlidIklVJGDliYsAbgD1V/25/2ZFtteu4/G%2BpzJ4b8Sf8ACPakLbwfqsrPq/nPCdOt1S1JvLsOhJggEkgQrIV2MrGpqn/BQX9lDSbTRp5PH%2Bq3U%2Bv2Wq3WmaXpfgnWLy/ZNMuIrfUFks4LR7iGW3lmRZIpI1kT5iVwjleFtv2OvjToXha08QaFfeFZvFegftCaz8R9G0y61O5j0%2B%2Bgvl1C3NnPcrbNJDILbUZSJFhlCyxJ8rCvMNI%2BEf7S3wX/AG5vCGqeD9N8Dav478U%2BA/iX4l1jSNT128tdItftmt%2BFwlvBdpZyzN5Srb5kNuvnFZfli8wbQD6jsf2yP2adU8Gaz8QtK%2BKVvd6PoNxpMGoXtpY3MoLapDaTaeYVWMtcrcJfWvlvCHVmkKZ3I6r6bXwN8Nv2Q7XwR%2B1Z8Ff2dvBXxLsNdsPh58M9Ff432dmnD3ugLu8PPKqki2klutRnuUjf52i06PGVQGvvmgAooooAKKKKACiiigAooooAKKKKACiiigAooooAKKKKACiiigAooooAKKKKACiiigAooooAKKKKACiiigAooooAKKKKACiiigArzb4q/tdfs/fBPxlH4D%2BJPje4stR%2By2l1efZ9Bvru3023urh7a2nvbi3geGwilmjkRJLl41YxvgnY2PSa%2BQ/28f2Kv2o/2pNZ8Z6N4R%2BIWn/8I5rvhC0s/DFtqHxB1rSoNGvoXnkm8/TtPi8jU47ljApluZG8hVJWCXbscA9gh/br/ZUku9btpviqtrFoGn6hfXeoahot7bWVzb2EywXslndSwrDqAhldI3%2ByvKVd1U8sAdDwJ%2B2B%2Bz78R/EmneC/DXjC%2Bj1vVNTutPt9D1fwzqOnX0Vzb2kd5LHPb3dvHLbH7NLHMvnKgkSRShbIrwzQ/wBjX9rW8/ZXP7IXiDWvh5pWgaLpEn9ga1ZX99qF3qF9FqUN9YC5R7e3W2hjMRinKNO1xuDqIOYz1/jH4S/tp%2BNfiB4H%2BPWqaH8ME1/wZ4l1CS08HQeJtQWzGmXel/ZHLambAyTXAnHnAfY408s%2BVnK%2BawB2uh/t0/steJddsPDmh/EuW4utR0KfWotnh7UBFDpsM9zbzXk8pg8u1gSa0njaSZkUMEBP72Le3w9%2B3Z%2By74m8J6741sviFe21l4dsdPvdSj1fwrqdhctbX8jRWM0Ftc20c13Hcyq0UDQJIJpAUjLN8teO/s%2BfsI/tK/Bjw3q7xfFHwvY%2BKLj4J3fhXR/EWlxzSrY61Jq2rX0V6IZYgDAn263baWJ3RuuCAGbkrH/gnN%2B1HceNNR%2BImoa74div59G8Iz2dvrXxT1/xIw1jw7r39rQrLc6hbB/st3vlR/JSJbU7WjgmJY0AfUHw9/bC/Z2%2BJ%2Buy%2BF/Cnj%2BRdTttLvdQvdN1fRL3Tbizgs5Yorrz47uGJoHia4ty8UgWRVnicrskRj2nw98e%2BFvip4C0T4m%2BBr%2BS70XxFpNvqWkXU1nLbtNazxrLE5imVJIyUZTtdVYZwQDxXxx%2B3H8PfjP8Ybb4c/D3xh4x8IaH8UvFXjTUNFj8PeD724unh8D6lZNaa0vnSpDLMYoUS7N2YYIxPDbRBdxQyfbOnadYaRp8Gk6XZx29rawrDbW8KBUijUAKqgcAAAAD2oAmooooAKKKKACiiigAooooAKKKKACiiigAooooAKKKKACiiigAooooAKKKKACiiigAooooAKKKKACiiigAooooAKKKKACiiigAoor5x%2BDlp4ul/aF8W%2BNPhZ468ZeJPCmi6Trdh4gu/FHiCe6s9b8StfwyQwadbsRDbxaekV3aSNbxxRu9wsbGWW2lKAH0dWZ4q1m70PT0u7RI2ZpghEikjGCexHpXzL%2BwV4u8UXvibwrDN8T/ABB4oh8YfATQfF/iaTXNeuL9YNXuZXBnhWZ2FmlxunH2eIJCv2MBI12tn134vfFePRfjb4N%2BB1xawRx%2BKPD2uasuoyyNmOTT5dNjEIVVOQ66g7E8Y8kDndwnUp02nPZtL5vRfidOFweJxs5Qoq7jGc3/AIYR5pP5LW3U3v8AhYetf8%2Btr/3w3/xVH/Cw9a/59bX/AL4b/wCKrL/s%2B0/6Dlr/AN8S/wDxFH9n2n/Qctf%2B%2BJf/AIiu3kp9jjuzU/4WHrX/AD62v/fDf/FUf8LD1r/n1tf%2B%2BG/%2BKrL/ALPtP%2Bg5a/8AfEv/AMRR/Z9p/wBBy1/74l/%2BIo5KfYLs2n8d6wunxXYt7bc80iEbGxhQhH8X%2B0ah/wCFh61/z62v/fDf/FVUlsbU6RAn9sWwAuZSG2y4Pyx8fcz/APrqt/Z9p/0HLX/viX/4ikoU%2BwXZqf8ACw9a/wCfW1/74b/4qj/hYetf8%2Btr/wB8N/8AFVl/2faf9By1/wC%2BJf8A4ij%2Bz7T/AKDlr/3xL/8AEU%2BSn2C7NT/hYetf8%2Btr/wB8N/8AFVNdeO9Yggt5Vt7YmaEu2Ubg72X%2B9/sisX%2Bz7T/oOWv/AHxL/wDEVZvrG1a2swdYthi2IBKy/N%2B9fkfJ%2BHPpScKd9guy3/wsPWv%2BfW1/74b/AOKo/wCFh61/z62v/fDf/FVl/wBn2n/Qctf%2B%2BJf/AIij%2Bz7T/oOWv/fEv/xFPkp9guzU/wCFh61/z62v/fDf/FUf8LD1r/n1tf8Avhv/AIqsv%2Bz7T/oOWv8A3xL/APEUf2faf9By1/74l/8AiKOSn2C7Nq%2B8d6xazrElvbEGGN%2BUbqyKx/i96h/4WHrX/Pra/wDfDf8AxVVNVsbVrlS2sWy/6NCMMsv/ADyXnhO/Wq39n2n/AEHLX/viX/4ikoU7bBdmp/wsPWv%2BfW1/74b/AOKo/wCFh61/z62v/fDf/FVl/wBn2n/Qctf%2B%2BJf/AIiuG8cftHfswfDLxFL4Q%2BJP7UPw88PatAiPPpeueKoLS4jVlDKWjlKsAQQQSOQc1FWeFoR5qjUV3bSX3to68FgMxzKt7LB0Z1Z2vywhObt3tCM3bVa2t5npv/Cw9a/59bX/AL4b/wCKqbUfHesWeoT2kdvbFYpmRSUbJAJH96vFv%2BGzf2JP%2Bj1/hL/4Xln/APF1avf2yv2KtT1uVLL9s/4USSXF0whij8d2bsxZuANrnJOccZz2rn%2BvZXf%2BLD/wOP8A8keq%2BE%2BLUrvLsR/4T1//AJQes/8ACw9a/wCfW1/74b/4qj/hYetf8%2Btr/wB8N/8AFVzvibUNE8J%2BG9Q8VatrKNa6ZYy3dytrZ3E0pjjQu2yNIy0jYBwqgknAAJNeU/Dj9tn9n/4i%2BDrbxNa69rVtdHw5pmr6lo48Ea1PcWKX4i%2BzwsIrJvMlcygIibmkVXdAyIzDr5aS6Hz%2Bp7x/wsPWv%2BfW1/74b/4qptO8d6xeahBaSW9sFlmVGIRsgEgf3q8Il/bM/Z1t7uGSb4m2zWV3aWZsVt9D1iW/lubi7vbRbVrNbEukvnWE8Xl5MwljeN4kITf6H8IfiT8PvitHpnibwB4oa%2BsbpY7iCeTR763UgTyQtETPAmyZJIZEeFsSRkDeq5GRxpW0QanXf8LD1r/n1tf%2B%2BG/%2BKo/4WHrX/Pra/wDfDf8AxVeU/Bn4u6p8UfHfj/wT4g8HJ4cfwVr8NhbPdaj9ok1GCW2jnS5KxRlYAwkyI97tt2ltjFo1wD%2B0nqPiT9oPXv2fvhf4R03VJtG8NS3sPiDVdcms7G61CG4to57AGO0mcCJLqItMqMok3RbdyOVOWl2DU91/4WHrX/Pra/8AfDf/ABVH/Cw9a/59bX/vhv8A4qvk7U/29PEGhabp1tr/AIF8C2OsaxqevJo63/xPa003ULLSpba1lmhvLrT4i0815ciGCBolWRUMvmqnNep6d8atauv2hNe%2BCF78O5ba20nwhFrem6wdSR5NWLSbHhigVcRhW%2BQPJIpZ1f5QgSRzlpdg1PZLHx3rF1O0T29sAIZH4RuqozD%2BL2qH/hYetf8APra/98N/8VXg3gv9pT4heJP2edR%2BPkHw68LaPPoOpeJrPxPpHibxtcwRabbaVd31nNcC5ttNuBK2LQyGMIAAxAd9oLYGh/tmeI117TtN%2BIvws0rw1BHfeHNJ8WJc%2BLHkvNK1fWYY3gtoYPsai7ijeeGKSbfEd3mlY3ETGlalfYNT6Y/4WHrX/Pra/wDfDf8AxVH/AAsPWv8An1tf%2B%2BG/%2BKr5M8Pf8FDLDxN8G7r43af4f8GDRZJ9F/s68f4kIYdOt9SmZY5NbZLRn0do4/KkdSk6jz1QOSr7bHw//b0b4jePPDfgnTtH%2BH%2BkjXtFt7%2BK78SfEqW1/tES6pf2C/2Uq6c/9pRyLYfaYXzD5sVzAdqbjh2pdg1Pqv8A4WHrX/Pra/8AfDf/ABVTW3jvWJ4LiVre2BhhDrhG5O9V/vf7Rr5S0H9u/wDtXwd428bzaP4EdPCesX2lw6DpvxGkuNXNxFrbaTbyX1sdPRdPt5XXzmlMkvlxnO1%2Bcbmr/tcfELRPhp408W6Z8IfD17cfD7%2B1oviI7ePDFp2l/YYbO8CQXJsjLcyzw3URRWgiRWSZZZIiqeYmqVth6n0X/wALD1r/AJ9bX/vhv/iqP%2BFh61/z62v/AHw3/wAVXzBd/t2abP4j8ZWPhrwzoN3ZeDtHv7q6tb3xmlrrcstrpi3sjf2a1uXW1EjC0M4dnWcN%2B5Ma%2BZUt9%2B2V4isv2XtV/aP0jwd4I8Vf2Y6NPpvgX4knUILSHyRLMbq5ksYfJkQEL5SRysXePO1Szo7UuwtT6a/4WHrX/Pra/wDfDf8AxVbPhLxFe699o%2B2RRL5Wzb5SkZzu65J9K5L%2Bz7T/AKDlr/3xL/8AEV0fgC3ig%2B1%2BVfRTZ8vPlBxj73XcoqakYKDshpu50dFFFcxQVHdTW9vayXF3cLFEkZaSV32hFAyWJ7ADnNSUUAfB3wu%2BIfwk/wCGI/2i/hd%2By78WNJ1bV7fV/GEuhWHhrxWuoarNC8LMJ4WSV7iaaQLK6zZZ3ky24tk1gj/hlAfHVnuI/BX/AAzAPEsnlfJb/wDCK/8ACQf8I9HyuP8ARseX5gGPl%2B17gP8ASK/Q%2BigDzP8AYuHjcfsg/C4fEpdQGv8A/CvtH/tgatu%2B1i4%2Bxxb/AD9/zedn7%2Bed%2B7NddrPi46XqUtiZcbMcfY93UA9fNGevpW9XB%2BM/%2BRluf%2BAf%2BgLWtKKlKzE9DU/4T7/pt/5If/bqP%2BE%2B/wCm3/kh/wDbq5eit/ZQJuzqP%2BE%2B/wCm3/kh/wDbqP8AhPv%2Bm3/kh/8Abq5eij2UAuzrb3xsbS9mtTN/qpWT/jyz0OOvmjP5Cov%2BE%2B/6bf8Akh/9urB1z/kNXn/X1J/6Eaq0lShYLs6j/hPv%2Bm3/AJIf/bqP%2BE%2B/6bf%2BSH/26uXop%2BygF2dbZeNjd3sNqJv9bKqf8eWOpx1804/I1F/wn3/Tb/yQ/wDt1YOh/wDIas/%2BvqP/ANCFVaXsoXC7Oo/4T7/pt/5If/bqP%2BE%2B/wCm3/kh/wDbq5ein7KAXZ1H/Cff9Nv/ACQ/%2B3VLaeNjcymMTdInf/jyx91C3/PU%2Bn/6utclVrR/%2BPt/%2BvWf/wBFPSdKFguze/4T7/pt/wCSH/26j/hPv%2Bm3/kh/9url6KfsoBdnUf8ACff9Nv8AyQ/%2B3Uf8J9/02/8AJD/7dXL0UeygF2dbb%2BNjNFPIJv8AVRB/%2BPLH8ar/AM9efve39DF/wn3/AE2/8kP/ALdWDp//AB6X3/XqP/RsdVaSpQuF2dR/wn3/AE2/8kP/ALdR/wAJ9/02/wDJD/7dXL0U/ZQC7Oo/4T7/AKbf%2BSH/ANuqVPGxaykuvO%2B5Kif8eX94Menm/wCz6/n25FmVFLuwAAySTwBXP618ePgd4T0y5tfFPxm8KaZKLmImPUPEVtCwAWTPDuPWs6nsKSvNperS/No6cNhMbjZ8mHpSqPtGMpP7oxk/wPSf%2BE%2B/6bf%2BSH/26j/hPv8Apt/5If8A26vBdT/bi/Yw0cldQ/ax%2BHCMOqL40sXYfgspNYGof8FKv2C9MJFz%2B1T4RbH/AD76j5v/AKADXLPH5TT%2BKvBf9vw/%2BSPeocE8bYn%2BDleJl6Yev/8AKUfTP/Cff9Nv/JD/AO3Uf8J9/wBNv/JD/wC3V8n3P/BWL/gnlaMUl/ac0gkf88tPvHH5rCapXX/BYD/gnJZrul/aVtSP%2BmXh3U3/APQbY1g84yGO%2BJp/%2BBx/zPSh4Y%2BJdT4clxb/AO5at/8AKz7CfxsVso7rzvvyun/Hl/dCnp5v%2B16/l3i/4T7/AKbf%2BSH/ANur4/k/4LIfsB3elw22gfFHWdVkW4kbbp/gjVWyCsYGN1uvoarH/gq58GNW/d/Dv4DfGbxbMfuweHfhvcOx9P8AWslQs7yF7YiD9Hzf%2BkqR0f8AEKfEtfxMorw85wVNfN1alJL5tH2T/wAJ9/02/wDJD/7dR/wn3/Tb/wAkP/t1fG4/b0/aR1f994S/4Jm/FGaFv9W2s3lpp7n/AHkdmK0f8Nhft7XHzaf/AMEstaZT0%2B0/FHS4T%2BIKHFH9sZY9ud%2BlKq//AHGH/EMuLY/xPq8PKWMwUX%2BOKZ9kf8J9/wBNv/JD/wC3VLceNjDFBIZv9bEX/wCPLP8AGy/89ePu%2B/8AQfGX/DVn/BR%2Bbi2/4JVOB/em%2BNukLj8PLqxeftGf8FQ9Vt7WO1/4JwaDpWICI5NS%2BL9jOGHmOc4hjBHJIx7UPN8DfSFR/wDcGr%2BsUH/ENuIF8eIwcfXH4L9K0n%2BB9gf8J9/02/8AJD/7dR/wn3/Tb/yQ/wDt1fG//C0/%2BCs0vzx/srfC2IHokvjiZiPqVXFB%2BN//AAVS0D97q37DngjX16%2BVoXxLjtW%2BmblCM0f2rhVvRqr/ALhT/S7/AAD/AIh1mj0hj8C32WOw9/8AyblX/kyPsj/hPv8Apt/5If8A26t7Rb/%2B1NMivt2d%2B7ny9vRiOmTjp618Mj9rv/goGfkH/BK7U/MHDg/FvSgoPs2zke9fWv7M/iz4ieOfgjonin4r/Ct/BOv3Quft/hiTWYdQNltuZUT/AEiEBJN8apJwPl8zaeQa1pY7C4qXLSUk9/ehOK%2B%2BUUr%2BW54%2BdcIZxkGFWIxc6Di3yr2eJw9aV2m9Y0atSSWnxNKN7K92kd3RRRW58yFFFFABRRRQAUUUUAFFFFABRRRQAUUUUAFFFFABRRRQAUUUUAFcJ4Y/Za/Zk8E%2BKD438Gfs5%2BBNI1o3DznV9L8IWVvdea7%2BY8nmxxB9zP8AMWzktyea7uigDA8E/Cr4X/DS41O6%2BHHw30Dw/LrV4bvWJNE0eC0a/uCSTLMYlUyvlm%2BZsnk88184/tk%2BIP7G/wCChX7NOnb8f2tovjq0x/exaabPj/yDn8K%2Bra%2BO/wDgpPH/AGH%2B1f8Asr/EHGPsvj/VtI3%2Bn2/TxHj8fLrzc1m6eGjNdJ0n8vaQv%2BZ914dUYYriOdCX28NjYr/E8HXcfxge6UUUV9EfAhRRRQBam/5Atv8A9fU3/oMVVatTf8gW3/6%2Bpv8A0GKqtJAFFFFMAq1qH/HpY/8AXqf/AEbJVWrWof8AHpY/9ep/9GyUnugKtFFFMAooooAtax/x9p/16wf%2BikqrVrWP%2BPtP%2BvWD/wBFJVWktgCuG8cfsxfs1/E3xFL4v%2BJP7PPgbxDq06Ik%2Bqa54Ss7u4kVVCqGkljZiAAAATwBiu5rw344f8FJf2LP2cPiJdfCj4z/ABn/ALG1%2ByhilubD/hHdSuNiSIHQ74Ld0OVIPDHGecGuTHVcvo0ebGOChf7fLa//AG8mr7%2BZUc9qcPP61DFPDt%2B7zqpKk9deXmjOD1ttezttodH/AMMRfsX/APRonwv/APCB07/4zVvUP2J/2M9P1%2Beaw/ZI%2BGMDwXjNC8PgLTlMZVzgqRDxjAxjpXkf/D5r/gmv/wBHIf8Aln6z/wDIdXZf%2BCyX/BN3XfEbWmlftG%2BbJeXpS2X/AIRDWF3s74Uc2gxnI64ryFj%2BEubSpQ/8pf8AyJp/xFDFS0/t2bv/ANRdX/5oPonXdKh17RLzQ7iRkjvbWSB3TqodSpI9%2Ba%2BcdJ/4J%2B%2BIrP4S3Hw81b4x6RqN1P8A8Iyk73fgt2029h0eFIFt7uyN8WuIZkjUvH5yjcM8r8lfQ3jLxIPBvhDVfF7aLfakNK02e8OnaZGr3N15UbP5USuyq0jbdqhmUFiMkDmvHvH/APwUB%2BCfgTRbjxNHp%2Bp6rpdvHprf2rbX2mWlrI17ZSX0USzX95bxmQWyxSFCwYi7g2ByXCfQvl6mSucl8JP%2BCcEnwt8Q6Vqq/F2yntNF12C/0/T7HwgtmkcMer6xqfkYS4KKN%2BsPGpRFVEgTCHPHun7OPwn1f4NWMHg2TxXbanYHXr/UISNLaCZZr3Vru%2BcFvOdWVVuUjACg5iZyfnCJ4lpn/BRHwuvibxBqOrwyXHhq3uDL4XGk6Kz3WpWjaDoGowqzS3KBJ5JtZ8tF8vawMYYxlGd/Tv2Xfj54z%2BMfxA8X6T4k%2BGOoaHF4Z%2BIK6NbQXa26z2ca6VpV4Rd%2BXcyrJI017OEeAtGY0TJB%2BZ17ttA1Knw3%2BC3xq8D/ABT8c/EXU/i74Xv4PGV7a3MenweBrmB7JoIoLdAZTqTiUG3iYH5E/eOHGFUxtneFf2KfAfw5%2BMg%2BMHwy8Ua/pcqeHNVsItLvPEmp39sl1fXSXUl2I7i8aMDzFdjEECs8m/IZQa29F%2BKPxNm/ax1n4Na/pehxeGovBkGr6HPaNM99K5uDDI07MRGi7twWNVYgIHMh3%2BXHzPxZ/al8a%2BF/2hPD3wr%2BG/gq11rSftN9ZeKrlt/nnURot5qdrYWhVgom2WsbylwwVLu3Cgl2KP3Q1K3iz9iOS/8Ahf4N8C%2BDPiDp%2Bn3/AIV%2BGl74Fn1XVvDH2%2BO80u8t7OK6YQ/aIzHOzWMDq7PIozIHSTdkbWi/s8/Fjwx8cIfid4e%2BL3h8aNZeCo/DWn6Lf%2BDbie6WCLLxSy3Y1FVkcTYZsQqGQFRtY%2BYPPvgt%2B2B8V/jLoms6RoXxE%2BF7anpHhvQvEWs%2BJzp95Hpmg2d79u%2B1WlxA12WlurVrEh909tgXAZ0jMRR%2Bi%2BH37SXx28T6z8F5/EPg/wAPWGjfEO3vo9XkMN0l5LNFZ3dzDNbwuwFrDJHbRShZTLJtudhCGLe690NTT8B/slfEiP4O618F/Hfxo0bUINX8czeJpbvSPBk1kGgm119av7CRJL%2Bfek4eW1Vwy%2BWkm5llIwbnxV/ZQg%2BLnxu0f4meJ9b0CXStKu9Ou1sZvBcD6qJbKY3EUUWpiQPHam4WCZ4WjcloiA6q5WvHNJ/4KIfGlLTXb7%2Bx/DrPFaKbdT4V1FBpvma9DpLfZybj/ipgsU8koOnbPMliigX57qJRPb/t3fHHVfh34k8b6Npnhbb8OvCGs%2BJ/FgvtAvbeXWbOz1K%2BtooILWS5WXSriSHTblnS5854ZGjR4/vYV4hqdLoX/BPfWPDltoT6V8YtOjuvA%2Bm6JpfgEjwcRb21jpc8skCajELsHUJSsuDIjWwV18xERic6dx%2BxL4ym%2BH5%2BFn/C6tN/sPWJ57jxdE/ghPtE80%2BtXOrTtp8y3IaxUy3Txokv2oRJFEyYcO8nEePv%2BCjniP4Wax4sl8VJ4XuH05/FNvpvgyGCeDVNNk0tpPsVxfTtK6/Z76GIzowhiKxzJtM212HTeG/2mfjx491jT/hF4B8XeBLzxdO2tXV7ql/4J1ewhtrfT7fTW%2BzT6ZdXMdza3Ekuq25VmmdDBtmCt5gRX7mwanSa5%2Byd4%2B8U%2BJr3xH4k%2BMWizm20DXdK8Lxx/D63UQRapdQTzDUEaZotQUfZo4yix24cNIz5kKumNpv7BvjHR/D9lpfg74o%2BDrC1g8R3HiXxLoEnw3l/sXVNQxZW9h5dlb6lB5EFpFbJsheSdXlWOZvniQjNs/8AgoFf%2BKdU%2BGfibwf4Ptf%2BEQ8R%2BHRqXjS8uC8lxYzzeHLjW7ewtirKpmSGBHmLggJcwBRl2KX/AIHftqeMvF/wi1jxDr1z4a1XxZqul6OfCfhHS9F1LS5xe6lueC3k%2B27jdWq%2BTK/9pQYikitruQRIIDlPlDU1r/8AYy1i/wDH7%2BKYvinY2NgfEd94nitLDwkn2qPXLvRZdJmm8%2BaeSN7bZPJMLeSF28zarSvGvlmh41/Y2%2BLPjbwB480a7%2BOXhm28Q/EKwsdL1jVbb4eTJYwadaQTRxpDZjUgwuC0zEzNOy7VVBGAqkZWk/ts/EnXPhv8DdV0bw1od1rfjnS/Cep/EaVYZltNJttX8mIJbp5pdZpZpJjCru4WO0mLljs3yfFL9ov9pX4Var40aTxJ4I1zSvC66JaT3dj4Gv4pbTUNT1K3iWIQrqUz6hJBZSm4NrEI5p3uLWOI7pCtP3Q1Pozw9B4httDtbfxZqlle6kkIF7d6dYPawSyd2SJ5ZWjU9lMjkf3jXafDb/l9/wC2f/s1eI/sr/FzxH8bPhFH438Vw2i3qa5qmntJaabPYiZLW%2Bmt0lezuHeeykZYgzW0zGSJiVbBBA9u%2BG3/AC%2B/9s//AGalV1psFudRRRRXGWFFFMubm2sraS8vLhIYYULyyyuFVFAyWJPAAHOaAH0V5z4J/a0/Z%2B%2BIHg3XviDoHj0w6P4Z0dNX1u81nSLvTRb6a8Uk0d%2BFu4omktXjilZLhA0TiJ9rNsbGbP8Att/s8wabYX51jxM8%2Bpa3JpFto0Hw71yTVBeJZ/bWiksEszdRf6NiYM8SqUZWBIYZAPWK4Pxn/wAjLc/8A/8AQFrtNJ1K21rS7bWLOO4SG7t0miS7tJLeVVZQwDxSqrxtg8o6hlOQQCCK4vxn/wAjLc/8A/8AQFrah8ZMtjLooorqJCiiigC1rn/IavP%2BvqT/ANCNVata5/yGrz/r6k/9CNVaS2QBRRRTAtaH/wAhqz/6%2Bo//AEIVVrjPiF%2B1N%2Bzf8A9Tgl%2BMvxw8MeHHilSRrTU9YiS4ZQwOVhz5j8f3VNfM/wATP%2BC7H7CXgZpLfwpq/iTxfMuQv9h6G0URb3e7aHj3APtmvLxmdZRl8msTXhF9nJX%2B5Xf4HdSy7F1Um0oJ63nOnSjbvzValJW81deZ9l0V%2Bdw/4LM/tRfGL9z%2Byv8A8E8vEerxv/qNUvhdXcRB6Flt4FRB7mbvUM3iP/g4D%2BOLB7Dwn4b%2BHVjP1Ma6fCQD2xM91On1wDXlvi3L6v8AutKrW/wU5W/8Ckoo1jhcmpv/AGjM8OvKm6uJf/ltRqQ/8rW8z9F6y9c%2BKnww%2BHEj3PxD%2BI%2Bg6DH9kmPma1rEFqvMTY5lZa/Oi4/4Jd/8FTfitO0nxx/bgtJbSf79gvinVriOMHr%2B5jW3iz9OK3vh1/wbwfC%2BSWRfi3%2B0l4g1ZpY5Zpjoeh2tk%2B4IzYElx9pYjIxnqayec8RYjTD5c4%2BdSpGP4K7OtVOCKK1q4zEPtTw1KhH/AMDxeJbX/glp%2BR9KeM/%2BCn/7AXgNmXXP2pPDM5Xr/Y0kuo/l9kSTP4Vyd1/wV%2B/ZNuU8zwPovxC8VKf9WfD/AICvHD/TzljrI8I/8ES/2LPC1otjc3PjrVYVGPLvvGEsan8LZYh%2BVdHY/wDBHj/gnRZMZZP2d0upG%2B/Le%2BJ9UlZvruuSP0pN8cVelCHzlJ/fa34Gsc64Tor93klao%2B9XMIQv6xw%2BClb5VGc9e/8ABVjVNQiafwR%2Bw78U5YwMiXxTDZ6LHj1LTTMAPc1w/iT/AIK2fG5JTbW3wV%2BEvhck4R/FHx/0m4kHu0FqfMX6Gva7P/glB/wTysZVmg/Zh0ZihyBNfXcg/EPMQfxrt/Df7En7HXhGMR%2BHv2Wvh/AQMeafCVo8h%2BrvGWP50vqHF1X48VGPov8AKnf8S/8AXGjS/wB04cwMfOtiMwxD%2B7nw8X81Y%2BQD/wAFKP2kNbS4F7%2B2V%2Byt4UhkhAEVi%2BralcY3qcFiPLzxnjsDVST9sr4l6mhl1P8A4LN/CzSPVdH%2BGKXOPp53Jr720b4AfAeysr1LP4J%2BEYlFqMCLw3aqB%2B9j9I6bH8Ffg3C4kh%2BEvhlGHRl0G3BH/jlJZHnUn7%2BKv/29WX/pMoh/xEHjGn/u%2BCyukvLAKX41atVv5n566l%2B1zpgQ/wDCW/8ABeZpYv449C%2BBscT/AEVoYmP6Vm/8Lm/Zx8X8an/wUo/al8YBvvQ%2BC9JvNPSb2wLUcH0r9MdO8H%2BEtHYPpHhbTrUr9021jGhH/fIFaNP/AFbxk/4lZP19tL/0rEL8g/4iR4oL%2BDisJQ/69ZfhIP7/AGUj8vk8IfsKeImE3iL9in9sD4mLnJuNV0nUrhXPqdt1D/Kuw8OaZ%2BxtpOlvaeDf%2BCHPxdupvOj8uTxF8PhtAw/DSXNzJjPHX%2B6fSv0Rq1D/AMgW4/6%2Bof8A0GWrhwvCDupwv/14pN/fJyf33OfE8feL%2BNhyVuJMTy/yxtCK9IwnCK/8BPgbTJvsOLrwx/wQQ01LcdJrmHQYJ/8AvhoS361v6f8AF/x9pYEGi/8ABFO9tph0WJtGijH/AAMR4r7QorshkU6fw17elKgvypngV8x41xX8bO8VP/FPm/ObPke1%2BPv7YUKD%2Bxf%2BCOyxxfw7/iLosB/758rirtr%2B0x%2B3ratu03/gkg0T9ivxc0aP9fKr6rorZZVilti5/wDgNL/5WeZPC5zV%2BPMqz9fZv84M%2BZpP2q/%2BClz6XCo/4JRqsYuJCjt8c9HyTtTIx5XGMD8/aoP%2BGpv%2BClf/AEirj/8AD46R/wDGq%2Bqpv%2BQLb/8AX1N/6DFVWqWW4z/oMqfdS/8AlZj/AGVjv%2Bg6r91H/wCVHy9/w09/wUyuflh/4Je2dsf71x8a9LcfksdKPj7/AMFSZvmT/gn/AOFYQeiy/FW2Yj/vlK%2BoKKf9mYp74yr/AOU1%2BVMP7Jxj3xtX/wApL8qR8vf8L4/4Kmx/M/7BPhCQf3Y/ilAD%2BqVYvPjp/wAFV9Tt7WG2/YS8E6XttyI5tQ%2BJ8U6sPMc5xEmRzkY9q%2Bmatah/x6WP/Xqf/RslJ5XiLr/a6v3w/wDlYf2Tiv8AoNrffT/%2BVHymfjH/AMFX/Dx%2B06v%2Bxt8O/EMZ5FroHxC%2BySAeha5Urn36Uf8ADev7S3hLn4t/8EyvifZBf9YfB19Z6/j6eSU3V9RUU/7NxkP4eLqf9vKnJfjCL/EX9l46H8LG1F/iVOa/GEX%2BJ8uj/gp/ZamPI8JfsL/tEapcdHjT4amJIm/uu7zYU/nX1t%2BzN8Qdb%2BKnwQ0Tx74i%2BGuteELzUBcmXw74hjVby0CXMsa%2BYFJA3KgkAz91xnmsuu88Gf8AItW3/A//AENquGHx1J81evzrtyRivXRt/odmCw2YUarliMR7RW25IQXrdNv9DUooorQ9MKKKKACiiigAooooAKKKKACiiigAooooAKKKKACiiigAooooAKKK5L4dfHT4UfFnxJ4o8JfDrxhFqt94N1Qab4jSC3lEdrdbSTEJGQJKVIZWMbMEdHRiGVlAB1tfIH/BYMDSPBvwP8fLwdA/aL8NTzv6QP8AaI5B%2BO5a%2Bh/g7%2B0d8Hfj4br/AIVX4pn1AWtpb3m640e7s1ubScyCC8tzcxRi6tZTFJ5dxDvifYdrnFfPX/BcVHsf2AdV8aRKS/hrxboWqIVHIKahEmR%2BEhrys70yitL%2BWPN/4C4y/wDbT9A8Kve8Rsrpf8/Kvsv/AAdCtR/9yo9topI5ElRZY2DKwBVgeCKWvpT872CiiigC1N/yBbf/AK%2Bpv/QYqq1am/5Atv8A9fU3/oMVVaSAKKKKYBVrUP8Aj0sf%2BvU/%2BjZKq1a1D/j0sf8Ar1P/AKNkpPdAVaKKKYBRRRQBa1j/AI%2B0/wCvWD/0UlVatax/x9p/16wf%2BikqrSWwBRRRTAKta5/yGrz/AK%2BpP/QjVWrWuf8AIavP%2BvqT/wBCNLqBVrwnw9/wT6%2BEXg/w/pOg%2BDvGvi3S20jV9Qu4b%2B1vrU3Elvd26Wj2JaS3YJBHaQ29rE0YSeOK2jCy7tzN7tRQ0mB876F/wTS%2BCWieGx4cfxz4xvBHZfZ7e9ub6zE0JXTNK06GVTHaovmRR6NZyISpHmBywdWCj1T4B/AO1%2BDnivUdWsfiZ4m1q58TeKv7a16bXGsmN3dtaWVmCfItohGqx2UZVI9oBd8grsVO0q1of/Ias/8Ar6j/APQhSaSQ7nl1x%2BzzdTfHi4%2BPkPxx8YQ3c%2BiNpK6HHDpJsIrXLMqrusTPlZW80FpidwAOUyhq%2BJP2Nv2d/FXxL8PfGTVfhpow8V%2BH9WbU/wDhIrbRLOK91G5NnLaiS5nSESOVEvmKVZCskUTAgIBXqNFOyEeHa5%2Bwt4a8S%2BG7rRfEPx1%2BIGoX19daQ17r%2BoXGmXN3c2emNNJZWEyy2LQTW6TTyzN5kTSSSMTJI%2BSK3vEf7M2r%2BKvF/gvxtrH7SXjx73wRPJPZBLXQ1S%2BmkSeKSS4A0zktDO0JERjUKqsoD5dvU6KLILniWk/8E/fha629jL8Q/GLpoOntD4HJvLMHwpHHeQaiiWRFqPMAuLGzz9q%2B0ZS3WM5UuGi1D9gj4Yanp1xYXXj/AMXF9at7%2B18b3K3dmH8WWt5dG5nt74fZtqxlmkQfZlgZI5XRSqtivfNH/wCPt/8Ar1n/APRT1VpcquO55V4o/ZG8D%2BPdf1nVfiJ448V6/Y6np2pWdjoeqanE1toy34QXL2jJEs6uQgCGSWTyAWWERqStZVx%2BxJ4YuJrjxJ/wujx1H4tvb%2B5uNQ8cwXGnR6lcxz2dvZy2xVbIWyQmG0tcCOBGDwLIGD7mPtVFOyFc8euf2Bv2SJdf8J%2BJrH4F%2BGrK88HzK9hPa6DaCW7RdPksI47mVojLMqRSBl%2BcMHhibPy4NnwP%2Bwz8B9P0/U4fiTox%2BIyjR9MsNNT4h6dY6imm2dg8y2cECfZkXMa3t2POcPO4nYPK4xj1irWn/wDHpff9eo/9Gx0mlYZ4Bpn/AATd/Y%2B0r4e%2BCvh9B8GdAf8A4QUaSNM1yTw7p51G6Fg6SILib7P8/mupaXaF3mRyNpaut8Q/sw%2BCPEWheJtJk8Q63bXPibxnaeKpNWtriH7TYanaizFtJAXiZNsYsLcBJUkVgpVgynbXpFFOyFc5j4SfCrRvhB4Wm8N6VrOo6nNeard6lqmrau8TXN9d3MzSyzSeTHHGpLNgLGiIqqqhQBXp/wANv%2BX3/tn/AOzVy9dR8Nv%2BX3/tn/7NUVf4bGtzqKKKK4ywrnvi54KuPiV8KPE/w5tNRFnLr/h6902K7IJ8hp4HiD8c8Fs/hXQ0UAfKPg34L/F7x9pvjhPi9%2BzdeWNp4k%2BBel%2BA5PDs3iixjS%2BuLKLVXuGNzazStBbTNqKQwShDMmyWR4o/lB5XS/2YPizd6rqPxl%2BKfwh%2BLfie/vvFcM2l2cHxN0nSvE2nxQ6I1kLuWXTbq0ssO8s0XlQ3CkRrFI4kd5UX7YooA5L4CaT8T9B%2BB3g7Q/jZrUWpeMbPwvYQ%2BKtQhcMlzqK26LcSBgqhsyBzuCqDnIVc4EHi28t4vEFxHJpVvIRsy7tJk/Ivo4H6V2lcH4z/AORluf8AgH/oC1tR1kKWxV/tC0/6Adr/AN9y/wDxdH9oWn/QDtf%2B%2B5f/AIuqtFdNkQWv7QtP%2BgHa/wDfcv8A8XR/aFp/0A7X/vuX/wCLqrUOo6jp%2Bj6fPq%2Br38NraWsLTXV1cyhI4Y1BZnZmwFUAEkngAUNJK7C5s6xfWqavdI2j2zEXLgszS5PzHk4fFcJ8Zf2lPgN%2Bzz4ePij42eNfDnhu0KM0P9pX8iy3G3qIYhIZJm/2UVj7V8nfGT9uf4/ftu/EbWPgL/wTI0sppEF9JB4m%2BNGpwtHYWKk/MtmWU7nIIw%2BC5ySiBcTDrvgN/wAEi/2cfh1rg%2BI/xyvdT%2BLnjWUh7zxB47na6iMmMEpbOzKR3HnGVgejCvnlm2Jx8nDLKanFaOpJtU79eW3vVLdeW0b6cxyQq4nF0/aYZRVN7Tm373nCEVzSj/fbhBv4XNJsyr//AIKdfGb9oy4l0H/gnV%2BxpfeLLfzGi/4WD40WfTdDjKsAzRhpUacYOdpeOQf88zVdf2BP2z/2hybr9tb9uvWINNnDrceCfhTENNs/LbkRvcMimdexEkTn0fvX2LbW1vZ28dpZ26RRRIEiijQKqKBgAAcAAdqfWiyR4nXH1pVf7qbhT/8AAYtN/wDb036Gf1OtVVsRWlJdl%2B7j81B8z%2BdT5Hz58I/%2BCSn/AATw%2BH2pWIj/AGaNL1u681EmvvE2o3l%2B0xLDLNFLMYM/SMD2r1zwj8CP2dvAGw%2BBP2cvAuimP7h0nw5Fblfp5eK7HQ/%2BQ1Z/9fUf/oQqrXdh8qyzCaUaEI%2BkUvxtf8SqOW5dh3zUqMIvuoxv99m/xLQv7QDA0O1/77l/%2BLo/tC0/6Adr/wB9y/8AxdVaK77I7S1/aFp/0A7X/vuX/wCLqzpV9atcsF0e2X/RpjkNL/zybjl%2B/SsyrWj/APH2/wD16z/%2BinpNKwB/aFp/0A7X/vuX/wCLo/tC0/6Adr/33L/8XVWinZAWv7QtP%2BgHa/8Afcv/AMXR/aFp/wBAO1/77l/%2BLqrRRZAadjfWrW14Ro9sMWwJAaX5v3qcH5/x49Krf2haf9AO1/77l/8Ai6NP/wCPS%2B/69R/6NjqrSSV2Ba/tC0/6Adr/AN9y/wDxdH9oWn/QDtf%2B%2B5f/AIuqtFOyAtf2haf9AO1/77l/%2BLqzFfWp0id/7HtgBcxArulwflk5%2B/n/APXWZVqH/kC3H/X1D/6DLSaQB/aFp/0A7X/vuX/4uj%2B0LT/oB2v/AH3L/wDF1Vop2QFr%2B0LT/oB2v/fcv/xdH9oWn/QDtf8AvuX/AOLqrRRZAact9ajSIH/se2INzKAu6XA%2BWPn7%2Bf8A9VVv7QtP%2BgHa/wDfcv8A8XRN/wAgW3/6%2Bpv/AEGKqtJJAWv7QtP%2BgHa/99y//F0f2haf9AO1/wC%2B5f8A4uqtFOyAtf2haf8AQDtf%2B%2B5f/i6s319arbWZOj2xzbEgFpfl/evwPn/Hn1rMq1qH/HpY/wDXqf8A0bJSaV0Af2haf9AO1/77l/8Ai6P7QtP%2BgHa/99y//F1Vop2QFr%2B0LT/oB2v/AH3L/wDF12vhKRJfD9vJHAkYO/CITgfO3qSf1rgK7zwZ/wAi1bf8D/8AQ2rGskolR3NSiiiuYoKKKKACiiigAooooAKKKKACiiigAooooAKKKKACiiigAooooAK8F%2BDn/C2dL/ah%2BJ%2Bt%2BJf2afFem%2BH/ABXeaWmla7c6lokls6Wtt9nkkeOLUXnVWJ3qDFuK9VVvlr3qigD5h/Ym/Z2%2BJnw0%2BJlx4o8W%2BGfFPh7QtA%2BHun%2BEvDOheJ/Eunan5EUNxLIYrSSxVS9lDGIEhmugLyUO/nKuxM2v%2BCvmhL4j/wCCdHxP01rdZNmgNdDOfl8hhPuGD28rvX0pXkP7efh//hLP2QfiJ4YCbjqHgzVrdRj%2BJ7C4UfqRXJj6Xt8BWp94TX/ksj6TgzG/2bxjluLvb2eIoS%2B6tSb/AAuZ3wO8X2viz4KeD/FJ0i1c6n4W0%2B73l5fm8y2jfP3/AHrqf7QtP%2BgHa/8Afcv/AMXXiv8AwT78Qf8ACTfsPfCjVC%2B4r4D022Zs9TDbpCf1jr2CvQwNRV8DSqfzRi/vjFnHxPgv7N4mx2Etb2detD/wGrVivwSLX9oWn/QDtf8AvuX/AOLo/tC0/wCgHa/99y//ABdVaK6rI8M05b61GkQP/Y9sQbmUBd0uB8sfP38//qqt/aFp/wBAO1/77l/%2BLom/5Atv/wBfU3/oMVVaSSAtf2haf9AO1/77l/8Ai6P7QtP%2BgHa/99y//F1Vop2QFr%2B0LT/oB2v/AH3L/wDF1Zvr61W2sydHtjm2JALS/L%2B9fgfP%2BPPrWZVrUP8Aj0sf%2BvU/%2BjZKTSugD%2B0LT/oB2v8A33L/APF0f2haf9AO1/77l/8Ai6q0U7IC1/aFp/0A7X/vuX/4uj%2B0LT/oB2v/AH3L/wDF1VoosgNPVb61W5UNo9s3%2BjQnLNL/AM8l44ft0qt/aFp/0A7X/vuX/wCLo1j/AI%2B0/wCvWD/0UlVaSSsBa/tC0/6Adr/33L/8XR/aFp/0A7X/AL7l/wDi6q0U7IC1/aFp/wBAO1/77l/%2BLqzrF9apq90jaPbMRcuCzNLk/MeTh8VmVa1z/kNXn/X1J/6EaVlcA/tC0/6Adr/33L/8XR/aFp/0A7X/AL7l/wDi6q0U7IC1/aFp/wBAO1/77l/%2BLqzo99avq9qi6PbKTcoAytLkfMOeXxWZVrQ/%2BQ1Z/wDX1H/6EKTSswD%2B0LT/AKAdr/33L/8AF0f2haf9AO1/77l/%2BLqrRTsgLX9oWn/QDtf%2B%2B5f/AIuj%2B0LT/oB2v/fcv/xdVaKLIDT0q%2BtWuWC6PbL/AKNMchpf%2BeTccv36VW/tC0/6Adr/AN9y/wDxdGj/APH2/wD16z/%2BinqrSsrgWv7QtP8AoB2v/fcv/wAXR/aFp/0A7X/vuX/4uqtFOyAtf2haf9AO1/77l/8Ai6s2N9atbXhGj2wxbAkBpfm/epwfn/Hj0rMq1p//AB6X3/XqP/RsdJpWAP7QtP8AoB2v/fcv/wAXR/aFp/0A7X/vuX/4uqtFOyAtf2haf9AO1/77l/8Ai66PwBcRT/a/KsYoceXnyi5z97ruY1yVdR8Nv%2BX3/tn/AOzVnVS5GNbnUUUUVyFhRRWb4z8WaN4B8H6t468RzNHp2i6ZPf38iLuKwwxtI5A7kKp4oA0qK%2BftH/bg1jSPhv498cfGL4Nf2De%2BCPhfa%2BPv7H0jxCNRN5pNxDfSRxmR4IBFdK2nzpJHh40LRsJXDErWtv22PiLqPjU/AfSPgt4cu/idFqzQ3OgwfEF20qKyGmx34u/t40/zORNFCIzag%2BY%2Bc%2BXiUgH0VXB%2BM/8AkZbn/gH/AKAta3wW%2BKWifHD4QeFvjL4btLi3sPFfh6z1a0trsASwR3EKSiOQAkB13bWAJGQayfGf/Iy3P/AP/QFrah8ZMtjLooorqJCvnv8A4Kq/Ea4%2BGP8AwT%2B%2BJeuWUyLPfaGukRqxGXF7NHaSAep8uaQ/gT2r6Er48/4K4mw%2BIP8Awo/9mO5Mp/4T34w6d9uSL%2BLT7f5bnI74%2B0xN/wABrx8/qzo5LXcPiceVes2oL8ZnBmnM8uqxi7OS5VpfWdoJ20vbnv8AI%2BiP2YPhDB8Bf2ePBfwgXRraxuNA8NWVpqUNrCqK94sKi4kIUYLvLvdm6szEnk13dWtc/wCQ1ef9fUn/AKEaq16dClChQhShtFJL0SS/Q79FolZdPJLRL5JJLySCiiitQLWh/wDIas/%2BvqP/ANCFVataH/yGrP8A6%2Bo//QhVWl1AKKKKYBVrR/8Aj7f/AK9Z/wD0U9VataP/AMfb/wDXrP8A%2BinpPYCrRRRTAKKKKALWn/8AHpff9eo/9Gx1Vq1p/wDx6X3/AF6j/wBGx1VpLdgFFFFMAq1D/wAgW4/6%2Bof/AEGWqtWof%2BQLcf8AX1D/AOgy0mBVooopgFFFFAFqb/kC2/8A19Tf%2BgxVVq1N/wAgW3/6%2Bpv/AEGKqtJAFFFFMAq1qH/HpY/9ep/9GyVVq1qH/HpY/wDXqf8A0bJSe6Aq0UUUwCu88Gf8i1bf8D/9DauDrvPBn/ItW3/A/wD0Nqxr/AOO5qUUUVylhRRRQAUUUUAFFFFABRRRQAUUUUAFFFFABRRRQAUUUUAFFFFABRRRQAVy3xj0iHX/AAPc6Dc48u9D28mR/C8Tqf511NcD8WPiZ4X0bxt4f%2BEN9JMuseINO1DVdOAj/dtBYvaRTgtnht1/AQMcgOcjbyKUFJcz0bt9%2BlvmJ1lh5RnezTVn53VvndKx8sf8EhNXm1T/AIJ5/D%2BC84uNPXUrG4QnlGh1G5QD/vkLX0rXy/8A8EoP%2BJZ8D/G/gTp/wi3xj8SaVs/ubLlZMf8AkX9a%2BoKwyBt5Jh0%2BkEv/AAG8f/bT7vxUhGPiVm8oqyniKk16VeWqvwqoKKKK9c%2BBLU3/ACBbf/r6m/8AQYqq1am/5Atv/wBfU3/oMVVaSAKKKKYBVrUP%2BPSx/wCvU/8Ao2SqtWtQ/wCPSx/69T/6NkpPdAVaKKKYBRRRQBa1j/j7T/r1g/8ARSVVq1rH/H2n/XrB/wCikqrSWwBRRRTAKta5/wAhq8/6%2BpP/AEI1Vq1rn/IavP8Ar6k/9CNLqBVooopgFWtD/wCQ1Z/9fUf/AKEKq1a0P/kNWf8A19R/%2BhCk9mBVooopgFFFFAFrR/8Aj7f/AK9Z/wD0U9VataP/AMfb/wDXrP8A%2BinqrS6gFFFFMAq1p/8Ax6X3/XqP/RsdVataf/x6X3/XqP8A0bHSewFWiiimAV1Hw2/5ff8Atn/7NXL11Hw2/wCX3/tn/wCzVnV/hsa3OoooorjLCs3xl4T0bx74Q1XwN4jgaXTta02ewv4lbaXhmjaNwD2JVjzWlRQB4Z8L/wBlH4oeCJNZ1XxN8fLHVtX1XwHY%2BEYdWt/BawNa2FjHd/ZJhFLczxSXPnXs8szOhimxGghiVTu5bwR/wT31z4Y38HxH%2BGfxJ8H%2BHfHUGsTzpeaH8Mxa6DFZS2CWbWUelx3ysi7o0ud/2ksZ9xOY28ofTlFAHM/Bf4W6H8D/AIQeFvg14Zuri40/wp4fs9Js7m7YGaaO3hSISSEAAuwXcxAGSTVHxbquqW3iC4ht9SuI0XZtRJmAHyL2BrtK4Pxn/wAjLc/8A/8AQFraik5ClsVf7c1r/oMXX/gQ3%2BNH9ua1/wBBi6/8CG/xqrRXTZdiC1/bmtf9Bi6/8CG/xr4/%2BMOq%2BIfiz/wWT%2BFHg9dUa6svhj8NdV8Szo8xYwTXrPZHqeGz9kYfga%2Btq%2BO/2LTZfFX/AIKT/tLfHJYZdmh3Ol%2BEdMduVHkRlLtQf%2Bu1pG2P9uvDzlKpUwuH/nqxb9KalUf4qJwY1e0q0KXeab66QUp9%2B/Lr0dj7X1jWNXi1e6ii1W5VVuXCqs7AAbjx1qt/bmtf9Bi6/wDAhv8AGjXP%2BQ1ef9fUn/oRqrXtpKy0O8tf25rX/QYuv/Ahv8aP7c1r/oMXX/gQ3%2BNVaKdl2A09H1jV5dXtYpdVuWVrlAytOxBG4cHmq39ua1/0GLr/AMCG/wAaND/5DVn/ANfUf/oQqrSsr7AWv7c1r/oMXX/gQ3%2BNH9ua1/0GLr/wIb/GqtFOy7AWv7c1r/oMXX/gQ3%2BNWdK1jV5Lllk1W5YC2mOGnY8iJiD19azKtaP/AMfb/wDXrP8A%2BinpNK2wB/bmtf8AQYuv/Ahv8aP7c1r/AKDF1/4EN/jVWinZdgLX9ua1/wBBi6/8CG/xo/tzWv8AoMXX/gQ3%2BNVaKLLsBp2Osau9teM%2Bq3JK2wKkztwfNQZHPoT%2BdVv7c1r/AKDF1/4EN/jRp/8Ax6X3/XqP/RsdVaSSu9ALX9ua1/0GLr/wIb/Gj%2B3Na/6DF1/4EN/jVWinZdgLX9ua1/0GLr/wIb/GrMWsaudInlOq3O4XMQDee2QCsmR19h%2BVZlWof%2BQLcf8AX1D/AOgy0ml2AP7c1r/oMXX/AIEN/jR/bmtf9Bi6/wDAhv8AGqtFOy7AWv7c1r/oMXX/AIEN/jR/bmtf9Bi6/wDAhv8AGqtFFl2A05dY1caRBKNVudxuZQW89skBY8Dr7n86rf25rX/QYuv/AAIb/Gib/kC2/wD19Tf%2BgxVVpJLsBa/tzWv%2Bgxdf%2BBDf40f25rX/AEGLr/wIb/GqtFOy7AWv7c1r/oMXX/gQ3%2BNWb7WNXS2s2TVbkFrYliJ25PmuMnn0A/KsyrWof8elj/16n/0bJSaV1oAf25rX/QYuv/Ahv8aP7c1r/oMXX/gQ3%2BNVaKdl2Atf25rX/QYuv/Ahv8a7XwlPPc%2BH7ea4meR237ndiSfnbua4Cu88Gf8AItW3/A//AENqxrJKJUdzUooormKCiiigAooooAKKKKACiiigAooooAKKKKACiiigAooooAKKKKACvN/hB8dvEHxL%2BJvxF%2BHWv/C%2Bfw%2BfA2rW1tZzT6rFcS6pbzQmRLgxxjbAGwSqb3bYyF/LctGnpFeN%2BBPgB8cPC/xs8b/EzXPjT4WvdI8bzWv2vR7HwHdWt1axW8PkRql2dUkXf5Wdz%2BTy/wAwVR8tAGT%2Bxn%2B27b/tc6hq1jb%2BDdK086Zomm6lN/Yvioao2nyXbXCnS9RX7PD9h1OD7P8AvrT975e8fOeM8N%2B2v4nn8M/8FBf2ZITlbfWbDxvps8n8IZrPT50U/VrcY%2Blekfst/sk6z%2Bz3qdvqXiL4l2ev/wBk%2BAtJ8G6Amm%2BGv7MEel6e07Qvdf6RMLm5PncyKIoxhtkSb2z5T/wVdMnhHxf%2Bzh8ZLaVon0X48adpc06NgxQahBNFI2ew/dqD9RXm5tN08H7RfZlTfyVSF/wZ4ufylTy11F9idOXyVWF/wZyH/BPT/iRfGL9pLwJ937P8arvVdnp9ut4pM/jsr6gr5m/Za1XVPDX/AAUk/aa8OJqU6LqsXhPVoAszAtnT5I5WPPPz4r6j/tzWv%2Bgxdf8AgQ3%2BNdOR3WX8n8s6kfuqT/zP1fxO/ecV/WP%2Bf2HwdT/wPB4a/wCMGvkVaKtf25rX/QYuv/Ahv8aP7c1r/oMXX/gQ3%2BNexqfnwTf8gW3/AOvqb/0GKqtacusauNIglGq3O43MoLee2SAseB19z%2BdVv7c1r/oMXX/gQ3%2BNJXAq0Va/tzWv%2Bgxdf%2BBDf40f25rX/QYuv/Ahv8aeoFWrWof8elj/ANep/wDRslH9ua1/0GLr/wACG/xqzfaxq6W1myarcgtbEsRO3J81xk8%2BgH5Une6AzKKtf25rX/QYuv8AwIb/ABo/tzWv%2Bgxdf%2BBDf409QKtFWv7c1r/oMXX/AIEN/jR/bmtf9Bi6/wDAhv8AGjUA1j/j7T/r1g/9FJVWtPVdY1eO5VY9VuVBtoTgTsOTEpJ6%2BtVv7c1r/oMXX/gQ3%2BNJXsBVoq1/bmtf9Bi6/wDAhv8AGj%2B3Na/6DF1/4EN/jT1Aq1a1z/kNXn/X1J/6EaP7c1r/AKDF1/4EN/jVnWNY1eLV7qKLVblVW5cKqzsABuPHWlrcDMoq1/bmtf8AQYuv/Ahv8aP7c1r/AKDF1/4EN/jT1Aq1a0P/AJDVn/19R/8AoQo/tzWv%2Bgxdf%2BBDf41Z0fWNXl1e1il1W5ZWuUDK07EEbhweaTvZgZlFWv7c1r/oMXX/AIEN/jR/bmtf9Bi6/wDAhv8AGnqBVoq1/bmtf9Bi6/8AAhv8aP7c1r/oMXX/AIEN/jRqAaP/AMfb/wDXrP8A%2BinqrWnpWsavJcssmq3LAW0xw07HkRMQevrVb%2B3Na/6DF1/4EN/jS1uBVoq1/bmtf9Bi6/8AAhv8aP7c1r/oMXX/AIEN/jT1Aq1a0/8A49L7/r1H/o2Oj%2B3Na/6DF1/4EN/jVmx1jV3trxn1W5JW2BUmduD5qDI59CfzpO9gMyirX9ua1/0GLr/wIb/Gj%2B3Na/6DF1/4EN/jT1Aq11Hw2/5ff%2B2f/s1YP9ua1/0GLr/wIb/Guj8AX17e/a/tl5LLt8vb5shbGd3TNZ1b8jGtzo6KKK5Cwoornvi741ufhr8J/E/xFstOF5NoHh291KK0Of37QQPKE455K449aAOhor5ItPj78efhn8MvilbeJvjZB4g1bRPgDpXjrQ/Eeu6Jbxxafqd5FqyNCYrCBPMtBLYQvEhSWYhpVLy/LXMaL8Xf23/EuqzeFbS6%2BLyw%2BHvG00PiHTrTSfBzeK7XTpNBt7q3FyzRnSmR7t5TGbcmQoBGx8wMgAPt6uD8Z/8AIy3P/AP/AEBa2/hJ438OfEz4U%2BGfiP4P8RXGsaR4g8PWWpaXq13AsUt7bzwJLHO6KiBGdGVioRQCxAVegzPFum3Fx4guJo5LcA7MB7qNT9xexYEVtRdpClsYdFWJtNlt4XuLi7s440Us7vqEICgckkluBXw1%2B01/wWv%2BEfgXVf8AhXH7K3g28%2BJ/im6uTaWM9gjjTWuMhQkbqDJeMCV%2BWFdrAjEgzWGY5tl2VUvaYqoop7LdvySV236Iyi51cVTwtGEqlapdQpwjKdSbSu%2BWEU5Oy1bsoxV3KUIpyX2tqmp2GiaZc6zqt0kFraQPNczyHCxxopZmJ7AAE18nf8EYNO1rVf2UdX%2BNviQq998TPiJrXiSaXHzNvmFuwP8A20t5D/wL3rzjSf2Af%2BCj/wC3csXiD9vP9oxfBXhO7Ak/4V34QvoI5GjPPlyqrmJDzwZWuHHIIFfcPwW%2BA/hH4A/CzRPg58NrSC10TQLMW9jFLqcTuRuLM7tu%2BZmdmYnjJY8CvLwdXF5rmdPFzoypUqcZqPO0pSc%2BVX5FdxSin8TvrsgrZbi6GKjWxThGUVJKmpKpNczjdzlC9OLtHl5I1KstXzNWsdRrn/IavP8Ar6k/9CNVa09Y0q6k1e6kWW2Aa5cjdeRA/ePUFsiq39j3f/Pa1/8AA6L/AOKr6NNWRRVoq1/Y93/z2tf/AAOi/wDiqP7Hu/8Anta/%2BB0X/wAVTugDQ/8AkNWf/X1H/wChCqtaej6VdR6vayNLbELcoTtvIifvDsGyarf2Pd/89rX/AMDov/iqV1cCrRVr%2Bx7v/nta/wDgdF/8VR/Y93/z2tf/AAOi/wDiqd0BVq1o/wDx9v8A9es//op6P7Hu/wDnta/%2BB0X/AMVVnStKuo7lmaW2/wCPaYcXkR6xMOzUm1YDMoq1/Y93/wA9rX/wOi/%2BKo/se7/57Wv/AIHRf/FU7oCrRVr%2Bx7v/AJ7Wv/gdF/8AFUf2Pd/89rX/AMDov/iqLoA0/wD49L7/AK9R/wCjY6q1p2OlXS214pltvmtgBi8iP/LVDz83HTvVb%2Bx7v/nta/8AgdF/8VSTV2BVoq1/Y93/AM9rX/wOi/8AiqP7Hu/%2Be1r/AOB0X/xVO6Aq1ah/5Atx/wBfUP8A6DLR/Y93/wA9rX/wOi/%2BKqzFpV0NInj822ybmIj/AEyLHCyd92O/%2BcUm0BmUVa/se7/57Wv/AIHRf/FUf2Pd/wDPa1/8Dov/AIqndAVaKtf2Pd/89rX/AMDov/iqP7Hu/wDnta/%2BB0X/AMVRdAE3/IFt/wDr6m/9BiqrWnLpV0dIgj822yLmUn/TIscrH33Y7f5zVb%2Bx7v8A57Wv/gdF/wDFUk0BVoq1/Y93/wA9rX/wOi/%2BKo/se7/57Wv/AIHRf/FU7oCrVrUP%2BPSx/wCvU/8Ao2Sj%2Bx7v/nta/wDgdF/8VVm%2B0q6a2s1Ett8tsQc3kQ/5auePm569qTaugMyirX9j3f8Az2tf/A6L/wCKo/se7/57Wv8A4HRf/FU7oCrXeeDP%2BRatv%2BB/%2BhtXG/2Pd/8APa1/8Dov/iq7XwlC9v4ft4ZChI35KOGH327gkGsazTiVHc0aKKK5igooooAKKKKACiiigAooooAKKKKACiiigAooooAKKKKACiiigAooooAK%2BQ/%2BC4Nnc2/7A2qePLCIvdeEPFmia3aheoaK%2BjQkfRZGP4V9eV4J/wAFPvCH/CdfsG/E/wAOLF5jt4Qv7iFMfekhtpJ0H13RrXBmtJ18srwW7hK3qotr8Ujys9oyxGSYmnHd0529VFtfjFHgnhG9ttB/4K5a4scg%2By%2BN/gXZalZTD7sz21/5W3/eEbbvpX1NXwxa%2BL/%2BLn/sUftGCX934l8Iz%2BG9blz9%2BW60qF4I8%2B1wsn1xX3PVZFVVSNdL%2BfmXpUhCovzZ%2BmcZVo5llGQ5rHavgaUf%2B3qE61F/h7N/NBRRRXunwham/wCQLb/9fU3/AKDFVWrU3/IFt/8Ar6m/9BiqrSQBRRRTAKtah/x6WP8A16n/ANGyVVq1qH/HpY/9ep/9GyUnugKtFFFMAooooAtax/x9p/16wf8AopKq1a1j/j7T/r1g/wDRSVVpLYAooopgFWtc/wCQ1ef9fUn/AKEaq1a1z/kNXn/X1J/6EaXUCrRRRTAKtaH/AMhqz/6%2Bo/8A0IVVq1of/Ias/wDr6j/9CFJ7MCrRRRTAKKKKALWj/wDH2/8A16z/APop6q1a0f8A4%2B3/AOvWf/0U9VaXUAooopgFWtP/AOPS%2B/69R/6NjqrVrT/%2BPS%2B/69R/6NjpPYCrRRRTAK6j4bf8vv8A2z/9mrl66j4bf8vv/bP/ANmrOr/DY1udRRRRXGWFMuba3vLeS0u4ElilQpLFIoZXUjBBB4II4xT6KAPLfC/7GH7N/hDw1qvg7SPAd1Jpet6QdJ1aw1LxHqF7Fc6d5DwJYstxO/8Ao0cckixQf6uHzXMaoXYmF/2Jf2dpNKbTToPiITyak99NraeP9aXVppntktWEmoi8%2B1yRmCOOPymlMe2NBt%2BUY9YooAo%2BGPDPh/wX4a07wd4S0a307StJsYbLTNPs4gkVrbxIEjiRRwqqiqoA6ACuR8Z/8jLc/wDAP/QFrvK4Hx1NFba/eXE7hUjVWdj2AjBJraj8RMtj4U/4LTftfX/wf%2BDEH7N3w0upX8YfEOEwTx2eTNa6WW8uQgKCQ87kW6cchpcYKivRv%2BCff/BPP4Zfsi/D7SPEms6CmpfEa60eFdd8QX7ieS0coN9pak8QwoSU%2BQAuFyxPAHyB/wAE/fD2u/8ABRr9vzVv2xviVZvLpHhe6XVEtJkJitbkM8WlWCZGCIIka5Z0xukZdy5OT%2BqVfLZFCOeZhUzmtG8b8lFPpGL1mvOT67rofS0qmI4d4apqlNwxOZU41qtnZxwkvewuHbWqVSN8ZXhdKUquHhNSVNRRRRRX2Z8wWtc/5DV5/wBfUn/oRqrVrXP%2BQ1ef9fUn/oRqrSWyAKKKKYFrQ/8AkNWf/X1H/wChCqtWtD/5DVn/ANfUf/oQqrS6gFFFFMAq1o//AB9v/wBes/8A6KeqtWtH/wCPt/8Ar1n/APRT0nsBVooopgFFFFAFrT/%2BPS%2B/69R/6NjqrVrT/wDj0vv%2BvUf%2BjY6q0luwCiiimAVah/5Atx/19Q/%2Bgy1Vq1D/AMgW4/6%2Bof8A0GWkwKtFFFMAooooAtTf8gW3/wCvqb/0GKqtWpv%2BQLb/APX1N/6DFVWkgCiiimAVa1D/AI9LH/r1P/o2SqtWtQ/49LH/AK9T/wCjZKT3QFWiiimAV3ngz/kWrb/gf/obVwdd54M/5Fq2/wCB/wDobVjX%2BAcdzUooorlLCiiigAooooAKKKKACiiigAooooAKKKKACiiigAooooAKKKKACiivHvgL4s%2BLWq/Hn4w%2BAviN8QY9Xs9E1fTX8NxWukQ2qaZa3NoZRAuNzysBtLSSs2595URoViUA9hrkPjj4etfF3w5v/Cl7jydTgltJsj%2BGSGRD%2BjVwv7M8nxP1D4q/ENtc%2BPXiTxf4W8P39toGkx%2BItO0mN21KKLz764R9PsbbdGDcQWwV922S1uD0Zcen%2BO7aS60iOOJowRcg/vJVQfdbuxAqopSlZ7MmcVODi9mfktaa9eQ/8Edvg98ZrxWS/wDg98TdOv73H3oRZ6zPZ7T7bJo8iv0yR0kUOjBlYZBByCK%2BCPhl8MZ/F37CH7W37O%2ByBpfC3xE8XLplsbhMtGiR3trtBPO6ReMZr67/AGP/ABXc/Fj9lT4c/EU3du8mreC9Nnui17GCJ/s6CUHLZyJAw/CvnuHJ%2BzqRg38VGn99KU6T/BRPpsslLH%2BCWUVXrLCYivh36VKdOrH/AMno1PmzvaKtf2Pd/wDPa1/8Dov/AIqj%2Bx7v/nta/wDgdF/8VX110fLhN/yBbf8A6%2Bpv/QYqq1py6VdHSII/Ntsi5lJ/0yLHKx992O3%2Bc1W/se7/AOe1r/4HRf8AxVJNAVaKtf2Pd/8APa1/8Dov/iqP7Hu/%2Be1r/wCB0X/xVO6Aq1a1D/j0sf8Ar1P/AKNko/se7/57Wv8A4HRf/FVZvtKumtrNRLbfLbEHN5EP%2BWrnj5uevak2roDMoq1/Y93/AM9rX/wOi/8AiqP7Hu/%2Be1r/AOB0X/xVO6Aq0Va/se7/AOe1r/4HRf8AxVH9j3f/AD2tf/A6L/4qi6ANY/4%2B0/69YP8A0UlVa09V0q6kuVZZbb/j2hHzXkQ6RKO7VW/se7/57Wv/AIHRf/FUk1YCrRVr%2Bx7v/nta/wDgdF/8VR/Y93/z2tf/AAOi/wDiqd0BVq1rn/IavP8Ar6k/9CNH9j3f/Pa1/wDA6L/4qrOsaVdSavdSLLbANcuRuvIgfvHqC2RSurgZlFWv7Hu/%2Be1r/wCB0X/xVH9j3f8Az2tf/A6L/wCKp3QFWrWh/wDIas/%2BvqP/ANCFH9j3f/Pa1/8AA6L/AOKqzo%2BlXUer2sjS2xC3KE7byIn7w7Bsmk2rMDMoq1/Y93/z2tf/AAOi/wDiqP7Hu/8Anta/%2BB0X/wAVTugKtFWv7Hu/%2Be1r/wCB0X/xVH9j3f8Az2tf/A6L/wCKougDR/8Aj7f/AK9Z/wD0U9Va09K0q6juWZpbb/j2mHF5EesTDs1Vv7Hu/wDnta/%2BB0X/AMVSurgVaKtf2Pd/89rX/wADov8A4qj%2Bx7v/AJ7Wv/gdF/8AFU7oCrVrT/8Aj0vv%2BvUf%2BjY6P7Hu/wDnta/%2BB0X/AMVVmx0q6W2vFMtt81sAMXkR/wCWqHn5uOnek2rAZlFWv7Hu/wDnta/%2BB0X/AMVR/Y93/wA9rX/wOi/%2BKp3QFWuo%2BG3/AC%2B/9s//AGasH%2Bx7v/nta/8AgdF/8VXR%2BALOW0%2B1%2Ba8R3eXjyp0f%2B912k4rOq1yMa3OjooorkLCiiua%2BMw8Zn4P%2BKx8OTJ/wkP8AwjV9/YPlff8Atv2d/I2%2B/mbcUAdLRX57%2BDNf%2BD2m/A74zaT%2BzbKp8P3/AOzTpSvp/hC%2BFvdXPiVbTWft5Qorv/aiW7WLXTFHnX/RzIrNhTzfw2tPgBpXj2TTvjxrnw01v4Kx%2BKtVkuNa8LaPHp/ga41hvD2lfZUtbQzTxQzJGupA4mlL3L7lKSkRRgH6WV4v%2B1b4i/4Q/wCGPj3xbnH9l%2BE767z6eVZM/wD7LXRfseD4gL%2ByR8LV%2BLAvh4pHw60T/hJP7Tz9p%2B3/AGCH7R52efM8zfuz/FmvM/8AgpVq%2BmaB%2ByB8Y9TmvJklPw81SBVEA275bJ4l%2Bbdnq47VnXqexwlWp2hJ/dGTOTH1VQwNWo/sxk/ujJ/oeK/8EWfAOh%2BC/wDgnr4O1XTdLSC88RXOoalq0yj5riU3k0KOfpBDCv0WvqyvIf8AgnP4a0bw1%2Bwl8JtOa6uI2l8C6fdsi2qkZnhE553jPMmele0eTov/AEELr/wDX/45SySksPk2GppbU4f%2Bkp/qdHv8kIybbjGEddfhp042%2BXLyrskl0KtFWvJ0X/oIXX/gGv8A8co8nRf%2Bghdf%2BAa//HK9S4g1z/kNXn/X1J/6Eaq1p6xFpB1e6Mt9chvtL7gtqpAO4994zVbydF/6CF1/4Br/APHKSeiAq0Va8nRf%2Bghdf%2BAa/wDxyjydF/6CF1/4Br/8cp3AND/5DVn/ANfUf/oQqrWno8WkDV7UxX1yW%2B0ptDWqgE7h1O84qt5Oi/8AQQuv/ANf/jlK%2BoFWirXk6L/0ELr/AMA1/wDjlHk6L/0ELr/wDX/45TuBVq1o/wDx9v8A9es//op6PJ0X/oIXX/gGv/xyrOlRaQLlvLvrkn7NNw1qo48ps/x%2BlJvQDMoq15Oi/wDQQuv/AADX/wCOUeTov/QQuv8AwDX/AOOU7gVaKteTov8A0ELr/wAA1/8AjlHk6L/0ELr/AMA1/wDjlFwDT/8Aj0vv%2BvUf%2BjY6q1p2MWkC2vNl9ckG2G4m1UYHmp0%2BfnnFVvJ0X/oIXX/gGv8A8cpJ6sCrRVrydF/6CF1/4Br/APHKPJ0X/oIXX/gGv/xyncCrVqH/AJAtx/19Q/8AoMtHk6L/ANBC6/8AANf/AI5VmKLSP7InAvrnb9piyfsq5B2yY43/AFpNgZlFWvJ0X/oIXX/gGv8A8co8nRf%2Bghdf%2BAa//HKdwKtFWvJ0X/oIXX/gGv8A8co8nRf%2Bghdf%2BAa//HKLgE3/ACBbf/r6m/8AQYqq1pyxaR/ZEAN9c7ftMuD9lXJO2PPG/wClVvJ0X/oIXX/gGv8A8cpJgVaKteTov/QQuv8AwDX/AOOUeTov/QQuv/ANf/jlO4FWrWof8elj/wBep/8ARslHk6L/ANBC6/8AANf/AI5Vm%2Bi0g21nvvrkAWx2kWqnI81%2Bvz8c5pN6oDMoq15Oi/8AQQuv/ANf/jlHk6L/ANBC6/8AANf/AI5TuBVrvPBn/ItW3/A//Q2rjfJ0X/oIXX/gGv8A8crtfCQgXw/bi3kd0%2BfazoFJ%2BduwJ/nWNZ%2B6VHc0aKKK5igooooAKKKKACiiigAooooAKKKKACiiigAooooAKKKKACiiigArznwl%2Byt8IPA/xM1b4veHG8WR67rlyk%2BrTXPxF1u4t7p0%2B5utprxoNqj5VQR7VX5QAvFejUUAY3gjwB4R%2BHGmXej%2BDNJ%2Bx299rN9qt2huJJTJd3lzJdXEmZGYjdNK7bQdqghVCqAoi%2BIf/IFi/wCvpf8A0Fq3qwfiH/yBYv8Ar6X/ANBarp/GhPY%2BJP2XtPtNI/b2/af%2BE%2BpQBrHV5PD2tW8LdJUudPdLk4/3wBV7/gkdqF5a/sdW3wv1WcyX3gDxZrXhq9Z/vB4L2RwD6YSZB9AKy/jjfz/st/8ABRPwd%2B0TrAX/AIQ74q6JH4G167YYXTdUSUzWMznptl5i54UK7E9Ku/sPf8UJ%2B1p%2B0v8ABIjy44fHdj4ptY%2Bgf%2B1bMSyMvrhogD7185g2sNmlOm9HGpXg/SolWg/R2lb0a3Po%2BAmsT4f8R5S/iw9WhiUv7vt50215Onil9zvsfUVFFFfYHzJam/5Atv8A9fU3/oMVVatTf8gW3/6%2Bpv8A0GKqtJAFFFFMAq1qH/HpY/8AXqf/AEbJVWrWof8AHpY/9ep/9GyUnugKtFFFMAooooAtax/x9p/16wf%2BikqrVrWP%2BPtP%2BvWD/wBFJVWktgCiiimAVa1z/kNXn/X1J/6Eaq1a1z/kNXn/AF9Sf%2BhGl1Aq0UUUwCrWh/8AIas/%2BvqP/wBCFVataH/yGrP/AK%2Bo/wD0IUnswKtFFFMAooooAtaP/wAfb/8AXrP/AOinqrVrR/8Aj7f/AK9Z/wD0U9VaXUAooopgFWtP/wCPS%2B/69R/6NjqrVrT/APj0vv8Ar1H/AKNjpPYCrRRRTAK6j4bf8vv/AGz/APZq5euo%2BG3/AC%2B/9s//AGas6v8ADY1udRRRRXGWFFFFABRRRQAV8Y/8Fq9Zk0L9gz4q3sT7WksdOt8juJr60iI/JzX2dXwN/wAF9taksf2Ldd8PQ/6zX/E2j2Eaj%2BJvNWcD/wAgV5udVPZZJipf9O5/irfqeZnUKlXKa9On8UouK9ZWgvxmj3L9mfw9J4S/Zw%2BH/hWZNr6Z4I0m0ZT2MdnEhH/jtdvUVjZwadZQ6fartigiWOMeiqMD9BUte9RpqjRjTX2Ul9yS/Q9XE1I1sROpFWUpSa9G2/1CiiitDEta5/yGrz/r6k/9CNVata5/yGrz/r6k/wDQjVWktkAUUUUwLWh/8hqz/wCvqP8A9CFVataH/wAhqz/6%2Bo//AEIVVpdQCiiimAVa0f8A4%2B3/AOvWf/0U9VataP8A8fb/APXrP/6Kek9gKtFFFMAooooAtaf/AMel9/16j/0bHVWrWn/8el9/16j/ANGx1VpLdgFFFFMAq1D/AMgW4/6%2Bof8A0GWqtWof%2BQLcf9fUP/oMtJgVaKKKYBRRRQBam/5Atv8A9fU3/oMVVatTf8gW3/6%2Bpv8A0GKqtJAFFFFMAq1qH/HpY/8AXqf/AEbJVWrWof8AHpY/9ep/9GyUnugKtFFFMArvPBn/ACLVt/wP/wBDauDrvPBn/ItW3/A//Q2rGv8AAOO5qUUUVylhRRRQAUUUUAFFFFABRRRQAUUUUAFFFFABRRRQAUUUUAFFFFABRRWXonjfwX4m1nVvDnhvxfpeoahoNwlvrlhY6hHLNp0rxiRI50Vi0LMjK4VwCVYEcHNAGpWD8Q/%2BQLF/19L/AOgtSeDfit8LviNqWraP8PfiToGvXegXn2TXbXRtYgupNNuMsPKnWJmML5RxtfByjccGl%2BIf/IFi/wCvpf8A0Fqun8aE9jwv9qr9n3w7%2B1H8AvEnwS8ROsI1ixI0%2B9IybK8Qh7e4GOfklVScdRkdCa%2BLPhh40/aAXSov26Ph5pNxq3xH%2BH8B8FftEfDeQgzazDYMR9tt%2BMi5EeJRj5X%2BZVztZZP0Vr5w%2BN37G/xc074x6t%2B1B%2Bxl8Z4fCHjLW7e3TxN4e1yxFzofiMwKViM6qPMhkCnb5qZOOgUszHyc7y6pWqwxVFNyWj5bc2l3CcbtJyhJv3W/ehKUeqLyjPMw4Rz%2BOb4SgsRTnCVHEUJfDXoTs3B6rWLV4uLjOLtKElKCUvZPgl8bPhv%2B0P8ADLS/i58KPEMepaLq0HmQTLw8TDh4pF6pIjZVlPII%2Bhrq6/LbxT8R/jX%2ByX8RdZ%2BIA0PxB%2Bz/AK9rF8LrxHpl34dk174ea/dYwbiOe1VprF5DgsEV2GQCV5FfUv7CX/BSPSf2q/GF98GvHGhaJpXi/T9KGoQT%2BHPEEeoabrFsG2vJAw%2BeJ1JUtBJ%2B8VWyehAzy3iXDYitHCYn3Kz02aUnrsnaUW7fDJb3SlLRv6nF5Pw9nFGtmHC2NhXowj7SeHqS9njcPDTmVWhNQdWNNys62H9pBxSnKNNOXL9XTf8AIFt/%2Bvqb/wBBiqrVqb/kC2//AF9Tf%2BgxVVr6ZHyAUUUUwCrWof8AHpY/9ep/9GyVVq1qH/HpY/8AXqf/AEbJSe6Aq0UUUwCiiigC1rH/AB9p/wBesH/opKq1a1j/AI%2B0/wCvWD/0UlVaS2AKKKKYBVrXP%2BQ1ef8AX1J/6Eaq1a1z/kNXn/X1J/6EaXUCrRRRTAKtaH/yGrP/AK%2Bo/wD0IVVq1of/ACGrP/r6j/8AQhSezAq0UUUwCiiigC1o/wDx9v8A9es//op6q1a0f/j7f/r1n/8ART1VpdQCiiimAVa0/wD49L7/AK9R/wCjY6q1a0//AI9L7/r1H/o2Ok9gKtFFFMArqPht/wAvv/bP/wBmrl66j4bf8vv/AGz/APZqzq/w2NbnUUUUVxlhTLm5trK2kvLy4SGGFC8ssrhVRQMliTwABzmn1z3xc8FXHxK%2BFHif4c2moizl1/w9e6bFdkE%2BQ08DxB%2BOeC2fwoA5/wCHf7UnwW%2BLHhvVvFPw/wBd1XUbfRdPhv7y2XwrqUd3JaTI7wXMFrJbrPdQzLHJ5UkKSLMY2EZYqQOdT9vL9m%2BS7/suO/8AGbagNafSTpC/CrxEb4Xi2aXrR/ZfsHnYFtLHKW2bQsi8/MBXPfsteDvjTYfFm5%2BIfxP%2BC1/4Vim%2BGfhvwmLZ9W0%2B5X7Tpj6jPPc5t7hybZ2v0jg480%2BXKZI4gVzyt9%2Bz344/4Ur4C8QeP/gR4z13xmdU1fXvE0HgL4jQaNqek6tqaTSSqLgXdvHcQxmX7MNtxhEiiCpLGCAAfU%2Bm38Gq6db6paxzpFcwJLGtzbPDIFYAgPHIFeNsHlWAYHggEYr4L/4LdWEXinR/hJ8OGOW8QfHrw9asn95GhnRh%2Bci19p/A/S/iVofwW8IaL8Z9bg1LxhZ%2BF9Pg8V6ja48q61JLaNbqVMKo2tMHYYUcHoOlfFP/AAVeuJNY/bP/AGV/BENmjCX4qf2pIMt%2B8%2Bx/YpOfm7B26Yryc9aeU1Ifzckf/AqlNHDmKlLDxjF2bnTX/lWm/wD22x9XUVa/tC0/6Adr/wB9y/8AxdH9oWn/AEA7X/vuX/4uvpbvsdRVoq1/aFp/0A7X/vuX/wCLo/tC0/6Adr/33L/8XRd9gDXP%2BQ1ef9fUn/oRqrWnrF9apq90jaPbMRcuCzNLk/MeTh8VW/tC0/6Adr/33L/8XSTdloBVoq1/aFp/0A7X/vuX/wCLo/tC0/6Adr/33L/8XTu%2BwBof/Ias/wDr6j/9CFVa09HvrV9XtUXR7ZSblAGVpcj5hzy%2BKrf2haf9AO1/77l/%2BLpXd9gKtFWv7QtP%2BgHa/wDfcv8A8XR/aFp/0A7X/vuX/wCLp3fYCrVrR/8Aj7f/AK9Z/wD0U9H9oWn/AEA7X/vuX/4urOlX1q1ywXR7Zf8ARpjkNL/zybjl%2B/Sk27bAZlFWv7QtP%2BgHa/8Afcv/AMXR/aFp/wBAO1/77l/%2BLp3fYCrRVr%2B0LT/oB2v/AH3L/wDF0f2haf8AQDtf%2B%2B5f/i6LvsAaf/x6X3/XqP8A0bHVWtOxvrVra8I0e2GLYEgNL8371OD8/wCPHpVb%2B0LT/oB2v/fcv/xdJN3egFWirX9oWn/QDtf%2B%2B5f/AIuj%2B0LT/oB2v/fcv/xdO77AVatQ/wDIFuP%2BvqH/ANBlo/tC0/6Adr/33L/8XVmK%2BtTpE7/2PbAC5iBXdLg/LJz9/P8A%2Buk2%2BwGZRVr%2B0LT/AKAdr/33L/8AF0f2haf9AO1/77l/%2BLp3fYCrRVr%2B0LT/AKAdr/33L/8AF0f2haf9AO1/77l/%2BLou%2BwBN/wAgW3/6%2Bpv/AEGKqtact9ajSIH/ALHtiDcygLulwPlj5%2B/n/wDVVb%2B0LT/oB2v/AH3L/wDF0k32Aq0Va/tC0/6Adr/33L/8XR/aFp/0A7X/AL7l/wDi6d32Aq1a1D/j0sf%2BvU/%2BjZKP7QtP%2BgHa/wDfcv8A8XVm%2BvrVbazJ0e2ObYkAtL8v71%2BB8/48%2BtJt3WgGZRVr%2B0LT/oB2v/fcv/xdH9oWn/QDtf8AvuX/AOLp3fYCrXeeDP8AkWrb/gf/AKG1cb/aFp/0A7X/AL7l/wDi67XwlIkvh%2B3kjgSMHfhEJwPnb1JP61jWvylR3NGiiiuYoKKKKACiiigAooooAKKKKACiiigAooooAKKKKACiiigAooooAK%2Ba/wBnfX/Cnhv9qj4x6L4b%2BGXi3QbXxFq%2BnS6XfP8AC7V7LT7u6W3ZbucXD2aQMTcuztIXxIWZwzAlq%2BlKKAPkr/gmf4V%2BMXw807TPhp460jXpbfw58KdB0rXNR8TeCk0uSy1y3aeO4sLO6FvC2pWYO%2BYTFrhd8pcTuZ2C/TfjtrVdIjN3DI6/aRgRyBTna3cg1tVg/EP/AJAsX/X0v/oLVdP40J7HL%2Bdov/QPuv8AwMX/AON0edov/QPuv/Axf/jdVaK7LEFiYeH7mF7e40q4kjdSro90hDA9QQY%2BRX5i/wDBT/4TP%2ByH%2B2l8Nf2uv2ZfBFtoz3dtP9o0vTIYoIL2%2Bs90s0TiONebqzkliwoLO0Y7nNfplXzz/wAFQfhfrXxB/ZG1jxX4Nj/4qX4fXtt4w8NyhNxjubB/NcgdSTB5wAHUkV8/xPgFjconKPx07Ti1unB82nnZP1aVxU80rcP42hnNGkqk8LNVeRrSpCN1VpPry1qMq1KS7TT3ire7fCb4sfDr43fBnw38XPAZuLnRvENr9tsH%2B1rvUOkZZH%2BThlOUZf4WVgfba87Rf%2Bgfdf8AgYv/AMbr4e/YC%2BLemfA/4i2X7Paj7P8ADb4t2T%2BNvgldu/7q1e4ijlv9Ez0V4XO5U7DJPzSAV9r125Rjv7QwSqS%2BNaSS/mVtvKSalHvGS7M%2Bq4vyTCZLmqlgJupg8RCNfDVH9uhUXNC7WnPD3qVVdKlKSsrq9rztF/6B91/4GL/8bo87Rf8AoH3X/gYv/wAbqrRXp2Pli152i/8AQPuv/Axf/jdWb6XSBbWe%2BxuSDbHaBdKMDzX6/JzzmsyrWof8elj/ANep/wDRslJrVAHnaL/0D7r/AMDF/wDjdHnaL/0D7r/wMX/43VWinYC152i/9A%2B6/wDAxf8A43R52i/9A%2B6/8DF/%2BN1VoosBp6rLpAuV8yxuSfs0PIulHHlLj%2BD0qt52i/8AQPuv/Axf/jdGsf8AH2n/AF6wf%2BikqrSS0Atedov/AED7r/wMX/43R52i/wDQPuv/AAMX/wCN1Vop2Atedov/AED7r/wMX/43VnWJdIGr3Qlsbkt9pfcVulAJ3HtsOKzKta5/yGrz/r6k/wDQjStqAedov/QPuv8AwMX/AON0edov/QPuv/Axf/jdVaKdgLXnaL/0D7r/AMDF/wDjdWdHl0g6vaiKxuQ32lNpa6UgHcOo2DNZlWtD/wCQ1Z/9fUf/AKEKTWjAPO0X/oH3X/gYv/xujztF/wCgfdf%2BBi//ABuqtFOwFrztF/6B91/4GL/8bo87Rf8AoH3X/gYv/wAbqrRRYDT0qXSDct5djcg/ZpuWulPHlNn%2BD0qt52i/9A%2B6/wDAxf8A43Ro/wDx9v8A9es//op6q0ragWvO0X/oH3X/AIGL/wDG6PO0X/oH3X/gYv8A8bqrRTsBa87Rf%2Bgfdf8AgYv/AMbqzYy6Qba82WNyALYbgbpTkeanT5OOcVmVa0//AI9L7/r1H/o2Ok1oAedov/QPuv8AwMX/AON0edov/QPuv/Axf/jdVaKdgLXnaL/0D7r/AMDF/wDjddH4Aeyf7X9jt5Y/9Xu82YPn73TCjFclXUfDb/l9/wC2f/s1Z1V7jGtzqKKKK5CwooooAKKKKACvgf8AbcvbfxF/wWB/Zv8ABcq7hpWl%2BJNUcenmacQh/wC%2BrYV98V8CfGrSm8T/APBd/wALFGDL4b%2BBUuoMP7jS3dxbH9Jl/OvKze8qNGC%2B1VpL/wAn5v8A2087MfZy9hCXWrTt6pykvxifVdFFFfSnaFFFFAFrXP8AkNXn/X1J/wChGqtWtc/5DV5/19Sf%2BhGqtJbIAooopgWtD/5DVn/19R/%2BhCqtWtD/AOQ1Z/8AX1H/AOhCqtLqAUUUUwCrWj/8fb/9es//AKKeqtWtH/4%2B3/69Z/8A0U9J7AVaKKKYBRRRQBa0/wD49L7/AK9R/wCjY6q1a0//AI9L7/r1H/o2OqtJbsAooopgFWof%2BQLcf9fUP/oMtVatQ/8AIFuP%2BvqH/wBBlpMCrRRRTAKKKKALU3/IFt/%2Bvqb/ANBiqrVqb/kC2/8A19Tf%2BgxVVpIAooopgFWtQ/49LH/r1P8A6NkqrVrUP%2BPSx/69T/6NkpPdAVaKKKYBXeeDP%2BRatv8Agf8A6G1cHXeeDP8AkWrb/gf/AKG1Y1/gHHc1KKKK5SwooooAKKKKACiiigAooooAKKKKACiiigAooooAKKKKACiiigAooooAKwfiH/yBYv8Ar6X/ANBat6sH4h/8gWL/AK%2Bl/wDQWq6fxoT2ONooortICo7yztNRs5dPv7ZJoJ42jmhkXKujDBUg9QQcYqSijcGk0fnr8K/gvpvxH%2BA/jn/gnOfGsGjfE74H/EW91j4P3892qXkVq5S80%2B4Td8zI290kwGCLJGeoWvq39in9puP9qH4LQeJ9b03%2ByvFuiXUmj%2BOvD7jbJpuqwHZMhU8qrEb168NjOVNWv2m/2JPgP%2B1FothrnjXQrjS/FOn3Mh0Xxx4cuDZ6vpzqsZQx3CcsFJJCPuUEkgAnNfEfxo/Ya/bx%2BD/jq6%2BLvglrnxhraEbPiR8OtZGk%2BIbqFQFUalp0pNtqO0AArHiSXGXkPb4d08y4erKpSoupTS5Xy6txTbhdWbU4J8qdpRlCyfK0j2%2BGc8y7D8MrhbiRzhh6M3PCYqnTlX9hzP8AeUa9KDVX2M1yNypKpyVKaqKm%2BapF/pfRX5l/Dv8A4LZfGj4MamvgH9rD4RHVbi0Dfabw2jeH9YijU43T2V0BBJKf7sMoFfU3wi/4Kw/sMfFsw2X/AAuOHwvqUygnS/Gts2mSR56AyyfuDn/ZkNevguKcixz5Y1lCX8s/dafbWy%2B5npR4LzjG0pV8nlTzClHVzwlSOIsu86cLYil5qrhoNbN33%2Bjqtah/x6WP/Xqf/RslZei67oniXTIta8Oaza6hZzruhu7K4WWKQeqspIP4GtTUP%2BPSx/69T/6Nkr37qVmj5ScJ05OE001o01Zp9mnZr5pFWiiiqJCiiigC1rH/AB9p/wBesH/opKq1a1j/AI%2B0/wCvWD/0UlVaS2AKKKKYBVrXP%2BQ1ef8AX1J/6Eaq1a1z/kNXn/X1J/6EaXUCrRRRTAKtaH/yGrP/AK%2Bo/wD0IVVq1of/ACGrP/r6j/8AQhSezAq0UUUwCiiigC1o/wDx9v8A9es//op6q1a0f/j7f/r1n/8ART1VpdQCiiimAVa0/wD49L7/AK9R/wCjY6q1a0//AI9L7/r1H/o2Ok9gKtFFFMArqPht/wAvv/bP/wBmrl66j4bf8vv/AGz/APZqzq/w2NbnUUUUVxlhWb4z8WaN4B8H6t468RzNHp2i6ZPf38iLuKwwxtI5A7kKp4rSrN8ZeE9G8e%2BENV8DeI4Gl07WtNnsL%2BJW2l4Zo2jcA9iVY80AeW/Bb9pP4lfFSTWvCeu/BvS9A8WWng3SvE2i6RJ4ue4tLuz1H7Wtsk9ytmrW8yy2UqTKkUyoCjI8u7A5TRf2y/jt4g15/h9o/wCzl4Yu/E0/iPV9P0iK1%2BJE502%2BttLgh/tC5F2%2BlJIhivJ0sRH5BDTJIS6om49b%2Bz/%2BzZ8Q/hH4yl8c%2BOfjFp/ii%2Bl8K6V4aaWLwq1if7N077S1qf8Aj7lH2hpby4eaXGyT92qRQhPmybP9j3xp4S%2BH/wAO7L4a/Gm007xn4D0y/s5vFWp%2BFTeW%2Bq/2gitfyyWguoyjy3KRXKnzm2vHhhIrMCAeq/B34naB8bPhH4W%2BMvhSKePS/Fvhyx1nTY7pQsqQXUCTxhwCQGCuARng5r4i8OXlz4i/4LsfFm7Ylo/D3wf03TAf7vnPYXQH/jzGvt34PfDHw/8ABP4SeFvg14SknfSvCXh2y0bTXunDStb2sCQRlyAMsVQZOOTmvjH9l/VYvEf/AAVT/ay8b6ZcyRvZz%2BFdJR4nI/1envHKOD/fthXk5inPGYOC61b/APgMKjPPxsl9Zw0Wr3m/lanNp/e1959Q0V4J8Rf%2BCuX7Efwn8dat8NPiB%2B0hdWGt6HfSWeqWX/CP6vL5E6HDJvjtmRsHupI96xf%2BH2f/AATz/wCjp7r/AMJfW/8A5Ervnn2S05uMsVTTWjXPHRr5n6PQ8LvEvFUIVqOS4uUJpSjJYeq04tJppqNmmmmmtGmn1PpWivBPh1/wVy/Yj%2BLHjrSfhp8P/wBpC6v9b1y%2Bjs9Lsv8AhH9Xi8%2BdzhU3yWyouT3Yge9eg/ta/Gj4n/Bv9mvxp8UPh1cRXWt6JoUtzp0Wp38kcAkGBvYqrk7QSwXbhioUlQSw7MLjsJjoOeGqRmlo3Fp2e9tD5/POGuIuGa8KGcYOrhpzXNGNWnKm5K9rpTSbV9LrS%2Bh6Jrn/ACGrz/r6k/8AQjVWvA/Gn7fXxa8Pf2/K/wAI7D7XY%2BP7zwzpWmW3jDUruXUJrSCaa7ljhstJnn8pNkaqVhbO52k8lUUvzvhD/go/8RviFqVsnwp%2BG93rEniO1g1DSLbxD4zWwhtLdvDem6xtLQ2UrrkXpjwfOPmDO5UbbHupaI8Wx9PUV53dftNeLbr9lbVP2m9H0yRbX/hX58T6BYyanJJLPGdNF4scyhVEbbyY8KzggBtwLbVwf2efib8dLf4g%2BJfhP44%2BL1/4yuLHwB4c8S2OrahBb2rC41F9UhltgLSKNPID6aroWVpAJmDO%2B1TVXYHtmh/8hqz/AOvqP/0IVVr4s8PfthfteW17o3ws1rxn8QrjxVrUHhebVLGbwpp%2Bn6tbajc3F4mp6bpIvYI7KaNVtt8c9z5sPlQXBFzKdpSPVP8AgpN490/w98NvB2q/tFaPofiOLxfpy/ENtfvrOC%2Bls5PEb6U2mmFtsf2lY4rlrua3Xy4XtCYyEnjdZ59Qsfa9FeDHxB8eJPib8RrTTf20vEVj4Z8IaHBb6rqvibTdHkg0rUJ2ivp3jMVpblDbab5ZVp3lizqCvIj%2BRtfuv2U/iD8XvF/wpPiH4g%2BK9a1BLnWr5vDeqa1bJaX9/pHnN9kuLmGGOJI3ePDACOM%2BWYyyK5ZRSbbA7%2BrWj/8AH2//AF6z/wDop6P7c1r/AKDF1/4EN/jVnStY1eS5ZZNVuWAtpjhp2PIiYg9fWh3sIzKKtf25rX/QYuv/AAIb/Gj%2B3Na/6DF1/wCBDf409QKtFWv7c1r/AKDF1/4EN/jR/bmtf9Bi6/8AAhv8aNQDT/8Aj0vv%2BvUf%2BjY6q1p2Osau9teM%2Bq3JK2wKkztwfNQZHPoT%2BdVv7c1r/oMXX/gQ3%2BNJXuwKtFWv7c1r/oMXX/gQ3%2BNH9ua1/wBBi6/8CG/xp6gVatQ/8gW4/wCvqH/0GWj%2B3Na/6DF1/wCBDf41Zi1jVzpE8p1W53C5iAbz2yAVkyOvsPypO4GZRVr%2B3Na/6DF1/wCBDf40f25rX/QYuv8AwIb/ABp6gVaKtf25rX/QYuv/AAIb/Gj%2B3Na/6DF1/wCBDf40agE3/IFt/wDr6m/9BiqrWnLrGrjSIJRqtzuNzKC3ntkgLHgdfc/nVb%2B3Na/6DF1/4EN/jSVwKtFWv7c1r/oMXX/gQ3%2BNH9ua1/0GLr/wIb/GnqBVq1qH/HpY/wDXqf8A0bJR/bmtf9Bi6/8AAhv8as32saultZsmq3ILWxLETtyfNcZPPoB%2BVJ3ugMyirX9ua1/0GLr/AMCG/wAaP7c1r/oMXX/gQ3%2BNPUCrXeeDP%2BRatv8Agf8A6G1cb/bmtf8AQYuv/Ahv8a7XwlPPc%2BH7ea4meR237ndiSfnbuaxrX5So7mjRRRXMUFFFFABRRRQAUUUUAFFFFABRRRQAUUUUAFFFFABRRRQAUUUUAFcL8Kvj94X%2BLnjrxr4B0Pwzr9hdeBtWisNQn1vTfssd40kZdZbYM3mPF8rAO6IHxvTfGyO3dV4n8KvAf7S/hb9o34gfELxN4H8Cx%2BHfGN3p5tLiw8b3s97bxWkH2cM9u%2BlxoWdfnKibCn5dzffoA6f9mz9oY/tLfD/TfilpPwb8WeGNC1zRrPVdAvvE8umf8TG1uY/NjZEsr24eMhChIlWMjeAMkMB0/wAQ/wDkCxf9fS/%2BgtXjf7In7K/i74F%2BPL/xRf8AgH4f%2BCdMfwjYaL/wjvw1uLlrLVbm3llY6nPHNBF5EmxljSPM7qhKvcSBUx7R47uZLXSI5IljJNyB%2B8iVx91uzAirp/GhPY4mirX9sXf/ADxtf/AGL/4mj%2B2Lv/nja/8AgDF/8TXZqQVaKtf2xd/88bX/AMAYv/iaP7Yu/wDnja/%2BAMX/AMTRqATf8gW3/wCvqb/0GKqtacuq3Q0iCTyrbJuZQf8AQ4scLH2247/5xVb%2B2Lv/AJ42v/gDF/8AE0lcDnfGvw98A/ErR28PfEXwRpGv2D53WWtabFdQn/gEqsP0r5y%2BJn/BGz9gX4j/AGia0%2BFN14YuLn/Wz%2BFdZntl9sQszwDHtHX1f/bF3/zxtf8AwBi/%2BJo/ti7/AOeNr/4Axf8AxNcWLy3L8erYmjGfqk399r/iclfAYLE1Y1alNOcdVK1pJ9GpLlkmujUk10aPzvf/AIIQyfD7U31v9mn9tvxv4Muc5ic2waQ46BpLWW2P47fwrprT9mr/AILafCGC1XwT%2B2n4K8a2EcBMNl4vsW851DsMFzbO5OQTzMOvWvur%2B2Lv/nja/wDgDF/8TVm%2B1W6W2s2EVt81sSc2cR/5auOPl46dq8mPCuU0JXwynS/wVJxX3Xa/A9Ktj86xEFGpj68ktEp1ZVUl2Xt1iGl6SPiGw/aL/wCCxnw/dj8R/wBhDwd4wtoR81z4O8YRWbSY7hZp5nJPtGPpVqy/4KqeP/C9tLc/HP8A4JxfG3w5HB/rbrSPDx1K2T3MziBce4zX2X/bF3/zxtf/AABi/wDiaP7Yu/8Anja/%2BAMX/wATW6yvMqX8LGz/AO3405/jyxf4nmTpZg9sR99Kn/7byb99z5B8Nf8ABbH9gTVi0Pizxz4g8K3C9bXxD4TvPMz6f6MkwH4mu%2B8Lf8FOP2BPGAB0n9qfwrDn/oK3T2P/AKUrHXu%2BrCz1%2Bwk0rXdF0y9tZRiW2u9Kgkjce6shBrzrxF%2ByD%2ByR4rWQeIP2VPhpcvJ9%2BY%2BAdNWU/wDA1gDD8DT9lxLT2q0p%2BsJx/wDSZyX4Eqnmd3%2B9h5fu5aetqmvyLcf7XX7KPia8QeHP2nPh7qBNtCMWXjSxlOREoI%2BWU854rf0z4kfDvWsf2N490W73dPs2qQyZ/wC%2BWNeI%2BPP%2BCQ//AATq8T3he6/Zq0%2B0d4In3aVq19aBWaNSSFhnVepPGMe1ea%2BIv%2BCC/wCwbre7%2BzIfGWj56f2d4iDbfp58Un61m8RxRTX%2B70pelScf/SoM7aWFxU3aWJor1hiEv/Jed/gfaMckcqCSJwykcMpyDS1%2Bfmof8G9/wKtHaTwL%2B0V480ts/Kbj7NMR9fLjizWTcf8ABCr4s6K/neCP%2BCgniKED7kFzo9ygH/A4r8f%2Bg1jLNeJKfxZdf/DWg/zSPTpZLiKq0x2D%2BdTFQ/8ASsHJL5s/RmrWuf8AIavP%2BvqT/wBCNfmXqP8AwSP/AOCiujqV8Fft3mQj7huPFWu2h/8AHJZMVnXv/BOn/gsH4Uv5or/9qzxFrTxSssn9g/HLVLcOQeSPtVsf1rCXEOb05e/llX5Sg/yb/I9ClwjnleN6WJwEvL%2B0KcH91TCw/GSP07or8wT%2BzV/wVj8Oj99b/G7VgvV9O/aX00fiFuLTJ%2BlKNA/4KV%2BHf%2BQnpX7Tltt6/ZfGGi6xj8o13Uv9aq8fjwNVeq/%2B0NP9Q%2BPJ/wALDYap/gzLLpP7nXpv8Efp7VrQ/wDkNWf/AF9R/wDoQr8u1%2BNf/BQXwrxJ45/ao0/b/wAtLj9njR9ajX3ZvOXIqe0/br/bU8O3UR1r9rvx5Z7ZFy/ib9km1tinPU/ZmY/lSfGOFivfoTXry/ryh/xD/wAT/s5FWn/17q4Or/6bxsn/AOSn6Z0V%2BZI/4KffG3TiF1v/AIKMeCNPbpt1r9nq/i59D5du1aum/wDBTT413uPsP/BSv4Cy56fb/hbqNv8A%2BhQDFVHjPK5O1n/4FT/%2BWIzq8CeKVGPNPhnMLd1hpSX3xlJfifpDRX596f8A8FAf2ltQA%2Byf8FGf2WDn/n70C4g/9DArasf2xP2ttS5tP%2BCkH7IBJ6I7xoT%2BDSA10R4qwM/hhJ/On/8ALjyq2Q8cYf8Ai5Bj4%2BuEq/8AyLPvTR/%2BPt/%2BvWf/ANFPVWvjHR/2mv2%2BbmYjRv21f2OL4%2BVJgyXkq5Gw5H7uTqRxjoelXbX9oL/gp1L82nfG79ja/wD9kXuoAt/3ya2jxDh5PSjU%2BSi/yqnm1aefUP4uU4yPrhqi/wAj7Bor5Qtf2jf%2BCpkWAfB/7NWsf7Wk%2BJp4wfp5gNX7f9of/gqzN8sH7Lvweuyej23jRMfkY81qs9oP/l1V/wDBbf5NnDUzOpR/i4TER9aFRH1BVrT/APj0vv8Ar1H/AKNjr5e/4XT/AMFdJPmT9lT4Qxj0fxSSf0jqa1%2BNf/BXWKC5kb9kn4S3CrCDIkPi/Y2N6dMx4POOD9e1U85pW/g1f/BUjD%2B3KH/Pmt/4Jn/mfSNFfNH/AA01/wAFUIP9Hm/4J3eEJ3PS4g%2BJenpGPqrQ7qD8cP8Agrhq3yad%2ByN8J9ILdH1XxcLgL9RBGCfwp/21Qe1Kq/8AuFP9UvzD%2B3cM9qVZ/wDcGp%2BqS/E%2Bl66j4bf8vv8A2z/9mr5AGs/8FpL8/ao7b9mOwX%2BG1lstYlb/AIEyrj8q90/Yuv8A9tW9/wCElT9sK2%2BFqFPsf/CPP8NIr1A2fP8AP%2B0C6A9Idm31kz2qoZk8RLk9hUjfrKFl83zO33G%2BFzT6xXVP2FWN%2BsoWj83zu3lpue50UUVseuFFFFABRRRQAV%2Bff/BOXTbq%2B/aW/av8fXCki8%2BOl/paue/2OWcY/ATL%2BdfoJXxH/wAE8NMksdQ/aDu3TAvf2oPGUyHHUCeKP%2BaGvNrw584wfk6r/wDKaX6nn4j2jzCgltao3/4DFL8WfRlFfPPxF/4KD/8ACu/HereBv%2BGIP2htd/sm%2Bktv7Y8OfDT7VYXmw482CXz18yM9Q2Bkdqxf%2BHnX/WPX9qD/AMNN/wDdNds88yqE3GVTVafDU/8Alb/M458QZPTm4Sq6rR%2B7U6elJ/mz6grI%2BIHgPwp8UfBGrfDnx1pZvtG1ywlstTtBcSRGWGRSrKJI2V0ODwyMGU4IIIBrxD4df8FB/wDhYnjvSfA3/DEH7Q2hf2tfR239seI/hp9lsLPecebPL57eXGOpbBwO1eqftCeO/Ffwt%2BC/iH4m%2BDNKt7678O2P9pz2NxC8n2i0gZZbqONUZT5zW6TCPkgSFCVYAqevDY3C42DlRlzJaPSS/wDSox/Jnbg8dhMfByw8uZJ2eklr/wBvRj%2BT9Sl4m/ZI%2BAt7OdJufCmoMtl4jvNUiuB4n1EXL3VwhiuGlnFx5sySp8skcjNHJ/ErHmqPw6/Y6/Z0%2BFD2UngTwBLZtp0Bhsml1y%2BuDDEbGCw2Dzpn%2BUWttBEq9FWMbcHJPiHx2/4KIfFfw1F4h%2BIvw40DQtW0HTbzWdWjiTTPMM2g2moJp8Vw9zLqNukf2m4hvWikhjuWaN4MW7YLSZHgT9qL4y6N8QL34b6Hq1nc6hrXj3WNL03W/FE19fQ6ej%2BNPEFsge3F1Gjxx21kkMSKY2yYk8zYqoNk42R2WZ9Z%2BDPhd4I8AeDofh94Z0mRNEt9Ng0%2BDTLy%2BnuoYrWG3S2jhVZ3fanlRqCB947mbczMxx/hr%2Bzn8JPhDbNbfD/RdRsw81u7yzeI7%2B5ldIImigt2knndzbRo7BLYnyU3EqgPNch%2Bwv4m%2BIfjX4JHxR468Z22sSSeMPFcDzRrNIS8PiXVIk8qaSZv9GWFIo4otvyJGoDEYUcB%2Byl4z8Y6j8UfAmral4913U7rx54L8Wap4z0vUtbnubayvrLWNPhhWCCR2jshAbm5tfLhWMOFG8M0e4VdaAeveFP2L/2ctKgTwzp3gq/hgnv9PeK5TxTqQvLEWjP9kjtLr7R59lFCJphHFbvHHGJpQqgSMDt2fwL%2BFdh4C0r4ZWnhULoui6rbanp9qb2cst5b3a3sdw8pfzJZPtKiV2kZjIxYvv3Nn49%2BLnxc/aQ%2BEGv%2BJbzwzr%2Bv3Wq6nD44e48QQ%2BN4bzTUsrfUols7iytDPImnzadDLHbzF4YFWbd5n2gnzF1vFGuePrLTNT8GnVPGNta%2BBdV1618SaJp/xtmku4bz%2ByNMv7O/h1S8ktbm70%2B2hupHnhlLtHLc/wCqljjjWpur7BY%2BovFv7Ofwf8ceFPFPgrxF4auX07xprEOqeJUtdavLaS8u4ltkSQSwyrJEAtnbLtjZVKx4IIZg294G8C6J8O9D/wCEe0C%2B1m4t/OaXzNd8RXuqT7mxkedezSy7eOF3bRzgDJr5Z%2BAfjX4n2HxX0X4sfGxr7VF8e%2BItI0/TRp3xT1DboN7N4QsZZrOfQVIs1X7TBfSkkmVTcpL5eP3i/X9WmmAVa0f/AI%2B3/wCvWf8A9FPVWrWj/wDH2/8A16z/APop6HsIq0UUUwCiiigC1p//AB6X3/XqP/RsdVataf8A8el9/wBeo/8ARsdVaS3YBRRRTAKtQ/8AIFuP%2BvqH/wBBlqrVqH/kC3H/AF9Q/wDoMtJgVaKKKYBRRRQBam/5Atv/ANfU3/oMVVatTf8AIFt/%2Bvqb/wBBiqrSQBRRRTAKtah/x6WP/Xqf/RslVatah/x6WP8A16n/ANGyUnugKtFFFMArvPBn/ItW3/A//Q2rg67zwZ/yLVt/wP8A9Dasa/wDjualFFFcpYUUUUAFFFFABRRRQAUUUUAFFFFABRRRQAUUUUAFFFFABRRRQAUUUUAFYPxD/wCQLF/19L/6C1b1UPEWif29ZLZ/avK2yh92zdnAIx1HrVQaU02J7Hn1FdR/wrb/AKjX/kt/9lR/wrb/AKjX/kt/9lXV7Wn3Jszl6K6j/hW3/Ua/8lv/ALKj/hW3/Ua/8lv/ALKj2tPuFmYM3/IFt/8Ar6m/9BiqrXWv4A32Udn/AGt/q5Xfd5HXcFGPvf7P61F/wrb/AKjX/kt/9lSVWHcLM5eiuo/4Vt/1Gv8AyW/%2Byo/4Vt/1Gv8AyW/%2Byp%2B1p9wszl6tah/x6WP/AF6n/wBGyVvf8K2/6jX/AJLf/ZVLceAPPigi/tbHkxFM%2BR1%2Bdmz97j72PwpOrC%2B4WZyVFdR/wrb/AKjX/kt/9lR/wrb/AKjX/kt/9lT9rT7hZnL0V1H/AArb/qNf%2BS3/ANlR/wAK2/6jX/kt/wDZUe1p9wszB1j/AI%2B0/wCvWD/0UlVa6288Afa5RL/a23ESJjyM/dQLn73tmov%2BFbf9Rr/yW/8AsqSqwtuFmcvRXUf8K2/6jX/kt/8AZUf8K2/6jX/kt/8AZU/a0%2B4WZy9Wtc/5DV5/19Sf%2BhGt7/hW3/Ua/wDJb/7Kpb7wB9tvZrz%2B1tvmys%2B3yM4yc4%2B9S9rC%2B4WZyVFdR/wrb/qNf%2BS3/wBlR/wrb/qNf%2BS3/wBlT9rT7hZnL1a0P/kNWf8A19R/%2BhCt7/hW3/Ua/wDJb/7KpbHwB9ivYbz%2B1t3lSq%2B3yMZwc4%2B9SdWFtwszkWVXUqygg9QR1rL1LwH4H1jP9r%2BDdKus9ftOnRPn/vpTXe/8K2/6jX/kt/8AZUf8K2/6jX/kt/8AZUpToyVpa/L/AIBrSq16Er05OL8m1%2BTR5JqH7OX7PerZ/tX4EeDLnPX7R4XtHz%2BcdYt/%2BxV%2BxzqZLX/7KHw2lY/xt4HsN35%2BVmvdf%2BFbf9Rr/wAlv/sqP%2BFbf9Rr/wAlv/sqwlh8un8VOL9YRf8A7aerR4j4lw38HHV4/wCGtWX5VkfPlv8A8E7/ANhbU7l1u/2TPAWPs8zYi8OQR8iNiD8ijvWJdf8ABMf9gW8z537LPhYZ/wCeVs8f/oLCvqOz8AfZJTL/AGtuzE6Y8jH3kK5%2B975qL/hW3/Ua/wDJb/7Kud5dk0nrQp/%2BAR/%2BRPSp8ecd0f4ea4pf9zFf/wCWs%2BULn/gk/wD8E87vPm/sx6OM/wDPK/vE/wDQZhWfc/8ABHr/AIJxXX%2Bt/Zrtx/1z8S6on/oN0K%2Bv/wDhW3/Ua/8AJb/7Kj/hW3/Ua/8AJb/7Ks3k%2BQS3w1P/AMAj/kd1PxO8S6XwZ1i1/wBzNb/5YfG//Dm3/gnfF/x4fBC8tfT7P4z1YY/O6NWLP/gj1%2BxL9nunsvD3iy18u3DILbx3qQwfMQd5j2Jr7A/4Vt/1Gv8AyW/%2ByqW38AeRFPF/a2fOiCZ8jp86tn73P3cfjUPJOH7aYan/AOAJflY3/wCIr%2BKHXOsU/WtOX/pXMfGR/wCCR/7K8XOn%2BIfiLaMOjW3xBvgR9MuaB/wSq%2BFdvxo/7S3xy09ey2XxMnUD/vpDX2R/wrb/AKjX/kt/9lR/wrb/AKjX/kt/9lR/YuQ9KEV6cy/KSF/xFXxIfxZpVl/i9nL/ANLoyPjf/h19pMX/AB4ft1ftJ2vp9n%2BKrDH5wGveP2Jv2Z7n9nX/AISZZ/2h/iX49XV/sWwfETxMNSNh5Xn58g%2BWmzf5nz9c%2BWnTFeof8K2/6jX/AJLf/ZVqeG/Df/CPed/pvnedt/5Z7cYz7n1q6eWZXh5qpRhaS21n%2BTm1%2BBwZpx9xhneBng8divaUp2unToK9mmvehhoTWqW012d1dPUooorpPkQrnvi741ufhr8J/E/xFstOF5NoHh291KK0Of37QQPKE455K449a6GmXNtb3lvJaXcCSxSoUlikUMrqRggg8EEcYoA%2BSYv2lfjr8EfhV8V9a8W/EF/Huo%2BE/wBnvTfiLpV3qGk2sAjv7iDV/NtdllFEDab9OieMMHmCtKGkkwuM%2BT4l/taalHYeBPCnjX4xarqWgeNXj8e29t4W8IW3iC20%2BXQ2ntdrShtNe3kugro67ZlDGF8uh3e/eBP2Qv2fPhxpd/ofhfwTc/YtU0waZqNnqXiG/vorjT1haGOxdLmeRWtY45JFit8eVF5snlohdiaSfsSfs6xaN/ZEPh/xDHKdT%2B3trUfj7Wl1ZpvswtcNqIu/tbR%2BQqx%2BUZfLCqBt4FAHafBvx14d%2BJ/wj8L/ABH8I%2BIrvV9L17w/Z3%2Bn6rqFusNxdwywo6SyxoiLHIwYFkCIFYkBVxgcF4M%2BBHhj4NT%2BINK8FzM0eveLNT8RahJf30PmPeahcvdTcfLhFaTYgxkIi5LHLH1Hwl4U8N%2BA/CumeB/BuiW%2BmaRo2nw2OladZxhIrW2iQRxxIo%2B6qoqqB2AqjrXgn%2B19Tl1H%2B0/L8zb8nk5xhQOu4elOEaftVOS1V7Pte1/vsDelv0V/vtdedmr6XvZW5f8Ase7/AOe1r/4HRf8AxVH9j3f/AD2tf/A6L/4qt7/hW3/Ua/8AJb/7Kj/hW3/Ua/8AJb/7Kur2se5FmYP9j3f/AD2tf/A6L/4qmT6BJdQPbXIspI5EKyRyXkJVlIwQQW5BHauh/wCFbf8AUa/8lv8A7Kj/AIVt/wBRr/yW/wDsqPaw7/gFmebeJ/2WvgDrKWfh/UvgV4CuNN0Kxn0vQdPudC09odNsJF8t7SCNlxDC0YCNEoClRtIwMVHP%2BzN8ELnRbnw1c/BfwNJp15Hsu9PfSLAwTr9pe72uhG1h9pkknwR/rXZ/vEmvUr7wB9tvZrz%2B1tvmys%2B3yM4yc4%2B9UX/Ctv8AqNf%2BS3/2VJVIW3/AdmcP4T%2BEPgfwDCtv4F8EeG9FjSN40TSYbS2Co80k7qBHjAaaWWUju8jseWJNSy%2BAXwq03U9Y1rTvhd4Qt7zxDKkviC7hsLJJdTdX3q1wwGZiGJYFySCc9a9D/wCFbf8AUa/8lv8A7Kj/AIVt/wBRr/yW/wDsqftId/wFZnEeGvgZ8MNJ8a6h4tsPhp4Ug1PxE6R%2BI9Rt7CzFxqseQNlw6jfOMcbXLccViP8AssfAOTwlZeAH%2BBfgFtC02/N7p2iHRNPNpa3RzmeOHbsST5m%2BdQG5PPNer2PgD7Few3n9rbvKlV9vkYzg5x96ov8AhW3/AFGv/Jb/AOype0hff8B2ZwI%2BB3w1X4gn4tL8OfCo8VGDyT4mFnZ/2gYtuzZ9p/1m3b8uN2McdK6D%2Bx7v/nta/wDgdF/8VW9/wrb/AKjX/kt/9lR/wrb/AKjX/kt/9lT9rDv%2BArMwf7Hu/wDnta/%2BB0X/AMVVnStKuo7lmaW2/wCPaYcXkR6xMOzVq/8ACtv%2Bo1/5Lf8A2VS2fgD7JKZf7W3ZidMeRj7yFc/e980nUjbcLM5z%2Bx7v/nta/wDgdF/8VR/Y93/z2tf/AAOi/wDiq3v%2BFbf9Rr/yW/8AsqP%2BFbf9Rr/yW/8AsqftY9wszB/se7/57Wv/AIHRf/FUf2Pd/wDPa1/8Dov/AIqt7/hW3/Ua/wDJb/7Kj/hW3/Ua/wDJb/7Kj2se4WZlWOlXS214pltvmtgBi8iP/LVDz83HTvVb%2Bx7v/nta/wDgdF/8VXR2/gDyIp4v7Wz50QTPkdPnVs/e5%2B7j8ai/4Vt/1Gv/ACW/%2BypKpG%2B4WZg/2Pd/89rX/wADov8A4qj%2Bx7v/AJ7Wv/gdF/8AFVvf8K2/6jX/AJLf/ZUf8K2/6jX/AJLf/ZU/ax7hZmD/AGPd/wDPa1/8Dov/AIqrMWlXQ0iePzbbJuYiP9Mixwsnfdjv/nFav/Ctv%2Bo1/wCS3/2VSp4A2WUln/a3%2BslR93kdNoYY%2B9/tfpSdSPcLM5z%2Bx7v/AJ7Wv/gdF/8AFUf2Pd/89rX/AMDov/iq3v8AhW3/AFGv/Jb/AOyo/wCFbf8AUa/8lv8A7Kn7WPcLMwf7Hu/%2Be1r/AOB0X/xVH9j3f/Pa1/8AA6L/AOKre/4Vt/1Gv/Jb/wCyo/4Vt/1Gv/Jb/wCyo9rHuFmZUulXR0iCPzbbIuZSf9Mixysffdjt/nNVv7Hu/wDnta/%2BB0X/AMVXRv4A32Udn/a3%2Brld93kddwUY%2B9/s/rUX/Ctv%2Bo1/5Lf/AGVJVI9wszB/se7/AOe1r/4HRf8AxVH9j3f/AD2tf/A6L/4qt7/hW3/Ua/8AJb/7Kj/hW3/Ua/8AJb/7Kn7WPcLMwf7Hu/8Anta/%2BB0X/wAVVm%2B0q6a2s1Ett8tsQc3kQ/5auePm569q1f8AhW3/AFGv/Jb/AOyqW48AefFBF/a2PJiKZ8jr87Nn73H3sfhSdSN9wsznP7Hu/wDnta/%2BB0X/AMVR/Y93/wA9rX/wOi/%2BKre/4Vt/1Gv/ACW/%2Byo/4Vt/1Gv/ACW/%2Byp%2B1j3CzMH%2Bx7v/AJ7Wv/gdF/8AFV2vhKF7fw/bwyFCRvyUcMPvt3BINZH/AArb/qNf%2BS3/ANlW9oum/wBkaZFp3neZ5e759uM5Ynpk%2BtZ1ZxlGyY0rFqiiisCgooooAKKKKACiiigAooooAKKKKACiiigAooooAKKKKACiiigAooooAK%2Be/ix%2B1H8VPB3xZ12Pw3Y%2BHj4P8F%2BJ/Ceg%2BI7S%2BsJ31G/n1q7t4Gmt51nWO3S3S8tpNrQymYrKmY/lavoSvLfHf7JngPx/8Ux8TtS8U%2BILWK4vtHvtb8NWVxbrp2sXelXH2jT7i4DwtMHhlEbfupY1k8iJZBIqAUAepUUUUAFFFFAHz/8ADn9pX4h67%2B1V4i%2BEfxA8VaLomlW3iy50nwno0/w41WKfW0i0yC83RazJdfYpJgWuHMCRGTyrZzgBWcfQFeb3X7Nelap8YNP%2BLHiH4peL9Ut9G1yXWdC8J6hf28mmabqEllJZNPF%2B4FzjyZ7gLC87Qo07MsYIQr6RQAUUUUAcT%2B0h4y%2BI3w8%2BBHivx38J9P0W51/RtFnvbGPxDJKLNfKUu7yCH55NqBmEYKeYwCeZGGMi%2BK%2BHP2yfjJrmuQeLpNL8MR%2BEtM8aeFfCHiLThp1wdQuNQ1nTdMuhd29x9o8uKGOTWbJPJeKRmWOY%2BavyivevjH8NW%2BMPw01f4Zt451nw7DrVk9pd6noCWhulgkUrIi/a4J4huUlSTGSAcqVOCPMvAn7BngXwTrOk6ndfFzxtrdvp2o2Gp3ularNpy2ur6lY2621lfXK21lExlhgitY1ETRxt9it2kR3QuwB7nRRRQAV5Z%2B2J8WPir8EvgzJ8RvhPpOgXVzZaxYpqh8QtOY4rKW4SKQxRwlTLKS6qoZ0Vdxcl9gik9Trgf2jvgLB%2B0f8ADmT4Zaj8T/EnhexuLqGa8n8MJYGa4EUiyJGxvbW4VVDojfIqsSoG7BIIB578DP2lfiH43%2BP/AIg%2BG3xM8U6LpEUHiTW9P8NeG3%2BHGq2dxqNtZzbUmi1ae6Npdv5WJXihi3BW3YVVJr6Aryvwj%2ByzbaF8QtI%2BIni/44%2BO/GM3h%2B4u7vQ7DxReWL29le3MLQz3SfZ7SGQsySTqsbOYYlndIo40CKnqlABRRRQB4x%2B2Z8Xvjj8DvAk3xI%2BFreEGs9N06ZxpOvWd1c3/AIj1VniSx0aySGWJYZbl2eMTsZirtH%2B4ZdxGH%2Byj%2B1H8VPjBrnhCT4kWPh5dN%2BJ3wuXx54Oi0Swngn0uz821Bs7t5Z5VuZRFqNmfOjWFSyzDy8bTXbfGX9mlPi/8SfDPxSg%2BNPi7wzqPhK1vItHh0KDSZ7dJLkIslyY9QsbkC4EaGJZV2sscsyDAlfdF8DP2TPAfwE1xNa8PeKvEGqpp%2BgLoPhix1u4t3h8PaQsvmiwtBDBG3lZES7pmlk228K78IBQB6lRRRQAV85ft0ftFftK/s36U3jL4V6b4M1aCf7LZ%2BHfB11pt7d6z4gu3aRrySMwzxLBFaWy/amUJMZUgmUtASjV9G15J8Rf2S4PiB8ZLv40wfHzx5oN9eeG49Bex0KTS1igsRI8kqW8s1jJdWjzM4MkkE0cjGGEhgYYyoAv7JHxq8QfGPwpfTeNfHuk6prtgbU6lpdh8P9T8Nz6Z50CyKsttqVxNNIrfMUnXbG4U7d20mvWq4P4PfAaw%2BE2ta54u1D4ieI/F3iDxDHZw6n4g8UPafaHt7VZFt7dVs7e3hVEM078R7maZyzNkY7ygAooooA%2BUv2t/2xP2if2bfjD4c8DWOn%2BELy18eeKbHQPC9td%2BHNTRLA300dnbXk%2BpNMlteSrdvuk0u3RbgW%2B6YSBI2c%2Bz/s5/E/xr8QLLxZ4Y%2BJI0uTxB4I8Yz6Dql9olnJbWl7i2tryGeOGWWZ4c295CGQyyYdXwxGK5P4r/ALBfw8%2BM3iP%2B2PGnxU8dPY2vib/hJtA0GLVbb7LoevCExRanas9s06yRFnkSKSWS2WRy3k9Mei/Bz4P6L8GvD19pGneINU1m91fWLjVdc13W3hN3qV5NtDSyeRFFEuESONVjjRVSJFC8UAdbRRRQAV8b/HD9s79rf4UftAad8EI7TwrL/at0095e2Pwr8QaidFsvMHleRHHcxya%2BTHJEJZ7NY47WXbHKu6eMD7Irw2T9hnSk8XWPjnTP2kvihZ6loMd9B4Rni1ewk/sK1vLiOe6tYxNZOLuKQwwLtvvtRRYY/LKMoagD0z4NeN7T4kfC7RfG9l4y03xAmoWQkbWNI0yWyt7hwSr7beaSWS3IYMrRSOzoysrYIIHTVzXwh%2BFfhv4K/Dyw%2BG/hW4vJ7WxaeWS81GYSXF3cTzPcXFxKyqqmSWaWSRtqqu5ztVRgDpaACiiigAooooAKKKKACiiigDE%2BJXjex%2BGfw51/4kanayT23h/RLvUriGI4aRIIWlZR7kIQK8x/Zm%2BNnxi8ZeNtQ%2BGvxvj8NyaongXQPFdldeF9PuLaGKHUnvonsnWeeYyPBJZH9%2BCglWZf3UZU59f1zRdK8SaLeeHddsY7qxv7WS2vLaUZWaJ1Kuh9ipIP1rgfgL%2BzN4Y%2BAl1e6rY%2BN/EniTUbzRtN0ZNT8T3NvLPb6XYCf7HZIYIIQUjNzcNvcPM7TMZJHOMAHpFFFFABXA/tS/Ebxx8Iv2dPGfxO%2BGmjwX%2Bv6H4fuLzSLO60%2Ba7jlnRcqGhgdJJRn%2BBGVj0BFd9WV458Kjxx4Q1Hwl/wkeq6QdQtWhTVdDvfs95aMfuywyYIV1OCMhlOMMrKSCAcl%2Bzd8ULv4peDdQvdX%2BIOma/qWl61JYan/Z/gi/8ADslhKIopBbz2GoTzXEUuyVJQXKh45o2VdpDN6FXGfBv4K6V8HYdeuk8X614i1fxRrQ1XxD4g8QNbfar24W2gtI8rawwwRqkFtBGqxxIMJuOXZmbs6ACiiigD59/a9/au%2BJ37L/jKLXB4U0K/8FW3w48TeIL5WmmOp3V3pVi955MZGIoItiqu4iVnMp4iEeZet%2BAnxN%2BLeqfEXxd8FPjjP4cvNf8ADOm6Rqi6p4V0yeztJrXUFuVWMwzzzuJI5rK5BfzMOhjO1DkVX%2BPn7H/h39ovxtpvijxx8WPFlvpdhpV7pk/hLT49L/s6/tL2Lyb2GYzWUlyRPD%2B7YpMhVeYyjfNXQ/BX4BaT8GbnWNal8e%2BIvFet679lTUvEPiqe2e7kgtovKt7f/RoIYxHGGkYfJuZ5pGZmZiaAO8ooooAK%2BZ/2k/2pP2k/hL8RvG3hPwl4W8MTWOmeDtJ1bwq66Pf6reOZ9Vhsrma5gt5ImkVFklZbeH5sQhzKfMMcf0xXjvjv9kO58cfGK%2B%2BNEX7TfxJ0S%2Bu9Gj0yLT9Bm0iC3tLeOYTxrGzae05xOBIRJK6ycxyB4WaIgHT/ALO3xKl%2BKXw8OvXvj3TfEF7balcWeoz6b4SvdCNrPG2DbzWF9NLcW8qgrlZGBIZWCgMM93XIfBv4N6N8GdG1SysvEura5qGu63Nq%2Bva9rrwG71G8kSOLzHFvFFCm2KGGJVjjRQkS8ZyT19ABRRRQB8ofET9qz9q3wd%2B1T4T/AGW7OX4c3GoeP76/jtr6z0W/uovBccMdzeWa6gftcRv5b2xsb5o1QWmyW1f/AFiYY%2B6fs1fFXWfjN8HNO8ceJtOtbXVlvdQ0zWIrDd9nN7YX09jcPEHJYRNLbSMgYkhWUEkjJ8%2B039gXRtLvrrVbb9pD4i/bJPGFz4qsb5otC%2B0WGsT%2BYj3aS/2XvmItZprJY7gzRrayeUE%2BSIp6z8Jfhf4a%2BDPw70z4aeEnupLLTImAub6YSXF1K7tLNcSuAA0ssrvI5AALOxAA4oA6OiiigCO6a5S1keyhSSYRkwxyyFFZscAsASoJ74OPQ9K%2BLfFH7bn7W3gr44v8H/Fes%2BBF0rStHF14r8d%2BGfhRr%2BvWGkaj5Jlm0ZobS%2BEhkt4/Jme7Yopjuo90MJVs/aGo2kt/p89jBqE1o80LRpdW23zISQQHXerLuHUblIyOQRxXhHg39g6fwD4Asvht4W/bA%2BLVppthZT2kQhl0FGljnybl5tmlAXE8rnzWuZQ9wJN7LKhlm8wA9w8N6taa/wCHbDXdP1i01GC9sop4NQsP9RdI6BhLH8zfIwIZfmbgjk9au1meCfB3h34d%2BDNI%2BH/hDTxaaToWmW%2Bn6XaK5YQ20MaxxpliScIqjJOeK06ACsrxufGw8I6iPhuulHXjasNJOttILRZyMK0wiG9kB5KrgtjG5c7hq1ifEjwJp/xN8Dan4D1PV9T0%2BLUrYxf2ho16be7tXyGSWGQZ2urBWGQVJGGDAkEA%2BPPDX/BRL9ojW7n4qzxWPhCXTvgfp9nrPiua98Hanpd9r%2BnXDzny4rC5vPP0W4jjsb3AuhOZgbWVY1jmBr7er57/AOHc3wyufEviDxhrfxc8d6jqfje4tW%2BJFzc3enIPF8FsIVtrW8SKyRI4Yo4fKUWq27MksodnMjE/QlABRRRQBy3xm1T4i6L8Pr3V/hhcaXBqNrtmmutW0a81JILVDvnaOysis95N5asI4I3RncqAc/K3zF%2Byp%2B3l8Z/jN8RU0z4ta/4X8MaM/iFdI0hF%2BGOsga7JiVR/xMXvTbaZcyPGR9guFeeGQPbvulRq%2BoPit8NIvin4ah0JfGmu%2BHbq01GC%2B0/WvDl1HFdWs8TblIE0ckMqkblaOWORGViCucEeaeD/ANhHwX4RvLCN/jN4/wBV0i18V/8ACU3vhzV9Ts5bLUddN1JeNqEm21WWJjdv9oMFvJDbeYikQj5gwB7jRRRQAUUUUAFFFFABRRRQAUUUUAFFFFABRRRQAUUUUAFFFFABRRRQAUUUUAFFFFABRRRQAUUUUAFFFFABRRRQAUUUUAFFFFABRRRQAUUUUAFFFFABRRRQAUUUUAFFFFABRRRQAUUUUAFFFFABRRRQAUUUUAFFFFABRRRQAUUUUAFFFFABRRRQAUUUUAFFFFABRRRQAUUUUAFFFFABRRRQAUUUUAFFFFABRRRQAUUUUAFFFFABRRRQAUUUUAFFFFABRRRQAUUUUAFFFFABRRRQAUUUUAFFFFABRRRQAUUUUAFFFFABRRRQAUUUUAFFFFABRRRQB//Z\">"
      ]
     },
     "metadata": {
      "tags": []
     },
     "output_type": "display_data"
    }
   ],
   "source": [
    "s.run(tf.global_variables_initializer())\n",
    "\n",
    "BATCH_SIZE = 512\n",
    "EPOCHS = 40\n",
    "\n",
    "# for logging the progress right here in Jupyter (for those who don't have TensorBoard)\n",
    "simpleTrainingCurves = matplotlib_utils.SimpleTrainingCurves(\"cross-entropy\", \"accuracy\")\n",
    "\n",
    "for epoch in range(EPOCHS):  # we finish an epoch when we've looked at all training samples\n",
    "    \n",
    "    batch_losses = []\n",
    "    for batch_start in range(0, X_train_flat.shape[0], BATCH_SIZE):  # data is already shuffled\n",
    "        _, batch_loss = s.run([step, loss], {input_X: X_train_flat[batch_start:batch_start+BATCH_SIZE], \n",
    "                                             input_y: y_train_oh[batch_start:batch_start+BATCH_SIZE]})\n",
    "        # collect batch losses, this is almost free as we need a forward pass for backprop anyway\n",
    "        batch_losses.append(batch_loss)\n",
    "\n",
    "    train_loss = np.mean(batch_losses)\n",
    "    val_loss = s.run(loss, {input_X: X_val_flat, input_y: y_val_oh})  # this part is usually small\n",
    "    train_accuracy = accuracy_score(y_train, s.run(classes, {input_X: X_train_flat}))  # this is slow and usually skipped\n",
    "    valid_accuracy = accuracy_score(y_val, s.run(classes, {input_X: X_val_flat}))  \n",
    "    simpleTrainingCurves.add(train_loss, val_loss, train_accuracy, valid_accuracy)"
   ]
  },
  {
   "cell_type": "markdown",
   "metadata": {
    "colab_type": "text",
    "id": "lB-N-266WiAC"
   },
   "source": [
    "# Submit a linear model"
   ]
  },
  {
   "cell_type": "code",
   "execution_count": 0,
   "metadata": {
    "colab": {},
    "colab_type": "code",
    "collapsed": true,
    "id": "x0vioLMiWiAM"
   },
   "outputs": [],
   "source": [
    "## GRADED PART, DO NOT CHANGE!\n",
    "# Testing shapes \n",
    "grader.set_answer(\"9XaAS\", grading_utils.get_tensors_shapes_string([W, b, input_X, input_y, logits, probas, classes]))\n",
    "# Validation loss\n",
    "grader.set_answer(\"vmogZ\", s.run(loss, {input_X: X_val_flat, input_y: y_val_oh}))\n",
    "# Validation accuracy\n",
    "grader.set_answer(\"RMv95\", accuracy_score(y_val, s.run(classes, {input_X: X_val_flat})))"
   ]
  },
  {
   "cell_type": "code",
   "execution_count": 106,
   "metadata": {
    "colab": {
     "base_uri": "https://localhost:8080/",
     "height": 35
    },
    "colab_type": "code",
    "executionInfo": {
     "elapsed": 2758,
     "status": "ok",
     "timestamp": 1539246700579,
     "user": {
      "displayName": "Дмитрий Попов",
      "photoUrl": "",
      "userId": "01473516121989294075"
     },
     "user_tz": -360
    },
    "id": "90tiQ7pEWiAi",
    "outputId": "1e3de520-dbbe-4603-a0a1-8930eb04d877"
   },
   "outputs": [
    {
     "name": "stdout",
     "output_type": "stream",
     "text": [
      "Submitted to Coursera platform. See results on assignment page!\n"
     ]
    }
   ],
   "source": [
    "# you can make submission with answers so far to check yourself at this stage\n",
    "grader.submit(COURSERA_EMAIL, COURSERA_TOKEN)"
   ]
  },
  {
   "cell_type": "markdown",
   "metadata": {
    "colab_type": "text",
    "id": "Cv6kIOzaWiA1"
   },
   "source": [
    "# MLP with hidden layers"
   ]
  },
  {
   "cell_type": "markdown",
   "metadata": {
    "colab_type": "text",
    "id": "k0e2Fvd4WiBE"
   },
   "source": [
    "Previously we've coded a dense layer with matrix multiplication by hand. \n",
    "But this is not convenient, you have to create a lot of variables and your code becomes a mess. \n",
    "In TensorFlow there's an easier way to make a dense layer:\n",
    "```python\n",
    "hidden1 = tf.layers.dense(inputs, 256, activation=tf.nn.sigmoid)\n",
    "```\n",
    "\n",
    "That will create all the necessary variables automatically.\n",
    "Here you can also choose an activation function (remember that we need it for a hidden layer!).\n",
    "\n",
    "Now define the MLP with 2 hidden layers and restart training with the cell above.\n",
    "\n",
    "You're aiming for ~0.97 validation accuracy here."
   ]
  },
  {
   "cell_type": "code",
   "execution_count": 0,
   "metadata": {
    "colab": {},
    "colab_type": "code",
    "collapsed": true,
    "id": "MVylYcdSWiBY"
   },
   "outputs": [],
   "source": [
    "# write the code here to get a new `step` operation and then run the cell with training loop above.\n",
    "# name your variables in the same way (e.g. logits, probas, classes, etc) for safety.\n",
    "### YOUR CODE HERE ###\n",
    "from keras.losses import categorical_crossentropy\n",
    "hidden1=tf.layers.dense(input_X,256,activation=tf.nn.sigmoid)\n",
    "hidden2=tf.layers.dense(hidden1,256,activation=tf.nn.sigmoid)\n",
    "logits=tf.layers.dense(hidden2,10,activation=tf.nn.softmax)\n",
    "classes =tf.argmax(logits,axis=1)\n",
    "loss =tf.reduce_mean(tf.nn.softmax_cross_entropy_with_logits(labels=input_y,logits=logits))\n",
    "optimizer=tf.train.AdamOptimizer()\n",
    "step=optimizer.minimize(loss)"
   ]
  },
  {
   "cell_type": "markdown",
   "metadata": {
    "colab_type": "text",
    "id": "lCc56b4JWiB4"
   },
   "source": [
    "# Submit the MLP with 2 hidden layers\n",
    "Run these cells after training the MLP with 2 hidden layers"
   ]
  },
  {
   "cell_type": "code",
   "execution_count": 0,
   "metadata": {
    "colab": {},
    "colab_type": "code",
    "collapsed": true,
    "id": "sCtNdbclWiCB"
   },
   "outputs": [],
   "source": [
    "## GRADED PART, DO NOT CHANGE!\n",
    "# Validation loss for MLP\n",
    "grader.set_answer(\"i8bgs\", s.run(loss, {input_X: X_val_flat, input_y: y_val_oh}))\n",
    "# Validation accuracy for MLP\n",
    "grader.set_answer(\"rE763\", accuracy_score(y_val, s.run(classes, {input_X: X_val_flat})))"
   ]
  },
  {
   "cell_type": "code",
   "execution_count": 139,
   "metadata": {
    "colab": {
     "base_uri": "https://localhost:8080/",
     "height": 35
    },
    "colab_type": "code",
    "executionInfo": {
     "elapsed": 1488,
     "status": "ok",
     "timestamp": 1539248501043,
     "user": {
      "displayName": "Дмитрий Попов",
      "photoUrl": "",
      "userId": "01473516121989294075"
     },
     "user_tz": -360
    },
    "id": "qj-Fczz6WiCZ",
    "outputId": "2c2153a8-4314-42e6-b4e3-bc74d5018f74"
   },
   "outputs": [
    {
     "name": "stdout",
     "output_type": "stream",
     "text": [
      "Submitted to Coursera platform. See results on assignment page!\n"
     ]
    }
   ],
   "source": [
    "# you can make submission with answers so far to check yourself at this stage\n",
    "grader.submit(COURSERA_EMAIL, COURSERA_TOKEN)"
   ]
  },
  {
   "cell_type": "code",
   "execution_count": 0,
   "metadata": {
    "colab": {},
    "colab_type": "code",
    "collapsed": true,
    "id": "sFfDwUZVWiCv"
   },
   "outputs": [],
   "source": []
  }
 ],
 "metadata": {
  "accelerator": "GPU",
  "colab": {
   "collapsed_sections": [],
   "name": "Copy of digits_classification.ipynb",
   "provenance": [
    {
     "file_id": "https://github.com/hse-aml/intro-to-dl/blob/master/week2/v2/digits_classification.ipynb",
     "timestamp": 1539248550538
    }
   ],
   "version": "0.3.2"
  },
  "kernelspec": {
   "display_name": "Python 3",
   "language": "python",
   "name": "python3"
  },
  "language_info": {
   "codemirror_mode": {
    "name": "ipython",
    "version": 3
   },
   "file_extension": ".py",
   "mimetype": "text/x-python",
   "name": "python",
   "nbconvert_exporter": "python",
   "pygments_lexer": "ipython3",
   "version": "3.6.3"
  }
 },
 "nbformat": 4,
 "nbformat_minor": 1
}
