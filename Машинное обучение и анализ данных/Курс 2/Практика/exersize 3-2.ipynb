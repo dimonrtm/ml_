{
 "cells": [
  {
   "cell_type": "code",
   "execution_count": 45,
   "metadata": {},
   "outputs": [],
   "source": [
    "import numpy as np\n",
    "import scipy.optimize as sp\n",
    "import matplotlib.pyplot as plt\n",
    "import math as m"
   ]
  },
  {
   "cell_type": "code",
   "execution_count": 46,
   "metadata": {
    "collapsed": true
   },
   "outputs": [],
   "source": [
    "def f(x):\n",
    "    y=[]\n",
    "    for i in x:\n",
    "        y.append(m.sin(i/5.0)*m.exp(i/10.0)+5.0*m.exp(-i/2.0))\n",
    "    y=np.array(y)\n",
    "    return y"
   ]
  },
  {
   "cell_type": "code",
   "execution_count": 48,
   "metadata": {},
   "outputs": [
    {
     "data": {
      "text/plain": [
       "array([ 2.50541641])"
      ]
     },
     "execution_count": 48,
     "metadata": {},
     "output_type": "execute_result"
    }
   ],
   "source": [
    "x=[10]\n",
    "f(x)"
   ]
  },
  {
   "cell_type": "code",
   "execution_count": 49,
   "metadata": {},
   "outputs": [],
   "source": [
    "x=np.arange(1.,30.,0.1)"
   ]
  },
  {
   "cell_type": "code",
   "execution_count": 50,
   "metadata": {},
   "outputs": [
    {
     "data": {
      "text/plain": [
       "array([  1. ,   1.1,   1.2,   1.3,   1.4,   1.5,   1.6,   1.7,   1.8,\n",
       "         1.9,   2. ,   2.1,   2.2,   2.3,   2.4,   2.5,   2.6,   2.7,\n",
       "         2.8,   2.9,   3. ,   3.1,   3.2,   3.3,   3.4,   3.5,   3.6,\n",
       "         3.7,   3.8,   3.9,   4. ,   4.1,   4.2,   4.3,   4.4,   4.5,\n",
       "         4.6,   4.7,   4.8,   4.9,   5. ,   5.1,   5.2,   5.3,   5.4,\n",
       "         5.5,   5.6,   5.7,   5.8,   5.9,   6. ,   6.1,   6.2,   6.3,\n",
       "         6.4,   6.5,   6.6,   6.7,   6.8,   6.9,   7. ,   7.1,   7.2,\n",
       "         7.3,   7.4,   7.5,   7.6,   7.7,   7.8,   7.9,   8. ,   8.1,\n",
       "         8.2,   8.3,   8.4,   8.5,   8.6,   8.7,   8.8,   8.9,   9. ,\n",
       "         9.1,   9.2,   9.3,   9.4,   9.5,   9.6,   9.7,   9.8,   9.9,\n",
       "        10. ,  10.1,  10.2,  10.3,  10.4,  10.5,  10.6,  10.7,  10.8,\n",
       "        10.9,  11. ,  11.1,  11.2,  11.3,  11.4,  11.5,  11.6,  11.7,\n",
       "        11.8,  11.9,  12. ,  12.1,  12.2,  12.3,  12.4,  12.5,  12.6,\n",
       "        12.7,  12.8,  12.9,  13. ,  13.1,  13.2,  13.3,  13.4,  13.5,\n",
       "        13.6,  13.7,  13.8,  13.9,  14. ,  14.1,  14.2,  14.3,  14.4,\n",
       "        14.5,  14.6,  14.7,  14.8,  14.9,  15. ,  15.1,  15.2,  15.3,\n",
       "        15.4,  15.5,  15.6,  15.7,  15.8,  15.9,  16. ,  16.1,  16.2,\n",
       "        16.3,  16.4,  16.5,  16.6,  16.7,  16.8,  16.9,  17. ,  17.1,\n",
       "        17.2,  17.3,  17.4,  17.5,  17.6,  17.7,  17.8,  17.9,  18. ,\n",
       "        18.1,  18.2,  18.3,  18.4,  18.5,  18.6,  18.7,  18.8,  18.9,\n",
       "        19. ,  19.1,  19.2,  19.3,  19.4,  19.5,  19.6,  19.7,  19.8,\n",
       "        19.9,  20. ,  20.1,  20.2,  20.3,  20.4,  20.5,  20.6,  20.7,\n",
       "        20.8,  20.9,  21. ,  21.1,  21.2,  21.3,  21.4,  21.5,  21.6,\n",
       "        21.7,  21.8,  21.9,  22. ,  22.1,  22.2,  22.3,  22.4,  22.5,\n",
       "        22.6,  22.7,  22.8,  22.9,  23. ,  23.1,  23.2,  23.3,  23.4,\n",
       "        23.5,  23.6,  23.7,  23.8,  23.9,  24. ,  24.1,  24.2,  24.3,\n",
       "        24.4,  24.5,  24.6,  24.7,  24.8,  24.9,  25. ,  25.1,  25.2,\n",
       "        25.3,  25.4,  25.5,  25.6,  25.7,  25.8,  25.9,  26. ,  26.1,\n",
       "        26.2,  26.3,  26.4,  26.5,  26.6,  26.7,  26.8,  26.9,  27. ,\n",
       "        27.1,  27.2,  27.3,  27.4,  27.5,  27.6,  27.7,  27.8,  27.9,\n",
       "        28. ,  28.1,  28.2,  28.3,  28.4,  28.5,  28.6,  28.7,  28.8,\n",
       "        28.9,  29. ,  29.1,  29.2,  29.3,  29.4,  29.5,  29.6,  29.7,\n",
       "        29.8,  29.9])"
      ]
     },
     "execution_count": 50,
     "metadata": {},
     "output_type": "execute_result"
    }
   ],
   "source": [
    "x"
   ]
  },
  {
   "cell_type": "code",
   "execution_count": 51,
   "metadata": {},
   "outputs": [],
   "source": [
    "x=np.array(x)"
   ]
  },
  {
   "cell_type": "code",
   "execution_count": 52,
   "metadata": {},
   "outputs": [
    {
     "data": {
      "text/plain": [
       "array([  1. ,   1.1,   1.2,   1.3,   1.4,   1.5,   1.6,   1.7,   1.8,\n",
       "         1.9,   2. ,   2.1,   2.2,   2.3,   2.4,   2.5,   2.6,   2.7,\n",
       "         2.8,   2.9,   3. ,   3.1,   3.2,   3.3,   3.4,   3.5,   3.6,\n",
       "         3.7,   3.8,   3.9,   4. ,   4.1,   4.2,   4.3,   4.4,   4.5,\n",
       "         4.6,   4.7,   4.8,   4.9,   5. ,   5.1,   5.2,   5.3,   5.4,\n",
       "         5.5,   5.6,   5.7,   5.8,   5.9,   6. ,   6.1,   6.2,   6.3,\n",
       "         6.4,   6.5,   6.6,   6.7,   6.8,   6.9,   7. ,   7.1,   7.2,\n",
       "         7.3,   7.4,   7.5,   7.6,   7.7,   7.8,   7.9,   8. ,   8.1,\n",
       "         8.2,   8.3,   8.4,   8.5,   8.6,   8.7,   8.8,   8.9,   9. ,\n",
       "         9.1,   9.2,   9.3,   9.4,   9.5,   9.6,   9.7,   9.8,   9.9,\n",
       "        10. ,  10.1,  10.2,  10.3,  10.4,  10.5,  10.6,  10.7,  10.8,\n",
       "        10.9,  11. ,  11.1,  11.2,  11.3,  11.4,  11.5,  11.6,  11.7,\n",
       "        11.8,  11.9,  12. ,  12.1,  12.2,  12.3,  12.4,  12.5,  12.6,\n",
       "        12.7,  12.8,  12.9,  13. ,  13.1,  13.2,  13.3,  13.4,  13.5,\n",
       "        13.6,  13.7,  13.8,  13.9,  14. ,  14.1,  14.2,  14.3,  14.4,\n",
       "        14.5,  14.6,  14.7,  14.8,  14.9,  15. ,  15.1,  15.2,  15.3,\n",
       "        15.4,  15.5,  15.6,  15.7,  15.8,  15.9,  16. ,  16.1,  16.2,\n",
       "        16.3,  16.4,  16.5,  16.6,  16.7,  16.8,  16.9,  17. ,  17.1,\n",
       "        17.2,  17.3,  17.4,  17.5,  17.6,  17.7,  17.8,  17.9,  18. ,\n",
       "        18.1,  18.2,  18.3,  18.4,  18.5,  18.6,  18.7,  18.8,  18.9,\n",
       "        19. ,  19.1,  19.2,  19.3,  19.4,  19.5,  19.6,  19.7,  19.8,\n",
       "        19.9,  20. ,  20.1,  20.2,  20.3,  20.4,  20.5,  20.6,  20.7,\n",
       "        20.8,  20.9,  21. ,  21.1,  21.2,  21.3,  21.4,  21.5,  21.6,\n",
       "        21.7,  21.8,  21.9,  22. ,  22.1,  22.2,  22.3,  22.4,  22.5,\n",
       "        22.6,  22.7,  22.8,  22.9,  23. ,  23.1,  23.2,  23.3,  23.4,\n",
       "        23.5,  23.6,  23.7,  23.8,  23.9,  24. ,  24.1,  24.2,  24.3,\n",
       "        24.4,  24.5,  24.6,  24.7,  24.8,  24.9,  25. ,  25.1,  25.2,\n",
       "        25.3,  25.4,  25.5,  25.6,  25.7,  25.8,  25.9,  26. ,  26.1,\n",
       "        26.2,  26.3,  26.4,  26.5,  26.6,  26.7,  26.8,  26.9,  27. ,\n",
       "        27.1,  27.2,  27.3,  27.4,  27.5,  27.6,  27.7,  27.8,  27.9,\n",
       "        28. ,  28.1,  28.2,  28.3,  28.4,  28.5,  28.6,  28.7,  28.8,\n",
       "        28.9,  29. ,  29.1,  29.2,  29.3,  29.4,  29.5,  29.6,  29.7,\n",
       "        29.8,  29.9])"
      ]
     },
     "execution_count": 52,
     "metadata": {},
     "output_type": "execute_result"
    }
   ],
   "source": [
    "x"
   ]
  },
  {
   "cell_type": "code",
   "execution_count": 53,
   "metadata": {},
   "outputs": [],
   "source": [
    "y=f(x)"
   ]
  },
  {
   "cell_type": "code",
   "execution_count": 54,
   "metadata": {},
   "outputs": [
    {
     "data": {
      "text/plain": [
       "array([  3.25221687e+00,   3.12835399e+00,   3.01206714e+00,\n",
       "         2.90299951e+00,   2.80081118e+00,   2.70517826e+00,\n",
       "         2.61579210e+00,   2.53235853e+00,   2.45459713e+00,\n",
       "         2.38224055e+00,   2.31503384e+00,   2.25273387e+00,\n",
       "         2.19510867e+00,   2.14193694e+00,   2.09300744e+00,\n",
       "         2.04811856e+00,   2.00707777e+00,   1.96970118e+00,\n",
       "         1.93581311e+00,   1.90524569e+00,   1.87783842e+00,\n",
       "         1.85343780e+00,   1.83189701e+00,   1.81307554e+00,\n",
       "         1.79683886e+00,   1.78305813e+00,   1.77160989e+00,\n",
       "         1.76237578e+00,   1.75524231e+00,   1.75010055e+00,\n",
       "         1.74684595e+00,   1.74537806e+00,   1.74560034e+00,\n",
       "         1.74741997e+00,   1.75074761e+00,   1.75549726e+00,\n",
       "         1.76158605e+00,   1.76893408e+00,   1.77746429e+00,\n",
       "         1.78710226e+00,   1.79777610e+00,   1.80941632e+00,\n",
       "         1.82195565e+00,   1.83532898e+00,   1.84947321e+00,\n",
       "         1.86432715e+00,   1.87983140e+00,   1.89592828e+00,\n",
       "         1.91256169e+00,   1.92967706e+00,   1.94722128e+00,\n",
       "         1.96514256e+00,   1.98339041e+00,   2.00191553e+00,\n",
       "         2.02066978e+00,   2.03960608e+00,   2.05867839e+00,\n",
       "         2.07784159e+00,   2.09705151e+00,   2.11626482e+00,\n",
       "         2.13543898e+00,   2.15453224e+00,   2.17350357e+00,\n",
       "         2.19231261e+00,   2.21091966e+00,   2.22928563e+00,\n",
       "         2.24737201e+00,   2.26514084e+00,   2.28255469e+00,\n",
       "         2.29957661e+00,   2.31617016e+00,   2.33229931e+00,\n",
       "         2.34792850e+00,   2.36302256e+00,   2.37754673e+00,\n",
       "         2.39146662e+00,   2.40474822e+00,   2.41735787e+00,\n",
       "         2.42926225e+00,   2.44042840e+00,   2.45082365e+00,\n",
       "         2.46041567e+00,   2.46917245e+00,   2.47706227e+00,\n",
       "         2.48405374e+00,   2.49011575e+00,   2.49521751e+00,\n",
       "         2.49932850e+00,   2.50241853e+00,   2.50445770e+00,\n",
       "         2.50541641e+00,   2.50526537e+00,   2.50397560e+00,\n",
       "         2.50151843e+00,   2.49786550e+00,   2.49298880e+00,\n",
       "         2.48686063e+00,   2.47945363e+00,   2.47074078e+00,\n",
       "         2.46069543e+00,   2.44929128e+00,   2.43650241e+00,\n",
       "         2.42230328e+00,   2.40666873e+00,   2.38957402e+00,\n",
       "         2.37099482e+00,   2.35090722e+00,   2.32928777e+00,\n",
       "         2.30611345e+00,   2.28136171e+00,   2.25501050e+00,\n",
       "         2.22703823e+00,   2.19742385e+00,   2.16614681e+00,\n",
       "         2.13318711e+00,   2.09852530e+00,   2.06214251e+00,\n",
       "         2.02402043e+00,   1.98414137e+00,   1.94248826e+00,\n",
       "         1.89904466e+00,   1.85379478e+00,   1.80672350e+00,\n",
       "         1.75781638e+00,   1.70705970e+00,   1.65444046e+00,\n",
       "         1.59994638e+00,   1.54356596e+00,   1.48528848e+00,\n",
       "         1.42510398e+00,   1.36300335e+00,   1.29897829e+00,\n",
       "         1.23302137e+00,   1.16512601e+00,   1.09528654e+00,\n",
       "         1.02349816e+00,   9.49757033e-01,   8.74060248e-01,\n",
       "         7.96405859e-01,   7.16792904e-01,   6.35221420e-01,\n",
       "         5.51692463e-01,   4.66208129e-01,   3.78771569e-01,\n",
       "         2.89387007e-01,   1.98059764e-01,   1.04796269e-01,\n",
       "         9.60408211e-03,  -8.75080891e-02,  -1.86530372e-01,\n",
       "        -2.87451712e-01,  -3.90259853e-01,  -4.94941322e-01,\n",
       "        -6.01481412e-01,  -7.09864165e-01,  -8.20072354e-01,\n",
       "        -9.32087471e-01,  -1.04588971e+00,  -1.16145793e+00,\n",
       "        -1.27876970e+00,  -1.39780121e+00,  -1.51852729e+00,\n",
       "        -1.64092142e+00,  -1.76495566e+00,  -1.89060070e+00,\n",
       "        -2.01782579e+00,  -2.14659878e+00,  -2.27688604e+00,\n",
       "        -2.40865253e+00,  -2.54186172e+00,  -2.67647563e+00,\n",
       "        -2.81245477e+00,  -2.94975817e+00,  -3.08834336e+00,\n",
       "        -3.22816637e+00,  -3.36918167e+00,  -3.51134226e+00,\n",
       "        -3.65459956e+00,  -3.79890348e+00,  -3.94420236e+00,\n",
       "        -4.09044301e+00,  -4.23757069e+00,  -4.38552907e+00,\n",
       "        -4.53426030e+00,  -4.68370494e+00,  -4.83380199e+00,\n",
       "        -4.98448889e+00,  -5.13570153e+00,  -5.28737420e+00,\n",
       "        -5.43943966e+00,  -5.59182909e+00,  -5.74447214e+00,\n",
       "        -5.89729688e+00,  -6.05022984e+00,  -6.20319603e+00,\n",
       "        -6.35611889e+00,  -6.50892037e+00,  -6.66152087e+00,\n",
       "        -6.81383931e+00,  -6.96579310e+00,  -7.11729817e+00,\n",
       "        -7.26826896e+00,  -7.41861846e+00,  -7.56825823e+00,\n",
       "        -7.71709838e+00,  -7.86504761e+00,  -8.01201323e+00,\n",
       "        -8.15790118e+00,  -8.30261603e+00,  -8.44606101e+00,\n",
       "        -8.58813805e+00,  -8.72874779e+00,  -8.86778958e+00,\n",
       "        -9.00516156e+00,  -9.14076062e+00,  -9.27448249e+00,\n",
       "        -9.40622173e+00,  -9.53587177e+00,  -9.66332495e+00,\n",
       "        -9.78847252e+00,  -9.91120472e+00,  -1.00314108e+01,\n",
       "        -1.01489790e+01,  -1.02637967e+01,  -1.03757504e+01,\n",
       "        -1.04847256e+01,  -1.05906072e+01,  -1.06932792e+01,\n",
       "        -1.07926249e+01,  -1.08885270e+01,  -1.09808675e+01,\n",
       "        -1.10695277e+01,  -1.11543887e+01,  -1.12353308e+01,\n",
       "        -1.13122339e+01,  -1.13849776e+01,  -1.14534412e+01,\n",
       "        -1.15175036e+01,  -1.15770436e+01,  -1.16319398e+01,\n",
       "        -1.16820706e+01,  -1.17273144e+01,  -1.17675497e+01,\n",
       "        -1.18026549e+01,  -1.18325088e+01,  -1.18569902e+01,\n",
       "        -1.18759781e+01,  -1.18893521e+01,  -1.18969919e+01,\n",
       "        -1.18987778e+01,  -1.18945907e+01,  -1.18843121e+01,\n",
       "        -1.18678241e+01,  -1.18450096e+01,  -1.18157523e+01,\n",
       "        -1.17799367e+01,  -1.17374487e+01,  -1.16881747e+01,\n",
       "        -1.16320026e+01,  -1.15688214e+01,  -1.14985214e+01,\n",
       "        -1.14209944e+01,  -1.13361334e+01,  -1.12438332e+01,\n",
       "        -1.11439902e+01,  -1.10365023e+01,  -1.09212694e+01,\n",
       "        -1.07981932e+01,  -1.06671775e+01,  -1.05281280e+01,\n",
       "        -1.03809527e+01,  -1.02255617e+01,  -1.00618676e+01,\n",
       "        -9.88978526e+00,  -9.70923213e+00,  -9.52012829e+00,\n",
       "        -9.32239650e+00,  -9.11596232e+00,  -8.90075421e+00,\n",
       "        -8.67670361e+00,  -8.44374503e+00,  -8.20181616e+00,\n",
       "        -7.95085798e+00,  -7.69081482e+00,  -7.42163447e+00,\n",
       "        -7.14326829e+00,  -6.85567130e+00,  -6.55880225e+00,\n",
       "        -6.25262377e+00,  -5.93710241e+00])"
      ]
     },
     "execution_count": 54,
     "metadata": {},
     "output_type": "execute_result"
    }
   ],
   "source": [
    "y"
   ]
  },
  {
   "cell_type": "code",
   "execution_count": 55,
   "metadata": {},
   "outputs": [
    {
     "data": {
      "image/png": "[encoded data removed]",
      "text/plain": [
       "<matplotlib.figure.Figure at 0xb246cf8>"
      ]
     },
     "metadata": {},
     "output_type": "display_data"
    }
   ],
   "source": [
    "plt.plot(x,f(x))\n",
    "plt.show()"
   ]
  },
  {
   "cell_type": "code",
   "execution_count": 69,
   "metadata": {},
   "outputs": [],
   "source": [
    "a=sp.minimize(f,2.0,method=\"BFGS\")"
   ]
  },
  {
   "cell_type": "code",
   "execution_count": 71,
   "metadata": {},
   "outputs": [],
   "source": [
    "a=a.fun"
   ]
  },
  {
   "cell_type": "code",
   "execution_count": 72,
   "metadata": {},
   "outputs": [
    {
     "data": {
      "text/plain": [
       "1.7452682903447336"
      ]
     },
     "execution_count": 72,
     "metadata": {},
     "output_type": "execute_result"
    }
   ],
   "source": [
    "a"
   ]
  },
  {
   "cell_type": "code",
   "execution_count": 74,
   "metadata": {},
   "outputs": [],
   "source": [
    "b=sp.minimize(f,30.0,method=\"BFGS\")"
   ]
  },
  {
   "cell_type": "code",
   "execution_count": 76,
   "metadata": {},
   "outputs": [],
   "source": [
    "b=b.fun"
   ]
  },
  {
   "cell_type": "code",
   "execution_count": 77,
   "metadata": {},
   "outputs": [
    {
     "data": {
      "text/plain": [
       "-11.898894665981313"
      ]
     },
     "execution_count": 77,
     "metadata": {},
     "output_type": "execute_result"
    }
   ],
   "source": [
    "b"
   ]
  },
  {
   "cell_type": "code",
   "execution_count": 79,
   "metadata": {},
   "outputs": [],
   "source": [
    "out=open(\"zadanie1.txt\",\"w\")"
   ]
  },
  {
   "cell_type": "code",
   "execution_count": 80,
   "metadata": {
    "collapsed": true
   },
   "outputs": [],
   "source": [
    "out.write(str(round(a,2))+\" \"+str(round(b,2)))"
   ]
  },
  {
   "cell_type": "code",
   "execution_count": 81,
   "metadata": {
    "collapsed": true
   },
   "outputs": [],
   "source": [
    "out.close()"
   ]
  },
  {
   "cell_type": "code",
   "execution_count": 85,
   "metadata": {},
   "outputs": [],
   "source": [
    "c=sp.differential_evolution(f,[(1,30)])"
   ]
  },
  {
   "cell_type": "code",
   "execution_count": 86,
   "metadata": {},
   "outputs": [],
   "source": [
    "c=c.fun"
   ]
  },
  {
   "cell_type": "code",
   "execution_count": 87,
   "metadata": {},
   "outputs": [
    {
     "data": {
      "text/plain": [
       "array([-11.89889467])"
      ]
     },
     "execution_count": 87,
     "metadata": {},
     "output_type": "execute_result"
    }
   ],
   "source": [
    "c"
   ]
  },
  {
   "cell_type": "code",
   "execution_count": 92,
   "metadata": {
    "collapsed": true
   },
   "outputs": [],
   "source": [
    "output=open(\"zadanie2.txt\",\"w\")"
   ]
  },
  {
   "cell_type": "code",
   "execution_count": 93,
   "metadata": {},
   "outputs": [],
   "source": [
    "output.write(str(round(c[0],2)))"
   ]
  },
  {
   "cell_type": "code",
   "execution_count": 94,
   "metadata": {
    "collapsed": true
   },
   "outputs": [],
   "source": [
    "output.close()"
   ]
  },
  {
   "cell_type": "code",
   "execution_count": 95,
   "metadata": {},
   "outputs": [
    {
     "data": {
      "text/plain": [
       "      fun: -11.898894665981313\n",
       " hess_inv: array([[ 1.67936744]])\n",
       "      jac: array([ 0.])\n",
       "  message: 'Optimization terminated successfully.'\n",
       "     nfev: 21\n",
       "      nit: 6\n",
       "     njev: 7\n",
       "   status: 0\n",
       "  success: True\n",
       "        x: array([ 25.88019321])"
      ]
     },
     "execution_count": 95,
     "metadata": {},
     "output_type": "execute_result"
    }
   ],
   "source": [
    "sp.minimize(f,30.0,method=\"BFGS\")"
   ]
  },
  {
   "cell_type": "code",
   "execution_count": 96,
   "metadata": {},
   "outputs": [
    {
     "data": {
      "text/plain": [
       "     fun: array([-11.89889467])\n",
       "     jac: array([ 0.])\n",
       " message: 'Optimization terminated successfully.'\n",
       "    nfev: 98\n",
       "     nit: 5\n",
       " success: True\n",
       "       x: array([ 25.88019283])"
      ]
     },
     "execution_count": 96,
     "metadata": {},
     "output_type": "execute_result"
    }
   ],
   "source": [
    "sp.differential_evolution(f,[(1,30)])"
   ]
  },
  {
   "cell_type": "code",
   "execution_count": 104,
   "metadata": {
    "collapsed": true
   },
   "outputs": [],
   "source": [
    "def h(x):\n",
    "    hfx=[]\n",
    "    temp=f(x)\n",
    "    for i in temp:\n",
    "        hfx.append(int(i))\n",
    "    hfx=np.array(hfx)\n",
    "    return hfx"
   ]
  },
  {
   "cell_type": "code",
   "execution_count": 105,
   "metadata": {},
   "outputs": [
    {
     "data": {
      "text/plain": [
       "array([  1. ,   1.1,   1.2,   1.3,   1.4,   1.5,   1.6,   1.7,   1.8,\n",
       "         1.9,   2. ,   2.1,   2.2,   2.3,   2.4,   2.5,   2.6,   2.7,\n",
       "         2.8,   2.9,   3. ,   3.1,   3.2,   3.3,   3.4,   3.5,   3.6,\n",
       "         3.7,   3.8,   3.9,   4. ,   4.1,   4.2,   4.3,   4.4,   4.5,\n",
       "         4.6,   4.7,   4.8,   4.9,   5. ,   5.1,   5.2,   5.3,   5.4,\n",
       "         5.5,   5.6,   5.7,   5.8,   5.9,   6. ,   6.1,   6.2,   6.3,\n",
       "         6.4,   6.5,   6.6,   6.7,   6.8,   6.9,   7. ,   7.1,   7.2,\n",
       "         7.3,   7.4,   7.5,   7.6,   7.7,   7.8,   7.9,   8. ,   8.1,\n",
       "         8.2,   8.3,   8.4,   8.5,   8.6,   8.7,   8.8,   8.9,   9. ,\n",
       "         9.1,   9.2,   9.3,   9.4,   9.5,   9.6,   9.7,   9.8,   9.9,\n",
       "        10. ,  10.1,  10.2,  10.3,  10.4,  10.5,  10.6,  10.7,  10.8,\n",
       "        10.9,  11. ,  11.1,  11.2,  11.3,  11.4,  11.5,  11.6,  11.7,\n",
       "        11.8,  11.9,  12. ,  12.1,  12.2,  12.3,  12.4,  12.5,  12.6,\n",
       "        12.7,  12.8,  12.9,  13. ,  13.1,  13.2,  13.3,  13.4,  13.5,\n",
       "        13.6,  13.7,  13.8,  13.9,  14. ,  14.1,  14.2,  14.3,  14.4,\n",
       "        14.5,  14.6,  14.7,  14.8,  14.9,  15. ,  15.1,  15.2,  15.3,\n",
       "        15.4,  15.5,  15.6,  15.7,  15.8,  15.9,  16. ,  16.1,  16.2,\n",
       "        16.3,  16.4,  16.5,  16.6,  16.7,  16.8,  16.9,  17. ,  17.1,\n",
       "        17.2,  17.3,  17.4,  17.5,  17.6,  17.7,  17.8,  17.9,  18. ,\n",
       "        18.1,  18.2,  18.3,  18.4,  18.5,  18.6,  18.7,  18.8,  18.9,\n",
       "        19. ,  19.1,  19.2,  19.3,  19.4,  19.5,  19.6,  19.7,  19.8,\n",
       "        19.9,  20. ,  20.1,  20.2,  20.3,  20.4,  20.5,  20.6,  20.7,\n",
       "        20.8,  20.9,  21. ,  21.1,  21.2,  21.3,  21.4,  21.5,  21.6,\n",
       "        21.7,  21.8,  21.9,  22. ,  22.1,  22.2,  22.3,  22.4,  22.5,\n",
       "        22.6,  22.7,  22.8,  22.9,  23. ,  23.1,  23.2,  23.3,  23.4,\n",
       "        23.5,  23.6,  23.7,  23.8,  23.9,  24. ,  24.1,  24.2,  24.3,\n",
       "        24.4,  24.5,  24.6,  24.7,  24.8,  24.9,  25. ,  25.1,  25.2,\n",
       "        25.3,  25.4,  25.5,  25.6,  25.7,  25.8,  25.9,  26. ,  26.1,\n",
       "        26.2,  26.3,  26.4,  26.5,  26.6,  26.7,  26.8,  26.9,  27. ,\n",
       "        27.1,  27.2,  27.3,  27.4,  27.5,  27.6,  27.7,  27.8,  27.9,\n",
       "        28. ,  28.1,  28.2,  28.3,  28.4,  28.5,  28.6,  28.7,  28.8,\n",
       "        28.9,  29. ,  29.1,  29.2,  29.3,  29.4,  29.5,  29.6,  29.7,\n",
       "        29.8,  29.9])"
      ]
     },
     "execution_count": 105,
     "metadata": {},
     "output_type": "execute_result"
    }
   ],
   "source": [
    "x"
   ]
  },
  {
   "cell_type": "code",
   "execution_count": 106,
   "metadata": {},
   "outputs": [
    {
     "data": {
      "text/plain": [
       "array([  3,   3,   3,   2,   2,   2,   2,   2,   2,   2,   2,   2,   2,\n",
       "         2,   2,   2,   2,   1,   1,   1,   1,   1,   1,   1,   1,   1,\n",
       "         1,   1,   1,   1,   1,   1,   1,   1,   1,   1,   1,   1,   1,\n",
       "         1,   1,   1,   1,   1,   1,   1,   1,   1,   1,   1,   1,   1,\n",
       "         1,   2,   2,   2,   2,   2,   2,   2,   2,   2,   2,   2,   2,\n",
       "         2,   2,   2,   2,   2,   2,   2,   2,   2,   2,   2,   2,   2,\n",
       "         2,   2,   2,   2,   2,   2,   2,   2,   2,   2,   2,   2,   2,\n",
       "         2,   2,   2,   2,   2,   2,   2,   2,   2,   2,   2,   2,   2,\n",
       "         2,   2,   2,   2,   2,   2,   2,   2,   2,   2,   2,   2,   2,\n",
       "         2,   1,   1,   1,   1,   1,   1,   1,   1,   1,   1,   1,   1,\n",
       "         1,   1,   1,   1,   1,   1,   0,   0,   0,   0,   0,   0,   0,\n",
       "         0,   0,   0,   0,   0,   0,   0,   0,   0,   0,   0,   0,   0,\n",
       "         0,  -1,  -1,  -1,  -1,  -1,  -1,  -1,  -1,  -2,  -2,  -2,  -2,\n",
       "        -2,  -2,  -2,  -2,  -3,  -3,  -3,  -3,  -3,  -3,  -3,  -4,  -4,\n",
       "        -4,  -4,  -4,  -4,  -4,  -5,  -5,  -5,  -5,  -5,  -5,  -6,  -6,\n",
       "        -6,  -6,  -6,  -6,  -6,  -7,  -7,  -7,  -7,  -7,  -7,  -8,  -8,\n",
       "        -8,  -8,  -8,  -8,  -8,  -9,  -9,  -9,  -9,  -9,  -9,  -9,  -9,\n",
       "       -10, -10, -10, -10, -10, -10, -10, -10, -10, -10, -11, -11, -11,\n",
       "       -11, -11, -11, -11, -11, -11, -11, -11, -11, -11, -11, -11, -11,\n",
       "       -11, -11, -11, -11, -11, -11, -11, -11, -11, -11, -11, -11, -11,\n",
       "       -11, -11, -11, -11, -11, -11, -10, -10, -10, -10, -10, -10, -10,\n",
       "        -9,  -9,  -9,  -9,  -9,  -8,  -8,  -8,  -8,  -7,  -7,  -7,  -7,\n",
       "        -6,  -6,  -6,  -5])"
      ]
     },
     "execution_count": 106,
     "metadata": {},
     "output_type": "execute_result"
    }
   ],
   "source": [
    "h(x)"
   ]
  },
  {
   "cell_type": "code",
   "execution_count": 107,
   "metadata": {},
   "outputs": [
    {
     "data": {
      "image/png": "[encoded data removed]",
      "text/plain": [
       "<matplotlib.figure.Figure at 0xb38c6d8>"
      ]
     },
     "metadata": {},
     "output_type": "display_data"
    }
   ],
   "source": [
    "plt.plot(x,h(x))\n",
    "plt.show()"
   ]
  },
  {
   "cell_type": "code",
   "execution_count": 109,
   "metadata": {},
   "outputs": [],
   "source": [
    "d=sp.minimize(h,30.0,method=\"BFGS\")"
   ]
  },
  {
   "cell_type": "code",
   "execution_count": 111,
   "metadata": {},
   "outputs": [],
   "source": [
    "d=d.fun"
   ]
  },
  {
   "cell_type": "code",
   "execution_count": 112,
   "metadata": {},
   "outputs": [
    {
     "data": {
      "text/plain": [
       "array([-5])"
      ]
     },
     "execution_count": 112,
     "metadata": {},
     "output_type": "execute_result"
    }
   ],
   "source": [
    "d"
   ]
  },
  {
   "cell_type": "code",
   "execution_count": 115,
   "metadata": {},
   "outputs": [],
   "source": [
    "e=sp.differential_evolution(h,[(1,30)])"
   ]
  },
  {
   "cell_type": "code",
   "execution_count": 117,
   "metadata": {},
   "outputs": [],
   "source": [
    "e=e.fun"
   ]
  },
  {
   "cell_type": "code",
   "execution_count": 118,
   "metadata": {},
   "outputs": [
    {
     "data": {
      "text/plain": [
       "-11.0"
      ]
     },
     "execution_count": 118,
     "metadata": {},
     "output_type": "execute_result"
    }
   ],
   "source": [
    "e"
   ]
  },
  {
   "cell_type": "code",
   "execution_count": 119,
   "metadata": {
    "collapsed": true
   },
   "outputs": [],
   "source": [
    "outputfile=open(\"zadanie3.txt\",\"w\")"
   ]
  },
  {
   "cell_type": "code",
   "execution_count": 120,
   "metadata": {
    "collapsed": true
   },
   "outputs": [],
   "source": [
    "outputfile.write(str(d[0])+\" \"+ str(e))"
   ]
  },
  {
   "cell_type": "code",
   "execution_count": 121,
   "metadata": {
    "collapsed": true
   },
   "outputs": [],
   "source": [
    "outputfile.close()"
   ]
  },
  {
   "cell_type": "code",
   "execution_count": null,
   "metadata": {
    "collapsed": true
   },
   "outputs": [],
   "source": []
  }
 ],
 "metadata": {
  "kernelspec": {
   "display_name": "Python 2",
   "language": "python",
   "name": "python2"
  },
  "language_info": {
   "codemirror_mode": {
    "name": "ipython",
    "version": 2
   },
   "file_extension": ".py",
   "mimetype": "text/x-python",
   "name": "python",
   "nbconvert_exporter": "python",
   "pygments_lexer": "ipython2",
   "version": "2.7.14"
  }
 },
 "nbformat": 4,
 "nbformat_minor": 2
}
