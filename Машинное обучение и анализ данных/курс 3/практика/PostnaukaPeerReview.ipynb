{
 "cells": [
  {
   "cell_type": "markdown",
   "metadata": {},
   "source": [
    "# Тематическая модель [Постнауки](http://postnauka.ru)\n",
    "## Peer Review (optional)"
   ]
  },
  {
   "cell_type": "markdown",
   "metadata": {},
   "source": [
    "В этом задании мы применим аппарат тематического моделирования к коллекции текстовых записей видеолекций, скачанных с сайта Постнаука. Мы будем визуализировать модель и создавать прототип тематического навигатора по коллекции. В коллекции 1728 документов, размер словаря - 38467 слов. Слова лемматизированы, то есть приведены к начальной форме, с помощью программы [mystem](https://tech.yandex.ru/mystem/), коллекция сохранена в [формате vowpal wabbit](http://docs.bigartm.org/en/latest/formats.html). В каждой строке до первой черты записана информация о документе (ссылка на страницу с лекцией), после первой черты следует описание документа. Используются две модальности - текстовая (\"text\") и модальность авторов (\"author\"); у каждого документа один автор."
   ]
  },
  {
   "cell_type": "markdown",
   "metadata": {},
   "source": [
    "Для выполнения задания понадобится библиотека [BigARTM](http://docs.bigartm.org). В демонстрации показан пример использования библиотеки версии 0.7.4, на сайте предлагается скачивать версию 0.8.0. В новой версии изменены принципы работы со словарями: они вынесены в отдельный класс (пример в [Release Notes](http://docs.bigartm.org/en/stable/release_notes/python.html)). Строить модель и извлекать ее параметры нужно так же, как показано в демонстрации. Вы можете использовать [предыдущий релиз](http://bigartm.readthedocs.io/en/v0.7.6/download.html) или [новый релиз](http://docs.bigartm.org/en/latest/download.html) на ваше усмотрение.\n",
    "\n",
    "Спецификации всех функций вы можете смотреть на странице [Python API](http://bigartm.readthedocs.io/en/stable/python_interface.html)."
   ]
  },
  {
   "cell_type": "code",
   "execution_count": 1,
   "metadata": {
    "collapsed": true
   },
   "outputs": [],
   "source": [
    "import artm"
   ]
  },
  {
   "cell_type": "code",
   "execution_count": 2,
   "metadata": {
    "collapsed": true
   },
   "outputs": [],
   "source": [
    "from matplotlib import pyplot as plt\n",
    "import seaborn\n",
    "%matplotlib inline\n",
    "seaborn.set_style(\"whitegrid\", {'axes.grid' : False})"
   ]
  },
  {
   "cell_type": "code",
   "execution_count": 8,
   "metadata": {
    "collapsed": true
   },
   "outputs": [],
   "source": [
    "import numpy as np\n",
    "import pandas as pd"
   ]
  },
  {
   "cell_type": "markdown",
   "metadata": {},
   "source": [
    "##### Считывание данных"
   ]
  },
  {
   "cell_type": "markdown",
   "metadata": {},
   "source": [
    "Создайте объект класса artm.BatchVectorizer, который будет ссылаться на директорию с пакетами данных (батчами). Чтобы библиотека могла преобразовать текстовый файл в батчи, создайте пустую директорию и укажите ее название в параметре target_folder. Размер батча для небольших коллекций (как наша) не важен, вы можете указать любой."
   ]
  },
  {
   "cell_type": "code",
   "execution_count": 42,
   "metadata": {
    "collapsed": true
   },
   "outputs": [],
   "source": [
    "# Ваш код\n",
    "batch_vectorizer=artm.BatchVectorizer(data_path=\"lectures.txt\",data_format=\"vowpal_wabbit\",target_folder=\"lectures_batches\",\n",
    "                                     batch_size=100)"
   ]
  },
  {
   "cell_type": "markdown",
   "metadata": {},
   "source": [
    "##### Инициализация модели"
   ]
  },
  {
   "cell_type": "markdown",
   "metadata": {},
   "source": [
    "Создайте объект класса artm.Model с 30 темами, именами тем, указанными ниже и единичными весами обеих модальностей. Количество тем выбрано не очень большим, чтобы вам было удобнее работать с темами. На этой коллекции можно строить и большее число тем, тогда они будут более узко специализированы."
   ]
  },
  {
   "cell_type": "code",
   "execution_count": 43,
   "metadata": {},
   "outputs": [],
   "source": [
    "T = 30   # количество тем\n",
    "topic_names=[\"sbj\"+str(i) for i in range(T-1)]+[\"bcg\"]\n",
    "# Ваш код\n",
    "model_artm=artm.ARTM(num_topics=T,topic_names=topic_names,num_processors=2,class_ids={\"text\":1,\"author\":1}\n",
    "                     ,reuse_theta=True,cache_theta=True)"
   ]
  },
  {
   "cell_type": "markdown",
   "metadata": {},
   "source": [
    "Мы будем строить 29 предметных тем и одну фоновую. \n",
    "\n",
    "Соберите словарь с помощью метода gather_dictionary и инициализируйте модель, указав random_seed=1. Обязательно укажите свое название словаря, оно понадобится при добавлении регуляризаторов."
   ]
  },
  {
   "cell_type": "code",
   "execution_count": 44,
   "metadata": {},
   "outputs": [],
   "source": [
    "# Ваш код\n",
    "np.random.seed(1)\n",
    "dictionary=artm.Dictionary(\"dictionary\")\n",
    "dictionary.gather(batch_vectorizer.data_path)\n",
    "model_artm.initialize(dictionary=dictionary)"
   ]
  },
  {
   "cell_type": "markdown",
   "metadata": {},
   "source": [
    "##### Добавление score"
   ]
  },
  {
   "cell_type": "markdown",
   "metadata": {},
   "source": [
    "Создайте два измерителя качества artm.TopTokensScore - по одному для каждой модальности; количество токенов 15. Названия для score придумайте самостоятельно."
   ]
  },
  {
   "cell_type": "code",
   "execution_count": 45,
   "metadata": {
    "collapsed": true
   },
   "outputs": [],
   "source": [
    "# Ваш код\n",
    "model_artm.scores.add(artm.TopTokensScore(name=\"top_tokens_words\",num_tokens=15,class_id=\"text\"))\n",
    "model_artm.scores.add(artm.TopTokensScore(name=\"top_tokens_autors\",num_tokens=15,class_id=\"author\"))"
   ]
  },
  {
   "cell_type": "markdown",
   "metadata": {},
   "source": [
    "##### Построение модели"
   ]
  },
  {
   "cell_type": "markdown",
   "metadata": {},
   "source": [
    "Мы будем строить модель в два этапа: сначала добавим сглаживающий регуляризатор фоновой темы и настроим параметры модели, затем - добавим разреживающий регуляризатор предметрых тем и выполним еще несколько итераций. Так мы сможем получить наиболее чистые от фоновых слов предметные темы. Сглаживающий и разреживающий регуляризаторы задаются одним и тем же классом artm.SmoothSparsePhiRegularizer: если коэффициент tau положительный, то регуляризатор будет сглаживающий, если отрицательный - разреживающий.\n",
    "\n",
    "Если вы хотите подробнее разобраться, как выполняется регуляризация тематической модели в BigARTM, вы можете прочитать [статью](https://s3-eu-west-1.amazonaws.com/artm/voron-potap14artm-rus.pdf), раздел 4."
   ]
  },
  {
   "cell_type": "markdown",
   "metadata": {},
   "source": [
    "Добавьте сглаживающий регуляризатор с коэффициентом tau = 1e5, указав название своего словаря в dictionary, модальность текста в class_ids и тему \"bcg\" в topic_names."
   ]
  },
  {
   "cell_type": "code",
   "execution_count": 46,
   "metadata": {},
   "outputs": [],
   "source": [
    "# Ваш код\n",
    "model_artm.regularizers.add(artm.SmoothSparsePhiRegularizer(tau=1e5,class_ids=\"text\",dictionary=\"dictionary\",\n",
    "                                                       topic_names=\"bcg\"))"
   ]
  },
  {
   "cell_type": "markdown",
   "metadata": {},
   "source": [
    "Выполните 30 итераций по коллекции (num_collection_passes), количество внутренних итераций установите равным 1. Используйте метод fit_offline модели."
   ]
  },
  {
   "cell_type": "code",
   "execution_count": 47,
   "metadata": {
    "collapsed": true
   },
   "outputs": [],
   "source": [
    "# Ваш код\n",
    "model_artm.num_document_passes=1\n",
    "model_artm.fit_offline(batch_vectorizer=batch_vectorizer,num_collection_passes=30)"
   ]
  },
  {
   "cell_type": "markdown",
   "metadata": {},
   "source": [
    "Добавьте разреживающий регуляризатор с коэффициентом tau=-1e5, указав название своего словаря, модальность текста в class_ids и все темы \"sbjX\" в topic_names."
   ]
  },
  {
   "cell_type": "code",
   "execution_count": 48,
   "metadata": {},
   "outputs": [],
   "source": [
    "# Ваш код\n",
    "top_names=list(topic_names)\n",
    "model_artm.regularizers.add(artm.SmoothSparsePhiRegularizer(tau=-1e5,class_ids=\"text\",dictionary=\"dictionary\",\n",
    "                                                            topic_names=top_names.remove('bcg')))"
   ]
  },
  {
   "cell_type": "markdown",
   "metadata": {},
   "source": [
    "Выполните еще 15 проходов по коллекции."
   ]
  },
  {
   "cell_type": "code",
   "execution_count": 49,
   "metadata": {},
   "outputs": [],
   "source": [
    "# Ваш код\n",
    "model_artm.fit_offline(batch_vectorizer=batch_vectorizer,num_collection_passes=15)"
   ]
  },
  {
   "cell_type": "markdown",
   "metadata": {},
   "source": [
    "##### Интерпретация тем"
   ]
  },
  {
   "cell_type": "markdown",
   "metadata": {},
   "source": [
    "Используя созданные score, выведите топы слов и топы авторов в темах. Удобнее всего выводить топ слов каждой темы с новой строки, указывая название темы в начале строки, и аналогично с авторами."
   ]
  },
  {
   "cell_type": "code",
   "execution_count": 50,
   "metadata": {},
   "outputs": [
    {
     "name": "stdout",
     "output_type": "stream",
     "text": [
      "sbj0:\n",
      "церковь власть средневековый император русь святой римский папа князь сага король александр византийский вера рим\n",
      "sbj1:\n",
      "планета земля атмосфера солнце солнечный белый газ образовываться карлик вокруг вода поверхность спутник орбита океан\n",
      "sbj2:\n",
      "система трудность поведение частота двигаться точность искусственный движение относительность тест час самка задание переход часы\n",
      "sbj3:\n",
      "культура понятие культурный восприятие сознание феномен личность воспринимать ощущение чувство повседневный переживание детство этика индивид\n",
      "sbj4:\n",
      "право литература искусство литературный юрист писатель должник собственность обязательство владение римский произведение исполнение юридический требование\n",
      "sbj5:\n",
      "материал структура молекула свойство углерод применение поверхность полимер кристалл металл электронный твердый трехмерный алмаз углеродный\n",
      "sbj6:\n",
      "книга фильм автор кино написать документ жанр театр тема кинематограф академия герой анекдот екатерина культовый\n",
      "sbj7:\n",
      "смерть ритуал террор правитель государь обряд служба конвент диктатура моральный монтаньяр подданный комитет баратынский насилие\n",
      "sbj8:\n",
      "метод химический соединение вещество реакция химия давление лекарство синтез органический разработка продукт концентрация натрий химик\n",
      "sbj9:\n",
      "частица энергия квантовый поле физика взаимодействие атом магнитный теория электрон кварк симметрия элементарный фотон стандартный\n",
      "sbj10:\n",
      "война россия советский русский власть российский германия мировой реформа историк петр немецкий против гражданский военный\n",
      "sbj11:\n",
      "ребенок семья возраст кровь взрослый мать сон родитель старение конфликт катастрофа травма обезьяна сосуд диабет\n",
      "sbj12:\n",
      "растение ткань орган иммунный рак озеро сердце опухоль мышца нейронный птица вода активация печень шимпанзе\n",
      "sbj13:\n",
      "территория народ христианский империя восток древний письменность государство цивилизация китай памятник христианство северный восточный китайский\n",
      "sbj14:\n",
      "звезда галактика масса черный вселенная свет объект скорость волна дыра излучение расстояние вещество телескоп размер\n",
      "sbj15:\n",
      "задача информация память данные решение компьютер психология мышление анализ внимание ошибка когнитивный компьютерный психолог решать\n",
      "sbj16:\n",
      "раса африка остров америка южный станислав нос волос индия монголоид сенсор дробышевский штамм индеец территориальный\n",
      "sbj17:\n",
      "политический философия государство общество философский философ партия правовой политика суд враг платон мысль профессиональный дух\n",
      "sbj18:\n",
      "слово текст русский словарь предложение категория значение корпус глагол конструкция грамматика падеж речь поэт лингвистика\n",
      "sbj19:\n",
      "революция французский свобода франция роман национальный король нация аргумент творчество актер париж конституция депутат монархия\n",
      "sbj20:\n",
      "город технология сеть робот городской интернет компания пользователь музей библиотека медиа горожанин управление метро здание\n",
      "sbj21:\n",
      "болезнь заболевание пациент женщина лечение медицина врач боль препарат медицинский операция мужчина больной нарушение диагностика\n",
      "sbj22:\n",
      "социальный знание социология объект социологический дисциплина перевод познание обучение описание виктор коммуникация социолог форма предмет\n",
      "sbj23:\n",
      "матрица микроорганизм схема эмоция алгоритм вычислительный эмоциональный глубина интеллект микроб программный машина фольклор обеспечение архитектура\n",
      "sbj24:\n",
      "исторический традиция бог миф царь греческий представление эпоха религиозный религия имя душа письмо мифология египет\n",
      "sbj25:\n",
      "язык лингвист языковой английский гласный согласный звук лингвистический говор филологический диалект компилятор жест программирование германский\n",
      "sbj26:\n",
      "страна экономический экономика политика идентичность ценность кризис принятие общественный сталин коллективный выбор праздник решение ресурс\n",
      "sbj27:\n",
      "клетка мозг организм ген днк белок биологический животное генетический нейрон геном бактерия молекулярный биология мутация\n",
      "sbj28:\n",
      "температура университет сверхпроводимость профессор сверхпроводник сверхпроводящий железо заимствование гумбольдт магнит кельвин сопротивление электроника диссертация булгарский\n",
      "bcg:\n",
      "быть что это который этот как они мочь такой очень для человек или тот один\n"
     ]
    }
   ],
   "source": [
    "# Ваш код\n",
    "for topic_name in model_artm.topic_names:\n",
    "    print topic_name +\":\"\n",
    "    tokens=model_artm.score_tracker[\"top_tokens_words\"].last_tokens\n",
    "    for word in tokens[topic_name]:\n",
    "        print word,\n",
    "    print"
   ]
  },
  {
   "cell_type": "code",
   "execution_count": 52,
   "metadata": {},
   "outputs": [
    {
     "name": "stdout",
     "output_type": "stream",
     "text": [
      "sbj0:\n",
      "Александр_Марей Фёдор_Успенский Татьяна_Бобровникова Павел_Уваров Алексей_Юдин Игорь_Данилевский Ольга_Вайнштейн Елена_Уханова Ольга_Брилева Владимир_Петрухин Елена_Браун Григорий_Бондаренко Раиса_Кирсанова Екатерина_Болтунова Ольга_Тогоева\n",
      "sbj1:\n",
      "Сергей_Попов Кирилл_Еськов Дмитрий_Вибе Дмитрий_Титов Валерий_Сулейманов Зоригто_Намсараев Сергей_Наугольных Александр_Марков Роман_Рафиков Александр_Слободкин Елизавета_Ривкина Наталья_Новикова Сергей_Писарев Дмитрий_Лось Юлия_Краус\n",
      "sbj2:\n",
      "Елена_Брызгалина Александр_Поддьяков Владимир_Мележик Михаил_Пантелеев Эмиль_Ахмедов Виталий_Пальчиков Михаил_Фейгельман Даниэль_Сельва Антон_Суворов Василий_Климов Алексей_Желтиков Юджин_Ползик Илья_Щуров Владимир_Редько Алексей_Котов\n",
      "sbj3:\n",
      "Пётр_Турчин Алексей_Руткевич Владимир_Миронов Сергей_Арутюнов Татьяна_Смоктунович Андрей_Лосев Константин_Анохин Кирилл_Разлогов Павел_Степанцов Александр_Кислов Фёдор_Гиренок Павел_Умрюхин Дмитрий_Иванов Светлана_Кузнецова Андрей_Лукашов\n",
      "sbj4:\n",
      "Дмитрий_Дождев Олег_Лекманов Андрей_Кофман Денис_Новак Наталья_Смолянская Сергей_Зенкин Виктор_Цетлин Марина_Бутовская Дмитрий_Дорохов Александр_Парфенов Дмитрий_Полдников Евгений_Рогожин Мария_Штейнман Алиса_Вячеславова Татьяна_Гусарова\n",
      "sbj5:\n",
      "Артем_Оганов Дмитрий_Паращук Алексей_Акимов Валентин_Крапошин Дмитрий_Гольберг Евгений_Гудилин Владимир_Шалаев Алексей_Хохлов Дмитрий_Клинов Владимир_Комлев Виктор_Зайченко Сергей_Никитов Андрей_Головин Эрик_Мазур Шринивас_Шридхар\n",
      "sbj6:\n",
      "Александр_Павлов Павел_Руднев Ян_Левченко Алексей_Бартошевич Ольга_Эдельман Мария_Неклюдова Владимир_Кантор Петр_Дружинин Наталья_Харламенкова Ольга_Вайнштейн Екатерина_Щербакова Анатолий_Гершман Анна_Рогожина Михаил_Маяцкий Мария_Майофис\n",
      "sbj7:\n",
      "Михаил_Бойцов Анна_Соколова Александр_Гофман Арсений_Хитров Игорь_Чубаров Дмитрий_Рогозин Алина_Бодрова Галина_Зверева Пол_Грегори Олег_Ауров Мария_Майофис Дмитрий_Бовыкин Михаил_Алексеевский Владимир_Емельянов Сет_Ллойд\n",
      "sbj8:\n",
      "Валерий_Фокин Валентин_Ненайденко Алла_Ножевникова Александр_Беленький Виктория_Битюкова Иван_Сорокин Александр_Апт Алексей_Малашенко Сергей_Майоров Сергей_Румянцев Константин_Мирошников Дмитрий_Бак Олег_Мельник Пётр_Образцов Владимир_Польшаков\n",
      "sbj9:\n",
      "Дмитрий_Казаков Эмиль_Ахмедов Михаил_Данилов Игорь_Волобуев Лев_Дудко Наталья_Берлофф Виктор_Брагута Павел_Пахлов Сергей_Демокритов Сергей_Троицкий Алексей_Рубцов Марина_Корсакова-Крейн Кит_Моффат Анатолий_Лиходед Эдуард_Боос\n",
      "sbj10:\n",
      "Илья_Женин Кирилл_Соловьев Борис_Морозов Кирилл_Кочегаров Александр_Лаврентьев Ирина_Бёме Олег_Будницкий Александр_Каменский Илья_Виньковецкий Игорь_Курукин Алексей_Киличенков Людмила_Новикова Сергей_Соколовский Ольга_Исупова Варвара_Добровольская\n",
      "sbj11:\n",
      "Катерина_Поливанова Юрий_Яшков Мария_Падун Джеральд_де_Хаан Эмери_Браун Владимир_Ковальзон Мария_Медникова Дмитрий_Жуков Наталья_Харламенкова Ольга_Исупова Александр_Жаворонков Максим_Киселев Дэвид_С._Джонс Алексей_Москалев Дэвид_Синклер\n",
      "sbj12:\n",
      "Михаил_Бурцев Филипп_Хайтович Егор_Задереев Константин_Агладзе Дмитрий_Громов Андрей_Цатурян Варвара_Веденина Алишер_Тураев Александр_Петренко Мария_Добровольская Сергей_Яковенко Филлип_Шарп Рудольф_Йениш Михаил_Киселев Иван_Воробьев\n",
      "sbj13:\n",
      "Алексей_Муравьёв Дмитрий_Беляев Марк_Ульянов Дмитрий_Худяков Сергей_Серёгичев Наталья_Зубаревич Андрей_Виноградов Владимир_Каганский Олег_Ауров Александр_Высоковский Галина_Ершова Дмитрий_Арзютов Нина_Сумбатова Анна_Дыбо Анна_Рогожина\n",
      "sbj14:\n",
      "Сергей_Попов Анатолий_Засов Алексей_Расторгуев Ольга_Сильченко Владимир_Сурдин Михаил_Ревнивцев Дмитрий_Горбунов Олег_Верходанов Андрей_Савельев-Трофимов Алексей_Старобинский Владимир_Белотелов Валерий_Рубаков Сергей_Блинников Макс_Тегмарк Ильдар_Габитов\n",
      "sbj15:\n",
      "Павел_Балабан Владимир_Спиридонов Игорь_Уточкин Александр_Войскунский Ольга_Сварник Наталья_Кисельникова Иван_Луковников Станислав_Клименко Антон_Чижов Ксения_Паниди Александр_Каплан Александр_Львовский Сет_Ллойд Кьянг_Ку Мартин_Вейс\n",
      "sbj16:\n",
      "Станислав_Дробышевский Виталий_Кушниров Александр_Шацкий Евгений_Рогожин Митчел_Резник Алиса_Вячеславова Владимир_Муронец Вера_Мильчина Раиса_Кирсанова Георгий_Базыкин Андрей_Летаров Александр_Воеводский Константин_Лукьянов Леонид_Иомдин Михаил_Эльдаров\n",
      "sbj17:\n",
      "Алексей_Козырев Иван_Болдырев Дина_Гусейнова Владимир_Малахов Александр_Павлов Петр_Резвых Павел_Соколов Василий_Жарков Дмитрий_Балалыкин Валентина_Харитонова Руслан_Хестанов Александр_Воеводский Николай_Плотников Юрий_Рогулёв Анна_Севортьян\n",
      "sbj18:\n",
      "Александр_Пиперски Дмитрий_Добровольский Надежда_Онипенко Светлана_Евграфова Борис_Иомдин Анатолий_Баранов Петр_Аркадьев Алексей_Шмелев Леонид_Иомдин Екатерина_Лютикова Екатерина_Протасова Вера_Подлесская Андрей_Кибрик Владимир_Плунгян Алина_Бодрова\n",
      "sbj19:\n",
      "Дмитрий_Бовыкин Андрей_Зорин Борис_Колоницкий Раиса_Кирсанова Вера_Мильчина Мария_Майофис Алексей_Миллер Александр_Дмитриев Максим_Демин Марина_Новикова-Грунд Мария_Неклюдова Дина_Гусейнова Илья_Иткин Михаил_Алексеевский Светлана_Баньковская\n",
      "sbj20:\n",
      "Оксана_Запорожец Александр_Сафонов Алексей_Лебедев Александр_Тормасов Екатерина_Ларионова Екатерина_Лапина-Кратасюк Руслан_Смелянский Евгений_Магид Джанмарко_Веруджио Лев_Беклемишев Дарья_Радченко Деметрис_Зейналипур Сергей_Карабасов Евгений_Хоров Сергей_Ландо\n",
      "sbj21:\n",
      "Петр_Федичев Алексей_Алексеев Ярослав_Ашихмин Константин_Анохин Вера_Ижевская Александр_Васильев Алексей_Чжао Елена_Брызгалина Александр_Габибов Инга_Полетаева Станислав_Полонский Юрий_Вайнер Павел_Тищенко Елена_Голубева Наталья_Савва\n",
      "sbj22:\n",
      "Виктор_Вахштайн Дмитрий_Ветров Светлана_Бурлак Светлана_Баньковская Сезар_Идальго Александр_Дьяконов Джозеф_Браун Дэвид_Вайнберг Владик_Аветисов Мира_Бергельсон Леонид_Иомдин Aльберт_Давлетшин Александр_Филиппов Андрей_Кибрик Джеффри_Шнапп\n",
      "sbj23:\n",
      "Елизавета_Бонч-Осмоловская Дмитрий_Рогозин Александр_Жданов Иван_Оселедец Николай_Пименов Елена_Гороховская Владимир_Кузнецов Станислав_Протасов Александр_Жаворонков Илья_Щуров Максим_Таланов Игорь_Петров Сергей_Гашков Ольга_Столярова Александр_Шень\n",
      "sbj24:\n",
      "Гасан_Гусейнов Олег_Воскобойников Ивар_Максутов Мария_Штейнман Ольга_Артёмова Владимир_Емельянов Иван_Ладынин Леонид_Григорьев Владимир_Бобровников Галина_Зеленина Аскольд_Иванчик Мира_Бергельсон Ирина_Савельева Ирина_Левонтина Ахмет_Ярлыкапов\n",
      "sbj25:\n",
      "Владимир_Плунгян Игорь_Исаев Кирилл_Бабаев Андрей_Кибрик Илья_Иткин Григорий_Крейдлин Владимир_Беликов Георгий_Старостин Евгений_Зуев Максим_Кронгауз Екатерина_Лямина Яков_Тестелец Дмитрий_Дагаев Альберт_Насибулин Андрей_Кофман\n",
      "sbj26:\n",
      "Фуад_Алескеров Олег_Хлевнюк Алексей_Белянин Ольга_Малинова Владимир_Гимпельсон Сергей_Афонцев Сергей_Гуриев Сергей_Бобылев Виктор_Полтерович Сергей_Пекарский Александр_Аузан Ольга_Гулевич Василий_Ключарев Рауль_Гайнетдинов Леонард_Полищук\n",
      "sbj27:\n",
      "Евгений_Шеваль Константин_Северинов Максим_Франк-Каменецкий Сергей_Киселев Антон_Буздин Сергей_Саложин Сергей_Науменко Светлана_Боринская Алексей_Кондрашов Андрей_Летаров Евгений_Куликов Владимир_Муронец Мария_Шутова Ричард_Янг Питер_Лэнсдорп\n",
      "sbj28:\n",
      "Михаил_Киселев Владимир_Пудалов Наталья_Ростиславлева Илья_Шкредов Елена_Вишленкова Евгений_Николаев Анна_Дыбо Алексей_Рубцов Евгений_Антипов Дмитрий_Лось Алексей_Орлов Александр_Шварцбург Николай_Мощевитин Герберт_Хупперт Теунис_Клапвик\n",
      "bcg:\n",
      "Мария_Фаликман Михаил_Соколов Виталий_Куренной Сергей_Неклюдов Кирилл_Мартынов Михаил_Гельфанд Кирилл_Титаев ПостНаука Александр_Филиппов Михаил_Алексеевский Михаил_Маяцкий Алексей_Маслов Александр_Доброхотов Андрей_Журавлев Павел_Нерлер_(Полян)\n"
     ]
    }
   ],
   "source": [
    "for topic_name in model_artm.topic_names:\n",
    "    print topic_name +\":\"\n",
    "    tokens=model_artm.score_tracker[\"top_tokens_autors\"].last_tokens\n",
    "    for word in tokens[topic_name]:\n",
    "        print word,\n",
    "    print"
   ]
  },
  {
   "cell_type": "markdown",
   "metadata": {},
   "source": [
    "В последней теме \"bcg\" должны находиться общеупотребительные слова.\n",
    "\n",
    "Важный шаг в работе с тематической моделью, когда речь идет о визуализации или создании тематического навигатора, это именование тем. Понять, о чем каждая тема, можно по списку ее топовых слов. Например, тему\n",
    "    \n",
    "    частица взаимодействие физика кварк симметрия элементарный нейтрино стандартный материя протон бозон заряд масса ускоритель слабый\n",
    "    \n",
    "можно назвать \"Физика элементарных частиц\". \n",
    "\n",
    "Дайте названия 29 предметным темам. Если вы не знаете, как назвать тему, назовите ее первым встретившимся в ней существительным, хотя при таком подходе навигатор будет менее информативным. Из названий тем составьте список из 29 строк и запишите го в переменную sbj_topic_labels. В переменной topic_labels будут храниться названия всех тем, включая фоновую."
   ]
  },
  {
   "cell_type": "code",
   "execution_count": null,
   "metadata": {
    "collapsed": true
   },
   "outputs": [],
   "source": []
  },
  {
   "cell_type": "code",
   "execution_count": 53,
   "metadata": {
    "collapsed": true
   },
   "outputs": [],
   "source": [
    "sbj_topic_labels = [\"церковь\",\"Астрономия\",\"Механика\",\"культура\",\"право\",\"материал\",\"книга\",\n",
    "                   \"смерть\",\"Химия\",\"Физика элементарных частиц\",\"война\",\"ребенок\",\"растение\",\n",
    "                    \"История Мира\",\"Астрономия2\",\"Информатика\",\"Этнология\",\"Философия\",\n",
    "                   \"Лингвистика\",\"революция\",\"город\",\"Медицина\",\"Социология\",\"Искуственный интелект\",\n",
    "                    \"исторический\",\"Лингвистика2\",\"Политология\",\"Генетика\",\"электроника\"]   # запишите названия тем в список\n",
    "topic_labels = sbj_topic_labels + [\"Фоновая тема\"]"
   ]
  },
  {
   "cell_type": "markdown",
   "metadata": {},
   "source": [
    "##### Анализ тем"
   ]
  },
  {
   "cell_type": "markdown",
   "metadata": {},
   "source": [
    "Далее мы будем работать с распределениями тем в документах (матрица $\\Theta$) и авторов в темах (одна из двух матриц $\\Phi$, соответствующая модальности авторов). \n",
    "Создайте переменные, содержащие две этих матрицы, с помощью методов get_phi и get_theta модели. Назовите переменные theta и phi_a. Выведите формы обеих матриц, чтобы понять, по каким осям стоят темы."
   ]
  },
  {
   "cell_type": "code",
   "execution_count": 55,
   "metadata": {},
   "outputs": [
    {
     "name": "stdout",
     "output_type": "stream",
     "text": [
      "(30, 1728)\n",
      "(539, 30)\n"
     ]
    }
   ],
   "source": [
    "model_artm.theta_columns_naming = \"title\" # включает именование столбцов Theta их названиями-ссылками, а не внутренними id \n",
    "# Ваш код\n",
    "theta=model_artm.get_theta()\n",
    "phi_a=model_artm.get_phi(class_ids=\"author\")\n",
    "print theta.shape\n",
    "print phi_a.shape"
   ]
  },
  {
   "cell_type": "markdown",
   "metadata": {},
   "source": [
    "Визуализируем фрагмент матрицы $\\Theta$ - первые 100 документов (это наиболее простой способ визуально оценить, как темы распределяются в документах). С помощью метода seaborn.heatmap выведите фрагмент theta как изображение. Рекомендация: создайте фигуру pyplot размера (20, 10)."
   ]
  },
  {
   "cell_type": "code",
   "execution_count": 62,
   "metadata": {},
   "outputs": [
    {
     "data": {
      "text/plain": [
       "<matplotlib.axes._subplots.AxesSubplot at 0xfcfe390>"
      ]
     },
     "execution_count": 62,
     "metadata": {},
     "output_type": "execute_result"
    },
    {
     "data": {
      "image/png": "[encoded data removed]",
      "text/plain": [
       "<matplotlib.figure.Figure at 0x178547b8>"
      ]
     },
     "metadata": {},
     "output_type": "display_data"
    }
   ],
   "source": [
    "# Ваш код\n",
    "t=theta.iloc[:,:100]\n",
    "plt.figure(figsize=(20,10))\n",
    "plt.title(\"Top 100 theta matrix documents heatmap\")\n",
    "seaborn.heatmap(t)"
   ]
  },
  {
   "cell_type": "markdown",
   "metadata": {},
   "source": [
    "Вы должны увидеть, что фоновая тема имеет большую вероятность в почти каждом документе, и это логично. Кроме того, есть еще одна тема, которая чаще других встречается в документах. Судя по всему, это тема содержит много слов по науку в целом, а каждый документ (видео) в нашей коллекции связан с наукой. Можно (необязательно) дать этой теме название \"Наука\".\n",
    "\n",
    "Помимо этих двух тем, фоновой и общенаучной, каждый документ характеризуется малым числом других тем."
   ]
  },
  {
   "cell_type": "markdown",
   "metadata": {},
   "source": [
    "Оценим $p(t)$ - долю каждой темы во всей коллекции. По формуле полной вероятности вычислять эти величины нужно как\n",
    "$p(t) = \\sum_d p(t|d) p(d)$. Согласно вероятностной модели, $p(d)$ пропорционально длине документа d. Поступим проще: будем полагать, что все документы равновероятны. Тогда оценить $p(t)$ можно, просуммировав $p(t|d)$ по всем документам, а затем разделив полученный вектор на его сумму. \n",
    "\n",
    "Создайте переменную-датафрейм с T строками, индексированными названиями тем, и 1 столбцом, содержащим оценки $p(t)$. Выведите датафрейм на печать."
   ]
  },
  {
   "cell_type": "code",
   "execution_count": 70,
   "metadata": {},
   "outputs": [
    {
     "name": "stdout",
     "output_type": "stream",
     "text": [
      "                                prob\n",
      "Фоновая тема                0.658724\n",
      "Генетика                    0.025206\n",
      "Физика элементарных частиц  0.022604\n",
      "Астрономия2                 0.019979\n",
      "Философия                   0.016929\n",
      "война                       0.016311\n",
      "исторический                0.015861\n",
      "История Мира                0.015036\n",
      "Химия                       0.014311\n",
      "культура                    0.014260\n",
      "Информатика                 0.013759\n",
      "Астрономия                  0.012342\n",
      "Политология                 0.012220\n",
      "церковь                     0.011971\n",
      "Социология                  0.011636\n",
      "материал                    0.010729\n",
      "Лингвистика                 0.010130\n",
      "Лингвистика2                0.009814\n",
      "Медицина                    0.009108\n",
      "Механика                    0.009094\n",
      "город                       0.009073\n",
      "право                       0.008992\n",
      "растение                    0.008045\n",
      "Искуственный интелект       0.007213\n",
      "книга                       0.007117\n",
      "ребенок                     0.007033\n",
      "революция                   0.006674\n",
      "электроника                 0.006302\n",
      "смерть                      0.004974\n",
      "Этнология                   0.004552\n"
     ]
    }
   ],
   "source": [
    "# Ваш код\n",
    "prob_theme=[np.sum(theta.iloc[i]) for i in range(theta.shape[0])]\n",
    "prob_theme=prob_theme/np.sum(prob_theme)\n",
    "prob_theme=pd.DataFrame(data=prob_theme,index=topic_labels,columns=[\"prob\"])\n",
    "prob_theme_sort=prob_theme.sort_values(by=\"prob\",ascending=False)\n",
    "print prob_theme_sort"
   ]
  },
  {
   "cell_type": "markdown",
   "metadata": {},
   "source": [
    "Найдите 5 самых распространенных и 3 наименее освещенных темы в коллекции (наибольшие и наименьшие $p(t)$ соответственно), не считая фоновую и общенаучную. Укажите названия, которые вы дали этим темам."
   ]
  },
  {
   "cell_type": "code",
   "execution_count": 71,
   "metadata": {},
   "outputs": [
    {
     "data": {
      "text/html": [
       "<div>\n",
       "<style>\n",
       "    .dataframe thead tr:only-child th {\n",
       "        text-align: right;\n",
       "    }\n",
       "\n",
       "    .dataframe thead th {\n",
       "        text-align: left;\n",
       "    }\n",
       "\n",
       "    .dataframe tbody tr th {\n",
       "        vertical-align: top;\n",
       "    }\n",
       "</style>\n",
       "<table border=\"1\" class=\"dataframe\">\n",
       "  <thead>\n",
       "    <tr style=\"text-align: right;\">\n",
       "      <th></th>\n",
       "      <th>prob</th>\n",
       "    </tr>\n",
       "  </thead>\n",
       "  <tbody>\n",
       "    <tr>\n",
       "      <th>церковь</th>\n",
       "      <td>0.011971</td>\n",
       "    </tr>\n",
       "    <tr>\n",
       "      <th>Астрономия</th>\n",
       "      <td>0.012342</td>\n",
       "    </tr>\n",
       "    <tr>\n",
       "      <th>Механика</th>\n",
       "      <td>0.009094</td>\n",
       "    </tr>\n",
       "    <tr>\n",
       "      <th>культура</th>\n",
       "      <td>0.014260</td>\n",
       "    </tr>\n",
       "    <tr>\n",
       "      <th>право</th>\n",
       "      <td>0.008992</td>\n",
       "    </tr>\n",
       "    <tr>\n",
       "      <th>материал</th>\n",
       "      <td>0.010729</td>\n",
       "    </tr>\n",
       "    <tr>\n",
       "      <th>книга</th>\n",
       "      <td>0.007117</td>\n",
       "    </tr>\n",
       "    <tr>\n",
       "      <th>смерть</th>\n",
       "      <td>0.004974</td>\n",
       "    </tr>\n",
       "    <tr>\n",
       "      <th>Химия</th>\n",
       "      <td>0.014311</td>\n",
       "    </tr>\n",
       "    <tr>\n",
       "      <th>Физика элементарных частиц</th>\n",
       "      <td>0.022604</td>\n",
       "    </tr>\n",
       "    <tr>\n",
       "      <th>война</th>\n",
       "      <td>0.016311</td>\n",
       "    </tr>\n",
       "    <tr>\n",
       "      <th>ребенок</th>\n",
       "      <td>0.007033</td>\n",
       "    </tr>\n",
       "    <tr>\n",
       "      <th>растение</th>\n",
       "      <td>0.008045</td>\n",
       "    </tr>\n",
       "    <tr>\n",
       "      <th>История Мира</th>\n",
       "      <td>0.015036</td>\n",
       "    </tr>\n",
       "    <tr>\n",
       "      <th>Астрономия2</th>\n",
       "      <td>0.019979</td>\n",
       "    </tr>\n",
       "    <tr>\n",
       "      <th>Информатика</th>\n",
       "      <td>0.013759</td>\n",
       "    </tr>\n",
       "    <tr>\n",
       "      <th>Этнология</th>\n",
       "      <td>0.004552</td>\n",
       "    </tr>\n",
       "    <tr>\n",
       "      <th>Философия</th>\n",
       "      <td>0.016929</td>\n",
       "    </tr>\n",
       "    <tr>\n",
       "      <th>Лингвистика</th>\n",
       "      <td>0.010130</td>\n",
       "    </tr>\n",
       "    <tr>\n",
       "      <th>революция</th>\n",
       "      <td>0.006674</td>\n",
       "    </tr>\n",
       "    <tr>\n",
       "      <th>город</th>\n",
       "      <td>0.009073</td>\n",
       "    </tr>\n",
       "    <tr>\n",
       "      <th>Медицина</th>\n",
       "      <td>0.009108</td>\n",
       "    </tr>\n",
       "    <tr>\n",
       "      <th>Социология</th>\n",
       "      <td>0.011636</td>\n",
       "    </tr>\n",
       "    <tr>\n",
       "      <th>Искуственный интелект</th>\n",
       "      <td>0.007213</td>\n",
       "    </tr>\n",
       "    <tr>\n",
       "      <th>исторический</th>\n",
       "      <td>0.015861</td>\n",
       "    </tr>\n",
       "    <tr>\n",
       "      <th>Лингвистика2</th>\n",
       "      <td>0.009814</td>\n",
       "    </tr>\n",
       "    <tr>\n",
       "      <th>Политология</th>\n",
       "      <td>0.012220</td>\n",
       "    </tr>\n",
       "    <tr>\n",
       "      <th>Генетика</th>\n",
       "      <td>0.025206</td>\n",
       "    </tr>\n",
       "    <tr>\n",
       "      <th>электроника</th>\n",
       "      <td>0.006302</td>\n",
       "    </tr>\n",
       "    <tr>\n",
       "      <th>Фоновая тема</th>\n",
       "      <td>0.658724</td>\n",
       "    </tr>\n",
       "  </tbody>\n",
       "</table>\n",
       "</div>"
      ],
      "text/plain": [
       "                                prob\n",
       "церковь                     0.011971\n",
       "Астрономия                  0.012342\n",
       "Механика                    0.009094\n",
       "культура                    0.014260\n",
       "право                       0.008992\n",
       "материал                    0.010729\n",
       "книга                       0.007117\n",
       "смерть                      0.004974\n",
       "Химия                       0.014311\n",
       "Физика элементарных частиц  0.022604\n",
       "война                       0.016311\n",
       "ребенок                     0.007033\n",
       "растение                    0.008045\n",
       "История Мира                0.015036\n",
       "Астрономия2                 0.019979\n",
       "Информатика                 0.013759\n",
       "Этнология                   0.004552\n",
       "Философия                   0.016929\n",
       "Лингвистика                 0.010130\n",
       "революция                   0.006674\n",
       "город                       0.009073\n",
       "Медицина                    0.009108\n",
       "Социология                  0.011636\n",
       "Искуственный интелект       0.007213\n",
       "исторический                0.015861\n",
       "Лингвистика2                0.009814\n",
       "Политология                 0.012220\n",
       "Генетика                    0.025206\n",
       "электроника                 0.006302\n",
       "Фоновая тема                0.658724"
      ]
     },
     "execution_count": 71,
     "metadata": {},
     "output_type": "execute_result"
    }
   ],
   "source": [
    "prob_theme"
   ]
  },
  {
   "cell_type": "raw",
   "metadata": {},
   "source": [
    "Ваш ответ:\n",
    "5 тем с max p(t):Фоновая тема\n",
    "                 Генетика\n",
    "                 Физика элементарных частиц\n",
    "                 Астрономия2\n",
    "                 Философия\n",
    "3 темы с min p(t):Этнология\n",
    "                  смерть\n",
    "                  электроника"
   ]
  },
  {
   "cell_type": "markdown",
   "metadata": {},
   "source": [
    "Визуализируйте матрицу $\\Phi$ модальности авторов в виде изображения. Рекомендация: установите yticklabels=False в heatmap."
   ]
  },
  {
   "cell_type": "code",
   "execution_count": 66,
   "metadata": {},
   "outputs": [
    {
     "data": {
      "text/plain": [
       "<matplotlib.axes._subplots.AxesSubplot at 0x177149b0>"
      ]
     },
     "execution_count": 66,
     "metadata": {},
     "output_type": "execute_result"
    },
    {
     "data": {
      "image/png": "[encoded data removed]",
      "text/plain": [
       "<matplotlib.figure.Figure at 0x17714dd8>"
      ]
     },
     "metadata": {},
     "output_type": "display_data"
    }
   ],
   "source": [
    "# Ваш код\n",
    "plt.figure(figsize=(20,10))\n",
    "plt.title(\"Top 100 theta matrix documents heatmap\")\n",
    "seaborn.heatmap(phi_a,yticklabels=False)"
   ]
  },
  {
   "cell_type": "markdown",
   "metadata": {},
   "source": [
    "Каждой теме соответствует не очень большое число авторов - матрица достаточно разреженная. Кроме того, некоторые темы имеют доминирующего автора $a$, имеющего большую вероятность $p(a|t)$ - этот автор записал больше всего лекций по теме. "
   ]
  },
  {
   "cell_type": "markdown",
   "metadata": {},
   "source": [
    "Будем считать, что автор $a$ значим в теме, если $p(a|t) > 0.01$. Для каждого автора посчитайте, в скольких темах он значим. Найдите авторов-рекордсменов, которые значимы (а значит, читали лекции) в >= 3 темах."
   ]
  },
  {
   "cell_type": "code",
   "execution_count": 69,
   "metadata": {},
   "outputs": [
    {
     "name": "stdout",
     "output_type": "stream",
     "text": [
      "184 Елена_Брызгалина\n",
      "200 Андрей_Цатурян\n",
      "229 Алина_Бодрова\n",
      "342 Дмитрий_Лось\n"
     ]
    }
   ],
   "source": [
    "for i in range(phi_a.shape[0]):\n",
    "    count=0.0\n",
    "    for proba in phi_a.iloc[i]:\n",
    "        if proba>0.01:\n",
    "            count+=1\n",
    "    if count>=3:\n",
    "        print i,phi_a.index[i]"
   ]
  },
  {
   "cell_type": "raw",
   "metadata": {},
   "source": [
    "Ваш ответ:\n",
    "авторы, значимые в не менее чем 3 темах:184 Елена_Брызгалина\n",
    "                                        200 Андрей_Цатурян\n",
    "                                        229 Алина_Бодрова\n",
    "                                        342 Дмитрий_Лось"
   ]
  },
  {
   "cell_type": "markdown",
   "metadata": {},
   "source": [
    "Большинство авторов значимы в 1 теме, что логично."
   ]
  },
  {
   "cell_type": "markdown",
   "metadata": {},
   "source": [
    "##### Построение тематической карты авторов"
   ]
  },
  {
   "cell_type": "markdown",
   "metadata": {},
   "source": [
    "По сути, в матрице $\\Phi$, соответствующей модальности авторов, записаны тематические кластеры авторов. Для любого автора мы можем составить его тематический круг - авторов, разбирающихся в той же теме, что и данный. Интересующиеся слушатели могут попробовать выполнить эту процедуру для ученых, читающих лекции на Постнауке, которых они знают (например, на Постнауке есть лекции с К. В. Воронцовым - лектором текущего модуля :)\n",
    "\n",
    "Составим карту близости авторов по тематике их исследований. Для этого применим метод понижения размерности MDS к тематическим профилям авторов.\n",
    "\n",
    "Чтобы получить тематический профиль автора, распределение $p(t|a)$, нужно воспользоваться формулой Байеса: \n",
    "$p(t|a) = \\frac {p(a|t) p(t)} {\\sum_t' p(a|t') p(t')}$. Все необходимые для этого величины у вас есть и записаны в переменных phi и pt. \n",
    "\n",
    "Передайте матрицу тематических профилей авторов, записанных по строкам, в метод MDS с n_components=2. Используйте косинусную метрику (она хорошо подходит для поиска расстояний между векторами, имеющими фиксированную сумму компонент)."
   ]
  },
  {
   "cell_type": "code",
   "execution_count": 90,
   "metadata": {
    "collapsed": true
   },
   "outputs": [],
   "source": [
    "from sklearn.manifold import MDS\n",
    "from sklearn.metrics import pairwise_distances"
   ]
  },
  {
   "cell_type": "code",
   "execution_count": 83,
   "metadata": {},
   "outputs": [],
   "source": [
    "# Ваш код\n",
    "author_profil=np.empty(phi_a.shape)\n",
    "for i in range(phi_a.shape[0]):\n",
    "    for j in range(phi_a.shape[1]):\n",
    "        author_profil[i,j]=phi_a.iloc[i,j]*prob_theme.iloc[j]/np.sum(phi_a.iloc[i,:]*prob_theme.prob.values)"
   ]
  },
  {
   "cell_type": "code",
   "execution_count": 94,
   "metadata": {},
   "outputs": [
    {
     "data": {
      "text/plain": [
       "prob    4.498661e-18\n",
       "Name: Механика, dtype: float32"
      ]
     },
     "execution_count": 94,
     "metadata": {},
     "output_type": "execute_result"
    }
   ],
   "source": [
    "phi_a.iloc[1,2]*prob_theme.iloc[2]"
   ]
  },
  {
   "cell_type": "code",
   "execution_count": 91,
   "metadata": {},
   "outputs": [],
   "source": [
    "cosine_authors=pairwise_distances(author_profil,metric=\"cosine\")\n",
    "mds=MDS(n_components=2,dissimilarity=\"precomputed\")\n",
    "result=mds.fit_transform(cosine_authors)"
   ]
  },
  {
   "cell_type": "markdown",
   "metadata": {},
   "source": [
    "Визуализируйте найденные двумерные представления с помощью функции scatter. "
   ]
  },
  {
   "cell_type": "code",
   "execution_count": 100,
   "metadata": {},
   "outputs": [
    {
     "data": {
      "text/plain": [
       "<matplotlib.collections.PathCollection at 0x179b42b0>"
      ]
     },
     "execution_count": 100,
     "metadata": {},
     "output_type": "execute_result"
    },
    {
     "data": {
      "image/png": "[encoded data removed]",
      "text/plain": [
       "<matplotlib.figure.Figure at 0x17a1f4e0>"
      ]
     },
     "metadata": {},
     "output_type": "display_data"
    }
   ],
   "source": [
    "# Ваш код\n",
    "plt.scatter(result[:,0],result[:,1])"
   ]
  },
  {
   "cell_type": "code",
   "execution_count": null,
   "metadata": {
    "collapsed": true
   },
   "outputs": [],
   "source": []
  },
  {
   "cell_type": "markdown",
   "metadata": {},
   "source": [
    "Должно получиться, что некоторые грппы авторов формируют сгустки, которые можно считать тематическими группами авторов.\n",
    "\n",
    "Раскрасим точки следующим образом: для каждого автора выберем наиболее вероятную для него тему ($\\max_t p(t|a)$), и каждой теме сопоставим цвет. Кроме того, добавим на карту имена и фамилии авторов, это можно сделать в цикле по всем точкам с помощью функции plt.annotate, указывая метку точки первым аргументом и ее координаты в аргументе xy. Рекомендуется сделать размер изображения большим, тогда маркеры точек тоже придется увеличить (s=100 в plt.scatter). Изобразите карту авторов и сохраните в pdf-файл с помощью функции plt.savefig. \n",
    "\n",
    "Метки авторов будут пересекаться. Будет очень хорошо, если вы найдете способ, как этого можно избежать."
   ]
  },
  {
   "cell_type": "code",
   "execution_count": null,
   "metadata": {},
   "outputs": [],
   "source": []
  },
  {
   "cell_type": "code",
   "execution_count": 106,
   "metadata": {},
   "outputs": [
    {
     "data": {
      "image/png": "[encoded data removed]",
      "text/plain": [
       "<matplotlib.figure.Figure at 0x17f63240>"
      ]
     },
     "metadata": {},
     "output_type": "display_data"
    }
   ],
   "source": [
    "import matplotlib.cm as cm\n",
    "colors = cm.rainbow(np.linspace(0, 1, T)) # цвета для тем\n",
    "# Ваш код\n",
    "theme_colors_authors=[np.argmax(author) for author in author_profil]\n",
    "plt.figure(figsize=(15,10))\n",
    "plt.scatter(result[:,0],result[:,1],s=100,c=colors[theme_colors_authors])\n",
    "for i,author in enumerate(phi_a.index):\n",
    "    plt.annotate(author,result[i])\n",
    "plt.savefig(\"authors_map.pdf\",dpi=200,format=\"pdf\")"
   ]
  },
  {
   "cell_type": "code",
   "execution_count": null,
   "metadata": {},
   "outputs": [],
   "source": []
  },
  {
   "cell_type": "markdown",
   "metadata": {},
   "source": [
    "##### Создание простого тематического навигатора по Постнауке"
   ]
  },
  {
   "cell_type": "markdown",
   "metadata": {},
   "source": [
    "Наш тематический навигатор будет для каждой темы показывать ее список слов, а также список релевантных теме документов. \n",
    "\n",
    "Нам понадобятся распределения $p(d|t)$. По формуле Байеса $p(d|t) = \\frac{p(t|d)p(d)}{\\sum_{d'}p(t|d')p(d')}$, но поскольку мы считаем документы равновероятными, достаточно разделить каждую строку $\\Theta$ на ее сумму, чтобы оценить распределение. \n",
    "\n",
    "Отсортируйте матрицу $p(d|t)$ по убыванию $p(d|t)$ в каждой теме (то есть построчно). Нам понадобятся индексы наиболее вероятных документов в каждой теме, поэтому используйте функцию argmax."
   ]
  },
  {
   "cell_type": "code",
   "execution_count": 132,
   "metadata": {},
   "outputs": [
    {
     "data": {
      "text/plain": [
       "array([[ 292,  457, 1064, ...,  657, 1224, 1350],\n",
       "       [ 619,  447,  421, ..., 1223,  726,  868],\n",
       "       [ 753,  521,  580, ...,  795, 1136, 1004],\n",
       "       ..., \n",
       "       [1704,  909,    3, ..., 1122, 1123,  863],\n",
       "       [ 848, 1522,  892, ...,  939,  940,    0],\n",
       "       [ 978,  539, 1506, ...,  619, 1018,  253]], dtype=int64)"
      ]
     },
     "execution_count": 132,
     "metadata": {},
     "output_type": "execute_result"
    }
   ],
   "source": [
    "# Ваш код\n",
    "document_profil=theta.values / np.array([np.sum(theme) for theme in theta.values])[:, np.newaxis]\n",
    "document_profil_sorted_indices = document_profil.argsort(axis=1)[:,::-1]\n",
    "document_profil_sorted_indices"
   ]
  },
  {
   "cell_type": "markdown",
   "metadata": {},
   "source": [
    "Создавать навигатор мы будем прямо в jupiter notebook: это возможно благодаря тому факту, что при печати ссылки она автоматически превращается в гиперссылку."
   ]
  },
  {
   "cell_type": "code",
   "execution_count": null,
   "metadata": {},
   "outputs": [],
   "source": []
  },
  {
   "cell_type": "code",
   "execution_count": null,
   "metadata": {
    "collapsed": true
   },
   "outputs": [],
   "source": []
  },
  {
   "cell_type": "code",
   "execution_count": 133,
   "metadata": {},
   "outputs": [
    {
     "name": "stdout",
     "output_type": "stream",
     "text": [
      "http://yandex.ru\n"
     ]
    }
   ],
   "source": [
    "print \"http://yandex.ru\"   # получится кликабельная ссылка"
   ]
  },
  {
   "cell_type": "markdown",
   "metadata": {},
   "source": [
    "Кроме того, подключив модуль [ipython.core.display](https://ipython.org/ipython-doc/2/api/generated/IPython.core.display.html), можно использовать html-разметку в выводе. Например:"
   ]
  },
  {
   "cell_type": "code",
   "execution_count": 134,
   "metadata": {},
   "outputs": [
    {
     "data": {
      "text/html": [
       "<h1>Заголовок</h1>"
      ],
      "text/plain": [
       "<IPython.core.display.HTML object>"
      ]
     },
     "metadata": {},
     "output_type": "display_data"
    },
    {
     "data": {
      "text/html": [
       "<ul><li>Пункт 1</li><li>Пункт 2</li></ul>"
      ],
      "text/plain": [
       "<IPython.core.display.HTML object>"
      ]
     },
     "metadata": {},
     "output_type": "display_data"
    },
    {
     "data": {
      "text/html": [
       "<font color=\"green\">Зеленый!</font>"
      ],
      "text/plain": [
       "<IPython.core.display.HTML object>"
      ]
     },
     "metadata": {},
     "output_type": "display_data"
    },
    {
     "data": {
      "text/html": [
       "<a href=\"http://yandex.ru\">Еще один вариант вывода ссылки</a>"
      ],
      "text/plain": [
       "<IPython.core.display.HTML object>"
      ]
     },
     "metadata": {},
     "output_type": "display_data"
    }
   ],
   "source": [
    "from IPython.core.display import display, HTML\n",
    "display(HTML(u\"<h1>Заголовок</h1>\"))   # также <h2>, <h3>\n",
    "display(HTML(u\"<ul><li>Пункт 1</li><li>Пункт 2</li></ul>\"))\n",
    "display(HTML(u'<font color=\"green\">Зеленый!</font>'))\n",
    "display(HTML(u'<a href=\"http://yandex.ru\">Еще один вариант вывода ссылки</a>'))"
   ]
  },
  {
   "cell_type": "markdown",
   "metadata": {},
   "source": [
    "В цикле для каждой темы выведите ее заголовок, в следующей строке - топ-10 слов темы, затем в виде списка ссылки на 10 наиболее релевантных (по $p(d|t)$) теме документов. Используйте html-разметку. Творчество приветствуется :)"
   ]
  },
  {
   "cell_type": "code",
   "execution_count": 154,
   "metadata": {},
   "outputs": [
    {
     "data": {
      "text/html": [
       "<h2>церковь</h2>"
      ],
      "text/plain": [
       "<IPython.core.display.HTML object>"
      ]
     },
     "metadata": {},
     "output_type": "display_data"
    },
    {
     "name": "stdout",
     "output_type": "stream",
     "text": [
      "церковь власть средневековый император русь святой римский папа князь сага \n",
      "http://postnauka.ru/video/9299\n",
      "http://postnauka.ru/video/3348\n",
      "http://postnauka.ru/video/24030\n",
      "http://postnauka.ru/video/9968\n",
      "http://postnauka.ru/video/23472\n",
      "http://postnauka.ru/video/13156\n",
      "http://postnauka.ru/video/31677\n",
      "http://postnauka.ru/video/50350\n",
      "http://postnauka.ru/video/24034\n",
      "http://postnauka.ru/video/50668\n"
     ]
    },
    {
     "data": {
      "text/html": [
       "<h2>Астрономия</h2>"
      ],
      "text/plain": [
       "<IPython.core.display.HTML object>"
      ]
     },
     "metadata": {},
     "output_type": "display_data"
    },
    {
     "name": "stdout",
     "output_type": "stream",
     "text": [
      "планета земля атмосфера солнце солнечный белый газ образовываться карлик вокруг \n",
      "http://postnauka.ru/video/53693\n",
      "http://postnauka.ru/video/32889\n",
      "http://postnauka.ru/video/31695\n",
      "http://postnauka.ru/video/51364\n",
      "http://postnauka.ru/video/9835\n",
      "http://postnauka.ru/video/36249\n",
      "http://postnauka.ru/video/9690\n",
      "http://postnauka.ru/video/49261\n",
      "http://postnauka.ru/video/24245\n",
      "http://postnauka.ru/video/37994\n"
     ]
    },
    {
     "data": {
      "text/html": [
       "<h2>Механика</h2>"
      ],
      "text/plain": [
       "<IPython.core.display.HTML object>"
      ]
     },
     "metadata": {},
     "output_type": "display_data"
    },
    {
     "name": "stdout",
     "output_type": "stream",
     "text": [
      "система трудность поведение частота двигаться точность искусственный движение относительность тест \n",
      "http://postnauka.ru/video/1856\n",
      "http://postnauka.ru/video/51174\n",
      "http://postnauka.ru/video/52553\n",
      "http://postnauka.ru/video/34426\n",
      "http://postnauka.ru/video/52548\n",
      "http://postnauka.ru/video/51382\n",
      "http://postnauka.ru/video/19509\n",
      "http://postnauka.ru/video/21662\n",
      "http://postnauka.ru/video/37982\n",
      "http://postnauka.ru/video/41348\n"
     ]
    },
    {
     "data": {
      "text/html": [
       "<h2>культура</h2>"
      ],
      "text/plain": [
       "<IPython.core.display.HTML object>"
      ]
     },
     "metadata": {},
     "output_type": "display_data"
    },
    {
     "name": "stdout",
     "output_type": "stream",
     "text": [
      "культура понятие культурный восприятие сознание феномен личность воспринимать ощущение чувство \n",
      "http://postnauka.ru/video/11034\n",
      "http://postnauka.ru/video/12524\n",
      "http://postnauka.ru/video/12740\n",
      "http://postnauka.ru/video/5891\n",
      "http://postnauka.ru/video/36707\n",
      "http://postnauka.ru/video/7747\n",
      "http://postnauka.ru/video/7169\n",
      "http://postnauka.ru/video/9874\n",
      "http://postnauka.ru/video/11626\n",
      "http://postnauka.ru/video/7731\n"
     ]
    },
    {
     "data": {
      "text/html": [
       "<h2>право</h2>"
      ],
      "text/plain": [
       "<IPython.core.display.HTML object>"
      ]
     },
     "metadata": {},
     "output_type": "display_data"
    },
    {
     "name": "stdout",
     "output_type": "stream",
     "text": [
      "право литература искусство литературный юрист писатель должник собственность обязательство владение \n",
      "http://postnauka.ru/video/17913\n",
      "http://postnauka.ru/video/31688\n",
      "http://postnauka.ru/video/38009\n",
      "http://postnauka.ru/video/34414\n",
      "http://postnauka.ru/video/49455\n",
      "http://postnauka.ru/video/14297\n",
      "http://postnauka.ru/video/17825\n",
      "http://postnauka.ru/video/13042\n",
      "http://postnauka.ru/video/16822\n",
      "http://postnauka.ru/video/42220\n"
     ]
    },
    {
     "data": {
      "text/html": [
       "<h2>материал</h2>"
      ],
      "text/plain": [
       "<IPython.core.display.HTML object>"
      ]
     },
     "metadata": {},
     "output_type": "display_data"
    },
    {
     "name": "stdout",
     "output_type": "stream",
     "text": [
      "материал структура молекула свойство углерод применение поверхность полимер кристалл металл \n",
      "http://postnauka.ru/video/13544\n",
      "http://postnauka.ru/video/12375\n",
      "http://postnauka.ru/video/41686\n",
      "http://postnauka.ru/video/31182\n",
      "http://postnauka.ru/video/22592\n",
      "http://postnauka.ru/video/46379\n",
      "http://postnauka.ru/video/36492\n",
      "http://postnauka.ru/video/36657\n",
      "http://postnauka.ru/video/36490\n",
      "http://postnauka.ru/video/47818\n"
     ]
    },
    {
     "data": {
      "text/html": [
       "<h2>книга</h2>"
      ],
      "text/plain": [
       "<IPython.core.display.HTML object>"
      ]
     },
     "metadata": {},
     "output_type": "display_data"
    },
    {
     "name": "stdout",
     "output_type": "stream",
     "text": [
      "книга фильм автор кино написать документ жанр театр тема кинематограф \n",
      "http://postnauka.ru/video/10759\n",
      "http://postnauka.ru/video/39723\n",
      "http://postnauka.ru/video/13541\n",
      "http://postnauka.ru/video/38510\n",
      "http://postnauka.ru/video/42807\n",
      "http://postnauka.ru/video/52416\n",
      "http://postnauka.ru/video/47204\n",
      "http://postnauka.ru/video/57127\n",
      "http://postnauka.ru/video/47208\n",
      "http://postnauka.ru/video/47202\n"
     ]
    },
    {
     "data": {
      "text/html": [
       "<h2>смерть</h2>"
      ],
      "text/plain": [
       "<IPython.core.display.HTML object>"
      ]
     },
     "metadata": {},
     "output_type": "display_data"
    },
    {
     "name": "stdout",
     "output_type": "stream",
     "text": [
      "смерть ритуал террор правитель государь обряд служба конвент диктатура моральный \n",
      "http://postnauka.ru/video/1893\n",
      "http://postnauka.ru/video/48480\n",
      "http://postnauka.ru/video/32882\n",
      "http://postnauka.ru/video/37992\n",
      "http://postnauka.ru/video/50656\n",
      "http://postnauka.ru/video/48335\n",
      "http://postnauka.ru/video/12374\n",
      "http://postnauka.ru/video/1899\n",
      "http://postnauka.ru/video/51331\n",
      "http://postnauka.ru/video/21660\n"
     ]
    },
    {
     "data": {
      "text/html": [
       "<h2>Химия</h2>"
      ],
      "text/plain": [
       "<IPython.core.display.HTML object>"
      ]
     },
     "metadata": {},
     "output_type": "display_data"
    },
    {
     "name": "stdout",
     "output_type": "stream",
     "text": [
      "метод химический соединение вещество реакция химия давление лекарство синтез органический \n",
      "http://postnauka.ru/video/18048\n",
      "http://postnauka.ru/video/11646\n",
      "http://postnauka.ru/video/13700\n",
      "http://postnauka.ru/video/19071\n",
      "http://postnauka.ru/video/51490\n",
      "http://postnauka.ru/video/24449\n",
      "http://postnauka.ru/video/10473\n",
      "http://postnauka.ru/video/13151\n",
      "http://postnauka.ru/video/7363\n",
      "http://postnauka.ru/video/8953\n"
     ]
    },
    {
     "data": {
      "text/html": [
       "<h2>Физика элементарных частиц</h2>"
      ],
      "text/plain": [
       "<IPython.core.display.HTML object>"
      ]
     },
     "metadata": {},
     "output_type": "display_data"
    },
    {
     "name": "stdout",
     "output_type": "stream",
     "text": [
      "частица энергия квантовый поле физика взаимодействие атом магнитный теория электрон \n",
      "http://postnauka.ru/video/13043\n",
      "http://postnauka.ru/video/18870\n",
      "http://postnauka.ru/video/18873\n",
      "http://postnauka.ru/video/11651\n",
      "http://postnauka.ru/video/22760\n",
      "http://postnauka.ru/video/24434\n",
      "http://postnauka.ru/video/2945\n",
      "http://postnauka.ru/video/14283\n",
      "http://postnauka.ru/video/7753\n",
      "http://postnauka.ru/video/7311\n"
     ]
    },
    {
     "data": {
      "text/html": [
       "<h2>война</h2>"
      ],
      "text/plain": [
       "<IPython.core.display.HTML object>"
      ]
     },
     "metadata": {},
     "output_type": "display_data"
    },
    {
     "name": "stdout",
     "output_type": "stream",
     "text": [
      "война россия советский русский власть российский германия мировой реформа историк \n",
      "http://postnauka.ru/video/35041\n",
      "http://postnauka.ru/video/46939\n",
      "http://postnauka.ru/video/19574\n",
      "http://postnauka.ru/video/31183\n",
      "http://postnauka.ru/video/29992\n",
      "http://postnauka.ru/video/51180\n",
      "http://postnauka.ru/video/26667\n",
      "http://postnauka.ru/video/25906\n",
      "http://postnauka.ru/video/42809\n",
      "http://postnauka.ru/video/41895\n"
     ]
    },
    {
     "data": {
      "text/html": [
       "<h2>ребенок</h2>"
      ],
      "text/plain": [
       "<IPython.core.display.HTML object>"
      ]
     },
     "metadata": {},
     "output_type": "display_data"
    },
    {
     "name": "stdout",
     "output_type": "stream",
     "text": [
      "ребенок семья возраст кровь взрослый мать сон родитель старение конфликт \n",
      "http://postnauka.ru/video/22892\n",
      "http://postnauka.ru/video/59638\n",
      "http://postnauka.ru/video/30678\n",
      "http://postnauka.ru/video/60527\n",
      "http://postnauka.ru/video/57657\n",
      "http://postnauka.ru/video/18613\n",
      "http://postnauka.ru/video/30606\n",
      "http://postnauka.ru/video/17395\n",
      "http://postnauka.ru/video/6377\n",
      "http://postnauka.ru/video/29103\n"
     ]
    },
    {
     "data": {
      "text/html": [
       "<h2>растение</h2>"
      ],
      "text/plain": [
       "<IPython.core.display.HTML object>"
      ]
     },
     "metadata": {},
     "output_type": "display_data"
    },
    {
     "name": "stdout",
     "output_type": "stream",
     "text": [
      "растение ткань орган иммунный рак озеро сердце опухоль мышца нейронный \n",
      "http://postnauka.ru/video/16821\n",
      "http://postnauka.ru/video/23172\n",
      "http://postnauka.ru/video/46562\n",
      "http://postnauka.ru/video/13746\n",
      "http://postnauka.ru/video/51169\n",
      "http://postnauka.ru/video/51501\n",
      "http://postnauka.ru/video/33793\n",
      "http://postnauka.ru/video/18192\n",
      "http://postnauka.ru/video/26213\n",
      "http://postnauka.ru/video/59617\n"
     ]
    },
    {
     "data": {
      "text/html": [
       "<h2>История Мира</h2>"
      ],
      "text/plain": [
       "<IPython.core.display.HTML object>"
      ]
     },
     "metadata": {},
     "output_type": "display_data"
    },
    {
     "name": "stdout",
     "output_type": "stream",
     "text": [
      "территория народ христианский империя восток древний письменность государство цивилизация китай \n",
      "http://postnauka.ru/video/53171\n",
      "http://postnauka.ru/video/50071\n",
      "http://postnauka.ru/video/2527\n",
      "http://postnauka.ru/video/58742\n",
      "http://postnauka.ru/video/59201\n",
      "http://postnauka.ru/video/50066\n",
      "http://postnauka.ru/video/49203\n",
      "http://postnauka.ru/video/48959\n",
      "http://postnauka.ru/video/46313\n",
      "http://postnauka.ru/video/3387\n"
     ]
    },
    {
     "data": {
      "text/html": [
       "<h2>Астрономия2</h2>"
      ],
      "text/plain": [
       "<IPython.core.display.HTML object>"
      ]
     },
     "metadata": {},
     "output_type": "display_data"
    },
    {
     "name": "stdout",
     "output_type": "stream",
     "text": [
      "звезда галактика масса черный вселенная свет объект скорость волна дыра \n",
      "http://postnauka.ru/video/6673\n",
      "http://postnauka.ru/video/17780\n",
      "http://postnauka.ru/video/31193\n",
      "http://postnauka.ru/video/29998\n",
      "http://postnauka.ru/video/30015\n",
      "http://postnauka.ru/video/2971\n",
      "http://postnauka.ru/video/23506\n",
      "http://postnauka.ru/video/48109\n",
      "http://postnauka.ru/video/23502\n",
      "http://postnauka.ru/video/57338\n"
     ]
    },
    {
     "data": {
      "text/html": [
       "<h2>Информатика</h2>"
      ],
      "text/plain": [
       "<IPython.core.display.HTML object>"
      ]
     },
     "metadata": {},
     "output_type": "display_data"
    },
    {
     "name": "stdout",
     "output_type": "stream",
     "text": [
      "задача информация память данные решение компьютер психология мышление анализ внимание \n",
      "http://postnauka.ru/video/24182\n",
      "http://postnauka.ru/video/24451\n",
      "http://postnauka.ru/video/5181\n",
      "http://postnauka.ru/video/23763\n",
      "http://postnauka.ru/video/53415\n",
      "http://postnauka.ru/video/19577\n",
      "http://postnauka.ru/video/56052\n",
      "http://postnauka.ru/video/57336\n",
      "http://postnauka.ru/video/50349\n",
      "http://postnauka.ru/video/17421\n"
     ]
    },
    {
     "data": {
      "text/html": [
       "<h2>Этнология</h2>"
      ],
      "text/plain": [
       "<IPython.core.display.HTML object>"
      ]
     },
     "metadata": {},
     "output_type": "display_data"
    },
    {
     "name": "stdout",
     "output_type": "stream",
     "text": [
      "раса африка остров америка южный станислав нос волос индия монголоид \n",
      "http://postnauka.ru/video/31707\n",
      "http://postnauka.ru/video/32898\n",
      "http://postnauka.ru/video/42707\n",
      "http://postnauka.ru/video/49262\n",
      "http://postnauka.ru/video/42735\n",
      "http://postnauka.ru/video/37732\n",
      "http://postnauka.ru/video/35150\n",
      "http://postnauka.ru/video/40880\n",
      "http://postnauka.ru/video/17397\n",
      "http://postnauka.ru/video/36253\n"
     ]
    },
    {
     "data": {
      "text/html": [
       "<h2>Философия</h2>"
      ],
      "text/plain": [
       "<IPython.core.display.HTML object>"
      ]
     },
     "metadata": {},
     "output_type": "display_data"
    },
    {
     "name": "stdout",
     "output_type": "stream",
     "text": [
      "политический философия государство общество философский философ партия правовой политика суд \n",
      "http://postnauka.ru/video/12738\n",
      "http://postnauka.ru/video/32906\n",
      "http://postnauka.ru/video/2526\n",
      "http://postnauka.ru/video/12371\n",
      "http://postnauka.ru/video/3418\n",
      "http://postnauka.ru/video/22975\n",
      "http://postnauka.ru/video/36713\n",
      "http://postnauka.ru/video/37965\n",
      "http://postnauka.ru/video/2972\n",
      "http://postnauka.ru/video/9728\n"
     ]
    },
    {
     "data": {
      "text/html": [
       "<h2>Лингвистика</h2>"
      ],
      "text/plain": [
       "<IPython.core.display.HTML object>"
      ]
     },
     "metadata": {},
     "output_type": "display_data"
    },
    {
     "name": "stdout",
     "output_type": "stream",
     "text": [
      "слово текст русский словарь предложение категория значение корпус глагол конструкция \n",
      "http://postnauka.ru/video/36272\n",
      "http://postnauka.ru/video/1898\n",
      "http://postnauka.ru/video/6720\n",
      "http://postnauka.ru/video/48960\n",
      "http://postnauka.ru/video/47548\n",
      "http://postnauka.ru/video/56616\n",
      "http://postnauka.ru/video/51499\n",
      "http://postnauka.ru/video/57524\n",
      "http://postnauka.ru/video/30017\n",
      "http://postnauka.ru/video/2946\n"
     ]
    },
    {
     "data": {
      "text/html": [
       "<h2>революция</h2>"
      ],
      "text/plain": [
       "<IPython.core.display.HTML object>"
      ]
     },
     "metadata": {},
     "output_type": "display_data"
    },
    {
     "name": "stdout",
     "output_type": "stream",
     "text": [
      "революция французский свобода франция роман национальный король нация аргумент творчество \n",
      "http://postnauka.ru/video/5396\n",
      "http://postnauka.ru/video/48492\n",
      "http://postnauka.ru/video/43843\n",
      "http://postnauka.ru/video/47823\n",
      "http://postnauka.ru/video/22079\n",
      "http://postnauka.ru/video/45548\n",
      "http://postnauka.ru/video/53577\n",
      "http://postnauka.ru/video/28944\n",
      "http://postnauka.ru/video/54742\n",
      "http://postnauka.ru/video/41671\n"
     ]
    },
    {
     "data": {
      "text/html": [
       "<h2>город</h2>"
      ],
      "text/plain": [
       "<IPython.core.display.HTML object>"
      ]
     },
     "metadata": {},
     "output_type": "display_data"
    },
    {
     "name": "stdout",
     "output_type": "stream",
     "text": [
      "город технология сеть робот городской интернет компания пользователь музей библиотека \n",
      "http://postnauka.ru/video/13742\n",
      "http://postnauka.ru/video/12515\n",
      "http://postnauka.ru/video/11634\n",
      "http://postnauka.ru/video/9998\n",
      "http://postnauka.ru/video/7068\n",
      "http://postnauka.ru/video/47301\n",
      "http://postnauka.ru/video/17604\n",
      "http://postnauka.ru/video/30026\n",
      "http://postnauka.ru/video/50792\n",
      "http://postnauka.ru/video/29812\n"
     ]
    },
    {
     "data": {
      "text/html": [
       "<h2>Медицина</h2>"
      ],
      "text/plain": [
       "<IPython.core.display.HTML object>"
      ]
     },
     "metadata": {},
     "output_type": "display_data"
    },
    {
     "name": "stdout",
     "output_type": "stream",
     "text": [
      "болезнь заболевание пациент женщина лечение медицина врач боль препарат медицинский \n",
      "http://postnauka.ru/video/2541\n",
      "http://postnauka.ru/video/54325\n",
      "http://postnauka.ru/video/27925\n",
      "http://postnauka.ru/video/51384\n",
      "http://postnauka.ru/video/55539\n",
      "http://postnauka.ru/video/49206\n",
      "http://postnauka.ru/video/12974\n",
      "http://postnauka.ru/video/45961\n",
      "http://postnauka.ru/video/13746\n",
      "http://postnauka.ru/video/43853\n"
     ]
    },
    {
     "data": {
      "text/html": [
       "<h2>Социология</h2>"
      ],
      "text/plain": [
       "<IPython.core.display.HTML object>"
      ]
     },
     "metadata": {},
     "output_type": "display_data"
    },
    {
     "name": "stdout",
     "output_type": "stream",
     "text": [
      "социальный знание социология объект социологический дисциплина перевод познание обучение описание \n",
      "http://postnauka.ru/video/10783\n",
      "http://postnauka.ru/video/434\n",
      "http://postnauka.ru/video/3628\n",
      "http://postnauka.ru/video/2530\n",
      "http://postnauka.ru/video/6380\n",
      "http://postnauka.ru/video/12083\n",
      "http://postnauka.ru/video/11640\n",
      "http://postnauka.ru/video/17491\n",
      "http://postnauka.ru/video/4280\n",
      "http://postnauka.ru/video/14295\n"
     ]
    },
    {
     "data": {
      "text/html": [
       "<h2>Искуственный интелект</h2>"
      ],
      "text/plain": [
       "<IPython.core.display.HTML object>"
      ]
     },
     "metadata": {},
     "output_type": "display_data"
    },
    {
     "name": "stdout",
     "output_type": "stream",
     "text": [
      "матрица микроорганизм схема эмоция алгоритм вычислительный эмоциональный глубина интеллект микроб \n",
      "http://postnauka.ru/video/31671\n",
      "http://postnauka.ru/video/49437\n",
      "http://postnauka.ru/video/42416\n",
      "http://postnauka.ru/video/3635\n",
      "http://postnauka.ru/video/34964\n",
      "http://postnauka.ru/video/33788\n",
      "http://postnauka.ru/video/52738\n",
      "http://postnauka.ru/video/3420\n",
      "http://postnauka.ru/video/3352\n",
      "http://postnauka.ru/video/37976\n"
     ]
    },
    {
     "data": {
      "text/html": [
       "<h2>исторический</h2>"
      ],
      "text/plain": [
       "<IPython.core.display.HTML object>"
      ]
     },
     "metadata": {},
     "output_type": "display_data"
    },
    {
     "name": "stdout",
     "output_type": "stream",
     "text": [
      "исторический традиция бог миф царь греческий представление эпоха религиозный религия \n",
      "http://postnauka.ru/video/10779\n",
      "http://postnauka.ru/video/12527\n",
      "http://postnauka.ru/video/9429\n",
      "http://postnauka.ru/video/21631\n",
      "http://postnauka.ru/video/7065\n",
      "http://postnauka.ru/video/9997\n",
      "http://postnauka.ru/video/43664\n",
      "http://postnauka.ru/video/5999\n",
      "http://postnauka.ru/video/12517\n",
      "http://postnauka.ru/video/5876\n"
     ]
    },
    {
     "data": {
      "text/html": [
       "<h2>Лингвистика2</h2>"
      ],
      "text/plain": [
       "<IPython.core.display.HTML object>"
      ]
     },
     "metadata": {},
     "output_type": "display_data"
    },
    {
     "name": "stdout",
     "output_type": "stream",
     "text": [
      "язык лингвист языковой английский гласный согласный звук лингвистический говор филологический \n",
      "http://postnauka.ru/video/8964\n",
      "http://postnauka.ru/video/13041\n",
      "http://postnauka.ru/video/10773\n",
      "http://postnauka.ru/video/48114\n",
      "http://postnauka.ru/video/15343\n",
      "http://postnauka.ru/video/16157\n",
      "http://postnauka.ru/video/51171\n",
      "http://postnauka.ru/video/3403\n",
      "http://postnauka.ru/video/14284\n",
      "http://postnauka.ru/video/57879\n"
     ]
    },
    {
     "data": {
      "text/html": [
       "<h2>Политология</h2>"
      ],
      "text/plain": [
       "<IPython.core.display.HTML object>"
      ]
     },
     "metadata": {},
     "output_type": "display_data"
    },
    {
     "name": "stdout",
     "output_type": "stream",
     "text": [
      "страна экономический экономика политика идентичность ценность кризис принятие общественный сталин \n",
      "http://postnauka.ru/video/31684\n",
      "http://postnauka.ru/video/9389\n",
      "http://postnauka.ru/video/7781\n",
      "http://postnauka.ru/video/3605\n",
      "http://postnauka.ru/video/30601\n",
      "http://postnauka.ru/video/5882\n",
      "http://postnauka.ru/video/13152\n",
      "http://postnauka.ru/video/28282\n",
      "http://postnauka.ru/video/27823\n",
      "http://postnauka.ru/video/6497\n"
     ]
    },
    {
     "data": {
      "text/html": [
       "<h2>Генетика</h2>"
      ],
      "text/plain": [
       "<IPython.core.display.HTML object>"
      ]
     },
     "metadata": {},
     "output_type": "display_data"
    },
    {
     "name": "stdout",
     "output_type": "stream",
     "text": [
      "клетка мозг организм ген днк белок биологический животное генетический нейрон \n",
      "http://postnauka.ru/video/5915\n",
      "http://postnauka.ru/video/10475\n",
      "http://postnauka.ru/video/19436\n",
      "http://postnauka.ru/video/10754\n",
      "http://postnauka.ru/video/17051\n",
      "http://postnauka.ru/video/11628\n",
      "http://postnauka.ru/video/35051\n",
      "http://postnauka.ru/video/5390\n",
      "http://postnauka.ru/video/6477\n",
      "http://postnauka.ru/video/44252\n"
     ]
    },
    {
     "data": {
      "text/html": [
       "<h2>электроника</h2>"
      ],
      "text/plain": [
       "<IPython.core.display.HTML object>"
      ]
     },
     "metadata": {},
     "output_type": "display_data"
    },
    {
     "name": "stdout",
     "output_type": "stream",
     "text": [
      "температура университет сверхпроводимость профессор сверхпроводник сверхпроводящий железо заимствование гумбольдт магнит \n",
      "http://postnauka.ru/video/2973\n",
      "http://postnauka.ru/video/50340\n",
      "http://postnauka.ru/video/31198\n",
      "http://postnauka.ru/video/51380\n",
      "http://postnauka.ru/video/22314\n",
      "http://postnauka.ru/video/55756\n",
      "http://postnauka.ru/video/25326\n",
      "http://postnauka.ru/video/50699\n",
      "http://postnauka.ru/video/31200\n",
      "http://postnauka.ru/video/19461\n"
     ]
    },
    {
     "data": {
      "text/html": [
       "<h2>Фоновая тема</h2>"
      ],
      "text/plain": [
       "<IPython.core.display.HTML object>"
      ]
     },
     "metadata": {},
     "output_type": "display_data"
    },
    {
     "name": "stdout",
     "output_type": "stream",
     "text": [
      "быть что это который этот как они мочь такой очень \n",
      "http://postnauka.ru/video/12376\n",
      "http://postnauka.ru/video/51365\n",
      "http://postnauka.ru/video/49851\n",
      "http://postnauka.ru/video/51184\n",
      "http://postnauka.ru/video/42436\n",
      "http://postnauka.ru/video/45956\n",
      "http://postnauka.ru/video/41678\n",
      "http://postnauka.ru/video/51178\n",
      "http://postnauka.ru/video/10750\n",
      "http://postnauka.ru/video/5602\n"
     ]
    }
   ],
   "source": [
    "# Ваш код\n",
    "tokens=model_artm.score_tracker[\"top_tokens_words\"].last_tokens\n",
    "for i,theme in enumerate(topic_labels):\n",
    "    theme=theme.decode(\"utf-8\")\n",
    "    display(HTML(\"<h2>%s</h2>\"%theme))\n",
    "    for j in range(10):\n",
    "        print tokens[model_artm.topic_names[i]][j],\n",
    "    print \"\"\n",
    "    for k in range(10):\n",
    "        print theta.columns[document_profil_sorted_indices[i,k]]"
   ]
  },
  {
   "cell_type": "code",
   "execution_count": 151,
   "metadata": {},
   "outputs": [
    {
     "data": {
      "text/html": [
       "<div>\n",
       "<style>\n",
       "    .dataframe thead tr:only-child th {\n",
       "        text-align: right;\n",
       "    }\n",
       "\n",
       "    .dataframe thead th {\n",
       "        text-align: left;\n",
       "    }\n",
       "\n",
       "    .dataframe tbody tr th {\n",
       "        vertical-align: top;\n",
       "    }\n",
       "</style>\n",
       "<table border=\"1\" class=\"dataframe\">\n",
       "  <thead>\n",
       "    <tr style=\"text-align: right;\">\n",
       "      <th></th>\n",
       "      <th>http://postnauka.ru/video/19330</th>\n",
       "      <th>http://postnauka.ru/video/19357</th>\n",
       "      <th>http://postnauka.ru/video/19371</th>\n",
       "      <th>http://postnauka.ru/video/19436</th>\n",
       "      <th>http://postnauka.ru/video/19451</th>\n",
       "      <th>http://postnauka.ru/video/19453</th>\n",
       "      <th>http://postnauka.ru/video/19456</th>\n",
       "      <th>http://postnauka.ru/video/19457</th>\n",
       "      <th>http://postnauka.ru/video/19458</th>\n",
       "      <th>http://postnauka.ru/video/19459</th>\n",
       "      <th>...</th>\n",
       "      <th>http://postnauka.ru/video/59622</th>\n",
       "      <th>http://postnauka.ru/video/59627</th>\n",
       "      <th>http://postnauka.ru/video/59632</th>\n",
       "      <th>http://postnauka.ru/video/59633</th>\n",
       "      <th>http://postnauka.ru/video/59636</th>\n",
       "      <th>http://postnauka.ru/video/59638</th>\n",
       "      <th>http://postnauka.ru/video/5990</th>\n",
       "      <th>http://postnauka.ru/video/5999</th>\n",
       "      <th>http://postnauka.ru/video/60481</th>\n",
       "      <th>http://postnauka.ru/video/60527</th>\n",
       "    </tr>\n",
       "  </thead>\n",
       "  <tbody>\n",
       "    <tr>\n",
       "      <th>sbj0</th>\n",
       "      <td>2.306642e-03</td>\n",
       "      <td>3.475070e-02</td>\n",
       "      <td>1.795812e-02</td>\n",
       "      <td>0.000000e+00</td>\n",
       "      <td>1.407194e-02</td>\n",
       "      <td>2.536120e-13</td>\n",
       "      <td>0.000000e+00</td>\n",
       "      <td>0.000000</td>\n",
       "      <td>0.000000e+00</td>\n",
       "      <td>0.000000e+00</td>\n",
       "      <td>...</td>\n",
       "      <td>1.376564e-03</td>\n",
       "      <td>0.000000e+00</td>\n",
       "      <td>0.000000e+00</td>\n",
       "      <td>0.000000e+00</td>\n",
       "      <td>0.000000e+00</td>\n",
       "      <td>8.209935e-14</td>\n",
       "      <td>0.000000e+00</td>\n",
       "      <td>7.688060e-12</td>\n",
       "      <td>0.000000e+00</td>\n",
       "      <td>2.985207e-10</td>\n",
       "    </tr>\n",
       "    <tr>\n",
       "      <th>sbj1</th>\n",
       "      <td>7.023384e-10</td>\n",
       "      <td>5.132571e-04</td>\n",
       "      <td>1.476562e-02</td>\n",
       "      <td>0.000000e+00</td>\n",
       "      <td>0.000000e+00</td>\n",
       "      <td>0.000000e+00</td>\n",
       "      <td>2.348852e-09</td>\n",
       "      <td>0.000000</td>\n",
       "      <td>3.028454e-08</td>\n",
       "      <td>5.068475e-03</td>\n",
       "      <td>...</td>\n",
       "      <td>5.487275e-03</td>\n",
       "      <td>8.825588e-02</td>\n",
       "      <td>1.839768e-06</td>\n",
       "      <td>2.388833e-10</td>\n",
       "      <td>2.712880e-02</td>\n",
       "      <td>3.685525e-09</td>\n",
       "      <td>0.000000e+00</td>\n",
       "      <td>0.000000e+00</td>\n",
       "      <td>3.381269e-02</td>\n",
       "      <td>3.083061e-11</td>\n",
       "    </tr>\n",
       "    <tr>\n",
       "      <th>sbj2</th>\n",
       "      <td>7.383751e-11</td>\n",
       "      <td>1.295623e-07</td>\n",
       "      <td>2.728415e-08</td>\n",
       "      <td>0.000000e+00</td>\n",
       "      <td>0.000000e+00</td>\n",
       "      <td>2.781761e-03</td>\n",
       "      <td>9.506352e-03</td>\n",
       "      <td>0.000000</td>\n",
       "      <td>1.388140e-01</td>\n",
       "      <td>7.001120e-08</td>\n",
       "      <td>...</td>\n",
       "      <td>1.049897e-04</td>\n",
       "      <td>2.089949e-03</td>\n",
       "      <td>2.355610e-02</td>\n",
       "      <td>9.243410e-03</td>\n",
       "      <td>1.059048e-02</td>\n",
       "      <td>1.322556e-04</td>\n",
       "      <td>0.000000e+00</td>\n",
       "      <td>6.483430e-12</td>\n",
       "      <td>1.822071e-02</td>\n",
       "      <td>1.024326e-02</td>\n",
       "    </tr>\n",
       "    <tr>\n",
       "      <th>sbj3</th>\n",
       "      <td>1.315230e-02</td>\n",
       "      <td>1.385723e-02</td>\n",
       "      <td>1.410841e-07</td>\n",
       "      <td>0.000000e+00</td>\n",
       "      <td>2.081860e-12</td>\n",
       "      <td>1.455735e-02</td>\n",
       "      <td>0.000000e+00</td>\n",
       "      <td>0.000000</td>\n",
       "      <td>3.709048e-03</td>\n",
       "      <td>4.159038e-03</td>\n",
       "      <td>...</td>\n",
       "      <td>1.137108e-02</td>\n",
       "      <td>3.598631e-07</td>\n",
       "      <td>0.000000e+00</td>\n",
       "      <td>1.429551e-15</td>\n",
       "      <td>0.000000e+00</td>\n",
       "      <td>2.173840e-02</td>\n",
       "      <td>0.000000e+00</td>\n",
       "      <td>2.668667e-02</td>\n",
       "      <td>2.067468e-03</td>\n",
       "      <td>1.033574e-02</td>\n",
       "    </tr>\n",
       "    <tr>\n",
       "      <th>sbj4</th>\n",
       "      <td>1.766984e-03</td>\n",
       "      <td>5.967840e-02</td>\n",
       "      <td>2.365651e-05</td>\n",
       "      <td>0.000000e+00</td>\n",
       "      <td>3.225498e-03</td>\n",
       "      <td>4.099281e-03</td>\n",
       "      <td>4.029964e-07</td>\n",
       "      <td>0.000000</td>\n",
       "      <td>0.000000e+00</td>\n",
       "      <td>0.000000e+00</td>\n",
       "      <td>...</td>\n",
       "      <td>0.000000e+00</td>\n",
       "      <td>0.000000e+00</td>\n",
       "      <td>3.004876e-13</td>\n",
       "      <td>1.519234e-12</td>\n",
       "      <td>0.000000e+00</td>\n",
       "      <td>1.229296e-02</td>\n",
       "      <td>0.000000e+00</td>\n",
       "      <td>0.000000e+00</td>\n",
       "      <td>0.000000e+00</td>\n",
       "      <td>2.374070e-13</td>\n",
       "    </tr>\n",
       "    <tr>\n",
       "      <th>sbj5</th>\n",
       "      <td>0.000000e+00</td>\n",
       "      <td>6.183364e-02</td>\n",
       "      <td>0.000000e+00</td>\n",
       "      <td>1.541747e-02</td>\n",
       "      <td>0.000000e+00</td>\n",
       "      <td>2.622385e-07</td>\n",
       "      <td>1.800663e-02</td>\n",
       "      <td>0.128110</td>\n",
       "      <td>3.626832e-02</td>\n",
       "      <td>0.000000e+00</td>\n",
       "      <td>...</td>\n",
       "      <td>7.337594e-10</td>\n",
       "      <td>0.000000e+00</td>\n",
       "      <td>2.506552e-03</td>\n",
       "      <td>3.687712e-14</td>\n",
       "      <td>0.000000e+00</td>\n",
       "      <td>0.000000e+00</td>\n",
       "      <td>0.000000e+00</td>\n",
       "      <td>0.000000e+00</td>\n",
       "      <td>1.689469e-03</td>\n",
       "      <td>4.572650e-03</td>\n",
       "    </tr>\n",
       "    <tr>\n",
       "      <th>sbj6</th>\n",
       "      <td>1.939580e-01</td>\n",
       "      <td>9.816806e-09</td>\n",
       "      <td>5.945788e-02</td>\n",
       "      <td>0.000000e+00</td>\n",
       "      <td>1.643158e-02</td>\n",
       "      <td>3.896445e-07</td>\n",
       "      <td>2.909920e-08</td>\n",
       "      <td>0.000000</td>\n",
       "      <td>0.000000e+00</td>\n",
       "      <td>0.000000e+00</td>\n",
       "      <td>...</td>\n",
       "      <td>3.121135e-10</td>\n",
       "      <td>1.882626e-10</td>\n",
       "      <td>0.000000e+00</td>\n",
       "      <td>0.000000e+00</td>\n",
       "      <td>5.558635e-05</td>\n",
       "      <td>0.000000e+00</td>\n",
       "      <td>0.000000e+00</td>\n",
       "      <td>2.076125e-02</td>\n",
       "      <td>0.000000e+00</td>\n",
       "      <td>3.479541e-09</td>\n",
       "    </tr>\n",
       "    <tr>\n",
       "      <th>sbj7</th>\n",
       "      <td>1.365526e-02</td>\n",
       "      <td>0.000000e+00</td>\n",
       "      <td>5.687603e-13</td>\n",
       "      <td>0.000000e+00</td>\n",
       "      <td>4.988029e-16</td>\n",
       "      <td>3.048047e-03</td>\n",
       "      <td>0.000000e+00</td>\n",
       "      <td>0.000000</td>\n",
       "      <td>0.000000e+00</td>\n",
       "      <td>0.000000e+00</td>\n",
       "      <td>...</td>\n",
       "      <td>1.044043e-02</td>\n",
       "      <td>8.954810e-09</td>\n",
       "      <td>0.000000e+00</td>\n",
       "      <td>0.000000e+00</td>\n",
       "      <td>0.000000e+00</td>\n",
       "      <td>0.000000e+00</td>\n",
       "      <td>0.000000e+00</td>\n",
       "      <td>1.597353e-05</td>\n",
       "      <td>2.372961e-12</td>\n",
       "      <td>2.521719e-08</td>\n",
       "    </tr>\n",
       "    <tr>\n",
       "      <th>sbj8</th>\n",
       "      <td>3.542876e-03</td>\n",
       "      <td>2.837526e-07</td>\n",
       "      <td>2.487681e-07</td>\n",
       "      <td>4.710145e-05</td>\n",
       "      <td>0.000000e+00</td>\n",
       "      <td>0.000000e+00</td>\n",
       "      <td>6.967879e-02</td>\n",
       "      <td>0.000000</td>\n",
       "      <td>2.915909e-08</td>\n",
       "      <td>1.374704e-02</td>\n",
       "      <td>...</td>\n",
       "      <td>1.472227e-03</td>\n",
       "      <td>4.289642e-03</td>\n",
       "      <td>9.053667e-03</td>\n",
       "      <td>1.536351e-03</td>\n",
       "      <td>2.973223e-03</td>\n",
       "      <td>0.000000e+00</td>\n",
       "      <td>1.374481e-02</td>\n",
       "      <td>7.263299e-11</td>\n",
       "      <td>0.000000e+00</td>\n",
       "      <td>1.329434e-16</td>\n",
       "    </tr>\n",
       "    <tr>\n",
       "      <th>sbj9</th>\n",
       "      <td>1.591593e-05</td>\n",
       "      <td>1.038067e-04</td>\n",
       "      <td>2.232538e-15</td>\n",
       "      <td>4.340209e-12</td>\n",
       "      <td>9.848807e-08</td>\n",
       "      <td>1.019495e-10</td>\n",
       "      <td>1.537137e-01</td>\n",
       "      <td>0.276121</td>\n",
       "      <td>1.943510e-01</td>\n",
       "      <td>0.000000e+00</td>\n",
       "      <td>...</td>\n",
       "      <td>8.324333e-03</td>\n",
       "      <td>1.651867e-02</td>\n",
       "      <td>2.389530e-07</td>\n",
       "      <td>2.940749e-03</td>\n",
       "      <td>1.015213e-02</td>\n",
       "      <td>0.000000e+00</td>\n",
       "      <td>1.999005e-02</td>\n",
       "      <td>2.207226e-03</td>\n",
       "      <td>1.323956e-01</td>\n",
       "      <td>1.488261e-03</td>\n",
       "    </tr>\n",
       "    <tr>\n",
       "      <th>sbj10</th>\n",
       "      <td>0.000000e+00</td>\n",
       "      <td>3.369043e-02</td>\n",
       "      <td>7.777926e-02</td>\n",
       "      <td>0.000000e+00</td>\n",
       "      <td>3.931105e-02</td>\n",
       "      <td>1.611146e-02</td>\n",
       "      <td>1.495731e-09</td>\n",
       "      <td>0.000000</td>\n",
       "      <td>0.000000e+00</td>\n",
       "      <td>1.369276e-03</td>\n",
       "      <td>...</td>\n",
       "      <td>1.230268e-05</td>\n",
       "      <td>0.000000e+00</td>\n",
       "      <td>1.717349e-14</td>\n",
       "      <td>9.759306e-15</td>\n",
       "      <td>0.000000e+00</td>\n",
       "      <td>1.199526e-11</td>\n",
       "      <td>0.000000e+00</td>\n",
       "      <td>4.021326e-05</td>\n",
       "      <td>2.894029e-12</td>\n",
       "      <td>6.633716e-13</td>\n",
       "    </tr>\n",
       "    <tr>\n",
       "      <th>sbj11</th>\n",
       "      <td>0.000000e+00</td>\n",
       "      <td>2.670434e-09</td>\n",
       "      <td>2.623936e-03</td>\n",
       "      <td>0.000000e+00</td>\n",
       "      <td>0.000000e+00</td>\n",
       "      <td>9.601076e-15</td>\n",
       "      <td>0.000000e+00</td>\n",
       "      <td>0.000000</td>\n",
       "      <td>0.000000e+00</td>\n",
       "      <td>1.860893e-02</td>\n",
       "      <td>...</td>\n",
       "      <td>3.036005e-03</td>\n",
       "      <td>8.450635e-08</td>\n",
       "      <td>1.131229e-01</td>\n",
       "      <td>0.000000e+00</td>\n",
       "      <td>6.349101e-03</td>\n",
       "      <td>2.092604e-01</td>\n",
       "      <td>0.000000e+00</td>\n",
       "      <td>9.913463e-03</td>\n",
       "      <td>0.000000e+00</td>\n",
       "      <td>1.886660e-01</td>\n",
       "    </tr>\n",
       "    <tr>\n",
       "      <th>sbj12</th>\n",
       "      <td>8.348281e-11</td>\n",
       "      <td>4.618343e-14</td>\n",
       "      <td>0.000000e+00</td>\n",
       "      <td>1.313923e-01</td>\n",
       "      <td>0.000000e+00</td>\n",
       "      <td>0.000000e+00</td>\n",
       "      <td>2.920891e-14</td>\n",
       "      <td>0.000000</td>\n",
       "      <td>0.000000e+00</td>\n",
       "      <td>1.249245e-02</td>\n",
       "      <td>...</td>\n",
       "      <td>1.548023e-04</td>\n",
       "      <td>0.000000e+00</td>\n",
       "      <td>2.692041e-02</td>\n",
       "      <td>7.558860e-04</td>\n",
       "      <td>6.115457e-09</td>\n",
       "      <td>0.000000e+00</td>\n",
       "      <td>0.000000e+00</td>\n",
       "      <td>3.460204e-03</td>\n",
       "      <td>3.132890e-09</td>\n",
       "      <td>1.666233e-11</td>\n",
       "    </tr>\n",
       "    <tr>\n",
       "      <th>sbj13</th>\n",
       "      <td>0.000000e+00</td>\n",
       "      <td>8.925930e-02</td>\n",
       "      <td>5.530588e-09</td>\n",
       "      <td>0.000000e+00</td>\n",
       "      <td>8.583519e-03</td>\n",
       "      <td>3.363406e-12</td>\n",
       "      <td>0.000000e+00</td>\n",
       "      <td>0.000000</td>\n",
       "      <td>6.545283e-12</td>\n",
       "      <td>7.242243e-12</td>\n",
       "      <td>...</td>\n",
       "      <td>3.762490e-02</td>\n",
       "      <td>1.683149e-03</td>\n",
       "      <td>0.000000e+00</td>\n",
       "      <td>0.000000e+00</td>\n",
       "      <td>1.412470e-05</td>\n",
       "      <td>0.000000e+00</td>\n",
       "      <td>0.000000e+00</td>\n",
       "      <td>8.806620e-04</td>\n",
       "      <td>0.000000e+00</td>\n",
       "      <td>0.000000e+00</td>\n",
       "    </tr>\n",
       "    <tr>\n",
       "      <th>sbj14</th>\n",
       "      <td>0.000000e+00</td>\n",
       "      <td>9.148280e-03</td>\n",
       "      <td>1.201856e-14</td>\n",
       "      <td>0.000000e+00</td>\n",
       "      <td>0.000000e+00</td>\n",
       "      <td>4.145795e-15</td>\n",
       "      <td>0.000000e+00</td>\n",
       "      <td>0.032257</td>\n",
       "      <td>4.056567e-02</td>\n",
       "      <td>1.293885e-11</td>\n",
       "      <td>...</td>\n",
       "      <td>8.856807e-04</td>\n",
       "      <td>2.493703e-01</td>\n",
       "      <td>2.214216e-02</td>\n",
       "      <td>0.000000e+00</td>\n",
       "      <td>3.054425e-01</td>\n",
       "      <td>8.680997e-06</td>\n",
       "      <td>0.000000e+00</td>\n",
       "      <td>2.056121e-10</td>\n",
       "      <td>2.252656e-01</td>\n",
       "      <td>1.102123e-03</td>\n",
       "    </tr>\n",
       "    <tr>\n",
       "      <th>sbj15</th>\n",
       "      <td>8.895747e-05</td>\n",
       "      <td>7.534725e-03</td>\n",
       "      <td>0.000000e+00</td>\n",
       "      <td>0.000000e+00</td>\n",
       "      <td>1.740450e-05</td>\n",
       "      <td>0.000000e+00</td>\n",
       "      <td>7.055119e-02</td>\n",
       "      <td>0.031562</td>\n",
       "      <td>0.000000e+00</td>\n",
       "      <td>4.416643e-05</td>\n",
       "      <td>...</td>\n",
       "      <td>2.927333e-03</td>\n",
       "      <td>3.224298e-04</td>\n",
       "      <td>2.187534e-03</td>\n",
       "      <td>9.370569e-02</td>\n",
       "      <td>2.292369e-05</td>\n",
       "      <td>1.032413e-02</td>\n",
       "      <td>2.843702e-03</td>\n",
       "      <td>4.326552e-10</td>\n",
       "      <td>2.261641e-02</td>\n",
       "      <td>7.958080e-03</td>\n",
       "    </tr>\n",
       "    <tr>\n",
       "      <th>sbj16</th>\n",
       "      <td>3.134146e-16</td>\n",
       "      <td>2.808929e-02</td>\n",
       "      <td>2.817983e-07</td>\n",
       "      <td>0.000000e+00</td>\n",
       "      <td>0.000000e+00</td>\n",
       "      <td>0.000000e+00</td>\n",
       "      <td>0.000000e+00</td>\n",
       "      <td>0.000000</td>\n",
       "      <td>0.000000e+00</td>\n",
       "      <td>8.622379e-10</td>\n",
       "      <td>...</td>\n",
       "      <td>0.000000e+00</td>\n",
       "      <td>5.747450e-03</td>\n",
       "      <td>6.896105e-16</td>\n",
       "      <td>0.000000e+00</td>\n",
       "      <td>5.588252e-15</td>\n",
       "      <td>0.000000e+00</td>\n",
       "      <td>0.000000e+00</td>\n",
       "      <td>0.000000e+00</td>\n",
       "      <td>1.328510e-13</td>\n",
       "      <td>0.000000e+00</td>\n",
       "    </tr>\n",
       "    <tr>\n",
       "      <th>sbj17</th>\n",
       "      <td>3.014309e-02</td>\n",
       "      <td>1.026741e-06</td>\n",
       "      <td>3.216605e-02</td>\n",
       "      <td>0.000000e+00</td>\n",
       "      <td>0.000000e+00</td>\n",
       "      <td>1.594348e-01</td>\n",
       "      <td>0.000000e+00</td>\n",
       "      <td>0.000000</td>\n",
       "      <td>0.000000e+00</td>\n",
       "      <td>0.000000e+00</td>\n",
       "      <td>...</td>\n",
       "      <td>1.018477e-02</td>\n",
       "      <td>0.000000e+00</td>\n",
       "      <td>0.000000e+00</td>\n",
       "      <td>6.848305e-16</td>\n",
       "      <td>0.000000e+00</td>\n",
       "      <td>1.362958e-03</td>\n",
       "      <td>0.000000e+00</td>\n",
       "      <td>7.134899e-03</td>\n",
       "      <td>9.483211e-14</td>\n",
       "      <td>9.685838e-11</td>\n",
       "    </tr>\n",
       "    <tr>\n",
       "      <th>sbj18</th>\n",
       "      <td>5.511101e-03</td>\n",
       "      <td>3.110943e-03</td>\n",
       "      <td>1.236217e-14</td>\n",
       "      <td>0.000000e+00</td>\n",
       "      <td>6.239058e-02</td>\n",
       "      <td>1.269933e-03</td>\n",
       "      <td>0.000000e+00</td>\n",
       "      <td>0.000000</td>\n",
       "      <td>0.000000e+00</td>\n",
       "      <td>0.000000e+00</td>\n",
       "      <td>...</td>\n",
       "      <td>5.260515e-03</td>\n",
       "      <td>3.631134e-09</td>\n",
       "      <td>0.000000e+00</td>\n",
       "      <td>2.216475e-03</td>\n",
       "      <td>0.000000e+00</td>\n",
       "      <td>3.691125e-15</td>\n",
       "      <td>4.856601e-08</td>\n",
       "      <td>1.166314e-02</td>\n",
       "      <td>0.000000e+00</td>\n",
       "      <td>2.542579e-03</td>\n",
       "    </tr>\n",
       "    <tr>\n",
       "      <th>sbj19</th>\n",
       "      <td>2.385523e-05</td>\n",
       "      <td>2.834560e-10</td>\n",
       "      <td>5.911837e-02</td>\n",
       "      <td>0.000000e+00</td>\n",
       "      <td>4.315195e-06</td>\n",
       "      <td>1.742378e-13</td>\n",
       "      <td>0.000000e+00</td>\n",
       "      <td>0.000000</td>\n",
       "      <td>0.000000e+00</td>\n",
       "      <td>0.000000e+00</td>\n",
       "      <td>...</td>\n",
       "      <td>1.623224e-16</td>\n",
       "      <td>0.000000e+00</td>\n",
       "      <td>9.643180e-09</td>\n",
       "      <td>2.244312e-12</td>\n",
       "      <td>0.000000e+00</td>\n",
       "      <td>2.806305e-03</td>\n",
       "      <td>0.000000e+00</td>\n",
       "      <td>5.218466e-05</td>\n",
       "      <td>0.000000e+00</td>\n",
       "      <td>2.759525e-14</td>\n",
       "    </tr>\n",
       "    <tr>\n",
       "      <th>sbj20</th>\n",
       "      <td>0.000000e+00</td>\n",
       "      <td>1.398436e-02</td>\n",
       "      <td>1.010623e-05</td>\n",
       "      <td>0.000000e+00</td>\n",
       "      <td>0.000000e+00</td>\n",
       "      <td>8.244600e-07</td>\n",
       "      <td>1.210956e-03</td>\n",
       "      <td>0.009227</td>\n",
       "      <td>9.362061e-08</td>\n",
       "      <td>2.373051e-04</td>\n",
       "      <td>...</td>\n",
       "      <td>4.799533e-13</td>\n",
       "      <td>0.000000e+00</td>\n",
       "      <td>1.433502e-03</td>\n",
       "      <td>1.080178e-02</td>\n",
       "      <td>0.000000e+00</td>\n",
       "      <td>1.063996e-02</td>\n",
       "      <td>0.000000e+00</td>\n",
       "      <td>8.858307e-06</td>\n",
       "      <td>0.000000e+00</td>\n",
       "      <td>3.767849e-10</td>\n",
       "    </tr>\n",
       "    <tr>\n",
       "      <th>sbj21</th>\n",
       "      <td>0.000000e+00</td>\n",
       "      <td>0.000000e+00</td>\n",
       "      <td>0.000000e+00</td>\n",
       "      <td>0.000000e+00</td>\n",
       "      <td>2.573115e-14</td>\n",
       "      <td>7.849031e-03</td>\n",
       "      <td>0.000000e+00</td>\n",
       "      <td>0.000000</td>\n",
       "      <td>7.438777e-16</td>\n",
       "      <td>1.776965e-02</td>\n",
       "      <td>...</td>\n",
       "      <td>1.475036e-01</td>\n",
       "      <td>0.000000e+00</td>\n",
       "      <td>2.617496e-02</td>\n",
       "      <td>0.000000e+00</td>\n",
       "      <td>0.000000e+00</td>\n",
       "      <td>0.000000e+00</td>\n",
       "      <td>0.000000e+00</td>\n",
       "      <td>1.792530e-03</td>\n",
       "      <td>0.000000e+00</td>\n",
       "      <td>5.110618e-02</td>\n",
       "    </tr>\n",
       "    <tr>\n",
       "      <th>sbj22</th>\n",
       "      <td>2.000129e-02</td>\n",
       "      <td>1.291575e-03</td>\n",
       "      <td>8.668186e-03</td>\n",
       "      <td>0.000000e+00</td>\n",
       "      <td>2.911616e-03</td>\n",
       "      <td>2.533436e-04</td>\n",
       "      <td>1.847658e-02</td>\n",
       "      <td>0.000000</td>\n",
       "      <td>0.000000e+00</td>\n",
       "      <td>0.000000e+00</td>\n",
       "      <td>...</td>\n",
       "      <td>2.565989e-03</td>\n",
       "      <td>1.415930e-04</td>\n",
       "      <td>7.099227e-12</td>\n",
       "      <td>1.705239e-02</td>\n",
       "      <td>1.235896e-12</td>\n",
       "      <td>6.965834e-03</td>\n",
       "      <td>5.406808e-10</td>\n",
       "      <td>2.741238e-03</td>\n",
       "      <td>1.424382e-03</td>\n",
       "      <td>1.294304e-04</td>\n",
       "    </tr>\n",
       "    <tr>\n",
       "      <th>sbj23</th>\n",
       "      <td>3.344369e-03</td>\n",
       "      <td>0.000000e+00</td>\n",
       "      <td>0.000000e+00</td>\n",
       "      <td>0.000000e+00</td>\n",
       "      <td>0.000000e+00</td>\n",
       "      <td>0.000000e+00</td>\n",
       "      <td>3.281495e-02</td>\n",
       "      <td>0.000000</td>\n",
       "      <td>0.000000e+00</td>\n",
       "      <td>2.564054e-02</td>\n",
       "      <td>...</td>\n",
       "      <td>4.661832e-03</td>\n",
       "      <td>0.000000e+00</td>\n",
       "      <td>6.674398e-09</td>\n",
       "      <td>9.438058e-02</td>\n",
       "      <td>0.000000e+00</td>\n",
       "      <td>0.000000e+00</td>\n",
       "      <td>0.000000e+00</td>\n",
       "      <td>0.000000e+00</td>\n",
       "      <td>0.000000e+00</td>\n",
       "      <td>1.153336e-11</td>\n",
       "    </tr>\n",
       "    <tr>\n",
       "      <th>sbj24</th>\n",
       "      <td>3.255955e-03</td>\n",
       "      <td>1.856367e-02</td>\n",
       "      <td>3.409622e-02</td>\n",
       "      <td>0.000000e+00</td>\n",
       "      <td>7.948821e-07</td>\n",
       "      <td>3.210645e-02</td>\n",
       "      <td>0.000000e+00</td>\n",
       "      <td>0.000000</td>\n",
       "      <td>0.000000e+00</td>\n",
       "      <td>0.000000e+00</td>\n",
       "      <td>...</td>\n",
       "      <td>1.192122e-02</td>\n",
       "      <td>3.691325e-13</td>\n",
       "      <td>2.762353e-15</td>\n",
       "      <td>2.197712e-16</td>\n",
       "      <td>8.160547e-14</td>\n",
       "      <td>0.000000e+00</td>\n",
       "      <td>0.000000e+00</td>\n",
       "      <td>2.573436e-01</td>\n",
       "      <td>0.000000e+00</td>\n",
       "      <td>2.247506e-05</td>\n",
       "    </tr>\n",
       "    <tr>\n",
       "      <th>sbj25</th>\n",
       "      <td>0.000000e+00</td>\n",
       "      <td>4.288407e-06</td>\n",
       "      <td>0.000000e+00</td>\n",
       "      <td>0.000000e+00</td>\n",
       "      <td>1.695348e-01</td>\n",
       "      <td>5.118687e-14</td>\n",
       "      <td>0.000000e+00</td>\n",
       "      <td>0.000000</td>\n",
       "      <td>0.000000e+00</td>\n",
       "      <td>0.000000e+00</td>\n",
       "      <td>...</td>\n",
       "      <td>0.000000e+00</td>\n",
       "      <td>0.000000e+00</td>\n",
       "      <td>0.000000e+00</td>\n",
       "      <td>0.000000e+00</td>\n",
       "      <td>2.886742e-06</td>\n",
       "      <td>0.000000e+00</td>\n",
       "      <td>0.000000e+00</td>\n",
       "      <td>5.070723e-03</td>\n",
       "      <td>0.000000e+00</td>\n",
       "      <td>0.000000e+00</td>\n",
       "    </tr>\n",
       "    <tr>\n",
       "      <th>sbj26</th>\n",
       "      <td>3.344343e-03</td>\n",
       "      <td>9.118258e-03</td>\n",
       "      <td>7.785182e-03</td>\n",
       "      <td>0.000000e+00</td>\n",
       "      <td>9.845854e-09</td>\n",
       "      <td>2.926970e-04</td>\n",
       "      <td>0.000000e+00</td>\n",
       "      <td>0.000000</td>\n",
       "      <td>5.732030e-11</td>\n",
       "      <td>0.000000e+00</td>\n",
       "      <td>...</td>\n",
       "      <td>2.177711e-09</td>\n",
       "      <td>0.000000e+00</td>\n",
       "      <td>3.200578e-03</td>\n",
       "      <td>4.655471e-03</td>\n",
       "      <td>0.000000e+00</td>\n",
       "      <td>7.269697e-04</td>\n",
       "      <td>0.000000e+00</td>\n",
       "      <td>0.000000e+00</td>\n",
       "      <td>0.000000e+00</td>\n",
       "      <td>1.879992e-03</td>\n",
       "    </tr>\n",
       "    <tr>\n",
       "      <th>sbj27</th>\n",
       "      <td>7.079435e-14</td>\n",
       "      <td>0.000000e+00</td>\n",
       "      <td>1.404826e-06</td>\n",
       "      <td>3.678353e-01</td>\n",
       "      <td>7.632456e-03</td>\n",
       "      <td>0.000000e+00</td>\n",
       "      <td>2.662188e-02</td>\n",
       "      <td>0.000000</td>\n",
       "      <td>0.000000e+00</td>\n",
       "      <td>1.409651e-01</td>\n",
       "      <td>...</td>\n",
       "      <td>6.033564e-03</td>\n",
       "      <td>4.544072e-03</td>\n",
       "      <td>9.582096e-02</td>\n",
       "      <td>6.852109e-08</td>\n",
       "      <td>0.000000e+00</td>\n",
       "      <td>0.000000e+00</td>\n",
       "      <td>2.203147e-01</td>\n",
       "      <td>0.000000e+00</td>\n",
       "      <td>0.000000e+00</td>\n",
       "      <td>2.227448e-02</td>\n",
       "    </tr>\n",
       "    <tr>\n",
       "      <th>sbj28</th>\n",
       "      <td>0.000000e+00</td>\n",
       "      <td>3.874749e-09</td>\n",
       "      <td>0.000000e+00</td>\n",
       "      <td>2.512780e-02</td>\n",
       "      <td>0.000000e+00</td>\n",
       "      <td>6.070597e-10</td>\n",
       "      <td>0.000000e+00</td>\n",
       "      <td>0.064641</td>\n",
       "      <td>4.171875e-02</td>\n",
       "      <td>0.000000e+00</td>\n",
       "      <td>...</td>\n",
       "      <td>7.187683e-11</td>\n",
       "      <td>0.000000e+00</td>\n",
       "      <td>0.000000e+00</td>\n",
       "      <td>5.664224e-03</td>\n",
       "      <td>0.000000e+00</td>\n",
       "      <td>0.000000e+00</td>\n",
       "      <td>0.000000e+00</td>\n",
       "      <td>0.000000e+00</td>\n",
       "      <td>5.553097e-14</td>\n",
       "      <td>0.000000e+00</td>\n",
       "    </tr>\n",
       "    <tr>\n",
       "      <th>bcg</th>\n",
       "      <td>7.058890e-01</td>\n",
       "      <td>6.154664e-01</td>\n",
       "      <td>6.855453e-01</td>\n",
       "      <td>4.601800e-01</td>\n",
       "      <td>6.758842e-01</td>\n",
       "      <td>7.581944e-01</td>\n",
       "      <td>5.994185e-01</td>\n",
       "      <td>0.458082</td>\n",
       "      <td>5.445731e-01</td>\n",
       "      <td>7.598979e-01</td>\n",
       "      <td>...</td>\n",
       "      <td>7.286506e-01</td>\n",
       "      <td>6.270363e-01</td>\n",
       "      <td>6.738785e-01</td>\n",
       "      <td>7.570469e-01</td>\n",
       "      <td>6.372682e-01</td>\n",
       "      <td>7.237412e-01</td>\n",
       "      <td>7.431067e-01</td>\n",
       "      <td>6.502271e-01</td>\n",
       "      <td>5.625077e-01</td>\n",
       "      <td>6.976787e-01</td>\n",
       "    </tr>\n",
       "  </tbody>\n",
       "</table>\n",
       "<p>30 rows × 1728 columns</p>\n",
       "</div>"
      ],
      "text/plain": [
       "       http://postnauka.ru/video/19330  http://postnauka.ru/video/19357  \\\n",
       "sbj0                      2.306642e-03                     3.475070e-02   \n",
       "sbj1                      7.023384e-10                     5.132571e-04   \n",
       "sbj2                      7.383751e-11                     1.295623e-07   \n",
       "sbj3                      1.315230e-02                     1.385723e-02   \n",
       "sbj4                      1.766984e-03                     5.967840e-02   \n",
       "sbj5                      0.000000e+00                     6.183364e-02   \n",
       "sbj6                      1.939580e-01                     9.816806e-09   \n",
       "sbj7                      1.365526e-02                     0.000000e+00   \n",
       "sbj8                      3.542876e-03                     2.837526e-07   \n",
       "sbj9                      1.591593e-05                     1.038067e-04   \n",
       "sbj10                     0.000000e+00                     3.369043e-02   \n",
       "sbj11                     0.000000e+00                     2.670434e-09   \n",
       "sbj12                     8.348281e-11                     4.618343e-14   \n",
       "sbj13                     0.000000e+00                     8.925930e-02   \n",
       "sbj14                     0.000000e+00                     9.148280e-03   \n",
       "sbj15                     8.895747e-05                     7.534725e-03   \n",
       "sbj16                     3.134146e-16                     2.808929e-02   \n",
       "sbj17                     3.014309e-02                     1.026741e-06   \n",
       "sbj18                     5.511101e-03                     3.110943e-03   \n",
       "sbj19                     2.385523e-05                     2.834560e-10   \n",
       "sbj20                     0.000000e+00                     1.398436e-02   \n",
       "sbj21                     0.000000e+00                     0.000000e+00   \n",
       "sbj22                     2.000129e-02                     1.291575e-03   \n",
       "sbj23                     3.344369e-03                     0.000000e+00   \n",
       "sbj24                     3.255955e-03                     1.856367e-02   \n",
       "sbj25                     0.000000e+00                     4.288407e-06   \n",
       "sbj26                     3.344343e-03                     9.118258e-03   \n",
       "sbj27                     7.079435e-14                     0.000000e+00   \n",
       "sbj28                     0.000000e+00                     3.874749e-09   \n",
       "bcg                       7.058890e-01                     6.154664e-01   \n",
       "\n",
       "       http://postnauka.ru/video/19371  http://postnauka.ru/video/19436  \\\n",
       "sbj0                      1.795812e-02                     0.000000e+00   \n",
       "sbj1                      1.476562e-02                     0.000000e+00   \n",
       "sbj2                      2.728415e-08                     0.000000e+00   \n",
       "sbj3                      1.410841e-07                     0.000000e+00   \n",
       "sbj4                      2.365651e-05                     0.000000e+00   \n",
       "sbj5                      0.000000e+00                     1.541747e-02   \n",
       "sbj6                      5.945788e-02                     0.000000e+00   \n",
       "sbj7                      5.687603e-13                     0.000000e+00   \n",
       "sbj8                      2.487681e-07                     4.710145e-05   \n",
       "sbj9                      2.232538e-15                     4.340209e-12   \n",
       "sbj10                     7.777926e-02                     0.000000e+00   \n",
       "sbj11                     2.623936e-03                     0.000000e+00   \n",
       "sbj12                     0.000000e+00                     1.313923e-01   \n",
       "sbj13                     5.530588e-09                     0.000000e+00   \n",
       "sbj14                     1.201856e-14                     0.000000e+00   \n",
       "sbj15                     0.000000e+00                     0.000000e+00   \n",
       "sbj16                     2.817983e-07                     0.000000e+00   \n",
       "sbj17                     3.216605e-02                     0.000000e+00   \n",
       "sbj18                     1.236217e-14                     0.000000e+00   \n",
       "sbj19                     5.911837e-02                     0.000000e+00   \n",
       "sbj20                     1.010623e-05                     0.000000e+00   \n",
       "sbj21                     0.000000e+00                     0.000000e+00   \n",
       "sbj22                     8.668186e-03                     0.000000e+00   \n",
       "sbj23                     0.000000e+00                     0.000000e+00   \n",
       "sbj24                     3.409622e-02                     0.000000e+00   \n",
       "sbj25                     0.000000e+00                     0.000000e+00   \n",
       "sbj26                     7.785182e-03                     0.000000e+00   \n",
       "sbj27                     1.404826e-06                     3.678353e-01   \n",
       "sbj28                     0.000000e+00                     2.512780e-02   \n",
       "bcg                       6.855453e-01                     4.601800e-01   \n",
       "\n",
       "       http://postnauka.ru/video/19451  http://postnauka.ru/video/19453  \\\n",
       "sbj0                      1.407194e-02                     2.536120e-13   \n",
       "sbj1                      0.000000e+00                     0.000000e+00   \n",
       "sbj2                      0.000000e+00                     2.781761e-03   \n",
       "sbj3                      2.081860e-12                     1.455735e-02   \n",
       "sbj4                      3.225498e-03                     4.099281e-03   \n",
       "sbj5                      0.000000e+00                     2.622385e-07   \n",
       "sbj6                      1.643158e-02                     3.896445e-07   \n",
       "sbj7                      4.988029e-16                     3.048047e-03   \n",
       "sbj8                      0.000000e+00                     0.000000e+00   \n",
       "sbj9                      9.848807e-08                     1.019495e-10   \n",
       "sbj10                     3.931105e-02                     1.611146e-02   \n",
       "sbj11                     0.000000e+00                     9.601076e-15   \n",
       "sbj12                     0.000000e+00                     0.000000e+00   \n",
       "sbj13                     8.583519e-03                     3.363406e-12   \n",
       "sbj14                     0.000000e+00                     4.145795e-15   \n",
       "sbj15                     1.740450e-05                     0.000000e+00   \n",
       "sbj16                     0.000000e+00                     0.000000e+00   \n",
       "sbj17                     0.000000e+00                     1.594348e-01   \n",
       "sbj18                     6.239058e-02                     1.269933e-03   \n",
       "sbj19                     4.315195e-06                     1.742378e-13   \n",
       "sbj20                     0.000000e+00                     8.244600e-07   \n",
       "sbj21                     2.573115e-14                     7.849031e-03   \n",
       "sbj22                     2.911616e-03                     2.533436e-04   \n",
       "sbj23                     0.000000e+00                     0.000000e+00   \n",
       "sbj24                     7.948821e-07                     3.210645e-02   \n",
       "sbj25                     1.695348e-01                     5.118687e-14   \n",
       "sbj26                     9.845854e-09                     2.926970e-04   \n",
       "sbj27                     7.632456e-03                     0.000000e+00   \n",
       "sbj28                     0.000000e+00                     6.070597e-10   \n",
       "bcg                       6.758842e-01                     7.581944e-01   \n",
       "\n",
       "       http://postnauka.ru/video/19456  http://postnauka.ru/video/19457  \\\n",
       "sbj0                      0.000000e+00                         0.000000   \n",
       "sbj1                      2.348852e-09                         0.000000   \n",
       "sbj2                      9.506352e-03                         0.000000   \n",
       "sbj3                      0.000000e+00                         0.000000   \n",
       "sbj4                      4.029964e-07                         0.000000   \n",
       "sbj5                      1.800663e-02                         0.128110   \n",
       "sbj6                      2.909920e-08                         0.000000   \n",
       "sbj7                      0.000000e+00                         0.000000   \n",
       "sbj8                      6.967879e-02                         0.000000   \n",
       "sbj9                      1.537137e-01                         0.276121   \n",
       "sbj10                     1.495731e-09                         0.000000   \n",
       "sbj11                     0.000000e+00                         0.000000   \n",
       "sbj12                     2.920891e-14                         0.000000   \n",
       "sbj13                     0.000000e+00                         0.000000   \n",
       "sbj14                     0.000000e+00                         0.032257   \n",
       "sbj15                     7.055119e-02                         0.031562   \n",
       "sbj16                     0.000000e+00                         0.000000   \n",
       "sbj17                     0.000000e+00                         0.000000   \n",
       "sbj18                     0.000000e+00                         0.000000   \n",
       "sbj19                     0.000000e+00                         0.000000   \n",
       "sbj20                     1.210956e-03                         0.009227   \n",
       "sbj21                     0.000000e+00                         0.000000   \n",
       "sbj22                     1.847658e-02                         0.000000   \n",
       "sbj23                     3.281495e-02                         0.000000   \n",
       "sbj24                     0.000000e+00                         0.000000   \n",
       "sbj25                     0.000000e+00                         0.000000   \n",
       "sbj26                     0.000000e+00                         0.000000   \n",
       "sbj27                     2.662188e-02                         0.000000   \n",
       "sbj28                     0.000000e+00                         0.064641   \n",
       "bcg                       5.994185e-01                         0.458082   \n",
       "\n",
       "       http://postnauka.ru/video/19458  http://postnauka.ru/video/19459  \\\n",
       "sbj0                      0.000000e+00                     0.000000e+00   \n",
       "sbj1                      3.028454e-08                     5.068475e-03   \n",
       "sbj2                      1.388140e-01                     7.001120e-08   \n",
       "sbj3                      3.709048e-03                     4.159038e-03   \n",
       "sbj4                      0.000000e+00                     0.000000e+00   \n",
       "sbj5                      3.626832e-02                     0.000000e+00   \n",
       "sbj6                      0.000000e+00                     0.000000e+00   \n",
       "sbj7                      0.000000e+00                     0.000000e+00   \n",
       "sbj8                      2.915909e-08                     1.374704e-02   \n",
       "sbj9                      1.943510e-01                     0.000000e+00   \n",
       "sbj10                     0.000000e+00                     1.369276e-03   \n",
       "sbj11                     0.000000e+00                     1.860893e-02   \n",
       "sbj12                     0.000000e+00                     1.249245e-02   \n",
       "sbj13                     6.545283e-12                     7.242243e-12   \n",
       "sbj14                     4.056567e-02                     1.293885e-11   \n",
       "sbj15                     0.000000e+00                     4.416643e-05   \n",
       "sbj16                     0.000000e+00                     8.622379e-10   \n",
       "sbj17                     0.000000e+00                     0.000000e+00   \n",
       "sbj18                     0.000000e+00                     0.000000e+00   \n",
       "sbj19                     0.000000e+00                     0.000000e+00   \n",
       "sbj20                     9.362061e-08                     2.373051e-04   \n",
       "sbj21                     7.438777e-16                     1.776965e-02   \n",
       "sbj22                     0.000000e+00                     0.000000e+00   \n",
       "sbj23                     0.000000e+00                     2.564054e-02   \n",
       "sbj24                     0.000000e+00                     0.000000e+00   \n",
       "sbj25                     0.000000e+00                     0.000000e+00   \n",
       "sbj26                     5.732030e-11                     0.000000e+00   \n",
       "sbj27                     0.000000e+00                     1.409651e-01   \n",
       "sbj28                     4.171875e-02                     0.000000e+00   \n",
       "bcg                       5.445731e-01                     7.598979e-01   \n",
       "\n",
       "                    ...                 http://postnauka.ru/video/59622  \\\n",
       "sbj0                ...                                    1.376564e-03   \n",
       "sbj1                ...                                    5.487275e-03   \n",
       "sbj2                ...                                    1.049897e-04   \n",
       "sbj3                ...                                    1.137108e-02   \n",
       "sbj4                ...                                    0.000000e+00   \n",
       "sbj5                ...                                    7.337594e-10   \n",
       "sbj6                ...                                    3.121135e-10   \n",
       "sbj7                ...                                    1.044043e-02   \n",
       "sbj8                ...                                    1.472227e-03   \n",
       "sbj9                ...                                    8.324333e-03   \n",
       "sbj10               ...                                    1.230268e-05   \n",
       "sbj11               ...                                    3.036005e-03   \n",
       "sbj12               ...                                    1.548023e-04   \n",
       "sbj13               ...                                    3.762490e-02   \n",
       "sbj14               ...                                    8.856807e-04   \n",
       "sbj15               ...                                    2.927333e-03   \n",
       "sbj16               ...                                    0.000000e+00   \n",
       "sbj17               ...                                    1.018477e-02   \n",
       "sbj18               ...                                    5.260515e-03   \n",
       "sbj19               ...                                    1.623224e-16   \n",
       "sbj20               ...                                    4.799533e-13   \n",
       "sbj21               ...                                    1.475036e-01   \n",
       "sbj22               ...                                    2.565989e-03   \n",
       "sbj23               ...                                    4.661832e-03   \n",
       "sbj24               ...                                    1.192122e-02   \n",
       "sbj25               ...                                    0.000000e+00   \n",
       "sbj26               ...                                    2.177711e-09   \n",
       "sbj27               ...                                    6.033564e-03   \n",
       "sbj28               ...                                    7.187683e-11   \n",
       "bcg                 ...                                    7.286506e-01   \n",
       "\n",
       "       http://postnauka.ru/video/59627  http://postnauka.ru/video/59632  \\\n",
       "sbj0                      0.000000e+00                     0.000000e+00   \n",
       "sbj1                      8.825588e-02                     1.839768e-06   \n",
       "sbj2                      2.089949e-03                     2.355610e-02   \n",
       "sbj3                      3.598631e-07                     0.000000e+00   \n",
       "sbj4                      0.000000e+00                     3.004876e-13   \n",
       "sbj5                      0.000000e+00                     2.506552e-03   \n",
       "sbj6                      1.882626e-10                     0.000000e+00   \n",
       "sbj7                      8.954810e-09                     0.000000e+00   \n",
       "sbj8                      4.289642e-03                     9.053667e-03   \n",
       "sbj9                      1.651867e-02                     2.389530e-07   \n",
       "sbj10                     0.000000e+00                     1.717349e-14   \n",
       "sbj11                     8.450635e-08                     1.131229e-01   \n",
       "sbj12                     0.000000e+00                     2.692041e-02   \n",
       "sbj13                     1.683149e-03                     0.000000e+00   \n",
       "sbj14                     2.493703e-01                     2.214216e-02   \n",
       "sbj15                     3.224298e-04                     2.187534e-03   \n",
       "sbj16                     5.747450e-03                     6.896105e-16   \n",
       "sbj17                     0.000000e+00                     0.000000e+00   \n",
       "sbj18                     3.631134e-09                     0.000000e+00   \n",
       "sbj19                     0.000000e+00                     9.643180e-09   \n",
       "sbj20                     0.000000e+00                     1.433502e-03   \n",
       "sbj21                     0.000000e+00                     2.617496e-02   \n",
       "sbj22                     1.415930e-04                     7.099227e-12   \n",
       "sbj23                     0.000000e+00                     6.674398e-09   \n",
       "sbj24                     3.691325e-13                     2.762353e-15   \n",
       "sbj25                     0.000000e+00                     0.000000e+00   \n",
       "sbj26                     0.000000e+00                     3.200578e-03   \n",
       "sbj27                     4.544072e-03                     9.582096e-02   \n",
       "sbj28                     0.000000e+00                     0.000000e+00   \n",
       "bcg                       6.270363e-01                     6.738785e-01   \n",
       "\n",
       "       http://postnauka.ru/video/59633  http://postnauka.ru/video/59636  \\\n",
       "sbj0                      0.000000e+00                     0.000000e+00   \n",
       "sbj1                      2.388833e-10                     2.712880e-02   \n",
       "sbj2                      9.243410e-03                     1.059048e-02   \n",
       "sbj3                      1.429551e-15                     0.000000e+00   \n",
       "sbj4                      1.519234e-12                     0.000000e+00   \n",
       "sbj5                      3.687712e-14                     0.000000e+00   \n",
       "sbj6                      0.000000e+00                     5.558635e-05   \n",
       "sbj7                      0.000000e+00                     0.000000e+00   \n",
       "sbj8                      1.536351e-03                     2.973223e-03   \n",
       "sbj9                      2.940749e-03                     1.015213e-02   \n",
       "sbj10                     9.759306e-15                     0.000000e+00   \n",
       "sbj11                     0.000000e+00                     6.349101e-03   \n",
       "sbj12                     7.558860e-04                     6.115457e-09   \n",
       "sbj13                     0.000000e+00                     1.412470e-05   \n",
       "sbj14                     0.000000e+00                     3.054425e-01   \n",
       "sbj15                     9.370569e-02                     2.292369e-05   \n",
       "sbj16                     0.000000e+00                     5.588252e-15   \n",
       "sbj17                     6.848305e-16                     0.000000e+00   \n",
       "sbj18                     2.216475e-03                     0.000000e+00   \n",
       "sbj19                     2.244312e-12                     0.000000e+00   \n",
       "sbj20                     1.080178e-02                     0.000000e+00   \n",
       "sbj21                     0.000000e+00                     0.000000e+00   \n",
       "sbj22                     1.705239e-02                     1.235896e-12   \n",
       "sbj23                     9.438058e-02                     0.000000e+00   \n",
       "sbj24                     2.197712e-16                     8.160547e-14   \n",
       "sbj25                     0.000000e+00                     2.886742e-06   \n",
       "sbj26                     4.655471e-03                     0.000000e+00   \n",
       "sbj27                     6.852109e-08                     0.000000e+00   \n",
       "sbj28                     5.664224e-03                     0.000000e+00   \n",
       "bcg                       7.570469e-01                     6.372682e-01   \n",
       "\n",
       "       http://postnauka.ru/video/59638  http://postnauka.ru/video/5990  \\\n",
       "sbj0                      8.209935e-14                    0.000000e+00   \n",
       "sbj1                      3.685525e-09                    0.000000e+00   \n",
       "sbj2                      1.322556e-04                    0.000000e+00   \n",
       "sbj3                      2.173840e-02                    0.000000e+00   \n",
       "sbj4                      1.229296e-02                    0.000000e+00   \n",
       "sbj5                      0.000000e+00                    0.000000e+00   \n",
       "sbj6                      0.000000e+00                    0.000000e+00   \n",
       "sbj7                      0.000000e+00                    0.000000e+00   \n",
       "sbj8                      0.000000e+00                    1.374481e-02   \n",
       "sbj9                      0.000000e+00                    1.999005e-02   \n",
       "sbj10                     1.199526e-11                    0.000000e+00   \n",
       "sbj11                     2.092604e-01                    0.000000e+00   \n",
       "sbj12                     0.000000e+00                    0.000000e+00   \n",
       "sbj13                     0.000000e+00                    0.000000e+00   \n",
       "sbj14                     8.680997e-06                    0.000000e+00   \n",
       "sbj15                     1.032413e-02                    2.843702e-03   \n",
       "sbj16                     0.000000e+00                    0.000000e+00   \n",
       "sbj17                     1.362958e-03                    0.000000e+00   \n",
       "sbj18                     3.691125e-15                    4.856601e-08   \n",
       "sbj19                     2.806305e-03                    0.000000e+00   \n",
       "sbj20                     1.063996e-02                    0.000000e+00   \n",
       "sbj21                     0.000000e+00                    0.000000e+00   \n",
       "sbj22                     6.965834e-03                    5.406808e-10   \n",
       "sbj23                     0.000000e+00                    0.000000e+00   \n",
       "sbj24                     0.000000e+00                    0.000000e+00   \n",
       "sbj25                     0.000000e+00                    0.000000e+00   \n",
       "sbj26                     7.269697e-04                    0.000000e+00   \n",
       "sbj27                     0.000000e+00                    2.203147e-01   \n",
       "sbj28                     0.000000e+00                    0.000000e+00   \n",
       "bcg                       7.237412e-01                    7.431067e-01   \n",
       "\n",
       "       http://postnauka.ru/video/5999  http://postnauka.ru/video/60481  \\\n",
       "sbj0                     7.688060e-12                     0.000000e+00   \n",
       "sbj1                     0.000000e+00                     3.381269e-02   \n",
       "sbj2                     6.483430e-12                     1.822071e-02   \n",
       "sbj3                     2.668667e-02                     2.067468e-03   \n",
       "sbj4                     0.000000e+00                     0.000000e+00   \n",
       "sbj5                     0.000000e+00                     1.689469e-03   \n",
       "sbj6                     2.076125e-02                     0.000000e+00   \n",
       "sbj7                     1.597353e-05                     2.372961e-12   \n",
       "sbj8                     7.263299e-11                     0.000000e+00   \n",
       "sbj9                     2.207226e-03                     1.323956e-01   \n",
       "sbj10                    4.021326e-05                     2.894029e-12   \n",
       "sbj11                    9.913463e-03                     0.000000e+00   \n",
       "sbj12                    3.460204e-03                     3.132890e-09   \n",
       "sbj13                    8.806620e-04                     0.000000e+00   \n",
       "sbj14                    2.056121e-10                     2.252656e-01   \n",
       "sbj15                    4.326552e-10                     2.261641e-02   \n",
       "sbj16                    0.000000e+00                     1.328510e-13   \n",
       "sbj17                    7.134899e-03                     9.483211e-14   \n",
       "sbj18                    1.166314e-02                     0.000000e+00   \n",
       "sbj19                    5.218466e-05                     0.000000e+00   \n",
       "sbj20                    8.858307e-06                     0.000000e+00   \n",
       "sbj21                    1.792530e-03                     0.000000e+00   \n",
       "sbj22                    2.741238e-03                     1.424382e-03   \n",
       "sbj23                    0.000000e+00                     0.000000e+00   \n",
       "sbj24                    2.573436e-01                     0.000000e+00   \n",
       "sbj25                    5.070723e-03                     0.000000e+00   \n",
       "sbj26                    0.000000e+00                     0.000000e+00   \n",
       "sbj27                    0.000000e+00                     0.000000e+00   \n",
       "sbj28                    0.000000e+00                     5.553097e-14   \n",
       "bcg                      6.502271e-01                     5.625077e-01   \n",
       "\n",
       "       http://postnauka.ru/video/60527  \n",
       "sbj0                      2.985207e-10  \n",
       "sbj1                      3.083061e-11  \n",
       "sbj2                      1.024326e-02  \n",
       "sbj3                      1.033574e-02  \n",
       "sbj4                      2.374070e-13  \n",
       "sbj5                      4.572650e-03  \n",
       "sbj6                      3.479541e-09  \n",
       "sbj7                      2.521719e-08  \n",
       "sbj8                      1.329434e-16  \n",
       "sbj9                      1.488261e-03  \n",
       "sbj10                     6.633716e-13  \n",
       "sbj11                     1.886660e-01  \n",
       "sbj12                     1.666233e-11  \n",
       "sbj13                     0.000000e+00  \n",
       "sbj14                     1.102123e-03  \n",
       "sbj15                     7.958080e-03  \n",
       "sbj16                     0.000000e+00  \n",
       "sbj17                     9.685838e-11  \n",
       "sbj18                     2.542579e-03  \n",
       "sbj19                     2.759525e-14  \n",
       "sbj20                     3.767849e-10  \n",
       "sbj21                     5.110618e-02  \n",
       "sbj22                     1.294304e-04  \n",
       "sbj23                     1.153336e-11  \n",
       "sbj24                     2.247506e-05  \n",
       "sbj25                     0.000000e+00  \n",
       "sbj26                     1.879992e-03  \n",
       "sbj27                     2.227448e-02  \n",
       "sbj28                     0.000000e+00  \n",
       "bcg                       6.976787e-01  \n",
       "\n",
       "[30 rows x 1728 columns]"
      ]
     },
     "execution_count": 151,
     "metadata": {},
     "output_type": "execute_result"
    }
   ],
   "source": [
    "theta"
   ]
  },
  {
   "cell_type": "markdown",
   "metadata": {},
   "source": [
    "##### Заключение"
   ]
  },
  {
   "cell_type": "markdown",
   "metadata": {},
   "source": [
    "В этом Peer Review мы познакомились с базовыми возможностями библиотеки BigARTM и с методами визуализации тематических моделей. Визуализация тематических моделей - это широкая и активно развивающаяся область научных исследований. Мы рассмотрели только самые простые приемы. Желающие могут попробовать применить [Serendip](http://vep.cs.wisc.edu/serendip/#serendipHero), разработанный в  University of Wisconsin-Madison, к построенной модели. Эта библиотека позволяет максимально полно охарактеризовать темы и написана для языка python. \n",
    "\n",
    "Сделав задание, вы можете выбрать в навигаторе наиболее интересную для вас тему и посмотреть видеолекции :) На Постнауке очень много интересных материалов. "
   ]
  }
 ],
 "metadata": {
  "kernelspec": {
   "display_name": "Python 2",
   "language": "python",
   "name": "python2"
  },
  "language_info": {
   "codemirror_mode": {
    "name": "ipython",
    "version": 2
   },
   "file_extension": ".py",
   "mimetype": "text/x-python",
   "name": "python",
   "nbconvert_exporter": "python",
   "pygments_lexer": "ipython2",
   "version": "2.7.14"
  }
 },
 "nbformat": 4,
 "nbformat_minor": 1
}
