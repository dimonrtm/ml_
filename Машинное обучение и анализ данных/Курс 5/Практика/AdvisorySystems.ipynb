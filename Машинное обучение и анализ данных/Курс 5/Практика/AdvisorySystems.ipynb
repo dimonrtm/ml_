{
 "cells": [
  {
   "cell_type": "code",
   "execution_count": 66,
   "metadata": {
    "collapsed": true
   },
   "outputs": [],
   "source": [
    "import numpy as np\n",
    "import pandas as pd\n",
    "import matplotlib.pyplot as plt"
   ]
  },
  {
   "cell_type": "code",
   "execution_count": 67,
   "metadata": {
    "collapsed": true
   },
   "outputs": [],
   "source": [
    "train_data=[]\n",
    "with open(\"coursera_sessions_train.txt\",\"r\") as f:\n",
    "    text=f.read().splitlines()\n",
    "    for strs in text:\n",
    "        view_items,pay_items=strs.split(\";\")\n",
    "        view_items=map(int,view_items.split(\",\"))\n",
    "        if len(pay_items)>0:\n",
    "            pay_items=map(int,pay_items.split(\",\"))\n",
    "        else:\n",
    "            pay_items=[]\n",
    "        train_data.append([view_items,pay_items])"
   ]
  },
  {
   "cell_type": "code",
   "execution_count": 68,
   "metadata": {},
   "outputs": [],
   "source": [
    "test_data=[]\n",
    "with open(\"coursera_sessions_test.txt\",\"r\") as f:\n",
    "    text=f.read().splitlines()\n",
    "    for strs in text:\n",
    "        view_items,pay_items=strs.split(\";\")\n",
    "        view_items=map(int,view_items.split(\",\"))\n",
    "        if len(pay_items)>0:\n",
    "            pay_items=map(int,pay_items.split(\",\"))\n",
    "        else:\n",
    "            pay_items=[]\n",
    "        test_data.append([view_items,pay_items])"
   ]
  },
  {
   "cell_type": "code",
   "execution_count": 69,
   "metadata": {},
   "outputs": [
    {
     "name": "stdout",
     "output_type": "stream",
     "text": [
      "Wall time: 562 ms\n"
     ]
    }
   ],
   "source": [
    "%%time\n",
    "from collections import Counter\n",
    "viewed_products=[session[0] for session in train_data]\n",
    "viewed_products=[id for view in viewed_products for id in view]\n",
    "freq_view_products=dict(Counter(viewed_products))"
   ]
  },
  {
   "cell_type": "code",
   "execution_count": 70,
   "metadata": {},
   "outputs": [],
   "source": [
    "t=train_data[0][0]\n",
    "f=[freq_view_products[x]for x in t]\n",
    "a=np.argsort(np.array(f))[::-1]\n",
    "t=np.array(t)\n",
    "b=t[a]"
   ]
  },
  {
   "cell_type": "code",
   "execution_count": 71,
   "metadata": {},
   "outputs": [
    {
     "name": "stdout",
     "output_type": "stream",
     "text": [
      "Wall time: 31 ms\n"
     ]
    }
   ],
   "source": [
    "%%time\n",
    "from collections import Counter\n",
    "payed_products=[session[1] for session in train_data]\n",
    "payed_products=[id for pay in payed_products for id in pay]\n",
    "freq_pay_products=dict(Counter(payed_products))"
   ]
  },
  {
   "cell_type": "code",
   "execution_count": 116,
   "metadata": {},
   "outputs": [
    {
     "name": "stdout",
     "output_type": "stream",
     "text": [
      "Wall time: 1.17 s\n"
     ]
    }
   ],
   "source": [
    "%%time\n",
    "recall_1=[]\n",
    "precision_1=[]\n",
    "recall_5=[]\n",
    "precision_5=[]\n",
    "for sess in train_data:\n",
    "    if len(sess[1])>0:\n",
    "        view=np.array(sess[0])\n",
    "        pay=np.array(sess[1])\n",
    "        f=np.array([freq_view_products[x]for x in view])\n",
    "        a=np.argsort(f)[::-1]\n",
    "        view=view[a]\n",
    "        num_rec_1=min(1,view.shape[0])\n",
    "        num_rec_5=min(5,view.shape[0])\n",
    "        if num_rec_1 ==0 or num_rec_5 ==0:\n",
    "            continue\n",
    "        W=np.unique(view)\n",
    "        W_1=W[:num_rec_1]\n",
    "        W_5=W[:num_rec_5]\n",
    "        pay=np.unique(pay)\n",
    "        int_1=np.intersect1d(W_1,pay).shape[0]\n",
    "        int_5=np.intersect1d(W_5,pay).shape[0]\n",
    "        p_1=int_1/1.0\n",
    "        r_1=int_1/float(pay.shape[0])\n",
    "        p_5=int_5/5.0\n",
    "        r_5=int_5/float(pay.shape[0])\n",
    "        recall_1.append(r_1)\n",
    "        precision_1.append(p_1)\n",
    "        recall_5.append(r_5)\n",
    "        precision_5.append(p_5)\n",
    "    else:\n",
    "        continue"
   ]
  },
  {
   "cell_type": "code",
   "execution_count": 117,
   "metadata": {},
   "outputs": [
    {
     "name": "stdout",
     "output_type": "stream",
     "text": [
      "0.405032020671\n",
      "0.468403547672\n",
      "0.802359717611\n",
      "0.205820399113\n"
     ]
    }
   ],
   "source": [
    "print(np.mean(recall_1))\n",
    "print(np.mean(precision_1))\n",
    "print(np.mean(recall_5))\n",
    "print(np.mean(precision_5))"
   ]
  },
  {
   "cell_type": "code",
   "execution_count": 102,
   "metadata": {
    "collapsed": true
   },
   "outputs": [],
   "source": []
  },
  {
   "cell_type": "code",
   "execution_count": 118,
   "metadata": {},
   "outputs": [],
   "source": [
    "recall_1=[]\n",
    "precision_1=[]\n",
    "recall_5=[]\n",
    "precision_5=[]\n",
    "for sess in test_data:\n",
    "    if len(sess[1])>0:\n",
    "        view=np.array(sess[0])\n",
    "        pay=np.array(sess[1])\n",
    "        f=np.array([freq_view_products[x]for x in view])\n",
    "        a=np.argsort(f)[::-1]\n",
    "        view=view[a]\n",
    "        num_rec_1=min(1,view.shape[0])\n",
    "        num_rec_5=min(5,view.shape[0])\n",
    "        W=np.unique(view)\n",
    "        W_1=W[:1]\n",
    "        W_5=W[:5]\n",
    "        pay=np.unique(pay)\n",
    "        int_1=np.intersect1d(W_1,pay).shape[0]\n",
    "        int_5=np.intersect1d(W_5,pay).shape[0]\n",
    "        p_1=float(int_1)/1.0\n",
    "        r_1=float(int_1)/float(pay.shape[0])\n",
    "        p_5=float(int_5)/5.0\n",
    "        r_5=float(int_5)/float(pay.shape[0])\n",
    "        recall_1.append(r_1)\n",
    "        precision_1.append(p_1)\n",
    "        recall_5.append(r_5)\n",
    "        precision_5.append(p_5)\n",
    "    else:\n",
    "        continue"
   ]
  },
  {
   "cell_type": "code",
   "execution_count": 119,
   "metadata": {},
   "outputs": [
    {
     "name": "stdout",
     "output_type": "stream",
     "text": [
      "0.402117141991\n",
      "0.461937244202\n",
      "0.789631570969\n",
      "0.201418826739\n"
     ]
    }
   ],
   "source": [
    "print(np.mean(recall_1))\n",
    "print(np.mean(precision_1))\n",
    "print(np.mean(recall_5))\n",
    "print(np.mean(precision_5))"
   ]
  },
  {
   "cell_type": "code",
   "execution_count": 122,
   "metadata": {},
   "outputs": [],
   "source": [
    "recall_1=[]\n",
    "precision_1=[]\n",
    "recall_5=[]\n",
    "precision_5=[]\n",
    "for sess in train_data:\n",
    "    if len(sess[1])>0:\n",
    "        view=np.array(sess[0])\n",
    "        pay=np.array(sess[1])\n",
    "        f=np.array([freq_pay_products[x]for x in view])\n",
    "        a=np.argsort(f)[::-1]\n",
    "        view=view[a]\n",
    "        num_rec_1=min(1,view.shape[0])\n",
    "        num_rec_5=min(5,view.shape[0])\n",
    "        if num_rec_1 ==0 or num_rec_5 ==0:\n",
    "            continue\n",
    "        W=np.unique(view)\n",
    "        W_1=W[:num_rec_1]\n",
    "        W_5=W[:num_rec_5]\n",
    "        pay=np.unique(pay)\n",
    "        int_1=np.intersect1d(W_1,pay).shape[0]\n",
    "        int_5=np.intersect1d(W_5,pay).shape[0]\n",
    "        p_1=float(int_1)/1.0\n",
    "        r_1=float(int_1)/float(pay.shape[0])\n",
    "        p_5=float(int_5)/5.0\n",
    "        r_5=float(int_5)/float(pay.shape[0])\n",
    "        recall_1.append(r_1)\n",
    "        precision_1.append(p_1)\n",
    "        recall_5.append(r_5)\n",
    "        precision_5.append(p_5)\n",
    "    else:\n",
    "        continue"
   ]
  },
  {
   "cell_type": "code",
   "execution_count": 123,
   "metadata": {},
   "outputs": [
    {
     "name": "stdout",
     "output_type": "stream",
     "text": [
      "0.405032020671\n",
      "0.468403547672\n",
      "0.802359717611\n",
      "0.205820399113\n"
     ]
    }
   ],
   "source": [
    "print(np.mean(recall_1))\n",
    "print(np.mean(precision_1))\n",
    "print(np.mean(recall_5))\n",
    "print(np.mean(precision_5))"
   ]
  },
  {
   "cell_type": "code",
   "execution_count": null,
   "metadata": {
    "collapsed": true
   },
   "outputs": [],
   "source": []
  }
 ],
 "metadata": {
  "kernelspec": {
   "display_name": "Python 2",
   "language": "python",
   "name": "python2"
  },
  "language_info": {
   "codemirror_mode": {
    "name": "ipython",
    "version": 2
   },
   "file_extension": ".py",
   "mimetype": "text/x-python",
   "name": "python",
   "nbconvert_exporter": "python",
   "pygments_lexer": "ipython2",
   "version": "2.7.14"
  }
 },
 "nbformat": 4,
 "nbformat_minor": 2
}
