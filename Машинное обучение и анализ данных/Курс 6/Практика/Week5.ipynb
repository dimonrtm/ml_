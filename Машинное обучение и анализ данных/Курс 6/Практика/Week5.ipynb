{
 "cells": [
  {
   "cell_type": "code",
   "execution_count": 1,
   "metadata": {
    "collapsed": true
   },
   "outputs": [],
   "source": [
    "import requests\n",
    "import bs4"
   ]
  },
  {
   "cell_type": "markdown",
   "metadata": {},
   "source": [
    "Распарсить из статьи https://en.wikipedia.org/wiki/Bias-variance_tradeoff все заголовки верхнего уровня."
   ]
  },
  {
   "cell_type": "code",
   "execution_count": 2,
   "metadata": {
    "collapsed": true
   },
   "outputs": [],
   "source": [
    "req=requests.get(\" https://en.wikipedia.org/wiki/Bias-variance_tradeoff \")"
   ]
  },
  {
   "cell_type": "code",
   "execution_count": 3,
   "metadata": {
    "collapsed": true
   },
   "outputs": [],
   "source": [
    "parser=bs4.BeautifulSoup(req.text, 'lxml')"
   ]
  },
  {
   "cell_type": "code",
   "execution_count": 4,
   "metadata": {
    "collapsed": true
   },
   "outputs": [],
   "source": [
    "parse_header=parser.find(\"h1\")"
   ]
  },
  {
   "cell_type": "code",
   "execution_count": 5,
   "metadata": {},
   "outputs": [
    {
     "name": "stdout",
     "output_type": "stream",
     "text": [
      "Bias–variance tradeoff\n"
     ]
    }
   ],
   "source": [
    "print parse_header.text"
   ]
  },
  {
   "cell_type": "code",
   "execution_count": 6,
   "metadata": {
    "collapsed": true
   },
   "outputs": [],
   "source": [
    "headers=[]\n",
    "parse_headers=parser.findAll(\"h2\")\n",
    "for header in parse_headers:\n",
    "    headers.append(header)"
   ]
  },
  {
   "cell_type": "code",
   "execution_count": 12,
   "metadata": {},
   "outputs": [
    {
     "name": "stdout",
     "output_type": "stream",
     "text": [
      "Contents\n",
      "Motivation\n",
      "Bias–variance decomposition of squared error\n",
      "Application to regression\n",
      "Application to classification\n",
      "Approaches\n",
      "Application to human learning\n",
      "See also\n",
      "References\n",
      "External links\n"
     ]
    }
   ],
   "source": [
    "for header in headers:\n",
    "    if header.text==\"Navigation menu\":\n",
    "        break\n",
    "    print header.text.replace(\"[edit]\",\"\")"
   ]
  },
  {
   "cell_type": "markdown",
   "metadata": {},
   "source": [
    "Распарсить со страницы https://en.wikipedia.org/wiki/Category:Machine_learning_algorithms названия всех статей в категории Machine Learning Algorithms."
   ]
  },
  {
   "cell_type": "code",
   "execution_count": 13,
   "metadata": {
    "collapsed": true
   },
   "outputs": [],
   "source": [
    "req=requests.get(\"https://en.wikipedia.org/wiki/Category:Machine_learning_algorithms\")"
   ]
  },
  {
   "cell_type": "code",
   "execution_count": 14,
   "metadata": {
    "collapsed": true
   },
   "outputs": [],
   "source": [
    "parser=bs4.BeautifulSoup(req.text, 'lxml')"
   ]
  },
  {
   "cell_type": "code",
   "execution_count": 15,
   "metadata": {
    "collapsed": true
   },
   "outputs": [],
   "source": [
    "li=parser.findAll(\"li\")"
   ]
  },
  {
   "cell_type": "code",
   "execution_count": 16,
   "metadata": {},
   "outputs": [
    {
     "name": "stdout",
     "output_type": "stream",
     "text": [
      "Algorithms of Oppression\n",
      "Almeida–Pineda recurrent backpropagation\n",
      "Backpropagation\n",
      "Bootstrap aggregating\n",
      "CN2 algorithm\n",
      "Constructing skill trees\n",
      "Dehaene–Changeux model\n",
      "Diffusion map\n",
      "Dominance-based rough set approach\n",
      "Dynamic time warping\n",
      "Error-driven learning\n",
      "Evolutionary multimodal optimization\n",
      "Expectation–maximization algorithm\n",
      "FastICA\n",
      "Forward–backward algorithm\n",
      "GeneRec\n",
      "Genetic Algorithm for Rule Set Production\n",
      "Growing self-organizing map\n",
      "HEXQ\n",
      "Hyper basis function network\n",
      "IDistance\n",
      "K-nearest neighbors algorithm\n",
      "Kernel methods for vector output\n",
      "Kernel principal component analysis\n",
      "Leabra\n",
      "Linde–Buzo–Gray algorithm\n",
      "Local outlier factor\n",
      "Logic learning machine\n",
      "LogitBoost\n",
      "Loss functions for classification\n",
      "Manifold alignment\n",
      "Minimum redundancy feature selection\n",
      "Mixture of experts\n",
      "Multiple kernel learning\n",
      "Non-negative matrix factorization\n",
      "Online machine learning\n",
      "Out-of-bag error\n",
      "Prefrontal cortex basal ganglia working memory\n",
      "PVLV\n",
      "Q-learning\n",
      "Quadratic unconstrained binary optimization\n",
      "Query-level feature\n",
      "Quickprop\n",
      "Radial basis function network\n",
      "Randomized weighted majority algorithm\n",
      "Reinforcement learning\n",
      "Repeated incremental pruning to produce error reduction (RIPPER)\n",
      "Rprop\n",
      "Rule-based machine learning\n",
      "Skill chaining\n",
      "Sparse PCA\n",
      "State–action–reward–state–action\n",
      "Stochastic gradient descent\n",
      "Structured kNN\n",
      "T-distributed stochastic neighbor embedding\n",
      "Temporal difference learning\n",
      "Wake-sleep algorithm\n",
      "Weighted majority algorithm (machine learning)\n"
     ]
    }
   ],
   "source": [
    "for text in li:\n",
    "    if \"Genetic algorithms\" in text.text:\n",
    "        continue\n",
    "    if text.text==\"Machine learning\":\n",
    "        break\n",
    "    print text.text"
   ]
  },
  {
   "cell_type": "code",
   "execution_count": null,
   "metadata": {
    "collapsed": true
   },
   "outputs": [],
   "source": []
  }
 ],
 "metadata": {
  "kernelspec": {
   "display_name": "Python 2",
   "language": "python",
   "name": "python2"
  },
  "language_info": {
   "codemirror_mode": {
    "name": "ipython",
    "version": 2
   },
   "file_extension": ".py",
   "mimetype": "text/x-python",
   "name": "python",
   "nbconvert_exporter": "python",
   "pygments_lexer": "ipython2",
   "version": "2.7.14"
  }
 },
 "nbformat": 4,
 "nbformat_minor": 2
}
