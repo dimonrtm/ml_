{
 "cells": [
  {
   "cell_type": "code",
   "execution_count": 1,
   "metadata": {
    "collapsed": true
   },
   "outputs": [],
   "source": [
    "import pandas as pd\n",
    "import numpy as np"
   ]
  },
  {
   "cell_type": "code",
   "execution_count": 3,
   "metadata": {},
   "outputs": [],
   "source": [
    "data=pd.read_csv(\"water.txt\",sep=\"\\t\")"
   ]
  },
  {
   "cell_type": "code",
   "execution_count": 4,
   "metadata": {},
   "outputs": [
    {
     "data": {
      "text/html": [
       "<div>\n",
       "<style>\n",
       "    .dataframe thead tr:only-child th {\n",
       "        text-align: right;\n",
       "    }\n",
       "\n",
       "    .dataframe thead th {\n",
       "        text-align: left;\n",
       "    }\n",
       "\n",
       "    .dataframe tbody tr th {\n",
       "        vertical-align: top;\n",
       "    }\n",
       "</style>\n",
       "<table border=\"1\" class=\"dataframe\">\n",
       "  <thead>\n",
       "    <tr style=\"text-align: right;\">\n",
       "      <th></th>\n",
       "      <th>location</th>\n",
       "      <th>town</th>\n",
       "      <th>mortality</th>\n",
       "      <th>hardness</th>\n",
       "    </tr>\n",
       "  </thead>\n",
       "  <tbody>\n",
       "    <tr>\n",
       "      <th>0</th>\n",
       "      <td>South</td>\n",
       "      <td>Bath</td>\n",
       "      <td>1247</td>\n",
       "      <td>105</td>\n",
       "    </tr>\n",
       "    <tr>\n",
       "      <th>1</th>\n",
       "      <td>North</td>\n",
       "      <td>Birkenhead</td>\n",
       "      <td>1668</td>\n",
       "      <td>17</td>\n",
       "    </tr>\n",
       "    <tr>\n",
       "      <th>2</th>\n",
       "      <td>South</td>\n",
       "      <td>Birmingham</td>\n",
       "      <td>1466</td>\n",
       "      <td>5</td>\n",
       "    </tr>\n",
       "    <tr>\n",
       "      <th>3</th>\n",
       "      <td>North</td>\n",
       "      <td>Blackburn</td>\n",
       "      <td>1800</td>\n",
       "      <td>14</td>\n",
       "    </tr>\n",
       "    <tr>\n",
       "      <th>4</th>\n",
       "      <td>North</td>\n",
       "      <td>Blackpool</td>\n",
       "      <td>1609</td>\n",
       "      <td>18</td>\n",
       "    </tr>\n",
       "  </tbody>\n",
       "</table>\n",
       "</div>"
      ],
      "text/plain": [
       "  location        town  mortality  hardness\n",
       "0    South        Bath       1247       105\n",
       "1    North  Birkenhead       1668        17\n",
       "2    South  Birmingham       1466         5\n",
       "3    North   Blackburn       1800        14\n",
       "4    North   Blackpool       1609        18"
      ]
     },
     "execution_count": 4,
     "metadata": {},
     "output_type": "execute_result"
    }
   ],
   "source": [
    "data.head()"
   ]
  },
  {
   "cell_type": "code",
   "execution_count": 7,
   "metadata": {
    "collapsed": true
   },
   "outputs": [],
   "source": [
    "mortality_mean=data[\"mortality\"].mean()\n",
    "mortality_std=data[\"mortality\"].std(ddof=1)"
   ]
  },
  {
   "cell_type": "code",
   "execution_count": 8,
   "metadata": {},
   "outputs": [
    {
     "name": "stdout",
     "output_type": "stream",
     "text": [
      "1524.14754098\n",
      "187.668753931\n"
     ]
    }
   ],
   "source": [
    "print mortality_mean\n",
    "print mortality_std"
   ]
  },
  {
   "cell_type": "code",
   "execution_count": 9,
   "metadata": {
    "collapsed": true
   },
   "outputs": [],
   "source": [
    "from statsmodels.stats.weightstats import _tconfint_generic"
   ]
  },
  {
   "cell_type": "code",
   "execution_count": 15,
   "metadata": {},
   "outputs": [
    {
     "data": {
      "text/plain": [
       "(1476.0833413552848, 1572.2117406119285)"
      ]
     },
     "execution_count": 15,
     "metadata": {},
     "output_type": "execute_result"
    }
   ],
   "source": [
    "mortality_mean_std=mortality_std/np.sqrt(data[\"mortality\"].shape[0])\n",
    "_tconfint_generic(mortality_mean,mortality_mean_std,data[\"mortality\"].shape[0]-1,0.05,\"two-sided\")"
   ]
  },
  {
   "cell_type": "code",
   "execution_count": 18,
   "metadata": {},
   "outputs": [
    {
     "name": "stdout",
     "output_type": "stream",
     "text": [
      "   location         town  mortality  hardness\n",
      "0     South         Bath       1247       105\n",
      "2     South   Birmingham       1466         5\n",
      "7     South  Bournemouth       1299        78\n",
      "9     South     Brighton       1359        84\n",
      "10    South      Bristol       1392        73\n"
     ]
    }
   ],
   "source": [
    "data_south=data[data[\"location\"]==\"South\"]\n",
    "print data_south.head()"
   ]
  },
  {
   "cell_type": "code",
   "execution_count": 19,
   "metadata": {},
   "outputs": [
    {
     "name": "stdout",
     "output_type": "stream",
     "text": [
      "1376.80769231\n",
      "140.269175297\n"
     ]
    }
   ],
   "source": [
    "mortality_south_mean=data_south[\"mortality\"].mean()\n",
    "mortality_south_std=data_south[\"mortality\"].std(ddof=1)\n",
    "print mortality_south_mean\n",
    "print mortality_south_std"
   ]
  },
  {
   "cell_type": "code",
   "execution_count": 20,
   "metadata": {},
   "outputs": [
    {
     "data": {
      "text/plain": [
       "(1320.1517462936238, 1433.463638321761)"
      ]
     },
     "execution_count": 20,
     "metadata": {},
     "output_type": "execute_result"
    }
   ],
   "source": [
    "mortality_south_mean_std=mortality_south_std/np.sqrt(data_south[\"mortality\"].shape[0])\n",
    "_tconfint_generic(mortality_south_mean,mortality_south_mean_std,data_south[\"mortality\"].shape[0]-1,0.05,\"two-sided\")"
   ]
  },
  {
   "cell_type": "code",
   "execution_count": 22,
   "metadata": {},
   "outputs": [
    {
     "name": "stdout",
     "output_type": "stream",
     "text": [
      "  location        town  mortality  hardness\n",
      "1    North  Birkenhead       1668        17\n",
      "3    North   Blackburn       1800        14\n",
      "4    North   Blackpool       1609        18\n",
      "5    North      Bolton       1558        10\n",
      "6    North      Bootle       1807        15\n"
     ]
    }
   ],
   "source": [
    "data_north=data[data[\"location\"]==\"North\"]\n",
    "print data_north.head()"
   ]
  },
  {
   "cell_type": "code",
   "execution_count": 25,
   "metadata": {},
   "outputs": [
    {
     "name": "stdout",
     "output_type": "stream",
     "text": [
      "1633.6\n",
      "136.936911193\n"
     ]
    }
   ],
   "source": [
    "mortality_north_mean=data_north[\"mortality\"].mean()\n",
    "mortality_north_std=data_north[\"mortality\"].std(ddof=1)\n",
    "print mortality_north_mean\n",
    "print mortality_north_std"
   ]
  },
  {
   "cell_type": "code",
   "execution_count": 26,
   "metadata": {},
   "outputs": [
    {
     "data": {
      "text/plain": [
       "(1586.5605251961385, 1680.6394748038613)"
      ]
     },
     "execution_count": 26,
     "metadata": {},
     "output_type": "execute_result"
    }
   ],
   "source": [
    "mortality_north_mean_std=mortality_north_std/np.sqrt(data_north[\"mortality\"].shape[0])\n",
    "_tconfint_generic(mortality_north_mean,mortality_north_mean_std,data_north[\"mortality\"].shape[0]-1,0.05,\"two-sided\")"
   ]
  },
  {
   "cell_type": "code",
   "execution_count": 28,
   "metadata": {},
   "outputs": [
    {
     "name": "stdout",
     "output_type": "stream",
     "text": [
      "69.7692307692\n",
      "40.3606815525\n"
     ]
    }
   ],
   "source": [
    "hardness_south_mean=data_south[\"hardness\"].mean()\n",
    "hardness_south_std=data_south[\"hardness\"].std(ddof=1)\n",
    "print hardness_south_mean\n",
    "print hardness_south_std"
   ]
  },
  {
   "cell_type": "code",
   "execution_count": 29,
   "metadata": {},
   "outputs": [
    {
     "data": {
      "text/plain": [
       "(53.467198692036106, 86.071262846425441)"
      ]
     },
     "execution_count": 29,
     "metadata": {},
     "output_type": "execute_result"
    }
   ],
   "source": [
    "hardness_south_mean_std=hardness_south_std/np.sqrt(data_south[\"hardness\"].shape[0])\n",
    "_tconfint_generic(hardness_south_mean,hardness_south_mean_std,data_south[\"hardness\"].shape[0]-1,0.05,\"two-sided\")"
   ]
  },
  {
   "cell_type": "code",
   "execution_count": 30,
   "metadata": {},
   "outputs": [
    {
     "name": "stdout",
     "output_type": "stream",
     "text": [
      "30.4\n",
      "26.1344937718\n"
     ]
    }
   ],
   "source": [
    "hardness_north_mean=data_north[\"hardness\"].mean()\n",
    "hardness_north_std=data_north[\"hardness\"].std(ddof=1)\n",
    "print hardness_north_mean\n",
    "print hardness_north_std"
   ]
  },
  {
   "cell_type": "code",
   "execution_count": 31,
   "metadata": {},
   "outputs": [
    {
     "data": {
      "text/plain": [
       "(21.422487285724259, 39.377512714275738)"
      ]
     },
     "execution_count": 31,
     "metadata": {},
     "output_type": "execute_result"
    }
   ],
   "source": [
    "hardness_north_mean_std=hardness_north_std/np.sqrt(data_north[\"hardness\"].shape[0])\n",
    "_tconfint_generic(hardness_north_mean,hardness_north_mean_std,data_north[\"hardness\"].shape[0]-1,0.05,\"two-sided\")"
   ]
  },
  {
   "cell_type": "code",
   "execution_count": null,
   "metadata": {
    "collapsed": true
   },
   "outputs": [],
   "source": []
  }
 ],
 "metadata": {
  "kernelspec": {
   "display_name": "Python 2",
   "language": "python",
   "name": "python2"
  },
  "language_info": {
   "codemirror_mode": {
    "name": "ipython",
    "version": 2
   },
   "file_extension": ".py",
   "mimetype": "text/x-python",
   "name": "python",
   "nbconvert_exporter": "python",
   "pygments_lexer": "ipython2",
   "version": "2.7.14"
  }
 },
 "nbformat": 4,
 "nbformat_minor": 2
}
