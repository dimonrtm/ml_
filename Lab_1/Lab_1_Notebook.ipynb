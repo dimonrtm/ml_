{
 "cells": [
  {
   "cell_type": "code",
   "execution_count": 1,
   "metadata": {
    "collapsed": true
   },
   "outputs": [],
   "source": [
    "import pandas as pd\n",
    "import numpy as np\n",
    "import matplotlib.pyplot as plt\n",
    "%matplotlib inline"
   ]
  },
  {
   "cell_type": "code",
   "execution_count": 2,
   "metadata": {
    "collapsed": true
   },
   "outputs": [],
   "source": [
    "data=pd.read_csv(\"carbon_nanotubes.csv\",sep=\";\",decimal=\",\")"
   ]
  },
  {
   "cell_type": "code",
   "execution_count": 3,
   "metadata": {},
   "outputs": [
    {
     "data": {
      "text/html": [
       "<div>\n",
       "<style>\n",
       "    .dataframe thead tr:only-child th {\n",
       "        text-align: right;\n",
       "    }\n",
       "\n",
       "    .dataframe thead th {\n",
       "        text-align: left;\n",
       "    }\n",
       "\n",
       "    .dataframe tbody tr th {\n",
       "        vertical-align: top;\n",
       "    }\n",
       "</style>\n",
       "<table border=\"1\" class=\"dataframe\">\n",
       "  <thead>\n",
       "    <tr style=\"text-align: right;\">\n",
       "      <th></th>\n",
       "      <th>Chiral indice n</th>\n",
       "      <th>Chiral indice m</th>\n",
       "      <th>Initial atomic coordinate u</th>\n",
       "      <th>Initial atomic coordinate v</th>\n",
       "      <th>Initial atomic coordinate w</th>\n",
       "      <th>Calculated atomic coordinates u'</th>\n",
       "      <th>Calculated atomic coordinates v'</th>\n",
       "      <th>Calculated atomic coordinates w'</th>\n",
       "    </tr>\n",
       "  </thead>\n",
       "  <tbody>\n",
       "    <tr>\n",
       "      <th>0</th>\n",
       "      <td>2</td>\n",
       "      <td>1</td>\n",
       "      <td>0.679005</td>\n",
       "      <td>0.701318</td>\n",
       "      <td>0.017033</td>\n",
       "      <td>0.721039</td>\n",
       "      <td>0.730232</td>\n",
       "      <td>0.017014</td>\n",
       "    </tr>\n",
       "    <tr>\n",
       "      <th>1</th>\n",
       "      <td>2</td>\n",
       "      <td>1</td>\n",
       "      <td>0.717298</td>\n",
       "      <td>0.642129</td>\n",
       "      <td>0.231319</td>\n",
       "      <td>0.738414</td>\n",
       "      <td>0.656750</td>\n",
       "      <td>0.232369</td>\n",
       "    </tr>\n",
       "    <tr>\n",
       "      <th>2</th>\n",
       "      <td>2</td>\n",
       "      <td>1</td>\n",
       "      <td>0.489336</td>\n",
       "      <td>0.303751</td>\n",
       "      <td>0.088462</td>\n",
       "      <td>0.477676</td>\n",
       "      <td>0.263221</td>\n",
       "      <td>0.088712</td>\n",
       "    </tr>\n",
       "    <tr>\n",
       "      <th>3</th>\n",
       "      <td>2</td>\n",
       "      <td>1</td>\n",
       "      <td>0.413957</td>\n",
       "      <td>0.632996</td>\n",
       "      <td>0.040843</td>\n",
       "      <td>0.408823</td>\n",
       "      <td>0.657897</td>\n",
       "      <td>0.039796</td>\n",
       "    </tr>\n",
       "    <tr>\n",
       "      <th>4</th>\n",
       "      <td>2</td>\n",
       "      <td>1</td>\n",
       "      <td>0.334292</td>\n",
       "      <td>0.543401</td>\n",
       "      <td>0.159890</td>\n",
       "      <td>0.303349</td>\n",
       "      <td>0.558807</td>\n",
       "      <td>0.157373</td>\n",
       "    </tr>\n",
       "  </tbody>\n",
       "</table>\n",
       "</div>"
      ],
      "text/plain": [
       "   Chiral indice n  Chiral indice m  Initial atomic coordinate u  \\\n",
       "0                2                1                     0.679005   \n",
       "1                2                1                     0.717298   \n",
       "2                2                1                     0.489336   \n",
       "3                2                1                     0.413957   \n",
       "4                2                1                     0.334292   \n",
       "\n",
       "   Initial atomic coordinate v  Initial atomic coordinate w  \\\n",
       "0                     0.701318                     0.017033   \n",
       "1                     0.642129                     0.231319   \n",
       "2                     0.303751                     0.088462   \n",
       "3                     0.632996                     0.040843   \n",
       "4                     0.543401                     0.159890   \n",
       "\n",
       "   Calculated atomic coordinates u'  Calculated atomic coordinates v'  \\\n",
       "0                          0.721039                          0.730232   \n",
       "1                          0.738414                          0.656750   \n",
       "2                          0.477676                          0.263221   \n",
       "3                          0.408823                          0.657897   \n",
       "4                          0.303349                          0.558807   \n",
       "\n",
       "   Calculated atomic coordinates w'  \n",
       "0                          0.017014  \n",
       "1                          0.232369  \n",
       "2                          0.088712  \n",
       "3                          0.039796  \n",
       "4                          0.157373  "
      ]
     },
     "execution_count": 3,
     "metadata": {},
     "output_type": "execute_result"
    }
   ],
   "source": [
    "data.head()"
   ]
  },
  {
   "cell_type": "code",
   "execution_count": 4,
   "metadata": {},
   "outputs": [
    {
     "name": "stdout",
     "output_type": "stream",
     "text": [
      "<class 'pandas.core.frame.DataFrame'>\n",
      "RangeIndex: 10721 entries, 0 to 10720\n",
      "Data columns (total 8 columns):\n",
      "Chiral indice n                     10721 non-null int64\n",
      "Chiral indice m                     10721 non-null int64\n",
      "Initial atomic coordinate u         10721 non-null float64\n",
      "Initial atomic coordinate v         10721 non-null float64\n",
      "Initial atomic coordinate w         10721 non-null float64\n",
      "Calculated atomic coordinates u'    10721 non-null float64\n",
      "Calculated atomic coordinates v'    10721 non-null float64\n",
      "Calculated atomic coordinates w'    10721 non-null float64\n",
      "dtypes: float64(6), int64(2)\n",
      "memory usage: 670.1 KB\n"
     ]
    }
   ],
   "source": [
    "data.info()"
   ]
  },
  {
   "cell_type": "code",
   "execution_count": 5,
   "metadata": {
    "collapsed": true
   },
   "outputs": [],
   "source": [
    "data_train=data.iloc[:7505]\n",
    "data_test=data.iloc[7505:]"
   ]
  },
  {
   "cell_type": "code",
   "execution_count": 6,
   "metadata": {},
   "outputs": [
    {
     "data": {
      "text/html": [
       "<div>\n",
       "<style>\n",
       "    .dataframe thead tr:only-child th {\n",
       "        text-align: right;\n",
       "    }\n",
       "\n",
       "    .dataframe thead th {\n",
       "        text-align: left;\n",
       "    }\n",
       "\n",
       "    .dataframe tbody tr th {\n",
       "        vertical-align: top;\n",
       "    }\n",
       "</style>\n",
       "<table border=\"1\" class=\"dataframe\">\n",
       "  <thead>\n",
       "    <tr style=\"text-align: right;\">\n",
       "      <th></th>\n",
       "      <th>Chiral indice n</th>\n",
       "      <th>Chiral indice m</th>\n",
       "      <th>Initial atomic coordinate u</th>\n",
       "      <th>Initial atomic coordinate v</th>\n",
       "      <th>Initial atomic coordinate w</th>\n",
       "      <th>Calculated atomic coordinates u'</th>\n",
       "      <th>Calculated atomic coordinates v'</th>\n",
       "      <th>Calculated atomic coordinates w'</th>\n",
       "    </tr>\n",
       "  </thead>\n",
       "  <tbody>\n",
       "    <tr>\n",
       "      <th>7505</th>\n",
       "      <td>9</td>\n",
       "      <td>6</td>\n",
       "      <td>0.069749</td>\n",
       "      <td>0.228771</td>\n",
       "      <td>0.500057</td>\n",
       "      <td>0.066085</td>\n",
       "      <td>0.229929</td>\n",
       "      <td>0.499755</td>\n",
       "    </tr>\n",
       "    <tr>\n",
       "      <th>7506</th>\n",
       "      <td>9</td>\n",
       "      <td>6</td>\n",
       "      <td>0.099535</td>\n",
       "      <td>0.447097</td>\n",
       "      <td>0.482513</td>\n",
       "      <td>0.095297</td>\n",
       "      <td>0.450800</td>\n",
       "      <td>0.482622</td>\n",
       "    </tr>\n",
       "    <tr>\n",
       "      <th>7507</th>\n",
       "      <td>9</td>\n",
       "      <td>6</td>\n",
       "      <td>0.083251</td>\n",
       "      <td>0.399908</td>\n",
       "      <td>0.552688</td>\n",
       "      <td>0.079244</td>\n",
       "      <td>0.401988</td>\n",
       "      <td>0.552679</td>\n",
       "    </tr>\n",
       "    <tr>\n",
       "      <th>7508</th>\n",
       "      <td>9</td>\n",
       "      <td>6</td>\n",
       "      <td>0.109515</td>\n",
       "      <td>0.470968</td>\n",
       "      <td>0.614092</td>\n",
       "      <td>0.107773</td>\n",
       "      <td>0.473524</td>\n",
       "      <td>0.614386</td>\n",
       "    </tr>\n",
       "    <tr>\n",
       "      <th>7509</th>\n",
       "      <td>9</td>\n",
       "      <td>6</td>\n",
       "      <td>0.090772</td>\n",
       "      <td>0.423386</td>\n",
       "      <td>0.684267</td>\n",
       "      <td>0.088102</td>\n",
       "      <td>0.424849</td>\n",
       "      <td>0.684493</td>\n",
       "    </tr>\n",
       "  </tbody>\n",
       "</table>\n",
       "</div>"
      ],
      "text/plain": [
       "      Chiral indice n  Chiral indice m  Initial atomic coordinate u  \\\n",
       "7505                9                6                     0.069749   \n",
       "7506                9                6                     0.099535   \n",
       "7507                9                6                     0.083251   \n",
       "7508                9                6                     0.109515   \n",
       "7509                9                6                     0.090772   \n",
       "\n",
       "      Initial atomic coordinate v  Initial atomic coordinate w  \\\n",
       "7505                     0.228771                     0.500057   \n",
       "7506                     0.447097                     0.482513   \n",
       "7507                     0.399908                     0.552688   \n",
       "7508                     0.470968                     0.614092   \n",
       "7509                     0.423386                     0.684267   \n",
       "\n",
       "      Calculated atomic coordinates u'  Calculated atomic coordinates v'  \\\n",
       "7505                          0.066085                          0.229929   \n",
       "7506                          0.095297                          0.450800   \n",
       "7507                          0.079244                          0.401988   \n",
       "7508                          0.107773                          0.473524   \n",
       "7509                          0.088102                          0.424849   \n",
       "\n",
       "      Calculated atomic coordinates w'  \n",
       "7505                          0.499755  \n",
       "7506                          0.482622  \n",
       "7507                          0.552679  \n",
       "7508                          0.614386  \n",
       "7509                          0.684493  "
      ]
     },
     "execution_count": 6,
     "metadata": {},
     "output_type": "execute_result"
    }
   ],
   "source": [
    "data_test.head()"
   ]
  },
  {
   "cell_type": "code",
   "execution_count": null,
   "metadata": {
    "collapsed": true
   },
   "outputs": [],
   "source": []
  },
  {
   "cell_type": "code",
   "execution_count": 7,
   "metadata": {
    "collapsed": true
   },
   "outputs": [],
   "source": [
    "X_train=data_train[[\"Chiral indice n\",\"Chiral indice m\",\"Initial atomic coordinate u\",\n",
    "                   \"Initial atomic coordinate v\",\"Initial atomic coordinate w\"]].astype(float)\n",
    "y_train=data_train[[\"Calculated atomic coordinates u'\",\"Calculated atomic coordinates v'\",\n",
    "                   \"Calculated atomic coordinates w'\"]].astype(float)"
   ]
  },
  {
   "cell_type": "code",
   "execution_count": 8,
   "metadata": {
    "collapsed": true
   },
   "outputs": [],
   "source": [
    "X_test=data_test[[\"Chiral indice n\",\"Chiral indice m\",\"Initial atomic coordinate u\",\n",
    "                   \"Initial atomic coordinate v\",\"Initial atomic coordinate w\"]].astype(float)\n",
    "y_test=data_test[[\"Calculated atomic coordinates u'\",\"Calculated atomic coordinates v'\",\n",
    "                   \"Calculated atomic coordinates w'\"]].astype(float)"
   ]
  },
  {
   "cell_type": "code",
   "execution_count": 10,
   "metadata": {
    "collapsed": true
   },
   "outputs": [],
   "source": [
    "from sklearn.model_selection import train_test_split\n",
    "from sklearn.ensemble import RandomForestRegressor\n",
    "from sklearn.multioutput import MultiOutputRegressor\n",
    "from sklearn.model_selection import cross_val_score\n",
    "from sklearn.linear_model import Ridge,Lasso\n",
    "from sklearn.metrics import mean_absolute_error\n",
    "from sklearn.neighbors import KNeighborsRegressor"
   ]
  },
  {
   "cell_type": "code",
   "execution_count": 13,
   "metadata": {},
   "outputs": [
    {
     "name": "stdout",
     "output_type": "stream",
     "text": [
      "-0.0533961907461\n"
     ]
    }
   ],
   "source": [
    "regressor=MultiOutputRegressor(KNeighborsRegressor(n_neighbors=2))\n",
    "scores=cross_val_score(regressor,X_train,y_train,scoring=\"neg_mean_absolute_error\",cv=3)\n",
    "print(scores.mean())"
   ]
  },
  {
   "cell_type": "code",
   "execution_count": 11,
   "metadata": {},
   "outputs": [
    {
     "name": "stdout",
     "output_type": "stream",
     "text": [
      "-0.00250264535642\n"
     ]
    }
   ],
   "source": [
    "regressor=MultiOutputRegressor(RandomForestRegressor(n_estimators=20,random_state=49))\n",
    "scores=cross_val_score(regressor,X_train,y_train,scoring=\"neg_mean_absolute_error\",cv=3)\n",
    "print(scores.mean())"
   ]
  },
  {
   "cell_type": "code",
   "execution_count": 12,
   "metadata": {},
   "outputs": [
    {
     "name": "stdout",
     "output_type": "stream",
     "text": [
      "-0.00223618076619\n"
     ]
    }
   ],
   "source": [
    "regressor=MultiOutputRegressor(Ridge(alpha=0.01,random_state=49))\n",
    "scores=cross_val_score(regressor,X_train,y_train,scoring=\"neg_mean_absolute_error\",cv=3)\n",
    "print(scores.mean())"
   ]
  },
  {
   "cell_type": "code",
   "execution_count": 13,
   "metadata": {},
   "outputs": [
    {
     "name": "stdout",
     "output_type": "stream",
     "text": [
      "-0.0037455826584\n"
     ]
    }
   ],
   "source": [
    "regressor=MultiOutputRegressor(Lasso(alpha=0.001,random_state=49))\n",
    "scores=cross_val_score(regressor,X_train,y_train,scoring=\"neg_mean_absolute_error\",cv=3)\n",
    "print(scores.mean())"
   ]
  },
  {
   "cell_type": "code",
   "execution_count": 14,
   "metadata": {},
   "outputs": [
    {
     "data": {
      "text/plain": [
       "MultiOutputRegressor(estimator=Ridge(alpha=0.01, copy_X=True, fit_intercept=True, max_iter=None,\n",
       "   normalize=False, random_state=49, solver='auto', tol=0.001),\n",
       "           n_jobs=1)"
      ]
     },
     "execution_count": 14,
     "metadata": {},
     "output_type": "execute_result"
    }
   ],
   "source": [
    "regressor=MultiOutputRegressor(Ridge(alpha=0.01,random_state=49))\n",
    "regressor.fit(X_train,y_train)"
   ]
  },
  {
   "cell_type": "code",
   "execution_count": 15,
   "metadata": {
    "collapsed": true
   },
   "outputs": [],
   "source": [
    "prediction=regressor.predict(X_test)"
   ]
  },
  {
   "cell_type": "code",
   "execution_count": 16,
   "metadata": {},
   "outputs": [
    {
     "name": "stdout",
     "output_type": "stream",
     "text": [
      "0.00257736170156\n"
     ]
    }
   ],
   "source": [
    "print(mean_absolute_error(y_test.iloc[:,0],prediction[:,0]))"
   ]
  },
  {
   "cell_type": "code",
   "execution_count": 17,
   "metadata": {},
   "outputs": [
    {
     "name": "stdout",
     "output_type": "stream",
     "text": [
      "0.00222067768854\n"
     ]
    }
   ],
   "source": [
    "print(mean_absolute_error(y_test.iloc[:,1],prediction[:,1]))"
   ]
  },
  {
   "cell_type": "code",
   "execution_count": 18,
   "metadata": {},
   "outputs": [
    {
     "name": "stdout",
     "output_type": "stream",
     "text": [
      "0.00130204428382\n"
     ]
    }
   ],
   "source": [
    "print(mean_absolute_error(y_test.iloc[:,2],prediction[:,2]))"
   ]
  },
  {
   "cell_type": "code",
   "execution_count": null,
   "metadata": {
    "collapsed": true
   },
   "outputs": [],
   "source": []
  },
  {
   "cell_type": "code",
   "execution_count": null,
   "metadata": {
    "collapsed": true
   },
   "outputs": [],
   "source": []
  }
 ],
 "metadata": {
  "kernelspec": {
   "display_name": "Python 3",
   "language": "python",
   "name": "python3"
  },
  "language_info": {
   "codemirror_mode": {
    "name": "ipython",
    "version": 3
   },
   "file_extension": ".py",
   "mimetype": "text/x-python",
   "name": "python",
   "nbconvert_exporter": "python",
   "pygments_lexer": "ipython3",
   "version": "3.6.3"
  }
 },
 "nbformat": 4,
 "nbformat_minor": 2
}
