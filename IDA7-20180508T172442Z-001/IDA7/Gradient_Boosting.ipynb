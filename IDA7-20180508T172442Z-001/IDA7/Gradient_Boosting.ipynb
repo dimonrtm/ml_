{
 "cells": [
  {
   "cell_type": "code",
   "execution_count": 39,
   "metadata": {
    "collapsed": true
   },
   "outputs": [],
   "source": [
    "import pandas as pd\n",
    "import numpy as np\n",
    "import scipy as sp\n",
    "from sklearn.ensemble import GradientBoostingClassifier,RandomForestClassifier\n",
    "from sklearn.model_selection import train_test_split\n",
    "from sklearn.metrics import log_loss\n",
    "import matplotlib.pyplot as plt\n",
    "import math\n",
    "%matplotlib inline"
   ]
  },
  {
   "cell_type": "code",
   "execution_count": 2,
   "metadata": {
    "collapsed": true
   },
   "outputs": [],
   "source": [
    "data=pd.read_csv(\"gbm-data.csv\")"
   ]
  },
  {
   "cell_type": "code",
   "execution_count": 3,
   "metadata": {},
   "outputs": [
    {
     "data": {
      "text/html": [
       "<div>\n",
       "<style>\n",
       "    .dataframe thead tr:only-child th {\n",
       "        text-align: right;\n",
       "    }\n",
       "\n",
       "    .dataframe thead th {\n",
       "        text-align: left;\n",
       "    }\n",
       "\n",
       "    .dataframe tbody tr th {\n",
       "        vertical-align: top;\n",
       "    }\n",
       "</style>\n",
       "<table border=\"1\" class=\"dataframe\">\n",
       "  <thead>\n",
       "    <tr style=\"text-align: right;\">\n",
       "      <th></th>\n",
       "      <th>Activity</th>\n",
       "      <th>D1</th>\n",
       "      <th>D2</th>\n",
       "      <th>D3</th>\n",
       "      <th>D4</th>\n",
       "      <th>D5</th>\n",
       "      <th>D6</th>\n",
       "      <th>D7</th>\n",
       "      <th>D8</th>\n",
       "      <th>D9</th>\n",
       "      <th>...</th>\n",
       "      <th>D1767</th>\n",
       "      <th>D1768</th>\n",
       "      <th>D1769</th>\n",
       "      <th>D1770</th>\n",
       "      <th>D1771</th>\n",
       "      <th>D1772</th>\n",
       "      <th>D1773</th>\n",
       "      <th>D1774</th>\n",
       "      <th>D1775</th>\n",
       "      <th>D1776</th>\n",
       "    </tr>\n",
       "  </thead>\n",
       "  <tbody>\n",
       "    <tr>\n",
       "      <th>0</th>\n",
       "      <td>1</td>\n",
       "      <td>0.000000</td>\n",
       "      <td>0.497009</td>\n",
       "      <td>0.10</td>\n",
       "      <td>0.0</td>\n",
       "      <td>0.132956</td>\n",
       "      <td>0.678031</td>\n",
       "      <td>0.273166</td>\n",
       "      <td>0.585445</td>\n",
       "      <td>0.743663</td>\n",
       "      <td>...</td>\n",
       "      <td>0</td>\n",
       "      <td>0</td>\n",
       "      <td>0</td>\n",
       "      <td>0</td>\n",
       "      <td>0</td>\n",
       "      <td>0</td>\n",
       "      <td>0</td>\n",
       "      <td>0</td>\n",
       "      <td>0</td>\n",
       "      <td>0</td>\n",
       "    </tr>\n",
       "    <tr>\n",
       "      <th>1</th>\n",
       "      <td>1</td>\n",
       "      <td>0.366667</td>\n",
       "      <td>0.606291</td>\n",
       "      <td>0.05</td>\n",
       "      <td>0.0</td>\n",
       "      <td>0.111209</td>\n",
       "      <td>0.803455</td>\n",
       "      <td>0.106105</td>\n",
       "      <td>0.411754</td>\n",
       "      <td>0.836582</td>\n",
       "      <td>...</td>\n",
       "      <td>1</td>\n",
       "      <td>1</td>\n",
       "      <td>1</td>\n",
       "      <td>1</td>\n",
       "      <td>0</td>\n",
       "      <td>1</td>\n",
       "      <td>0</td>\n",
       "      <td>0</td>\n",
       "      <td>1</td>\n",
       "      <td>0</td>\n",
       "    </tr>\n",
       "    <tr>\n",
       "      <th>2</th>\n",
       "      <td>1</td>\n",
       "      <td>0.033300</td>\n",
       "      <td>0.480124</td>\n",
       "      <td>0.00</td>\n",
       "      <td>0.0</td>\n",
       "      <td>0.209791</td>\n",
       "      <td>0.610350</td>\n",
       "      <td>0.356453</td>\n",
       "      <td>0.517720</td>\n",
       "      <td>0.679051</td>\n",
       "      <td>...</td>\n",
       "      <td>0</td>\n",
       "      <td>0</td>\n",
       "      <td>0</td>\n",
       "      <td>0</td>\n",
       "      <td>0</td>\n",
       "      <td>0</td>\n",
       "      <td>0</td>\n",
       "      <td>0</td>\n",
       "      <td>0</td>\n",
       "      <td>0</td>\n",
       "    </tr>\n",
       "    <tr>\n",
       "      <th>3</th>\n",
       "      <td>1</td>\n",
       "      <td>0.000000</td>\n",
       "      <td>0.538825</td>\n",
       "      <td>0.00</td>\n",
       "      <td>0.5</td>\n",
       "      <td>0.196344</td>\n",
       "      <td>0.724230</td>\n",
       "      <td>0.235606</td>\n",
       "      <td>0.288764</td>\n",
       "      <td>0.805110</td>\n",
       "      <td>...</td>\n",
       "      <td>0</td>\n",
       "      <td>0</td>\n",
       "      <td>0</td>\n",
       "      <td>0</td>\n",
       "      <td>0</td>\n",
       "      <td>0</td>\n",
       "      <td>0</td>\n",
       "      <td>0</td>\n",
       "      <td>0</td>\n",
       "      <td>0</td>\n",
       "    </tr>\n",
       "    <tr>\n",
       "      <th>4</th>\n",
       "      <td>0</td>\n",
       "      <td>0.100000</td>\n",
       "      <td>0.517794</td>\n",
       "      <td>0.00</td>\n",
       "      <td>0.0</td>\n",
       "      <td>0.494734</td>\n",
       "      <td>0.781422</td>\n",
       "      <td>0.154361</td>\n",
       "      <td>0.303809</td>\n",
       "      <td>0.812646</td>\n",
       "      <td>...</td>\n",
       "      <td>0</td>\n",
       "      <td>0</td>\n",
       "      <td>0</td>\n",
       "      <td>0</td>\n",
       "      <td>0</td>\n",
       "      <td>0</td>\n",
       "      <td>0</td>\n",
       "      <td>0</td>\n",
       "      <td>0</td>\n",
       "      <td>0</td>\n",
       "    </tr>\n",
       "  </tbody>\n",
       "</table>\n",
       "<p>5 rows × 1777 columns</p>\n",
       "</div>"
      ],
      "text/plain": [
       "   Activity        D1        D2    D3   D4        D5        D6        D7  \\\n",
       "0         1  0.000000  0.497009  0.10  0.0  0.132956  0.678031  0.273166   \n",
       "1         1  0.366667  0.606291  0.05  0.0  0.111209  0.803455  0.106105   \n",
       "2         1  0.033300  0.480124  0.00  0.0  0.209791  0.610350  0.356453   \n",
       "3         1  0.000000  0.538825  0.00  0.5  0.196344  0.724230  0.235606   \n",
       "4         0  0.100000  0.517794  0.00  0.0  0.494734  0.781422  0.154361   \n",
       "\n",
       "         D8        D9  ...    D1767  D1768  D1769  D1770  D1771  D1772  D1773  \\\n",
       "0  0.585445  0.743663  ...        0      0      0      0      0      0      0   \n",
       "1  0.411754  0.836582  ...        1      1      1      1      0      1      0   \n",
       "2  0.517720  0.679051  ...        0      0      0      0      0      0      0   \n",
       "3  0.288764  0.805110  ...        0      0      0      0      0      0      0   \n",
       "4  0.303809  0.812646  ...        0      0      0      0      0      0      0   \n",
       "\n",
       "   D1774  D1775  D1776  \n",
       "0      0      0      0  \n",
       "1      0      1      0  \n",
       "2      0      0      0  \n",
       "3      0      0      0  \n",
       "4      0      0      0  \n",
       "\n",
       "[5 rows x 1777 columns]"
      ]
     },
     "execution_count": 3,
     "metadata": {},
     "output_type": "execute_result"
    }
   ],
   "source": [
    "data.head()"
   ]
  },
  {
   "cell_type": "code",
   "execution_count": 12,
   "metadata": {
    "collapsed": true
   },
   "outputs": [],
   "source": [
    "X=data.drop(\"Activity\",axis=1,inplace=False)\n",
    "y=data[\"Activity\"]"
   ]
  },
  {
   "cell_type": "code",
   "execution_count": 15,
   "metadata": {
    "collapsed": true
   },
   "outputs": [],
   "source": [
    "X_train,X_test,y_train,y_test=train_test_split(X,y,test_size=0.8,random_state=241)"
   ]
  },
  {
   "cell_type": "code",
   "execution_count": 26,
   "metadata": {
    "collapsed": true
   },
   "outputs": [],
   "source": [
    "def model_testing_learning_rate(learning_rate):\n",
    "    model=GradientBoostingClassifier(n_estimators=250,verbose=True,learning_rate=learning_rate,random_state=241)\n",
    "    model.fit(X_train,y_train)\n",
    "    train_log_loss_result=log_loss_result(model,X_train,y_train)\n",
    "    test_log_loss_result=log_loss_result(model,X_test,y_test)\n",
    "    plt.figure()\n",
    "    plt.plot(test_log_loss_result,'r',linewidth=2)\n",
    "    plt.plot(train_log_loss_result,'g',linewidth=2)\n",
    "    plt.legend([\"test\",\"train\"])\n",
    "    min_loss_value=min(test_log_loss_result)\n",
    "    min_loss_index=test_log_loss_result.index(min_loss_value)\n",
    "    return min_loss_value,min_loss_index"
   ]
  },
  {
   "cell_type": "code",
   "execution_count": 33,
   "metadata": {
    "collapsed": true
   },
   "outputs": [],
   "source": [
    "def sigmoid(y_pred):\n",
    "    return 1.0/(1.0+math.exp(-y_pred))"
   ]
  },
  {
   "cell_type": "code",
   "execution_count": 35,
   "metadata": {
    "collapsed": true
   },
   "outputs": [],
   "source": [
    "def log_loss_result(model,X,y):\n",
    "    results=[]\n",
    "    pred=model.staged_decision_function(X)\n",
    "    for s_pred in pred:\n",
    "        results.append(log_loss(y,[sigmoid(y_pred) for y_pred in s_pred]))\n",
    "    return results"
   ]
  },
  {
   "cell_type": "code",
   "execution_count": 38,
   "metadata": {},
   "outputs": [
    {
     "name": "stdout",
     "output_type": "stream",
     "text": [
      "      Iter       Train Loss   Remaining Time \n",
      "         1           1.0190           31.13s\n",
      "         2           0.9192           31.00s\n",
      "         3           0.8272           28.30s\n",
      "         4           0.7834           26.92s\n",
      "         5           0.7109           26.04s\n",
      "         6           0.6368           26.69s\n",
      "         7           0.5797           26.59s\n",
      "         8           0.5610           25.53s\n",
      "         9           0.5185           25.11s\n",
      "        10           0.4984           24.75s\n",
      "        20           0.1999           23.90s\n",
      "        30           0.1313           21.54s\n",
      "        40           0.0790           20.26s\n",
      "        50           0.0511           19.13s\n",
      "        60           0.0352           17.96s\n",
      "        70           0.0245           16.84s\n",
      "        80           0.0162           15.87s\n",
      "        90           0.0114           14.86s\n",
      "       100           0.0077           13.88s\n",
      "       200           0.0004            4.11s\n",
      "      Iter       Train Loss   Remaining Time \n",
      "         1           1.1255           27.24s\n",
      "         2           1.0035           27.13s\n",
      "         3           0.9386           27.02s\n",
      "         4           0.8844           26.91s\n",
      "         5           0.8381           26.03s\n",
      "         6           0.7995           25.42s\n",
      "         7           0.7559           25.50s\n",
      "         8           0.7205           25.06s\n",
      "         9           0.6958           24.69s\n",
      "        10           0.6725           24.75s\n",
      "        20           0.4672           23.18s\n",
      "        30           0.3179           21.89s\n",
      "        40           0.2274           20.76s\n",
      "        50           0.1774           19.44s\n",
      "        60           0.1394           18.41s\n",
      "        70           0.1050           17.48s\n",
      "        80           0.0805           16.40s\n",
      "        90           0.0650           15.33s\n",
      "       100           0.0511           14.34s\n",
      "       200           0.0058            4.72s\n",
      "      Iter       Train Loss   Remaining Time \n",
      "         1           1.2095           27.27s\n",
      "         2           1.1006           27.13s\n",
      "         3           1.0240           27.02s\n",
      "         4           0.9729           26.91s\n",
      "         5           0.9387           26.80s\n",
      "         6           0.8948           26.69s\n",
      "         7           0.8621           26.58s\n",
      "         8           0.8360           26.00s\n",
      "         9           0.8171           25.53s\n",
      "        10           0.7883           25.50s\n",
      "        20           0.6164           22.82s\n",
      "        30           0.4933           21.54s\n",
      "        40           0.4248           20.10s\n",
      "        50           0.3345           19.25s\n",
      "        60           0.2760           18.21s\n",
      "        70           0.2263           17.20s\n",
      "        80           0.1971           16.10s\n",
      "        90           0.1693           15.06s\n",
      "       100           0.1388           14.18s\n",
      "       200           0.0294            4.75s\n",
      "      Iter       Train Loss   Remaining Time \n",
      "         1           1.2613           27.19s\n",
      "         2           1.1715           27.13s\n",
      "         3           1.1009           28.32s\n",
      "         4           1.0529           27.87s\n",
      "         5           1.0130           27.56s\n",
      "         6           0.9740           27.96s\n",
      "         7           0.9475           27.12s\n",
      "         8           0.9197           26.94s\n",
      "         9           0.8979           26.36s\n",
      "        10           0.8730           26.25s\n",
      "        20           0.7207           23.72s\n",
      "        30           0.6055           22.57s\n",
      "        40           0.5244           21.25s\n",
      "        50           0.4501           20.50s\n",
      "        60           0.3908           19.30s\n",
      "        70           0.3372           18.08s\n",
      "        80           0.3009           16.93s\n",
      "        90           0.2603           15.89s\n",
      "       100           0.2327           14.79s\n",
      "       200           0.0835            4.80s\n",
      "      Iter       Train Loss   Remaining Time \n",
      "         1           1.3199           35.02s\n",
      "         2           1.2645           36.81s\n",
      "         3           1.2170           36.02s\n",
      "         4           1.1775           35.56s\n",
      "         5           1.1404           33.69s\n",
      "         6           1.1106           32.41s\n",
      "         7           1.0844           32.55s\n",
      "         8           1.0617           32.14s\n",
      "         9           1.0411           31.80s\n",
      "        10           1.0223           31.13s\n",
      "        20           0.8864           27.32s\n",
      "        30           0.7844           24.75s\n",
      "        40           0.7176           22.64s\n",
      "        50           0.6590           21.13s\n",
      "        60           0.6120           19.84s\n",
      "        70           0.5599           18.76s\n",
      "        80           0.5242           17.50s\n",
      "        90           0.4829           16.36s\n",
      "       100           0.4473           15.24s\n",
      "       200           0.2379            4.99s\n"
     ]
    },
    {
     "data": {
      "image/png": "[encoded data removed]",
      "text/plain": [
       "<matplotlib.figure.Figure at 0x185e98394a8>"
      ]
     },
     "metadata": {},
     "output_type": "display_data"
    },
    {
     "data": {
      "image/png": "[encoded data removed]",
      "text/plain": [
       "<matplotlib.figure.Figure at 0x185d3a24f60>"
      ]
     },
     "metadata": {},
     "output_type": "display_data"
    },
    {
     "data": {
      "image/png": "[encoded data removed]",
      "text/plain": [
       "<matplotlib.figure.Figure at 0x185e97df6d8>"
      ]
     },
     "metadata": {},
     "output_type": "display_data"
    },
    {
     "data": {
      "image/png": "[encoded data removed]",
      "text/plain": [
       "<matplotlib.figure.Figure at 0x185d3a24eb8>"
      ]
     },
     "metadata": {},
     "output_type": "display_data"
    },
    {
     "data": {
      "image/png": "[encoded data removed]",
      "text/plain": [
       "<matplotlib.figure.Figure at 0x185d39ed128>"
      ]
     },
     "metadata": {},
     "output_type": "display_data"
    }
   ],
   "source": [
    "min_loss_result={}\n",
    "for l_r in [1.0,0.5,0.3,0.2,0.1]:\n",
    "    min_loss_result[l_r]=model_testing_learning_rate(l_r)"
   ]
  },
  {
   "cell_type": "markdown",
   "metadata": {},
   "source": [
    "На графиках начиная с некоторой итерации наблюдается переобучение."
   ]
  },
  {
   "cell_type": "code",
   "execution_count": 42,
   "metadata": {
    "collapsed": true
   },
   "outputs": [],
   "source": [
    "min_loss_value,min_loss_index=min_loss_result[0.2]"
   ]
  },
  {
   "cell_type": "code",
   "execution_count": 47,
   "metadata": {},
   "outputs": [
    {
     "name": "stdout",
     "output_type": "stream",
     "text": [
      "Минимальное значение log_loss,при learning_rate=0.2, равное 0.53, достигается на 36-й итерации\n"
     ]
    }
   ],
   "source": [
    "print(\"Минимальное значение log_loss,при learning_rate=0.2, равное {:0.2f}, достигается на {}-й итерации\".format(min_loss_value,\n",
    "                                                                                          min_loss_index))"
   ]
  },
  {
   "cell_type": "code",
   "execution_count": 48,
   "metadata": {},
   "outputs": [
    {
     "name": "stdout",
     "output_type": "stream",
     "text": [
      "0.54138128618\n"
     ]
    }
   ],
   "source": [
    "model=RandomForestClassifier(n_estimators=min_loss_index,random_state=241)\n",
    "model.fit(X_train,y_train)\n",
    "y_pred=model.predict_proba(X_test)[:,1]\n",
    "test_loss=log_loss(y_test,y_pred)\n",
    "print(test_loss)"
   ]
  },
  {
   "cell_type": "code",
   "execution_count": null,
   "metadata": {
    "collapsed": true
   },
   "outputs": [],
   "source": []
  }
 ],
 "metadata": {
  "kernelspec": {
   "display_name": "Python 3",
   "language": "python",
   "name": "python3"
  },
  "language_info": {
   "codemirror_mode": {
    "name": "ipython",
    "version": 3
   },
   "file_extension": ".py",
   "mimetype": "text/x-python",
   "name": "python",
   "nbconvert_exporter": "python",
   "pygments_lexer": "ipython3",
   "version": "3.6.3"
  }
 },
 "nbformat": 4,
 "nbformat_minor": 2
}
